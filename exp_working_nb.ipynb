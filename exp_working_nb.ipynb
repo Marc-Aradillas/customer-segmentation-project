{
 "cells": [
  {
   "cell_type": "code",
   "execution_count": 1,
   "id": "571b111c-cc41-4dc0-a34e-35cea5a3e112",
   "metadata": {},
   "outputs": [],
   "source": [
    "# imported libs\n",
    "import os\n",
    "import pandas as pd\n",
    "import numpy as np\n",
    "import matplotlib.pyplot as plt\n",
    "import seaborn as sns\n",
    "from sklearn.model_selection import train_test_split\n",
    "from sklearn.preprocessing import MinMaxScaler, StandardScaler, RobustScaler, PolynomialFeatures\n",
    "\n",
    "# local imports\n",
    "import wrangle as w\n",
    "\n",
    "# ignore warning\n",
    "import warnings\n",
    "warnings.filterwarnings('ignore')"
   ]
  },
  {
   "cell_type": "markdown",
   "id": "3a15e5d4-2901-4942-ab88-177a9733ae8c",
   "metadata": {},
   "source": [
    "# Exploration Working Notebook"
   ]
  },
  {
   "cell_type": "code",
   "execution_count": 2,
   "id": "0cb2f7c1-fcad-4ba3-8527-a40f92414098",
   "metadata": {},
   "outputs": [],
   "source": [
    "import wrangle as w"
   ]
  },
  {
   "cell_type": "markdown",
   "id": "8d1ac563-5460-4d09-9d3b-635cc8008e97",
   "metadata": {},
   "source": [
    "  "
   ]
  },
  {
   "cell_type": "markdown",
   "id": "b61d5a40-e6d2-4bc9-9e08-7f5e83dae3c0",
   "metadata": {},
   "source": [
    "  "
   ]
  },
  {
   "cell_type": "code",
   "execution_count": null,
   "id": "ad41be2a-4ea5-437d-bc23-83e51fa890d1",
   "metadata": {},
   "outputs": [],
   "source": [
    "train, val, test, train_scaled, val_scaled, test_scaled, new_df, df_customers, df = w.wrangle_data()\n",
    "train.shape, val.shape, test.shape"
   ]
  },
  {
   "cell_type": "markdown",
   "id": "41586794-c7b6-419a-b299-83615ea26d6e",
   "metadata": {},
   "source": [
    "  "
   ]
  },
  {
   "cell_type": "code",
   "execution_count": null,
   "id": "fb3e668a-da07-4b5a-8b68-02b18656b951",
   "metadata": {
    "scrolled": true
   },
   "outputs": [],
   "source": [
    "# cleaned dataframe\n",
    "df.info()"
   ]
  },
  {
   "cell_type": "code",
   "execution_count": null,
   "id": "c3b2a8c7-baa7-4238-b68d-5579b5ec1044",
   "metadata": {},
   "outputs": [],
   "source": [
    "df.isnull().sum()"
   ]
  },
  {
   "cell_type": "markdown",
   "id": "53fd7627-d86b-4c91-97ac-83793a6daedc",
   "metadata": {},
   "source": [
    "  "
   ]
  },
  {
   "cell_type": "markdown",
   "id": "5c8b2aa7-250e-4580-9ccc-aa86831e1ee2",
   "metadata": {},
   "source": [
    "  "
   ]
  },
  {
   "cell_type": "markdown",
   "id": "72cf6ae6-cd99-4399-a406-0ba1295648c4",
   "metadata": {},
   "source": [
    "  "
   ]
  },
  {
   "cell_type": "markdown",
   "id": "b665a944-bdcb-41c9-8d0d-843c1376529e",
   "metadata": {},
   "source": [
    "  "
   ]
  },
  {
   "cell_type": "markdown",
   "id": "19d9c3ed-5705-4a68-a062-71b395996e4b",
   "metadata": {},
   "source": [
    "  "
   ]
  },
  {
   "cell_type": "markdown",
   "id": "c591c37a-de67-4224-a0ce-fd3e1d96da87",
   "metadata": {},
   "source": [
    "  "
   ]
  },
  {
   "cell_type": "code",
   "execution_count": null,
   "id": "93269d0f-b0c7-47eb-a9c1-8c82ee63db42",
   "metadata": {},
   "outputs": [],
   "source": [
    "df.head()"
   ]
  },
  {
   "cell_type": "markdown",
   "id": "7d4e5666-9fe3-4580-af73-52565361bc20",
   "metadata": {},
   "source": [
    "  "
   ]
  },
  {
   "cell_type": "markdown",
   "id": "214a7d19-fb42-4e5b-9f80-affe791bddc6",
   "metadata": {},
   "source": [
    "  "
   ]
  },
  {
   "cell_type": "markdown",
   "id": "93c6ac55-5370-4bc7-9855-0e72980d1d50",
   "metadata": {},
   "source": [
    "  "
   ]
  },
  {
   "cell_type": "code",
   "execution_count": null,
   "id": "d6f2137c-6e0c-44af-85d9-41d153724aaa",
   "metadata": {},
   "outputs": [],
   "source": [
    "# aggregated and grouped by dataframe\n",
    "new_df\n",
    "\n",
    "new_df.head(3)"
   ]
  },
  {
   "cell_type": "markdown",
   "id": "a85cb14a-3b48-44ac-9301-f52caf6c10d2",
   "metadata": {},
   "source": [
    "  "
   ]
  },
  {
   "cell_type": "markdown",
   "id": "b11d285f-401a-4687-a74a-34280ce35284",
   "metadata": {},
   "source": [
    "  "
   ]
  },
  {
   "cell_type": "markdown",
   "id": "377eaab6-eef9-44f1-b1e9-5838aa1055f3",
   "metadata": {},
   "source": [
    "  "
   ]
  },
  {
   "cell_type": "code",
   "execution_count": null,
   "id": "10c184f6-cae5-4cf8-9c67-5798b986d450",
   "metadata": {},
   "outputs": [],
   "source": [
    "train.info()"
   ]
  },
  {
   "cell_type": "code",
   "execution_count": null,
   "id": "d39f2fc5-765c-4deb-8060-fa3629b29503",
   "metadata": {},
   "outputs": [],
   "source": [
    "train.head()"
   ]
  },
  {
   "cell_type": "code",
   "execution_count": null,
   "id": "898423fc-6787-42a6-a250-2722e4d50899",
   "metadata": {},
   "outputs": [],
   "source": [
    "train.describe().T"
   ]
  },
  {
   "cell_type": "code",
   "execution_count": null,
   "id": "c918d653-7ea6-4197-b56b-18942b7e939b",
   "metadata": {},
   "outputs": [],
   "source": [
    "train[['quantity', 'unit_price', 'total_price']].head()"
   ]
  },
  {
   "cell_type": "markdown",
   "id": "8dca984c-5f1c-4816-9de2-bdcc4976f0cc",
   "metadata": {},
   "source": [
    "  "
   ]
  },
  {
   "cell_type": "markdown",
   "id": "4ffa821a-ec7c-4c1a-9b59-7703cf7be0ff",
   "metadata": {},
   "source": [
    "  "
   ]
  },
  {
   "cell_type": "code",
   "execution_count": null,
   "id": "3f65b36a-1735-421a-a62c-ead97ac0ad1b",
   "metadata": {},
   "outputs": [],
   "source": [
    "train_scaled.shape, val_scaled.shape, test_scaled.shape"
   ]
  },
  {
   "cell_type": "code",
   "execution_count": null,
   "id": "943b9d89-31d9-49ad-8656-a5e572c99405",
   "metadata": {},
   "outputs": [],
   "source": [
    "train_scaled.head(3)"
   ]
  },
  {
   "cell_type": "code",
   "execution_count": null,
   "id": "d2e6405f-49fd-45ae-a071-c24db4bea97a",
   "metadata": {},
   "outputs": [],
   "source": [
    "train_scaled.describe().T"
   ]
  },
  {
   "cell_type": "markdown",
   "id": "c4443750-865b-457f-9296-b189cc62611b",
   "metadata": {},
   "source": [
    "  "
   ]
  },
  {
   "cell_type": "markdown",
   "id": "c99a021c-bdc1-4b18-9097-a84875d08f7b",
   "metadata": {},
   "source": [
    "  "
   ]
  },
  {
   "cell_type": "markdown",
   "id": "319d19af-2f54-4660-9cb3-e3aab3277b51",
   "metadata": {},
   "source": [
    "  "
   ]
  },
  {
   "cell_type": "code",
   "execution_count": null,
   "id": "5eb14458-e7eb-439c-840a-c82802b1a7f9",
   "metadata": {},
   "outputs": [],
   "source": [
    "train_scaled.describe().T"
   ]
  },
  {
   "cell_type": "markdown",
   "id": "5470e5af-6404-4e51-af9b-6811c8539669",
   "metadata": {},
   "source": [
    "  "
   ]
  },
  {
   "cell_type": "code",
   "execution_count": null,
   "id": "e2e48581-dfcc-41d9-86e6-f48ac5ee508c",
   "metadata": {},
   "outputs": [],
   "source": [
    "train_scaled.head()  "
   ]
  },
  {
   "cell_type": "markdown",
   "id": "63c3967d-c78e-4d2e-a331-6603fa1d3fdc",
   "metadata": {},
   "source": [
    "## New features below based on features present:"
   ]
  },
  {
   "cell_type": "code",
   "execution_count": null,
   "id": "f9945689-4a02-44ee-b7ac-e84f5eb109f0",
   "metadata": {},
   "outputs": [],
   "source": [
    "train.total_price.value_counts()"
   ]
  },
  {
   "cell_type": "markdown",
   "id": "8a0861f7-6b33-4de2-a744-ccde67da58ea",
   "metadata": {},
   "source": [
    "  "
   ]
  },
  {
   "cell_type": "markdown",
   "id": "271d2338-edc2-4294-a19d-f6348c9cc3e7",
   "metadata": {},
   "source": [
    "  "
   ]
  },
  {
   "cell_type": "markdown",
   "id": "eca18ca1-ed2c-4e79-ba03-fedd87665c1f",
   "metadata": {},
   "source": [
    "  "
   ]
  },
  {
   "cell_type": "markdown",
   "id": "1689cf58-4772-48d6-a7e6-ddd1f097ea0a",
   "metadata": {},
   "source": [
    "  "
   ]
  },
  {
   "cell_type": "code",
   "execution_count": null,
   "id": "949af44a-0ad5-4194-a3fd-4a9ecb722a2b",
   "metadata": {},
   "outputs": [],
   "source": [
    "train.total_price.head()"
   ]
  },
  {
   "cell_type": "markdown",
   "id": "a4673504-0e0a-40cc-bce4-8a5d538e0fe8",
   "metadata": {},
   "source": [
    "  "
   ]
  },
  {
   "cell_type": "markdown",
   "id": "128a4aa3-0a37-4b5b-8b94-807e43fb93bf",
   "metadata": {},
   "source": [
    "  "
   ]
  },
  {
   "cell_type": "markdown",
   "id": "25dd467a-cdf3-4154-a7c3-7edcf5fe75a7",
   "metadata": {},
   "source": [
    "  "
   ]
  },
  {
   "cell_type": "markdown",
   "id": "70cc2f66-18b1-4c91-8aab-c2615d452faf",
   "metadata": {},
   "source": [
    "## Can we see patterns, find signals in the data?\n",
    "\n",
    "## What features are driving the outcome?\n",
    "\n",
    "## Are there other features we can construct that have stronger relationships?\n",
    "\n",
    "## Visualization and statistical testing\n",
    "\n",
    "## I want to walk away from exploration with with modeling strategies (feature selection, algorithm selection, evaluation methods, etc.)."
   ]
  },
  {
   "cell_type": "markdown",
   "id": "a7bd2f89-1d12-4fb8-bef0-d79beb8975ca",
   "metadata": {},
   "source": [
    "  "
   ]
  },
  {
   "cell_type": "markdown",
   "id": "e92fd962-7944-4ef0-87d5-612d8d6a86ae",
   "metadata": {},
   "source": [
    "  "
   ]
  },
  {
   "cell_type": "markdown",
   "id": "75f4d6bb-4417-45f3-9e26-1fdd033f2d69",
   "metadata": {},
   "source": [
    "  "
   ]
  },
  {
   "cell_type": "markdown",
   "id": "bf447ee5-73e5-4d65-b28c-b5258ad42d70",
   "metadata": {},
   "source": [
    "  "
   ]
  },
  {
   "cell_type": "markdown",
   "id": "78d33728-421e-4004-9727-1e359bf03475",
   "metadata": {},
   "source": [
    "  "
   ]
  },
  {
   "cell_type": "markdown",
   "id": "ac3604bd-164e-4c34-b1c2-185b4505cb43",
   "metadata": {},
   "source": [
    "  "
   ]
  },
  {
   "cell_type": "markdown",
   "id": "5932c0bb-e376-4ed0-a981-3fd652e3bef0",
   "metadata": {},
   "source": [
    "## Lets take a look at the distributions of all features in the data\n",
    "\n",
    "## What is the distribution of scaled numerical features?"
   ]
  },
  {
   "cell_type": "code",
   "execution_count": null,
   "id": "d7470af0-64f6-471a-b9a0-1b7fcb12d628",
   "metadata": {},
   "outputs": [],
   "source": [
    "import matplotlib.pyplot as plt\n",
    "import seaborn as sns\n",
    "\n",
    "numeric_cols = train_scaled.columns[(train_scaled.dtypes == 'float64') | (train_scaled.dtypes == 'int64')]\n",
    "\n",
    "# Created histograms for numeric columns\n",
    "for col in numeric_cols:\n",
    "    plt.figure()\n",
    "    plt.title(f'Distribution of {col}')\n",
    "    sns.histplot(data=train_scaled, x=col)\n",
    "    plt.tight_layout()\n",
    "    plt.show()"
   ]
  },
  {
   "cell_type": "markdown",
   "id": "db75586e-537f-46d1-ac46-720a4f32e9ab",
   "metadata": {},
   "source": [
    "  "
   ]
  },
  {
   "cell_type": "markdown",
   "id": "5c6a1b35-cb08-4233-8bf2-e4715f4b35ac",
   "metadata": {},
   "source": [
    "  "
   ]
  },
  {
   "cell_type": "markdown",
   "id": "cd62fe1b-8f36-4a1e-aa52-f9eca5f0953f",
   "metadata": {},
   "source": [
    "  "
   ]
  },
  {
   "cell_type": "markdown",
   "id": "3bbb4b6c-8721-4ead-b6f1-acebf8e482c9",
   "metadata": {},
   "source": [
    "## Categorical data\n",
    "\n",
    "## What is the distribution of categorical features?"
   ]
  },
  {
   "cell_type": "code",
   "execution_count": null,
   "id": "86c86673-ac83-4a69-8414-87671161520b",
   "metadata": {},
   "outputs": [],
   "source": [
    "for col in train_scaled.columns[train_scaled.dtypes == 'object']:\n",
    "    plt.figure()\n",
    "    plt.title(f'Distribution of {col}')\n",
    "    sns.histplot(data=train_scaled, x=col)\n",
    "    plt.show()"
   ]
  },
  {
   "cell_type": "markdown",
   "id": "dd634044-0e41-4ba0-a4d3-7d51d763a97c",
   "metadata": {},
   "source": [
    "  "
   ]
  },
  {
   "cell_type": "markdown",
   "id": "9b12e313-fe3b-40dc-9a90-85fe43c6f754",
   "metadata": {},
   "source": [
    "  "
   ]
  },
  {
   "cell_type": "markdown",
   "id": "74c9dfe1-d54d-4881-a7d4-bef101ecb7bb",
   "metadata": {},
   "source": [
    "  "
   ]
  },
  {
   "cell_type": "markdown",
   "id": "4df86bf2-5e55-4356-ada2-fe429b9952d1",
   "metadata": {},
   "source": [
    "  "
   ]
  },
  {
   "cell_type": "markdown",
   "id": "97ddbd60-d872-463a-9d1a-011da92dba67",
   "metadata": {},
   "source": [
    "# What does the correlation between all numerical features?"
   ]
  },
  {
   "cell_type": "code",
   "execution_count": null,
   "id": "55aa2d9b-8a90-484c-a8d8-17c9b4e690e4",
   "metadata": {},
   "outputs": [],
   "source": [
    "sns.pairplot(data = train_scaled, corner=False)"
   ]
  },
  {
   "cell_type": "markdown",
   "id": "6b65f122-40fb-4d38-ac96-76942d91bc3d",
   "metadata": {},
   "source": [
    "  "
   ]
  },
  {
   "cell_type": "markdown",
   "id": "3cd3bb20-e969-4da1-be54-c65aa92bb8f0",
   "metadata": {},
   "source": [
    "  "
   ]
  },
  {
   "cell_type": "markdown",
   "id": "1b9679a4-6af2-4cc7-8b1e-47002e6fe48e",
   "metadata": {},
   "source": [
    "# what is the `country` count distributions within this data?"
   ]
  },
  {
   "cell_type": "code",
   "execution_count": null,
   "id": "f92543b7-a037-4a86-94a2-7ac4f2edd4c9",
   "metadata": {},
   "outputs": [],
   "source": [
    "country_cnts = train_scaled.country.value_counts()\n",
    "country_cnts = pd.DataFrame(country_cnts).reset_index()\n",
    "country_cnts = country_cnts[country_cnts['count'] > 1000]"
   ]
  },
  {
   "cell_type": "code",
   "execution_count": null,
   "id": "aa85a14a-1910-4443-aee4-0c1b0ab33525",
   "metadata": {},
   "outputs": [],
   "source": [
    "# set figsze\n",
    "plt.figure(figsize=(15, 10))\n",
    "\n",
    "# Create the bar plot\n",
    "ax = sns.barplot(data=country_cnts, x='count', y='country', palette='bright')\n",
    "\n",
    "# remove spines\n",
    "sns.despine(left=True, bottom=True)\n",
    "\n",
    "# adding values at the end of each bar\n",
    "for p in ax.patches:\n",
    "    \n",
    "    ax.annotate(f'{p.get_width():.0f}', (p.get_width(), p.get_y() + p.get_height() / 2),\n",
    "                ha='left', va='center', fontsize=10, color='black')\n",
    "\n",
    "# Remove x-tick labels, keeping the ticks\n",
    "ax.set_xticklabels([])\n",
    "ax.set_xticks([])\n",
    "\n",
    "# Remove y ticks\n",
    "ax.tick_params(axis='y', which='both', left=False)\n",
    "# ax.tick_params(axis='x', which='both', bottom=False, xlabel=None)\n",
    "\n",
    "        \n",
    "# set labels\n",
    "plt.title('Country Distribution')\n",
    "\n",
    "# capitalize the y-axis labels\n",
    "ax.set_yticklabels([label.get_text().upper() for label in ax.get_yticklabels()])\n",
    "\n",
    "plt.ylabel('Country', rotation=0, labelpad=30)\n",
    "plt.xlabel('')\n",
    "plt.tight_layout()\n",
    "plt.show()"
   ]
  },
  {
   "cell_type": "markdown",
   "id": "b88b119c-5127-4c19-a859-48b8cb3682ad",
   "metadata": {},
   "source": [
    "* The data is comprised of alot of infmormation relating to the United Kingdom"
   ]
  },
  {
   "cell_type": "markdown",
   "id": "72d4c435-6598-430b-92de-9781880f2b8a",
   "metadata": {},
   "source": [
    "  "
   ]
  },
  {
   "cell_type": "markdown",
   "id": "b815a714-29d5-4d8c-be48-2fd75f4e90fe",
   "metadata": {},
   "source": [
    "  "
   ]
  },
  {
   "cell_type": "markdown",
   "id": "12607ee1-d3e3-4cec-9928-e2ced26d674e",
   "metadata": {},
   "source": [
    "  "
   ]
  },
  {
   "cell_type": "markdown",
   "id": "68eb0230-1ed7-4cac-88c3-cb673ff59c57",
   "metadata": {},
   "source": [
    "  "
   ]
  },
  {
   "cell_type": "markdown",
   "id": "0be0ad49-6fa5-4024-974e-7ebc766b5257",
   "metadata": {},
   "source": [
    "## How does `quantity` vary with `customer_id`?"
   ]
  },
  {
   "cell_type": "code",
   "execution_count": null,
   "id": "171aa66d-46a8-4162-9de2-b671f2e6f2a2",
   "metadata": {},
   "outputs": [],
   "source": [
    "plt.figure(figsize=(10, 6))\n",
    "sns.relplot(x='quantity', y='customer_id', data=train_scaled)\n",
    "plt.title('Quantity vs. Customers')\n",
    "plt.xlabel('Quantity')\n",
    "plt.ylabel('Customer ID')\n",
    "plt.show()"
   ]
  },
  {
   "cell_type": "markdown",
   "id": "44e1b7db-fe4c-4fc7-8873-7f7955e84847",
   "metadata": {},
   "source": [
    "  "
   ]
  },
  {
   "cell_type": "markdown",
   "id": "934d2579-3d41-45b1-ad7f-8d5469fca015",
   "metadata": {},
   "source": [
    "  "
   ]
  },
  {
   "cell_type": "markdown",
   "id": "88f316f5-156e-4aa8-9796-0cc6a26791ed",
   "metadata": {},
   "source": [
    "  "
   ]
  },
  {
   "cell_type": "markdown",
   "id": "887b0872-c5bf-4fe1-ab31-2d9910e8a73e",
   "metadata": {},
   "source": [
    "  "
   ]
  },
  {
   "cell_type": "markdown",
   "id": "7b9f7b49-abe4-485d-b268-c89afe878d02",
   "metadata": {},
   "source": [
    "## how about `unit_price` and `customer_id`?"
   ]
  },
  {
   "cell_type": "code",
   "execution_count": null,
   "id": "f83c88fd-dd05-4ac3-bd15-698bd12f8ef0",
   "metadata": {},
   "outputs": [],
   "source": [
    "plt.figure(figsize=(10, 6))\n",
    "sns.relplot(x='unit_price', y='customer_id', data=train_scaled)\n",
    "plt.title('Unit Price vs. Customers')\n",
    "plt.xlabel('Unit Price')\n",
    "plt.ylabel('Customer ID')\n",
    "plt.show()"
   ]
  },
  {
   "cell_type": "markdown",
   "id": "3ec66eb1-d18d-4c65-88a0-3fc0fcdd6777",
   "metadata": {},
   "source": [
    "  "
   ]
  },
  {
   "cell_type": "markdown",
   "id": "d4d224f7-1746-4403-8121-b0fb49561bd1",
   "metadata": {},
   "source": [
    "  "
   ]
  },
  {
   "cell_type": "markdown",
   "id": "37c527d6-481b-4652-86ef-21cd55b666b9",
   "metadata": {},
   "source": [
    "  "
   ]
  },
  {
   "cell_type": "markdown",
   "id": "007b0640-643e-43d5-8d53-0d7da3d8c304",
   "metadata": {},
   "source": [
    "## Scatter plot of  `total_price` and `quantity`"
   ]
  },
  {
   "cell_type": "code",
   "execution_count": null,
   "id": "8e6d8ff2-3a33-4acb-a32b-128ef6b53c27",
   "metadata": {},
   "outputs": [],
   "source": [
    "# plt.figure(figsize=(10, 6))\n",
    "sns.scatterplot(x='total_price', y='quantity', data=train)\n",
    "plt.title('Is there a relationship between Total Price and Quantity?')\n",
    "plt.xlabel('Total Price')\n",
    "plt.ylabel('Quantity')\n",
    "plt.show()"
   ]
  },
  {
   "cell_type": "code",
   "execution_count": null,
   "id": "ec6fd9ef-4689-4ae4-849b-def7d8a8a932",
   "metadata": {},
   "outputs": [],
   "source": [
    "# plt.figure(figsize=(10, 6))\n",
    "sns.scatterplot(x='total_price', y='quantity', data=train_scaled)\n",
    "plt.title('Is there a relationship between Total Price and Quantity?')\n",
    "plt.xlabel('Total Price')\n",
    "plt.ylabel('Quantity')\n",
    "plt.show()"
   ]
  },
  {
   "cell_type": "markdown",
   "id": "d4b5ce96-081b-4e85-b8c0-b0ca4b95729f",
   "metadata": {},
   "source": [
    "# -----------------------------------------------------------------"
   ]
  },
  {
   "cell_type": "markdown",
   "id": "fba0413d-1475-4727-b2d1-e86bcb29ec75",
   "metadata": {},
   "source": [
    "  "
   ]
  },
  {
   "cell_type": "markdown",
   "id": "205a3cc9-49d7-4e9c-b071-fc88000b6f0f",
   "metadata": {
    "jp-MarkdownHeadingCollapsed": true
   },
   "source": [
    "# How would scaling and normalizing features aid in getting a better visualization of distribution that exist within this dataset?\n",
    "\n",
    "A data split and then scaling the train subset aided in providing a better visual and distribution of the data."
   ]
  },
  {
   "cell_type": "markdown",
   "id": "726731a9-9d3e-4e15-a7e8-3e1962ab9324",
   "metadata": {},
   "source": [
    "  "
   ]
  },
  {
   "cell_type": "markdown",
   "id": "fbd1e291-ea2c-4668-acbd-527b461baae4",
   "metadata": {},
   "source": [
    "  "
   ]
  },
  {
   "cell_type": "markdown",
   "id": "db2c422b-8f4a-43a5-82b2-ff1eeaf146e9",
   "metadata": {},
   "source": [
    "# Code added to prep function to handle negative values:"
   ]
  },
  {
   "cell_type": "code",
   "execution_count": null,
   "id": "c41ba5e4-221c-4956-b693-2d26b004a566",
   "metadata": {
    "jupyter": {
     "source_hidden": true
    }
   },
   "outputs": [],
   "source": [
    "# df['quantity'] = df['quantity'].apply(lambda x: max(x, 0))\n",
    "    \n",
    "# df['unit_price'] = df['unit_price'].apply(lambda x: max(x, 0))"
   ]
  },
  {
   "cell_type": "markdown",
   "id": "a999ba0c-1e3b-436c-a6fd-a7e9359105a3",
   "metadata": {},
   "source": [
    "  "
   ]
  },
  {
   "cell_type": "markdown",
   "id": "f4da7709-f0cc-4874-b381-b77f56120d1d",
   "metadata": {},
   "source": [
    "# -----------------------------------------------------------------"
   ]
  },
  {
   "cell_type": "markdown",
   "id": "420e1201-461f-4b5d-a956-2ea5668c7a6a",
   "metadata": {},
   "source": [
    "## I'm going to bin quantities:"
   ]
  },
  {
   "cell_type": "code",
   "execution_count": null,
   "id": "3c0e5816-a897-4c8e-b8d4-9bdb143be08a",
   "metadata": {},
   "outputs": [],
   "source": [
    "train['quantity_bin'] = pd.cut(train.quantity, [0, 10, 20, 30, 40, 50, 10000])\n",
    "\n",
    "train.head()"
   ]
  },
  {
   "cell_type": "markdown",
   "id": "34600583-c61d-429c-a6cf-47c92e15aa5a",
   "metadata": {},
   "source": [
    "## How does quantity vary from total_price?"
   ]
  },
  {
   "cell_type": "code",
   "execution_count": null,
   "id": "b22dc7e3-8fe2-45e8-8fd9-ca3375f52e0a",
   "metadata": {},
   "outputs": [],
   "source": [
    "sns.barplot(x='quantity_bin', y='total_price', data=train)\n",
    "plt.title('Is there a relationship between Total Price and Quantity?')\n",
    "plt.xlabel('Quantity')\n",
    "plt.ylabel('Total Price')\n",
    "plt.show()"
   ]
  },
  {
   "cell_type": "markdown",
   "id": "57ce50c5-42cb-4b4b-a7a3-9b9fa19edb82",
   "metadata": {},
   "source": [
    "  "
   ]
  },
  {
   "cell_type": "markdown",
   "id": "d69cced4-6cce-420f-b1f6-e1022a3fe12e",
   "metadata": {},
   "source": [
    "  "
   ]
  },
  {
   "cell_type": "markdown",
   "id": "c19de241-d716-42f0-aa9d-147162c5f882",
   "metadata": {},
   "source": [
    "  "
   ]
  },
  {
   "cell_type": "markdown",
   "id": "f269ab5c-1f86-45b5-af93-1dc0c71ca91f",
   "metadata": {},
   "source": [
    "## At this point I need to select a few features to further look at, I am going to take a look at my new_df dataframe which consists of invoice_date, invoice_no, and total_price."
   ]
  },
  {
   "cell_type": "code",
   "execution_count": null,
   "id": "e6263f4f-7846-4c94-86bb-d6961748f8c7",
   "metadata": {},
   "outputs": [],
   "source": [
    "new_df.head()"
   ]
  },
  {
   "cell_type": "code",
   "execution_count": null,
   "id": "7f726216-0824-4f03-a555-f65b65d10f2b",
   "metadata": {},
   "outputs": [],
   "source": [
    "train, val, test = w.train_val_test(new_df)"
   ]
  },
  {
   "cell_type": "code",
   "execution_count": null,
   "id": "c2d00e2c-933f-473f-b5fd-dbf9d09063a1",
   "metadata": {},
   "outputs": [],
   "source": [
    "train.columns"
   ]
  },
  {
   "cell_type": "markdown",
   "id": "69c28a07-b8bf-4b98-8a52-f83abe06330b",
   "metadata": {},
   "source": [
    "## Narrowing feature on what I want to explore."
   ]
  },
  {
   "cell_type": "code",
   "execution_count": null,
   "id": "9bb30726-3f01-47ae-b60f-9050a78b14c4",
   "metadata": {},
   "outputs": [],
   "source": [
    "categoricals = ['invoice_no']\n",
    "\n",
    "numericals = ['invoice_date', 'total_price']\n",
    "\n",
    "explore_cols = numericals + categoricals"
   ]
  },
  {
   "cell_type": "code",
   "execution_count": null,
   "id": "ebe83dd2-9b03-4443-b48c-4c00b9dadf57",
   "metadata": {},
   "outputs": [],
   "source": [
    "explore_cols"
   ]
  },
  {
   "cell_type": "markdown",
   "id": "64544135-eaef-49e2-89f3-dca2467a906e",
   "metadata": {},
   "source": [
    "  "
   ]
  },
  {
   "cell_type": "markdown",
   "id": "f72ca7cf-2102-4583-bd02-d8d01f8253b7",
   "metadata": {},
   "source": [
    "  "
   ]
  },
  {
   "cell_type": "markdown",
   "id": "70831a5b-4522-48a5-9c6d-34e6d3b3d950",
   "metadata": {},
   "source": [
    "  "
   ]
  },
  {
   "cell_type": "markdown",
   "id": "9f843b81-4637-43a8-8f06-f78cc6061386",
   "metadata": {},
   "source": [
    "## creating histograms on train[columns] numericals specifically"
   ]
  },
  {
   "cell_type": "code",
   "execution_count": null,
   "id": "4418c56c-6779-410f-b293-f44f4c613515",
   "metadata": {},
   "outputs": [],
   "source": [
    "fig, axs = plt.subplots(1,2, figsize=(20,6))\n",
    "for col, ax in zip(numericals, axs):\n",
    "    ax.hist(train[col])\n",
    "    ax.set_title(f'Distribution of {col}')\n",
    "plt.show()"
   ]
  },
  {
   "cell_type": "markdown",
   "id": "4f2bf0b9-5b7b-4e8a-8047-9125ef4bfd71",
   "metadata": {},
   "source": [
    "* Normality at first glance is pretty apperant here.\n",
    "* invoice_date: right_tailed, data is very normalized between 0 to 150, then uniform\n",
    "* total_price: Heavily concentrated around 0"
   ]
  },
  {
   "cell_type": "markdown",
   "id": "827ff53b-0032-47fd-a339-0b75b0bb8843",
   "metadata": {},
   "source": [
    "  "
   ]
  },
  {
   "cell_type": "markdown",
   "id": "f1ed67f6-ed1f-4c3a-b744-8b75a8ed327e",
   "metadata": {},
   "source": [
    "  "
   ]
  },
  {
   "cell_type": "markdown",
   "id": "90332928-1b00-4af3-aa6b-6705e587447f",
   "metadata": {},
   "source": [
    "  "
   ]
  },
  {
   "cell_type": "code",
   "execution_count": null,
   "id": "3d433b26-1ae4-4909-866e-8878c1182ef7",
   "metadata": {},
   "outputs": [],
   "source": [
    "sns.pairplot(data=train[explore_cols])\n",
    "plt.show()"
   ]
  },
  {
   "cell_type": "markdown",
   "id": "46f8bf6d-4bc4-4c2a-bfc7-ed135f57a982",
   "metadata": {},
   "source": [
    "initital observations on this info based on a pair plot:\n",
    "\n",
    "* total_price and invoice_no seems to have something, but otherwise there is a concentration near zero in this data"
   ]
  },
  {
   "cell_type": "markdown",
   "id": "d1df6aaa-8675-41bb-8866-4cd481a7ea6e",
   "metadata": {},
   "source": [
    "  "
   ]
  },
  {
   "cell_type": "markdown",
   "id": "dac87e9f-5af5-4a3d-98cf-6ab887cd6a11",
   "metadata": {},
   "source": [
    "  "
   ]
  },
  {
   "cell_type": "markdown",
   "id": "e84e38be-449e-4fa9-adfc-aa2a0d3b836b",
   "metadata": {},
   "source": [
    "  "
   ]
  },
  {
   "cell_type": "markdown",
   "id": "575d357d-450d-4639-93b5-50d2becd883e",
   "metadata": {},
   "source": [
    "  # We need to remove existing outliers that are in the pairplot.\n",
    "\n",
    "  * This means I have to reevaluate the function application prepping."
   ]
  },
  {
   "cell_type": "markdown",
   "id": "58a360b8-be3d-46f3-b979-ceb293b19d7b",
   "metadata": {},
   "source": [
    "  "
   ]
  },
  {
   "cell_type": "markdown",
   "id": "e2d944f2-46c3-4141-a94c-b3fb1395d669",
   "metadata": {},
   "source": [
    "  "
   ]
  },
  {
   "cell_type": "code",
   "execution_count": null,
   "id": "8acb6930-5ef1-42f6-8351-678ec32bb6c4",
   "metadata": {},
   "outputs": [],
   "source": [
    "train, val, test = w.train_val_test(normalize_df)"
   ]
  },
  {
   "cell_type": "code",
   "execution_count": null,
   "id": "36ac2e32-1c8d-4c33-9bd2-0fbbdefb7005",
   "metadata": {},
   "outputs": [],
   "source": [
    "train.columns"
   ]
  },
  {
   "cell_type": "code",
   "execution_count": null,
   "id": "aa93e455-1c9e-4d82-92c6-2b96c6fc6d73",
   "metadata": {},
   "outputs": [],
   "source": [
    "scaler = MinMaxScaler()\n",
    "normalize_train = scaler.fit_transform(train)"
   ]
  },
  {
   "cell_type": "code",
   "execution_count": null,
   "id": "d4487ba5-bc8f-428e-b94a-fee23831ba44",
   "metadata": {},
   "outputs": [],
   "source": [
    "normalize_train"
   ]
  },
  {
   "cell_type": "markdown",
   "id": "0289265f-c185-4775-b3e8-71e3f43505f3",
   "metadata": {},
   "source": [
    "  "
   ]
  },
  {
   "cell_type": "markdown",
   "id": "f3397c37-2207-46dd-91bb-7579304890ad",
   "metadata": {},
   "source": [
    "  "
   ]
  },
  {
   "cell_type": "markdown",
   "id": "a90f7811-8b75-4abf-b6e4-72094926faa0",
   "metadata": {},
   "source": [
    "  "
   ]
  },
  {
   "cell_type": "markdown",
   "id": "c8ab320a-7e34-4e2f-9d04-d553a2189694",
   "metadata": {},
   "source": [
    "  "
   ]
  },
  {
   "cell_type": "markdown",
   "id": "7e4e6c0d-715e-47fa-b728-a36f9fd6d2d6",
   "metadata": {},
   "source": [
    "  "
   ]
  }
 ],
 "metadata": {
  "kernelspec": {
   "display_name": "Python 3 (ipykernel)",
   "language": "python",
   "name": "python3"
  },
  "language_info": {
   "codemirror_mode": {
    "name": "ipython",
    "version": 3
   },
   "file_extension": ".py",
   "mimetype": "text/x-python",
   "name": "python",
   "nbconvert_exporter": "python",
   "pygments_lexer": "ipython3",
   "version": "3.10.9"
  }
 },
 "nbformat": 4,
 "nbformat_minor": 5
}
