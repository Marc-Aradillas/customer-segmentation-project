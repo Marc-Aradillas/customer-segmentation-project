{
 "cells": [
  {
   "cell_type": "code",
   "execution_count": 1,
   "id": "571b111c-cc41-4dc0-a34e-35cea5a3e112",
   "metadata": {},
   "outputs": [],
   "source": [
    "# imported libs\n",
    "import os\n",
    "import pandas as pd\n",
    "import numpy as np\n",
    "import matplotlib.pyplot as plt\n",
    "import seaborn as sns\n",
    "from sklearn.model_selection import train_test_split\n",
    "from sklearn.preprocessing import MinMaxScaler, StandardScaler, RobustScaler, PolynomialFeatures\n",
    "\n",
    "# local imports\n",
    "import wrangle as w\n",
    "\n",
    "# ignore warning\n",
    "import warnings\n",
    "warnings.filterwarnings('ignore')"
   ]
  },
  {
   "cell_type": "markdown",
   "id": "3a15e5d4-2901-4942-ab88-177a9733ae8c",
   "metadata": {},
   "source": [
    "# Exploration Working Notebook"
   ]
  },
  {
   "cell_type": "code",
   "execution_count": 2,
   "id": "0cb2f7c1-fcad-4ba3-8527-a40f92414098",
   "metadata": {},
   "outputs": [],
   "source": [
    "import wrangle as w"
   ]
  },
  {
   "cell_type": "markdown",
   "id": "8d1ac563-5460-4d09-9d3b-635cc8008e97",
   "metadata": {},
   "source": [
    "  "
   ]
  },
  {
   "cell_type": "markdown",
   "id": "b61d5a40-e6d2-4bc9-9e08-7f5e83dae3c0",
   "metadata": {},
   "source": [
    "  "
   ]
  },
  {
   "cell_type": "code",
   "execution_count": null,
   "id": "fb3e668a-da07-4b5a-8b68-02b18656b951",
   "metadata": {},
   "outputs": [],
   "source": [
    "# cleaned dataferame\n",
    "df = w.wrangle_data()\n",
    "\n",
    "df.head(3)"
   ]
  },
  {
   "cell_type": "markdown",
   "id": "7d4e5666-9fe3-4580-af73-52565361bc20",
   "metadata": {},
   "source": [
    "  "
   ]
  },
  {
   "cell_type": "markdown",
   "id": "214a7d19-fb42-4e5b-9f80-affe791bddc6",
   "metadata": {},
   "source": [
    "  "
   ]
  },
  {
   "cell_type": "markdown",
   "id": "93c6ac55-5370-4bc7-9855-0e72980d1d50",
   "metadata": {},
   "source": [
    "  "
   ]
  },
  {
   "cell_type": "code",
   "execution_count": null,
   "id": "d6f2137c-6e0c-44af-85d9-41d153724aaa",
   "metadata": {},
   "outputs": [],
   "source": [
    "# aggregated and grouped by dataframe\n",
    "\n",
    "new_df = w.wrangle_data()\n",
    "new_df.head(3)"
   ]
  },
  {
   "cell_type": "code",
   "execution_count": null,
   "id": "45131448-b7f7-459a-87a6-dbfb940eb899",
   "metadata": {},
   "outputs": [],
   "source": []
  },
  {
   "cell_type": "markdown",
   "id": "a85cb14a-3b48-44ac-9301-f52caf6c10d2",
   "metadata": {},
   "source": [
    "  "
   ]
  },
  {
   "cell_type": "markdown",
   "id": "b11d285f-401a-4687-a74a-34280ce35284",
   "metadata": {},
   "source": [
    "  "
   ]
  },
  {
   "cell_type": "markdown",
   "id": "377eaab6-eef9-44f1-b1e9-5838aa1055f3",
   "metadata": {},
   "source": [
    "  "
   ]
  },
  {
   "cell_type": "code",
   "execution_count": 3,
   "id": "d39f2fc5-765c-4deb-8060-fa3629b29503",
   "metadata": {},
   "outputs": [
    {
     "data": {
      "text/plain": [
       "((378318, 11), (81068, 11), (81069, 11))"
      ]
     },
     "execution_count": 3,
     "metadata": {},
     "output_type": "execute_result"
    }
   ],
   "source": [
    "train, val, test = w.wrangle_data()\n",
    "train.shape, val.shape, test.shape"
   ]
  },
  {
   "cell_type": "code",
   "execution_count": 4,
   "id": "fc49e4f3-1c70-4d62-b168-0824f135e8c9",
   "metadata": {
    "scrolled": true
   },
   "outputs": [
    {
     "data": {
      "text/html": [
       "<div>\n",
       "<style scoped>\n",
       "    .dataframe tbody tr th:only-of-type {\n",
       "        vertical-align: middle;\n",
       "    }\n",
       "\n",
       "    .dataframe tbody tr th {\n",
       "        vertical-align: top;\n",
       "    }\n",
       "\n",
       "    .dataframe thead th {\n",
       "        text-align: right;\n",
       "    }\n",
       "</style>\n",
       "<table border=\"1\" class=\"dataframe\">\n",
       "  <thead>\n",
       "    <tr style=\"text-align: right;\">\n",
       "      <th></th>\n",
       "      <th>invoice_no</th>\n",
       "      <th>stock_code</th>\n",
       "      <th>description</th>\n",
       "      <th>quantity</th>\n",
       "      <th>unit_price</th>\n",
       "      <th>customer_id</th>\n",
       "      <th>country</th>\n",
       "      <th>total_price</th>\n",
       "      <th>quantity_outliers</th>\n",
       "      <th>unit_price_outliers</th>\n",
       "      <th>total_price_outliers</th>\n",
       "    </tr>\n",
       "    <tr>\n",
       "      <th>invoice_date</th>\n",
       "      <th></th>\n",
       "      <th></th>\n",
       "      <th></th>\n",
       "      <th></th>\n",
       "      <th></th>\n",
       "      <th></th>\n",
       "      <th></th>\n",
       "      <th></th>\n",
       "      <th></th>\n",
       "      <th></th>\n",
       "      <th></th>\n",
       "    </tr>\n",
       "  </thead>\n",
       "  <tbody>\n",
       "    <tr>\n",
       "      <th>2011-10-31 12:43:00</th>\n",
       "      <td>573531</td>\n",
       "      <td>85019B</td>\n",
       "      <td>BLOSSOM  IMAGES NOTEBOOK SET</td>\n",
       "      <td>0.010000</td>\n",
       "      <td>0.000070</td>\n",
       "      <td>12909</td>\n",
       "      <td>United Kingdom</td>\n",
       "      <td>0.001540</td>\n",
       "      <td>1.0</td>\n",
       "      <td>0.0</td>\n",
       "      <td>1.0</td>\n",
       "    </tr>\n",
       "    <tr>\n",
       "      <th>2010-12-08 12:49:00</th>\n",
       "      <td>537789</td>\n",
       "      <td>22867</td>\n",
       "      <td>HAND WARMER BIRD DESIGN</td>\n",
       "      <td>0.002500</td>\n",
       "      <td>0.000118</td>\n",
       "      <td>14051</td>\n",
       "      <td>United Kingdom</td>\n",
       "      <td>0.000647</td>\n",
       "      <td>0.0</td>\n",
       "      <td>0.0</td>\n",
       "      <td>0.0</td>\n",
       "    </tr>\n",
       "    <tr>\n",
       "      <th>2011-08-23 17:31:00</th>\n",
       "      <td>564199</td>\n",
       "      <td>22697</td>\n",
       "      <td>GREEN REGENCY TEACUP AND SAUCER</td>\n",
       "      <td>0.000208</td>\n",
       "      <td>0.000165</td>\n",
       "      <td>13263</td>\n",
       "      <td>United Kingdom</td>\n",
       "      <td>0.000076</td>\n",
       "      <td>0.0</td>\n",
       "      <td>0.0</td>\n",
       "      <td>0.0</td>\n",
       "    </tr>\n",
       "  </tbody>\n",
       "</table>\n",
       "</div>"
      ],
      "text/plain": [
       "                    invoice_no stock_code                      description  \\\n",
       "invoice_date                                                                 \n",
       "2011-10-31 12:43:00     573531     85019B     BLOSSOM  IMAGES NOTEBOOK SET   \n",
       "2010-12-08 12:49:00     537789      22867          HAND WARMER BIRD DESIGN   \n",
       "2011-08-23 17:31:00     564199      22697  GREEN REGENCY TEACUP AND SAUCER   \n",
       "\n",
       "                     quantity  unit_price customer_id         country  \\\n",
       "invoice_date                                                            \n",
       "2011-10-31 12:43:00  0.010000    0.000070       12909  United Kingdom   \n",
       "2010-12-08 12:49:00  0.002500    0.000118       14051  United Kingdom   \n",
       "2011-08-23 17:31:00  0.000208    0.000165       13263  United Kingdom   \n",
       "\n",
       "                     total_price  quantity_outliers  unit_price_outliers  \\\n",
       "invoice_date                                                               \n",
       "2011-10-31 12:43:00     0.001540                1.0                  0.0   \n",
       "2010-12-08 12:49:00     0.000647                0.0                  0.0   \n",
       "2011-08-23 17:31:00     0.000076                0.0                  0.0   \n",
       "\n",
       "                     total_price_outliers  \n",
       "invoice_date                               \n",
       "2011-10-31 12:43:00                   1.0  \n",
       "2010-12-08 12:49:00                   0.0  \n",
       "2011-08-23 17:31:00                   0.0  "
      ]
     },
     "execution_count": 4,
     "metadata": {},
     "output_type": "execute_result"
    }
   ],
   "source": [
    "train.head(3)"
   ]
  },
  {
   "cell_type": "code",
   "execution_count": 5,
   "id": "c918d653-7ea6-4197-b56b-18942b7e939b",
   "metadata": {},
   "outputs": [
    {
     "data": {
      "text/html": [
       "<div>\n",
       "<style scoped>\n",
       "    .dataframe tbody tr th:only-of-type {\n",
       "        vertical-align: middle;\n",
       "    }\n",
       "\n",
       "    .dataframe tbody tr th {\n",
       "        vertical-align: top;\n",
       "    }\n",
       "\n",
       "    .dataframe thead th {\n",
       "        text-align: right;\n",
       "    }\n",
       "</style>\n",
       "<table border=\"1\" class=\"dataframe\">\n",
       "  <thead>\n",
       "    <tr style=\"text-align: right;\">\n",
       "      <th></th>\n",
       "      <th>quantity</th>\n",
       "      <th>unit_price</th>\n",
       "      <th>total_price</th>\n",
       "    </tr>\n",
       "    <tr>\n",
       "      <th>invoice_date</th>\n",
       "      <th></th>\n",
       "      <th></th>\n",
       "      <th></th>\n",
       "    </tr>\n",
       "  </thead>\n",
       "  <tbody>\n",
       "    <tr>\n",
       "      <th>2011-10-31 12:43:00</th>\n",
       "      <td>0.010000</td>\n",
       "      <td>0.000070</td>\n",
       "      <td>0.001540</td>\n",
       "    </tr>\n",
       "    <tr>\n",
       "      <th>2010-12-08 12:49:00</th>\n",
       "      <td>0.002500</td>\n",
       "      <td>0.000118</td>\n",
       "      <td>0.000647</td>\n",
       "    </tr>\n",
       "    <tr>\n",
       "      <th>2011-08-23 17:31:00</th>\n",
       "      <td>0.000208</td>\n",
       "      <td>0.000165</td>\n",
       "      <td>0.000076</td>\n",
       "    </tr>\n",
       "    <tr>\n",
       "      <th>2011-08-31 13:41:00</th>\n",
       "      <td>0.000000</td>\n",
       "      <td>0.000165</td>\n",
       "      <td>0.000000</td>\n",
       "    </tr>\n",
       "    <tr>\n",
       "      <th>2011-09-14 10:40:00</th>\n",
       "      <td>0.005000</td>\n",
       "      <td>0.000117</td>\n",
       "      <td>0.001281</td>\n",
       "    </tr>\n",
       "  </tbody>\n",
       "</table>\n",
       "</div>"
      ],
      "text/plain": [
       "                     quantity  unit_price  total_price\n",
       "invoice_date                                          \n",
       "2011-10-31 12:43:00  0.010000    0.000070     0.001540\n",
       "2010-12-08 12:49:00  0.002500    0.000118     0.000647\n",
       "2011-08-23 17:31:00  0.000208    0.000165     0.000076\n",
       "2011-08-31 13:41:00  0.000000    0.000165     0.000000\n",
       "2011-09-14 10:40:00  0.005000    0.000117     0.001281"
      ]
     },
     "execution_count": 5,
     "metadata": {},
     "output_type": "execute_result"
    }
   ],
   "source": [
    "train[['quantity', 'unit_price', 'total_price']].head()"
   ]
  },
  {
   "cell_type": "markdown",
   "id": "8dca984c-5f1c-4816-9de2-bdcc4976f0cc",
   "metadata": {},
   "source": [
    "  "
   ]
  },
  {
   "cell_type": "markdown",
   "id": "4ffa821a-ec7c-4c1a-9b59-7703cf7be0ff",
   "metadata": {},
   "source": [
    "  "
   ]
  },
  {
   "cell_type": "code",
   "execution_count": 6,
   "id": "3f65b36a-1735-421a-a62c-ead97ac0ad1b",
   "metadata": {},
   "outputs": [
    {
     "data": {
      "text/plain": [
       "((378318, 11), (81068, 11), (81069, 11))"
      ]
     },
     "execution_count": 6,
     "metadata": {},
     "output_type": "execute_result"
    }
   ],
   "source": [
    "train_scaled, val_scaled, test_scaled = w.wrangle_data()\n",
    "train_scaled.shape, val_scaled.shape, test_scaled.shape"
   ]
  },
  {
   "cell_type": "code",
   "execution_count": null,
   "id": "943b9d89-31d9-49ad-8656-a5e572c99405",
   "metadata": {},
   "outputs": [],
   "source": [
    "train_scaled.head(3)"
   ]
  },
  {
   "cell_type": "code",
   "execution_count": 7,
   "id": "d2e6405f-49fd-45ae-a071-c24db4bea97a",
   "metadata": {},
   "outputs": [
    {
     "name": "stdout",
     "output_type": "stream",
     "text": [
      "<class 'pandas.core.frame.DataFrame'>\n",
      "DatetimeIndex: 378318 entries, 2011-10-31 12:43:00 to 2011-03-17 15:03:00\n",
      "Data columns (total 11 columns):\n",
      " #   Column                Non-Null Count   Dtype  \n",
      "---  ------                --------------   -----  \n",
      " 0   invoice_no            378318 non-null  object \n",
      " 1   stock_code            378318 non-null  object \n",
      " 2   description           378318 non-null  object \n",
      " 3   quantity              378318 non-null  float64\n",
      " 4   unit_price            378318 non-null  float64\n",
      " 5   customer_id           378318 non-null  object \n",
      " 6   country               378318 non-null  object \n",
      " 7   total_price           378318 non-null  float64\n",
      " 8   quantity_outliers     378318 non-null  float64\n",
      " 9   unit_price_outliers   378318 non-null  float64\n",
      " 10  total_price_outliers  378318 non-null  float64\n",
      "dtypes: float64(6), object(5)\n",
      "memory usage: 34.6+ MB\n"
     ]
    }
   ],
   "source": [
    "train_scaled.info()"
   ]
  },
  {
   "cell_type": "markdown",
   "id": "c4443750-865b-457f-9296-b189cc62611b",
   "metadata": {},
   "source": [
    "  "
   ]
  },
  {
   "cell_type": "markdown",
   "id": "c99a021c-bdc1-4b18-9097-a84875d08f7b",
   "metadata": {},
   "source": [
    "  "
   ]
  },
  {
   "cell_type": "markdown",
   "id": "319d19af-2f54-4660-9cb3-e3aab3277b51",
   "metadata": {},
   "source": [
    "  "
   ]
  },
  {
   "cell_type": "code",
   "execution_count": 8,
   "id": "5eb14458-e7eb-439c-840a-c82802b1a7f9",
   "metadata": {},
   "outputs": [
    {
     "data": {
      "text/html": [
       "<div>\n",
       "<style scoped>\n",
       "    .dataframe tbody tr th:only-of-type {\n",
       "        vertical-align: middle;\n",
       "    }\n",
       "\n",
       "    .dataframe tbody tr th {\n",
       "        vertical-align: top;\n",
       "    }\n",
       "\n",
       "    .dataframe thead th {\n",
       "        text-align: right;\n",
       "    }\n",
       "</style>\n",
       "<table border=\"1\" class=\"dataframe\">\n",
       "  <thead>\n",
       "    <tr style=\"text-align: right;\">\n",
       "      <th></th>\n",
       "      <th>count</th>\n",
       "      <th>mean</th>\n",
       "      <th>std</th>\n",
       "      <th>min</th>\n",
       "      <th>25%</th>\n",
       "      <th>50%</th>\n",
       "      <th>75%</th>\n",
       "      <th>max</th>\n",
       "    </tr>\n",
       "  </thead>\n",
       "  <tbody>\n",
       "    <tr>\n",
       "      <th>quantity</th>\n",
       "      <td>378318.0</td>\n",
       "      <td>0.002102</td>\n",
       "      <td>0.008104</td>\n",
       "      <td>0.0</td>\n",
       "      <td>0.000208</td>\n",
       "      <td>0.000625</td>\n",
       "      <td>0.002083</td>\n",
       "      <td>1.0</td>\n",
       "    </tr>\n",
       "    <tr>\n",
       "      <th>unit_price</th>\n",
       "      <td>378318.0</td>\n",
       "      <td>0.000261</td>\n",
       "      <td>0.004494</td>\n",
       "      <td>0.0</td>\n",
       "      <td>0.000070</td>\n",
       "      <td>0.000117</td>\n",
       "      <td>0.000232</td>\n",
       "      <td>1.0</td>\n",
       "    </tr>\n",
       "    <tr>\n",
       "      <th>total_price</th>\n",
       "      <td>378318.0</td>\n",
       "      <td>0.000497</td>\n",
       "      <td>0.002541</td>\n",
       "      <td>0.0</td>\n",
       "      <td>0.000087</td>\n",
       "      <td>0.000250</td>\n",
       "      <td>0.000446</td>\n",
       "      <td>1.0</td>\n",
       "    </tr>\n",
       "    <tr>\n",
       "      <th>quantity_outliers</th>\n",
       "      <td>378318.0</td>\n",
       "      <td>0.104238</td>\n",
       "      <td>0.305569</td>\n",
       "      <td>0.0</td>\n",
       "      <td>0.000000</td>\n",
       "      <td>0.000000</td>\n",
       "      <td>0.000000</td>\n",
       "      <td>1.0</td>\n",
       "    </tr>\n",
       "    <tr>\n",
       "      <th>unit_price_outliers</th>\n",
       "      <td>378318.0</td>\n",
       "      <td>0.073391</td>\n",
       "      <td>0.260777</td>\n",
       "      <td>0.0</td>\n",
       "      <td>0.000000</td>\n",
       "      <td>0.000000</td>\n",
       "      <td>0.000000</td>\n",
       "      <td>1.0</td>\n",
       "    </tr>\n",
       "    <tr>\n",
       "      <th>total_price_outliers</th>\n",
       "      <td>378318.0</td>\n",
       "      <td>0.078558</td>\n",
       "      <td>0.269048</td>\n",
       "      <td>0.0</td>\n",
       "      <td>0.000000</td>\n",
       "      <td>0.000000</td>\n",
       "      <td>0.000000</td>\n",
       "      <td>1.0</td>\n",
       "    </tr>\n",
       "  </tbody>\n",
       "</table>\n",
       "</div>"
      ],
      "text/plain": [
       "                         count      mean       std  min       25%       50%  \\\n",
       "quantity              378318.0  0.002102  0.008104  0.0  0.000208  0.000625   \n",
       "unit_price            378318.0  0.000261  0.004494  0.0  0.000070  0.000117   \n",
       "total_price           378318.0  0.000497  0.002541  0.0  0.000087  0.000250   \n",
       "quantity_outliers     378318.0  0.104238  0.305569  0.0  0.000000  0.000000   \n",
       "unit_price_outliers   378318.0  0.073391  0.260777  0.0  0.000000  0.000000   \n",
       "total_price_outliers  378318.0  0.078558  0.269048  0.0  0.000000  0.000000   \n",
       "\n",
       "                           75%  max  \n",
       "quantity              0.002083  1.0  \n",
       "unit_price            0.000232  1.0  \n",
       "total_price           0.000446  1.0  \n",
       "quantity_outliers     0.000000  1.0  \n",
       "unit_price_outliers   0.000000  1.0  \n",
       "total_price_outliers  0.000000  1.0  "
      ]
     },
     "execution_count": 8,
     "metadata": {},
     "output_type": "execute_result"
    }
   ],
   "source": [
    "train_scaled.describe().T"
   ]
  },
  {
   "cell_type": "markdown",
   "id": "5470e5af-6404-4e51-af9b-6811c8539669",
   "metadata": {},
   "source": [
    "  "
   ]
  },
  {
   "cell_type": "code",
   "execution_count": 9,
   "id": "e2e48581-dfcc-41d9-86e6-f48ac5ee508c",
   "metadata": {},
   "outputs": [
    {
     "data": {
      "text/html": [
       "<div>\n",
       "<style scoped>\n",
       "    .dataframe tbody tr th:only-of-type {\n",
       "        vertical-align: middle;\n",
       "    }\n",
       "\n",
       "    .dataframe tbody tr th {\n",
       "        vertical-align: top;\n",
       "    }\n",
       "\n",
       "    .dataframe thead th {\n",
       "        text-align: right;\n",
       "    }\n",
       "</style>\n",
       "<table border=\"1\" class=\"dataframe\">\n",
       "  <thead>\n",
       "    <tr style=\"text-align: right;\">\n",
       "      <th></th>\n",
       "      <th>invoice_no</th>\n",
       "      <th>stock_code</th>\n",
       "      <th>description</th>\n",
       "      <th>quantity</th>\n",
       "      <th>unit_price</th>\n",
       "      <th>customer_id</th>\n",
       "      <th>country</th>\n",
       "      <th>total_price</th>\n",
       "      <th>quantity_outliers</th>\n",
       "      <th>unit_price_outliers</th>\n",
       "      <th>total_price_outliers</th>\n",
       "    </tr>\n",
       "    <tr>\n",
       "      <th>invoice_date</th>\n",
       "      <th></th>\n",
       "      <th></th>\n",
       "      <th></th>\n",
       "      <th></th>\n",
       "      <th></th>\n",
       "      <th></th>\n",
       "      <th></th>\n",
       "      <th></th>\n",
       "      <th></th>\n",
       "      <th></th>\n",
       "      <th></th>\n",
       "    </tr>\n",
       "  </thead>\n",
       "  <tbody>\n",
       "    <tr>\n",
       "      <th>2011-10-31 12:43:00</th>\n",
       "      <td>573531</td>\n",
       "      <td>85019B</td>\n",
       "      <td>BLOSSOM  IMAGES NOTEBOOK SET</td>\n",
       "      <td>0.010000</td>\n",
       "      <td>0.000070</td>\n",
       "      <td>12909</td>\n",
       "      <td>United Kingdom</td>\n",
       "      <td>0.001540</td>\n",
       "      <td>1.0</td>\n",
       "      <td>0.0</td>\n",
       "      <td>1.0</td>\n",
       "    </tr>\n",
       "    <tr>\n",
       "      <th>2010-12-08 12:49:00</th>\n",
       "      <td>537789</td>\n",
       "      <td>22867</td>\n",
       "      <td>HAND WARMER BIRD DESIGN</td>\n",
       "      <td>0.002500</td>\n",
       "      <td>0.000118</td>\n",
       "      <td>14051</td>\n",
       "      <td>United Kingdom</td>\n",
       "      <td>0.000647</td>\n",
       "      <td>0.0</td>\n",
       "      <td>0.0</td>\n",
       "      <td>0.0</td>\n",
       "    </tr>\n",
       "    <tr>\n",
       "      <th>2011-08-23 17:31:00</th>\n",
       "      <td>564199</td>\n",
       "      <td>22697</td>\n",
       "      <td>GREEN REGENCY TEACUP AND SAUCER</td>\n",
       "      <td>0.000208</td>\n",
       "      <td>0.000165</td>\n",
       "      <td>13263</td>\n",
       "      <td>United Kingdom</td>\n",
       "      <td>0.000076</td>\n",
       "      <td>0.0</td>\n",
       "      <td>0.0</td>\n",
       "      <td>0.0</td>\n",
       "    </tr>\n",
       "    <tr>\n",
       "      <th>2011-08-31 13:41:00</th>\n",
       "      <td>C564956</td>\n",
       "      <td>21452</td>\n",
       "      <td>TOADSTOOL MONEY BOX</td>\n",
       "      <td>0.000000</td>\n",
       "      <td>0.000165</td>\n",
       "      <td>16303</td>\n",
       "      <td>United Kingdom</td>\n",
       "      <td>0.000000</td>\n",
       "      <td>0.0</td>\n",
       "      <td>0.0</td>\n",
       "      <td>0.0</td>\n",
       "    </tr>\n",
       "    <tr>\n",
       "      <th>2011-09-14 10:40:00</th>\n",
       "      <td>566633</td>\n",
       "      <td>23241</td>\n",
       "      <td>TREASURE TIN GYMKHANA DESIGN</td>\n",
       "      <td>0.005000</td>\n",
       "      <td>0.000117</td>\n",
       "      <td>17193</td>\n",
       "      <td>United Kingdom</td>\n",
       "      <td>0.001281</td>\n",
       "      <td>1.0</td>\n",
       "      <td>0.0</td>\n",
       "      <td>1.0</td>\n",
       "    </tr>\n",
       "    <tr>\n",
       "      <th>2011-10-17 11:27:00</th>\n",
       "      <td>571328</td>\n",
       "      <td>21724</td>\n",
       "      <td>PANDA AND BUNNIES STICKER SHEET</td>\n",
       "      <td>0.002500</td>\n",
       "      <td>0.000048</td>\n",
       "      <td>12473</td>\n",
       "      <td>Germany</td>\n",
       "      <td>0.000262</td>\n",
       "      <td>0.0</td>\n",
       "      <td>0.0</td>\n",
       "      <td>0.0</td>\n",
       "    </tr>\n",
       "    <tr>\n",
       "      <th>2011-10-27 16:41:00</th>\n",
       "      <td>573130</td>\n",
       "      <td>22371</td>\n",
       "      <td>AIRLINE BAG VINTAGE TOKYO 78</td>\n",
       "      <td>0.000417</td>\n",
       "      <td>0.000238</td>\n",
       "      <td>13969</td>\n",
       "      <td>United Kingdom</td>\n",
       "      <td>0.000218</td>\n",
       "      <td>0.0</td>\n",
       "      <td>0.0</td>\n",
       "      <td>0.0</td>\n",
       "    </tr>\n",
       "    <tr>\n",
       "      <th>2011-09-15 14:07:00</th>\n",
       "      <td>566913</td>\n",
       "      <td>22371</td>\n",
       "      <td>AIRLINE BAG VINTAGE TOKYO 78</td>\n",
       "      <td>0.000208</td>\n",
       "      <td>0.000238</td>\n",
       "      <td>17602</td>\n",
       "      <td>United Kingdom</td>\n",
       "      <td>0.000109</td>\n",
       "      <td>0.0</td>\n",
       "      <td>0.0</td>\n",
       "      <td>0.0</td>\n",
       "    </tr>\n",
       "    <tr>\n",
       "      <th>2011-03-31 12:08:00</th>\n",
       "      <td>548461</td>\n",
       "      <td>20676</td>\n",
       "      <td>RED RETROSPOT BOWL</td>\n",
       "      <td>0.001042</td>\n",
       "      <td>0.000070</td>\n",
       "      <td>14527</td>\n",
       "      <td>United Kingdom</td>\n",
       "      <td>0.000160</td>\n",
       "      <td>0.0</td>\n",
       "      <td>0.0</td>\n",
       "      <td>0.0</td>\n",
       "    </tr>\n",
       "    <tr>\n",
       "      <th>2010-12-16 10:28:00</th>\n",
       "      <td>539098</td>\n",
       "      <td>22473</td>\n",
       "      <td>TV DINNER TRAY VINTAGE PAISLEY</td>\n",
       "      <td>0.001667</td>\n",
       "      <td>0.000109</td>\n",
       "      <td>14841</td>\n",
       "      <td>United Kingdom</td>\n",
       "      <td>0.000400</td>\n",
       "      <td>0.0</td>\n",
       "      <td>0.0</td>\n",
       "      <td>0.0</td>\n",
       "    </tr>\n",
       "    <tr>\n",
       "      <th>2011-07-13 10:43:00</th>\n",
       "      <td>559866</td>\n",
       "      <td>21931</td>\n",
       "      <td>JUMBO STORAGE BAG SUKI</td>\n",
       "      <td>0.002083</td>\n",
       "      <td>0.000117</td>\n",
       "      <td>15795</td>\n",
       "      <td>United Kingdom</td>\n",
       "      <td>0.000534</td>\n",
       "      <td>0.0</td>\n",
       "      <td>0.0</td>\n",
       "      <td>0.0</td>\n",
       "    </tr>\n",
       "    <tr>\n",
       "      <th>2011-01-12 14:57:00</th>\n",
       "      <td>540975</td>\n",
       "      <td>22113</td>\n",
       "      <td>GREY HEART HOT WATER BOTTLE</td>\n",
       "      <td>0.000208</td>\n",
       "      <td>0.000210</td>\n",
       "      <td>14040</td>\n",
       "      <td>United Kingdom</td>\n",
       "      <td>0.000096</td>\n",
       "      <td>0.0</td>\n",
       "      <td>0.0</td>\n",
       "      <td>0.0</td>\n",
       "    </tr>\n",
       "    <tr>\n",
       "      <th>2011-10-10 11:47:00</th>\n",
       "      <td>570288</td>\n",
       "      <td>23119</td>\n",
       "      <td>PACK OF 6 LARGE FRUIT STRAWS</td>\n",
       "      <td>0.000417</td>\n",
       "      <td>0.000035</td>\n",
       "      <td>16960</td>\n",
       "      <td>United Kingdom</td>\n",
       "      <td>0.000032</td>\n",
       "      <td>0.0</td>\n",
       "      <td>0.0</td>\n",
       "      <td>0.0</td>\n",
       "    </tr>\n",
       "    <tr>\n",
       "      <th>2010-12-10 11:24:00</th>\n",
       "      <td>538205</td>\n",
       "      <td>22560</td>\n",
       "      <td>TRADITIONAL MODELLING CLAY</td>\n",
       "      <td>0.000625</td>\n",
       "      <td>0.000070</td>\n",
       "      <td>12748</td>\n",
       "      <td>United Kingdom</td>\n",
       "      <td>0.000096</td>\n",
       "      <td>0.0</td>\n",
       "      <td>0.0</td>\n",
       "      <td>0.0</td>\n",
       "    </tr>\n",
       "    <tr>\n",
       "      <th>2011-02-02 17:06:00</th>\n",
       "      <td>543040</td>\n",
       "      <td>22087</td>\n",
       "      <td>PAPER BUNTING WHITE LACE</td>\n",
       "      <td>0.002708</td>\n",
       "      <td>0.000165</td>\n",
       "      <td>17337</td>\n",
       "      <td>United Kingdom</td>\n",
       "      <td>0.000984</td>\n",
       "      <td>0.0</td>\n",
       "      <td>0.0</td>\n",
       "      <td>1.0</td>\n",
       "    </tr>\n",
       "    <tr>\n",
       "      <th>2011-06-12 13:59:00</th>\n",
       "      <td>556489</td>\n",
       "      <td>22151</td>\n",
       "      <td>PLACE SETTING WHITE HEART</td>\n",
       "      <td>0.000208</td>\n",
       "      <td>0.000024</td>\n",
       "      <td>14704</td>\n",
       "      <td>United Kingdom</td>\n",
       "      <td>0.000011</td>\n",
       "      <td>0.0</td>\n",
       "      <td>0.0</td>\n",
       "      <td>0.0</td>\n",
       "    </tr>\n",
       "    <tr>\n",
       "      <th>2011-05-27 10:29:00</th>\n",
       "      <td>554861</td>\n",
       "      <td>22318</td>\n",
       "      <td>FIVE HEART HANGING DECORATION</td>\n",
       "      <td>0.001250</td>\n",
       "      <td>0.000165</td>\n",
       "      <td>12633</td>\n",
       "      <td>Germany</td>\n",
       "      <td>0.000454</td>\n",
       "      <td>0.0</td>\n",
       "      <td>0.0</td>\n",
       "      <td>0.0</td>\n",
       "    </tr>\n",
       "    <tr>\n",
       "      <th>2011-10-20 15:57:00</th>\n",
       "      <td>572103</td>\n",
       "      <td>90025F</td>\n",
       "      <td>BAROQUE BUTTERFLY EARRINGS CRYSTAL</td>\n",
       "      <td>0.000208</td>\n",
       "      <td>0.000210</td>\n",
       "      <td>17571</td>\n",
       "      <td>United Kingdom</td>\n",
       "      <td>0.000096</td>\n",
       "      <td>0.0</td>\n",
       "      <td>0.0</td>\n",
       "      <td>0.0</td>\n",
       "    </tr>\n",
       "    <tr>\n",
       "      <th>2011-08-09 13:50:00</th>\n",
       "      <td>562789</td>\n",
       "      <td>20723</td>\n",
       "      <td>STRAWBERRY CHARLOTTE BAG</td>\n",
       "      <td>0.020833</td>\n",
       "      <td>0.000040</td>\n",
       "      <td>14646</td>\n",
       "      <td>Netherlands</td>\n",
       "      <td>0.001848</td>\n",
       "      <td>1.0</td>\n",
       "      <td>0.0</td>\n",
       "      <td>1.0</td>\n",
       "    </tr>\n",
       "    <tr>\n",
       "      <th>2011-01-31 10:31:00</th>\n",
       "      <td>542633</td>\n",
       "      <td>20685</td>\n",
       "      <td>DOORMAT RED RETROSPOT</td>\n",
       "      <td>0.000208</td>\n",
       "      <td>0.000932</td>\n",
       "      <td>0</td>\n",
       "      <td>United Kingdom</td>\n",
       "      <td>0.000427</td>\n",
       "      <td>0.0</td>\n",
       "      <td>1.0</td>\n",
       "      <td>0.0</td>\n",
       "    </tr>\n",
       "    <tr>\n",
       "      <th>2011-08-22 13:40:00</th>\n",
       "      <td>564052</td>\n",
       "      <td>21907</td>\n",
       "      <td>I'M ON HOLIDAY METAL SIGN</td>\n",
       "      <td>0.000208</td>\n",
       "      <td>0.000118</td>\n",
       "      <td>15033</td>\n",
       "      <td>United Kingdom</td>\n",
       "      <td>0.000054</td>\n",
       "      <td>0.0</td>\n",
       "      <td>0.0</td>\n",
       "      <td>0.0</td>\n",
       "    </tr>\n",
       "    <tr>\n",
       "      <th>2011-02-21 10:28:00</th>\n",
       "      <td>544479</td>\n",
       "      <td>84992</td>\n",
       "      <td>72 SWEETHEART FAIRY CAKE CASES</td>\n",
       "      <td>0.025000</td>\n",
       "      <td>0.000024</td>\n",
       "      <td>14646</td>\n",
       "      <td>Netherlands</td>\n",
       "      <td>0.001293</td>\n",
       "      <td>1.0</td>\n",
       "      <td>0.0</td>\n",
       "      <td>1.0</td>\n",
       "    </tr>\n",
       "    <tr>\n",
       "      <th>2011-04-17 13:43:00</th>\n",
       "      <td>550331</td>\n",
       "      <td>21154</td>\n",
       "      <td>RED RETROSPOT OVEN GLOVE</td>\n",
       "      <td>0.000417</td>\n",
       "      <td>0.000070</td>\n",
       "      <td>15555</td>\n",
       "      <td>United Kingdom</td>\n",
       "      <td>0.000064</td>\n",
       "      <td>0.0</td>\n",
       "      <td>0.0</td>\n",
       "      <td>0.0</td>\n",
       "    </tr>\n",
       "    <tr>\n",
       "      <th>2011-04-21 12:07:00</th>\n",
       "      <td>550898</td>\n",
       "      <td>22957</td>\n",
       "      <td>SET 3 PAPER VINTAGE CHICK PAPER EGG</td>\n",
       "      <td>0.000417</td>\n",
       "      <td>0.000165</td>\n",
       "      <td>0</td>\n",
       "      <td>United Kingdom</td>\n",
       "      <td>0.000151</td>\n",
       "      <td>0.0</td>\n",
       "      <td>0.0</td>\n",
       "      <td>0.0</td>\n",
       "    </tr>\n",
       "    <tr>\n",
       "      <th>2011-05-25 11:21:00</th>\n",
       "      <td>554617</td>\n",
       "      <td>22895</td>\n",
       "      <td>SET OF 2 TEA TOWELS APPLE AND PEARS</td>\n",
       "      <td>0.000208</td>\n",
       "      <td>0.000182</td>\n",
       "      <td>14593</td>\n",
       "      <td>United Kingdom</td>\n",
       "      <td>0.000083</td>\n",
       "      <td>0.0</td>\n",
       "      <td>0.0</td>\n",
       "      <td>0.0</td>\n",
       "    </tr>\n",
       "    <tr>\n",
       "      <th>2011-11-16 15:16:00</th>\n",
       "      <td>576837</td>\n",
       "      <td>23681</td>\n",
       "      <td>LUNCH BAG RED VINTAGE DOILY</td>\n",
       "      <td>0.000208</td>\n",
       "      <td>0.000232</td>\n",
       "      <td>0</td>\n",
       "      <td>United Kingdom</td>\n",
       "      <td>0.000106</td>\n",
       "      <td>0.0</td>\n",
       "      <td>0.0</td>\n",
       "      <td>0.0</td>\n",
       "    </tr>\n",
       "    <tr>\n",
       "      <th>2011-09-08 11:27:00</th>\n",
       "      <td>565971</td>\n",
       "      <td>23343</td>\n",
       "      <td>JUMBO BAG VINTAGE CHRISTMAS</td>\n",
       "      <td>0.000625</td>\n",
       "      <td>0.000117</td>\n",
       "      <td>13571</td>\n",
       "      <td>United Kingdom</td>\n",
       "      <td>0.000160</td>\n",
       "      <td>0.0</td>\n",
       "      <td>0.0</td>\n",
       "      <td>0.0</td>\n",
       "    </tr>\n",
       "    <tr>\n",
       "      <th>2011-02-22 16:28:00</th>\n",
       "      <td>544681</td>\n",
       "      <td>22078</td>\n",
       "      <td>RIBBON REEL LACE DESIGN</td>\n",
       "      <td>0.000208</td>\n",
       "      <td>0.000232</td>\n",
       "      <td>0</td>\n",
       "      <td>United Kingdom</td>\n",
       "      <td>0.000106</td>\n",
       "      <td>0.0</td>\n",
       "      <td>0.0</td>\n",
       "      <td>0.0</td>\n",
       "    </tr>\n",
       "    <tr>\n",
       "      <th>2011-05-20 10:37:00</th>\n",
       "      <td>553942</td>\n",
       "      <td>46000M</td>\n",
       "      <td>POLYESTER FILLER PAD 45x45cm</td>\n",
       "      <td>0.000417</td>\n",
       "      <td>0.000087</td>\n",
       "      <td>18055</td>\n",
       "      <td>United Kingdom</td>\n",
       "      <td>0.000080</td>\n",
       "      <td>0.0</td>\n",
       "      <td>0.0</td>\n",
       "      <td>0.0</td>\n",
       "    </tr>\n",
       "    <tr>\n",
       "      <th>2011-12-05 11:48:00</th>\n",
       "      <td>580610</td>\n",
       "      <td>22623</td>\n",
       "      <td>BOX OF VINTAGE JIGSAW BLOCKS</td>\n",
       "      <td>0.000208</td>\n",
       "      <td>0.000605</td>\n",
       "      <td>0</td>\n",
       "      <td>United Kingdom</td>\n",
       "      <td>0.000277</td>\n",
       "      <td>0.0</td>\n",
       "      <td>1.0</td>\n",
       "      <td>0.0</td>\n",
       "    </tr>\n",
       "    <tr>\n",
       "      <th>2011-09-16 11:23:00</th>\n",
       "      <td>567024</td>\n",
       "      <td>23298</td>\n",
       "      <td>SPOTTY BUNTING</td>\n",
       "      <td>0.002292</td>\n",
       "      <td>0.000605</td>\n",
       "      <td>0</td>\n",
       "      <td>United Kingdom</td>\n",
       "      <td>0.003046</td>\n",
       "      <td>0.0</td>\n",
       "      <td>1.0</td>\n",
       "      <td>1.0</td>\n",
       "    </tr>\n",
       "    <tr>\n",
       "      <th>2011-10-07 08:55:00</th>\n",
       "      <td>570000</td>\n",
       "      <td>22448</td>\n",
       "      <td>PIN CUSHION BABUSHKA RED</td>\n",
       "      <td>0.001250</td>\n",
       "      <td>0.000188</td>\n",
       "      <td>12420</td>\n",
       "      <td>Cyprus</td>\n",
       "      <td>0.000516</td>\n",
       "      <td>0.0</td>\n",
       "      <td>0.0</td>\n",
       "      <td>0.0</td>\n",
       "    </tr>\n",
       "    <tr>\n",
       "      <th>2011-02-07 11:42:00</th>\n",
       "      <td>543300</td>\n",
       "      <td>47567B</td>\n",
       "      <td>TEA TIME KITCHEN APRON</td>\n",
       "      <td>0.000625</td>\n",
       "      <td>0.000334</td>\n",
       "      <td>13334</td>\n",
       "      <td>United Kingdom</td>\n",
       "      <td>0.000458</td>\n",
       "      <td>0.0</td>\n",
       "      <td>0.0</td>\n",
       "      <td>0.0</td>\n",
       "    </tr>\n",
       "    <tr>\n",
       "      <th>2011-11-16 13:19:00</th>\n",
       "      <td>576771</td>\n",
       "      <td>23266</td>\n",
       "      <td>SET OF 3 WOODEN STOCKING DECORATION</td>\n",
       "      <td>0.002500</td>\n",
       "      <td>0.000070</td>\n",
       "      <td>13285</td>\n",
       "      <td>United Kingdom</td>\n",
       "      <td>0.000385</td>\n",
       "      <td>0.0</td>\n",
       "      <td>0.0</td>\n",
       "      <td>0.0</td>\n",
       "    </tr>\n",
       "    <tr>\n",
       "      <th>2011-01-17 17:48:00</th>\n",
       "      <td>541422</td>\n",
       "      <td>22988</td>\n",
       "      <td>SOLDIERS EGG CUP</td>\n",
       "      <td>0.000833</td>\n",
       "      <td>0.000138</td>\n",
       "      <td>0</td>\n",
       "      <td>United Kingdom</td>\n",
       "      <td>0.000253</td>\n",
       "      <td>0.0</td>\n",
       "      <td>0.0</td>\n",
       "      <td>0.0</td>\n",
       "    </tr>\n",
       "    <tr>\n",
       "      <th>2010-12-05 11:57:00</th>\n",
       "      <td>537065</td>\n",
       "      <td>84279P</td>\n",
       "      <td>CHERRY BLOSSOM  DECORATIVE FLASK</td>\n",
       "      <td>0.000833</td>\n",
       "      <td>0.000210</td>\n",
       "      <td>12567</td>\n",
       "      <td>France</td>\n",
       "      <td>0.000385</td>\n",
       "      <td>0.0</td>\n",
       "      <td>0.0</td>\n",
       "      <td>0.0</td>\n",
       "    </tr>\n",
       "    <tr>\n",
       "      <th>2011-09-02 10:34:00</th>\n",
       "      <td>565248</td>\n",
       "      <td>22999</td>\n",
       "      <td>TRAVEL CARD WALLET VINTAGE LEAF</td>\n",
       "      <td>0.000417</td>\n",
       "      <td>0.000024</td>\n",
       "      <td>15860</td>\n",
       "      <td>United Kingdom</td>\n",
       "      <td>0.000022</td>\n",
       "      <td>0.0</td>\n",
       "      <td>0.0</td>\n",
       "      <td>0.0</td>\n",
       "    </tr>\n",
       "    <tr>\n",
       "      <th>2011-11-01 14:54:00</th>\n",
       "      <td>573904</td>\n",
       "      <td>22555</td>\n",
       "      <td>PLASTERS IN TIN STRONGMAN</td>\n",
       "      <td>0.000625</td>\n",
       "      <td>0.000093</td>\n",
       "      <td>14505</td>\n",
       "      <td>United Kingdom</td>\n",
       "      <td>0.000127</td>\n",
       "      <td>0.0</td>\n",
       "      <td>0.0</td>\n",
       "      <td>0.0</td>\n",
       "    </tr>\n",
       "    <tr>\n",
       "      <th>2011-07-31 12:43:00</th>\n",
       "      <td>561879</td>\n",
       "      <td>23306</td>\n",
       "      <td>SET OF 36 DOILIES PANTRY DESIGN</td>\n",
       "      <td>0.002500</td>\n",
       "      <td>0.000081</td>\n",
       "      <td>13722</td>\n",
       "      <td>United Kingdom</td>\n",
       "      <td>0.000446</td>\n",
       "      <td>0.0</td>\n",
       "      <td>0.0</td>\n",
       "      <td>0.0</td>\n",
       "    </tr>\n",
       "    <tr>\n",
       "      <th>2011-10-19 16:59:00</th>\n",
       "      <td>571931</td>\n",
       "      <td>21617</td>\n",
       "      <td>4 LILY  BOTANICAL DINNER CANDLES</td>\n",
       "      <td>0.000417</td>\n",
       "      <td>0.000184</td>\n",
       "      <td>0</td>\n",
       "      <td>United Kingdom</td>\n",
       "      <td>0.000169</td>\n",
       "      <td>0.0</td>\n",
       "      <td>0.0</td>\n",
       "      <td>0.0</td>\n",
       "    </tr>\n",
       "    <tr>\n",
       "      <th>2011-03-18 13:47:00</th>\n",
       "      <td>546999</td>\n",
       "      <td>82582</td>\n",
       "      <td>AREA PATROLLED METAL SIGN</td>\n",
       "      <td>0.015000</td>\n",
       "      <td>0.000104</td>\n",
       "      <td>17133</td>\n",
       "      <td>United Kingdom</td>\n",
       "      <td>0.003418</td>\n",
       "      <td>1.0</td>\n",
       "      <td>0.0</td>\n",
       "      <td>1.0</td>\n",
       "    </tr>\n",
       "    <tr>\n",
       "      <th>2011-09-19 11:02:00</th>\n",
       "      <td>567211</td>\n",
       "      <td>84991</td>\n",
       "      <td>60 TEATIME FAIRY CAKE CASES</td>\n",
       "      <td>0.000625</td>\n",
       "      <td>0.000031</td>\n",
       "      <td>14159</td>\n",
       "      <td>United Kingdom</td>\n",
       "      <td>0.000042</td>\n",
       "      <td>0.0</td>\n",
       "      <td>0.0</td>\n",
       "      <td>0.0</td>\n",
       "    </tr>\n",
       "    <tr>\n",
       "      <th>2011-10-13 12:46:00</th>\n",
       "      <td>571033</td>\n",
       "      <td>22493</td>\n",
       "      <td>PAINT YOUR OWN CANVAS SET</td>\n",
       "      <td>0.005000</td>\n",
       "      <td>0.000093</td>\n",
       "      <td>14251</td>\n",
       "      <td>United Kingdom</td>\n",
       "      <td>0.001016</td>\n",
       "      <td>1.0</td>\n",
       "      <td>0.0</td>\n",
       "      <td>1.0</td>\n",
       "    </tr>\n",
       "    <tr>\n",
       "      <th>2011-12-06 09:56:00</th>\n",
       "      <td>580752</td>\n",
       "      <td>23084</td>\n",
       "      <td>RABBIT NIGHT LIGHT</td>\n",
       "      <td>0.001250</td>\n",
       "      <td>0.000117</td>\n",
       "      <td>12478</td>\n",
       "      <td>Greece</td>\n",
       "      <td>0.000320</td>\n",
       "      <td>0.0</td>\n",
       "      <td>0.0</td>\n",
       "      <td>0.0</td>\n",
       "    </tr>\n",
       "    <tr>\n",
       "      <th>2011-12-07 11:27:00</th>\n",
       "      <td>581074</td>\n",
       "      <td>23005</td>\n",
       "      <td>TRAVEL CARD WALLET I LOVE LONDON</td>\n",
       "      <td>0.005000</td>\n",
       "      <td>0.000024</td>\n",
       "      <td>15568</td>\n",
       "      <td>United Kingdom</td>\n",
       "      <td>0.000259</td>\n",
       "      <td>1.0</td>\n",
       "      <td>0.0</td>\n",
       "      <td>0.0</td>\n",
       "    </tr>\n",
       "    <tr>\n",
       "      <th>2011-04-15 10:41:00</th>\n",
       "      <td>550211</td>\n",
       "      <td>22664</td>\n",
       "      <td>TOY TIDY DOLLY GIRL DESIGN</td>\n",
       "      <td>0.000208</td>\n",
       "      <td>0.000232</td>\n",
       "      <td>0</td>\n",
       "      <td>United Kingdom</td>\n",
       "      <td>0.000106</td>\n",
       "      <td>0.0</td>\n",
       "      <td>0.0</td>\n",
       "      <td>0.0</td>\n",
       "    </tr>\n",
       "    <tr>\n",
       "      <th>2011-08-25 12:11:00</th>\n",
       "      <td>564438</td>\n",
       "      <td>22969</td>\n",
       "      <td>HOMEMADE JAM SCENTED CANDLES</td>\n",
       "      <td>0.002500</td>\n",
       "      <td>0.000081</td>\n",
       "      <td>16628</td>\n",
       "      <td>United Kingdom</td>\n",
       "      <td>0.000446</td>\n",
       "      <td>0.0</td>\n",
       "      <td>0.0</td>\n",
       "      <td>0.0</td>\n",
       "    </tr>\n",
       "    <tr>\n",
       "      <th>2011-07-21 18:19:00</th>\n",
       "      <td>560915</td>\n",
       "      <td>22386</td>\n",
       "      <td>JUMBO BAG PINK POLKADOT</td>\n",
       "      <td>0.002083</td>\n",
       "      <td>0.000117</td>\n",
       "      <td>13313</td>\n",
       "      <td>United Kingdom</td>\n",
       "      <td>0.000534</td>\n",
       "      <td>0.0</td>\n",
       "      <td>0.0</td>\n",
       "      <td>0.0</td>\n",
       "    </tr>\n",
       "    <tr>\n",
       "      <th>2011-11-23 09:02:00</th>\n",
       "      <td>578106</td>\n",
       "      <td>46000S</td>\n",
       "      <td>POLYESTER FILLER PAD 40x40cm</td>\n",
       "      <td>0.000833</td>\n",
       "      <td>0.000081</td>\n",
       "      <td>16133</td>\n",
       "      <td>United Kingdom</td>\n",
       "      <td>0.000149</td>\n",
       "      <td>0.0</td>\n",
       "      <td>0.0</td>\n",
       "      <td>0.0</td>\n",
       "    </tr>\n",
       "    <tr>\n",
       "      <th>2011-09-08 15:27:00</th>\n",
       "      <td>566060</td>\n",
       "      <td>22846</td>\n",
       "      <td>BREAD BIN DINER STYLE RED</td>\n",
       "      <td>0.000208</td>\n",
       "      <td>0.000950</td>\n",
       "      <td>0</td>\n",
       "      <td>United Kingdom</td>\n",
       "      <td>0.000435</td>\n",
       "      <td>0.0</td>\n",
       "      <td>1.0</td>\n",
       "      <td>0.0</td>\n",
       "    </tr>\n",
       "  </tbody>\n",
       "</table>\n",
       "</div>"
      ],
      "text/plain": [
       "                    invoice_no stock_code  \\\n",
       "invoice_date                                \n",
       "2011-10-31 12:43:00     573531     85019B   \n",
       "2010-12-08 12:49:00     537789      22867   \n",
       "2011-08-23 17:31:00     564199      22697   \n",
       "2011-08-31 13:41:00    C564956      21452   \n",
       "2011-09-14 10:40:00     566633      23241   \n",
       "2011-10-17 11:27:00     571328      21724   \n",
       "2011-10-27 16:41:00     573130      22371   \n",
       "2011-09-15 14:07:00     566913      22371   \n",
       "2011-03-31 12:08:00     548461      20676   \n",
       "2010-12-16 10:28:00     539098      22473   \n",
       "2011-07-13 10:43:00     559866      21931   \n",
       "2011-01-12 14:57:00     540975      22113   \n",
       "2011-10-10 11:47:00     570288      23119   \n",
       "2010-12-10 11:24:00     538205      22560   \n",
       "2011-02-02 17:06:00     543040      22087   \n",
       "2011-06-12 13:59:00     556489      22151   \n",
       "2011-05-27 10:29:00     554861      22318   \n",
       "2011-10-20 15:57:00     572103     90025F   \n",
       "2011-08-09 13:50:00     562789      20723   \n",
       "2011-01-31 10:31:00     542633      20685   \n",
       "2011-08-22 13:40:00     564052      21907   \n",
       "2011-02-21 10:28:00     544479      84992   \n",
       "2011-04-17 13:43:00     550331      21154   \n",
       "2011-04-21 12:07:00     550898      22957   \n",
       "2011-05-25 11:21:00     554617      22895   \n",
       "2011-11-16 15:16:00     576837      23681   \n",
       "2011-09-08 11:27:00     565971      23343   \n",
       "2011-02-22 16:28:00     544681      22078   \n",
       "2011-05-20 10:37:00     553942     46000M   \n",
       "2011-12-05 11:48:00     580610      22623   \n",
       "2011-09-16 11:23:00     567024      23298   \n",
       "2011-10-07 08:55:00     570000      22448   \n",
       "2011-02-07 11:42:00     543300     47567B   \n",
       "2011-11-16 13:19:00     576771      23266   \n",
       "2011-01-17 17:48:00     541422      22988   \n",
       "2010-12-05 11:57:00     537065     84279P   \n",
       "2011-09-02 10:34:00     565248      22999   \n",
       "2011-11-01 14:54:00     573904      22555   \n",
       "2011-07-31 12:43:00     561879      23306   \n",
       "2011-10-19 16:59:00     571931      21617   \n",
       "2011-03-18 13:47:00     546999      82582   \n",
       "2011-09-19 11:02:00     567211      84991   \n",
       "2011-10-13 12:46:00     571033      22493   \n",
       "2011-12-06 09:56:00     580752      23084   \n",
       "2011-12-07 11:27:00     581074      23005   \n",
       "2011-04-15 10:41:00     550211      22664   \n",
       "2011-08-25 12:11:00     564438      22969   \n",
       "2011-07-21 18:19:00     560915      22386   \n",
       "2011-11-23 09:02:00     578106     46000S   \n",
       "2011-09-08 15:27:00     566060      22846   \n",
       "\n",
       "                                             description  quantity  \\\n",
       "invoice_date                                                         \n",
       "2011-10-31 12:43:00         BLOSSOM  IMAGES NOTEBOOK SET  0.010000   \n",
       "2010-12-08 12:49:00              HAND WARMER BIRD DESIGN  0.002500   \n",
       "2011-08-23 17:31:00      GREEN REGENCY TEACUP AND SAUCER  0.000208   \n",
       "2011-08-31 13:41:00                  TOADSTOOL MONEY BOX  0.000000   \n",
       "2011-09-14 10:40:00         TREASURE TIN GYMKHANA DESIGN  0.005000   \n",
       "2011-10-17 11:27:00      PANDA AND BUNNIES STICKER SHEET  0.002500   \n",
       "2011-10-27 16:41:00         AIRLINE BAG VINTAGE TOKYO 78  0.000417   \n",
       "2011-09-15 14:07:00         AIRLINE BAG VINTAGE TOKYO 78  0.000208   \n",
       "2011-03-31 12:08:00                   RED RETROSPOT BOWL  0.001042   \n",
       "2010-12-16 10:28:00       TV DINNER TRAY VINTAGE PAISLEY  0.001667   \n",
       "2011-07-13 10:43:00               JUMBO STORAGE BAG SUKI  0.002083   \n",
       "2011-01-12 14:57:00          GREY HEART HOT WATER BOTTLE  0.000208   \n",
       "2011-10-10 11:47:00        PACK OF 6 LARGE FRUIT STRAWS   0.000417   \n",
       "2010-12-10 11:24:00           TRADITIONAL MODELLING CLAY  0.000625   \n",
       "2011-02-02 17:06:00             PAPER BUNTING WHITE LACE  0.002708   \n",
       "2011-06-12 13:59:00            PLACE SETTING WHITE HEART  0.000208   \n",
       "2011-05-27 10:29:00        FIVE HEART HANGING DECORATION  0.001250   \n",
       "2011-10-20 15:57:00   BAROQUE BUTTERFLY EARRINGS CRYSTAL  0.000208   \n",
       "2011-08-09 13:50:00             STRAWBERRY CHARLOTTE BAG  0.020833   \n",
       "2011-01-31 10:31:00                DOORMAT RED RETROSPOT  0.000208   \n",
       "2011-08-22 13:40:00            I'M ON HOLIDAY METAL SIGN  0.000208   \n",
       "2011-02-21 10:28:00       72 SWEETHEART FAIRY CAKE CASES  0.025000   \n",
       "2011-04-17 13:43:00            RED RETROSPOT OVEN GLOVE   0.000417   \n",
       "2011-04-21 12:07:00  SET 3 PAPER VINTAGE CHICK PAPER EGG  0.000417   \n",
       "2011-05-25 11:21:00  SET OF 2 TEA TOWELS APPLE AND PEARS  0.000208   \n",
       "2011-11-16 15:16:00          LUNCH BAG RED VINTAGE DOILY  0.000208   \n",
       "2011-09-08 11:27:00         JUMBO BAG VINTAGE CHRISTMAS   0.000625   \n",
       "2011-02-22 16:28:00             RIBBON REEL LACE DESIGN   0.000208   \n",
       "2011-05-20 10:37:00         POLYESTER FILLER PAD 45x45cm  0.000417   \n",
       "2011-12-05 11:48:00        BOX OF VINTAGE JIGSAW BLOCKS   0.000208   \n",
       "2011-09-16 11:23:00                       SPOTTY BUNTING  0.002292   \n",
       "2011-10-07 08:55:00             PIN CUSHION BABUSHKA RED  0.001250   \n",
       "2011-02-07 11:42:00               TEA TIME KITCHEN APRON  0.000625   \n",
       "2011-11-16 13:19:00  SET OF 3 WOODEN STOCKING DECORATION  0.002500   \n",
       "2011-01-17 17:48:00                    SOLDIERS EGG CUP   0.000833   \n",
       "2010-12-05 11:57:00     CHERRY BLOSSOM  DECORATIVE FLASK  0.000833   \n",
       "2011-09-02 10:34:00      TRAVEL CARD WALLET VINTAGE LEAF  0.000417   \n",
       "2011-11-01 14:54:00            PLASTERS IN TIN STRONGMAN  0.000625   \n",
       "2011-07-31 12:43:00      SET OF 36 DOILIES PANTRY DESIGN  0.002500   \n",
       "2011-10-19 16:59:00     4 LILY  BOTANICAL DINNER CANDLES  0.000417   \n",
       "2011-03-18 13:47:00            AREA PATROLLED METAL SIGN  0.015000   \n",
       "2011-09-19 11:02:00          60 TEATIME FAIRY CAKE CASES  0.000625   \n",
       "2011-10-13 12:46:00            PAINT YOUR OWN CANVAS SET  0.005000   \n",
       "2011-12-06 09:56:00                   RABBIT NIGHT LIGHT  0.001250   \n",
       "2011-12-07 11:27:00     TRAVEL CARD WALLET I LOVE LONDON  0.005000   \n",
       "2011-04-15 10:41:00           TOY TIDY DOLLY GIRL DESIGN  0.000208   \n",
       "2011-08-25 12:11:00         HOMEMADE JAM SCENTED CANDLES  0.002500   \n",
       "2011-07-21 18:19:00              JUMBO BAG PINK POLKADOT  0.002083   \n",
       "2011-11-23 09:02:00         POLYESTER FILLER PAD 40x40cm  0.000833   \n",
       "2011-09-08 15:27:00           BREAD BIN DINER STYLE RED   0.000208   \n",
       "\n",
       "                     unit_price customer_id         country  total_price  \\\n",
       "invoice_date                                                               \n",
       "2011-10-31 12:43:00    0.000070       12909  United Kingdom     0.001540   \n",
       "2010-12-08 12:49:00    0.000118       14051  United Kingdom     0.000647   \n",
       "2011-08-23 17:31:00    0.000165       13263  United Kingdom     0.000076   \n",
       "2011-08-31 13:41:00    0.000165       16303  United Kingdom     0.000000   \n",
       "2011-09-14 10:40:00    0.000117       17193  United Kingdom     0.001281   \n",
       "2011-10-17 11:27:00    0.000048       12473         Germany     0.000262   \n",
       "2011-10-27 16:41:00    0.000238       13969  United Kingdom     0.000218   \n",
       "2011-09-15 14:07:00    0.000238       17602  United Kingdom     0.000109   \n",
       "2011-03-31 12:08:00    0.000070       14527  United Kingdom     0.000160   \n",
       "2010-12-16 10:28:00    0.000109       14841  United Kingdom     0.000400   \n",
       "2011-07-13 10:43:00    0.000117       15795  United Kingdom     0.000534   \n",
       "2011-01-12 14:57:00    0.000210       14040  United Kingdom     0.000096   \n",
       "2011-10-10 11:47:00    0.000035       16960  United Kingdom     0.000032   \n",
       "2010-12-10 11:24:00    0.000070       12748  United Kingdom     0.000096   \n",
       "2011-02-02 17:06:00    0.000165       17337  United Kingdom     0.000984   \n",
       "2011-06-12 13:59:00    0.000024       14704  United Kingdom     0.000011   \n",
       "2011-05-27 10:29:00    0.000165       12633         Germany     0.000454   \n",
       "2011-10-20 15:57:00    0.000210       17571  United Kingdom     0.000096   \n",
       "2011-08-09 13:50:00    0.000040       14646     Netherlands     0.001848   \n",
       "2011-01-31 10:31:00    0.000932           0  United Kingdom     0.000427   \n",
       "2011-08-22 13:40:00    0.000118       15033  United Kingdom     0.000054   \n",
       "2011-02-21 10:28:00    0.000024       14646     Netherlands     0.001293   \n",
       "2011-04-17 13:43:00    0.000070       15555  United Kingdom     0.000064   \n",
       "2011-04-21 12:07:00    0.000165           0  United Kingdom     0.000151   \n",
       "2011-05-25 11:21:00    0.000182       14593  United Kingdom     0.000083   \n",
       "2011-11-16 15:16:00    0.000232           0  United Kingdom     0.000106   \n",
       "2011-09-08 11:27:00    0.000117       13571  United Kingdom     0.000160   \n",
       "2011-02-22 16:28:00    0.000232           0  United Kingdom     0.000106   \n",
       "2011-05-20 10:37:00    0.000087       18055  United Kingdom     0.000080   \n",
       "2011-12-05 11:48:00    0.000605           0  United Kingdom     0.000277   \n",
       "2011-09-16 11:23:00    0.000605           0  United Kingdom     0.003046   \n",
       "2011-10-07 08:55:00    0.000188       12420          Cyprus     0.000516   \n",
       "2011-02-07 11:42:00    0.000334       13334  United Kingdom     0.000458   \n",
       "2011-11-16 13:19:00    0.000070       13285  United Kingdom     0.000385   \n",
       "2011-01-17 17:48:00    0.000138           0  United Kingdom     0.000253   \n",
       "2010-12-05 11:57:00    0.000210       12567          France     0.000385   \n",
       "2011-09-02 10:34:00    0.000024       15860  United Kingdom     0.000022   \n",
       "2011-11-01 14:54:00    0.000093       14505  United Kingdom     0.000127   \n",
       "2011-07-31 12:43:00    0.000081       13722  United Kingdom     0.000446   \n",
       "2011-10-19 16:59:00    0.000184           0  United Kingdom     0.000169   \n",
       "2011-03-18 13:47:00    0.000104       17133  United Kingdom     0.003418   \n",
       "2011-09-19 11:02:00    0.000031       14159  United Kingdom     0.000042   \n",
       "2011-10-13 12:46:00    0.000093       14251  United Kingdom     0.001016   \n",
       "2011-12-06 09:56:00    0.000117       12478          Greece     0.000320   \n",
       "2011-12-07 11:27:00    0.000024       15568  United Kingdom     0.000259   \n",
       "2011-04-15 10:41:00    0.000232           0  United Kingdom     0.000106   \n",
       "2011-08-25 12:11:00    0.000081       16628  United Kingdom     0.000446   \n",
       "2011-07-21 18:19:00    0.000117       13313  United Kingdom     0.000534   \n",
       "2011-11-23 09:02:00    0.000081       16133  United Kingdom     0.000149   \n",
       "2011-09-08 15:27:00    0.000950           0  United Kingdom     0.000435   \n",
       "\n",
       "                     quantity_outliers  unit_price_outliers  \\\n",
       "invoice_date                                                  \n",
       "2011-10-31 12:43:00                1.0                  0.0   \n",
       "2010-12-08 12:49:00                0.0                  0.0   \n",
       "2011-08-23 17:31:00                0.0                  0.0   \n",
       "2011-08-31 13:41:00                0.0                  0.0   \n",
       "2011-09-14 10:40:00                1.0                  0.0   \n",
       "2011-10-17 11:27:00                0.0                  0.0   \n",
       "2011-10-27 16:41:00                0.0                  0.0   \n",
       "2011-09-15 14:07:00                0.0                  0.0   \n",
       "2011-03-31 12:08:00                0.0                  0.0   \n",
       "2010-12-16 10:28:00                0.0                  0.0   \n",
       "2011-07-13 10:43:00                0.0                  0.0   \n",
       "2011-01-12 14:57:00                0.0                  0.0   \n",
       "2011-10-10 11:47:00                0.0                  0.0   \n",
       "2010-12-10 11:24:00                0.0                  0.0   \n",
       "2011-02-02 17:06:00                0.0                  0.0   \n",
       "2011-06-12 13:59:00                0.0                  0.0   \n",
       "2011-05-27 10:29:00                0.0                  0.0   \n",
       "2011-10-20 15:57:00                0.0                  0.0   \n",
       "2011-08-09 13:50:00                1.0                  0.0   \n",
       "2011-01-31 10:31:00                0.0                  1.0   \n",
       "2011-08-22 13:40:00                0.0                  0.0   \n",
       "2011-02-21 10:28:00                1.0                  0.0   \n",
       "2011-04-17 13:43:00                0.0                  0.0   \n",
       "2011-04-21 12:07:00                0.0                  0.0   \n",
       "2011-05-25 11:21:00                0.0                  0.0   \n",
       "2011-11-16 15:16:00                0.0                  0.0   \n",
       "2011-09-08 11:27:00                0.0                  0.0   \n",
       "2011-02-22 16:28:00                0.0                  0.0   \n",
       "2011-05-20 10:37:00                0.0                  0.0   \n",
       "2011-12-05 11:48:00                0.0                  1.0   \n",
       "2011-09-16 11:23:00                0.0                  1.0   \n",
       "2011-10-07 08:55:00                0.0                  0.0   \n",
       "2011-02-07 11:42:00                0.0                  0.0   \n",
       "2011-11-16 13:19:00                0.0                  0.0   \n",
       "2011-01-17 17:48:00                0.0                  0.0   \n",
       "2010-12-05 11:57:00                0.0                  0.0   \n",
       "2011-09-02 10:34:00                0.0                  0.0   \n",
       "2011-11-01 14:54:00                0.0                  0.0   \n",
       "2011-07-31 12:43:00                0.0                  0.0   \n",
       "2011-10-19 16:59:00                0.0                  0.0   \n",
       "2011-03-18 13:47:00                1.0                  0.0   \n",
       "2011-09-19 11:02:00                0.0                  0.0   \n",
       "2011-10-13 12:46:00                1.0                  0.0   \n",
       "2011-12-06 09:56:00                0.0                  0.0   \n",
       "2011-12-07 11:27:00                1.0                  0.0   \n",
       "2011-04-15 10:41:00                0.0                  0.0   \n",
       "2011-08-25 12:11:00                0.0                  0.0   \n",
       "2011-07-21 18:19:00                0.0                  0.0   \n",
       "2011-11-23 09:02:00                0.0                  0.0   \n",
       "2011-09-08 15:27:00                0.0                  1.0   \n",
       "\n",
       "                     total_price_outliers  \n",
       "invoice_date                               \n",
       "2011-10-31 12:43:00                   1.0  \n",
       "2010-12-08 12:49:00                   0.0  \n",
       "2011-08-23 17:31:00                   0.0  \n",
       "2011-08-31 13:41:00                   0.0  \n",
       "2011-09-14 10:40:00                   1.0  \n",
       "2011-10-17 11:27:00                   0.0  \n",
       "2011-10-27 16:41:00                   0.0  \n",
       "2011-09-15 14:07:00                   0.0  \n",
       "2011-03-31 12:08:00                   0.0  \n",
       "2010-12-16 10:28:00                   0.0  \n",
       "2011-07-13 10:43:00                   0.0  \n",
       "2011-01-12 14:57:00                   0.0  \n",
       "2011-10-10 11:47:00                   0.0  \n",
       "2010-12-10 11:24:00                   0.0  \n",
       "2011-02-02 17:06:00                   1.0  \n",
       "2011-06-12 13:59:00                   0.0  \n",
       "2011-05-27 10:29:00                   0.0  \n",
       "2011-10-20 15:57:00                   0.0  \n",
       "2011-08-09 13:50:00                   1.0  \n",
       "2011-01-31 10:31:00                   0.0  \n",
       "2011-08-22 13:40:00                   0.0  \n",
       "2011-02-21 10:28:00                   1.0  \n",
       "2011-04-17 13:43:00                   0.0  \n",
       "2011-04-21 12:07:00                   0.0  \n",
       "2011-05-25 11:21:00                   0.0  \n",
       "2011-11-16 15:16:00                   0.0  \n",
       "2011-09-08 11:27:00                   0.0  \n",
       "2011-02-22 16:28:00                   0.0  \n",
       "2011-05-20 10:37:00                   0.0  \n",
       "2011-12-05 11:48:00                   0.0  \n",
       "2011-09-16 11:23:00                   1.0  \n",
       "2011-10-07 08:55:00                   0.0  \n",
       "2011-02-07 11:42:00                   0.0  \n",
       "2011-11-16 13:19:00                   0.0  \n",
       "2011-01-17 17:48:00                   0.0  \n",
       "2010-12-05 11:57:00                   0.0  \n",
       "2011-09-02 10:34:00                   0.0  \n",
       "2011-11-01 14:54:00                   0.0  \n",
       "2011-07-31 12:43:00                   0.0  \n",
       "2011-10-19 16:59:00                   0.0  \n",
       "2011-03-18 13:47:00                   1.0  \n",
       "2011-09-19 11:02:00                   0.0  \n",
       "2011-10-13 12:46:00                   1.0  \n",
       "2011-12-06 09:56:00                   0.0  \n",
       "2011-12-07 11:27:00                   0.0  \n",
       "2011-04-15 10:41:00                   0.0  \n",
       "2011-08-25 12:11:00                   0.0  \n",
       "2011-07-21 18:19:00                   0.0  \n",
       "2011-11-23 09:02:00                   0.0  \n",
       "2011-09-08 15:27:00                   0.0  "
      ]
     },
     "execution_count": 9,
     "metadata": {},
     "output_type": "execute_result"
    }
   ],
   "source": [
    "train_scaled.head(50)  "
   ]
  },
  {
   "cell_type": "markdown",
   "id": "63c3967d-c78e-4d2e-a331-6603fa1d3fdc",
   "metadata": {},
   "source": [
    "## New features below based on features present:"
   ]
  },
  {
   "cell_type": "code",
   "execution_count": 10,
   "id": "f9945689-4a02-44ee-b7ac-e84f5eb109f0",
   "metadata": {},
   "outputs": [
    {
     "data": {
      "text/plain": [
       "total_price\n",
       "0.000385    14214\n",
       "0.000508     7700\n",
       "0.000000     7305\n",
       "0.000032     6766\n",
       "0.000063     6461\n",
       "            ...  \n",
       "0.004471        1\n",
       "0.013992        1\n",
       "0.001828        1\n",
       "0.007991        1\n",
       "0.003184        1\n",
       "Name: count, Length: 4158, dtype: int64"
      ]
     },
     "execution_count": 10,
     "metadata": {},
     "output_type": "execute_result"
    }
   ],
   "source": [
    "train.total_price.value_counts()"
   ]
  },
  {
   "cell_type": "markdown",
   "id": "8a0861f7-6b33-4de2-a744-ccde67da58ea",
   "metadata": {},
   "source": [
    "  "
   ]
  },
  {
   "cell_type": "markdown",
   "id": "271d2338-edc2-4294-a19d-f6348c9cc3e7",
   "metadata": {},
   "source": [
    "  "
   ]
  },
  {
   "cell_type": "markdown",
   "id": "eca18ca1-ed2c-4e79-ba03-fedd87665c1f",
   "metadata": {},
   "source": [
    "  "
   ]
  },
  {
   "cell_type": "markdown",
   "id": "1689cf58-4772-48d6-a7e6-ddd1f097ea0a",
   "metadata": {},
   "source": [
    "  "
   ]
  },
  {
   "cell_type": "code",
   "execution_count": 11,
   "id": "949af44a-0ad5-4194-a3fd-4a9ecb722a2b",
   "metadata": {},
   "outputs": [
    {
     "data": {
      "text/plain": [
       "invoice_date\n",
       "2011-10-31 12:43:00    0.001540\n",
       "2010-12-08 12:49:00    0.000647\n",
       "2011-08-23 17:31:00    0.000076\n",
       "2011-08-31 13:41:00    0.000000\n",
       "2011-09-14 10:40:00    0.001281\n",
       "Name: total_price, dtype: float64"
      ]
     },
     "execution_count": 11,
     "metadata": {},
     "output_type": "execute_result"
    }
   ],
   "source": [
    "train.total_price.head()"
   ]
  },
  {
   "cell_type": "markdown",
   "id": "a4673504-0e0a-40cc-bce4-8a5d538e0fe8",
   "metadata": {},
   "source": [
    "  "
   ]
  },
  {
   "cell_type": "markdown",
   "id": "128a4aa3-0a37-4b5b-8b94-807e43fb93bf",
   "metadata": {},
   "source": [
    "  "
   ]
  },
  {
   "cell_type": "markdown",
   "id": "25dd467a-cdf3-4154-a7c3-7edcf5fe75a7",
   "metadata": {},
   "source": [
    "  "
   ]
  },
  {
   "cell_type": "markdown",
   "id": "70cc2f66-18b1-4c91-8aab-c2615d452faf",
   "metadata": {},
   "source": [
    "## Can we see patterns, find signals in the data?\n",
    "\n",
    "## What features are driving the outcome?\n",
    "\n",
    "## Are there other features we can construct that have stronger relationships?\n",
    "\n",
    "## Visualization and statistical testing\n",
    "\n",
    "## I want to walk away from exploration with with modeling strategies (feature selection, algorithm selection, evaluation methods, etc.)."
   ]
  },
  {
   "cell_type": "markdown",
   "id": "a7bd2f89-1d12-4fb8-bef0-d79beb8975ca",
   "metadata": {},
   "source": [
    "  "
   ]
  },
  {
   "cell_type": "markdown",
   "id": "e92fd962-7944-4ef0-87d5-612d8d6a86ae",
   "metadata": {},
   "source": [
    "  "
   ]
  },
  {
   "cell_type": "markdown",
   "id": "75f4d6bb-4417-45f3-9e26-1fdd033f2d69",
   "metadata": {},
   "source": [
    "  "
   ]
  },
  {
   "cell_type": "markdown",
   "id": "bf447ee5-73e5-4d65-b28c-b5258ad42d70",
   "metadata": {},
   "source": [
    "  "
   ]
  },
  {
   "cell_type": "markdown",
   "id": "78d33728-421e-4004-9727-1e359bf03475",
   "metadata": {},
   "source": [
    "  "
   ]
  },
  {
   "cell_type": "markdown",
   "id": "ac3604bd-164e-4c34-b1c2-185b4505cb43",
   "metadata": {},
   "source": [
    "  "
   ]
  },
  {
   "cell_type": "markdown",
   "id": "5932c0bb-e376-4ed0-a981-3fd652e3bef0",
   "metadata": {},
   "source": [
    "## Lets take a look at the distributions of all features in the data\n",
    "\n",
    "## What is the distribution of scaled numerical features?"
   ]
  },
  {
   "cell_type": "code",
   "execution_count": 14,
   "id": "d7470af0-64f6-471a-b9a0-1b7fcb12d628",
   "metadata": {},
   "outputs": [
    {
     "data": {
      "image/png": "[encoded data removed]",
      "text/plain": [
       "<Figure size 640x480 with 1 Axes>"
      ]
     },
     "metadata": {},
     "output_type": "display_data"
    },
    {
     "data": {
      "image/png": "[encoded data removed]",
      "text/plain": [
       "<Figure size 640x480 with 1 Axes>"
      ]
     },
     "metadata": {},
     "output_type": "display_data"
    },
    {
     "data": {
      "image/png": "[encoded data removed]",
      "text/plain": [
       "<Figure size 640x480 with 1 Axes>"
      ]
     },
     "metadata": {},
     "output_type": "display_data"
    },
    {
     "data": {
      "image/png": "[encoded data removed]",
      "text/plain": [
       "<Figure size 640x480 with 1 Axes>"
      ]
     },
     "metadata": {},
     "output_type": "display_data"
    },
    {
     "data": {
      "image/png": "[encoded data removed]",
      "text/plain": [
       "<Figure size 640x480 with 1 Axes>"
      ]
     },
     "metadata": {},
     "output_type": "display_data"
    },
    {
     "data": {
      "image/png": "[encoded data removed]",
      "text/plain": [
       "<Figure size 640x480 with 1 Axes>"
      ]
     },
     "metadata": {},
     "output_type": "display_data"
    }
   ],
   "source": [
    "import matplotlib.pyplot as plt\n",
    "import seaborn as sns\n",
    "\n",
    "numeric_cols = train_scaled.columns[(train_scaled.dtypes == 'float64') | (train_scaled.dtypes == 'int64')]\n",
    "\n",
    "# Created histograms for numeric columns\n",
    "for col in numeric_cols:\n",
    "    plt.figure()\n",
    "    plt.title(f'Distribution of {col}')\n",
    "    sns.histplot(data=train_scaled, x=col)\n",
    "    plt.show()"
   ]
  },
  {
   "cell_type": "markdown",
   "id": "db75586e-537f-46d1-ac46-720a4f32e9ab",
   "metadata": {},
   "source": [
    "  "
   ]
  },
  {
   "cell_type": "markdown",
   "id": "5c6a1b35-cb08-4233-8bf2-e4715f4b35ac",
   "metadata": {},
   "source": [
    "  "
   ]
  },
  {
   "cell_type": "markdown",
   "id": "cd62fe1b-8f36-4a1e-aa52-f9eca5f0953f",
   "metadata": {},
   "source": [
    "  "
   ]
  },
  {
   "cell_type": "markdown",
   "id": "3bbb4b6c-8721-4ead-b6f1-acebf8e482c9",
   "metadata": {},
   "source": [
    "## Categorical data\n",
    "\n",
    "## What is the distribution of categorical features?"
   ]
  },
  {
   "cell_type": "code",
   "execution_count": 15,
   "id": "86c86673-ac83-4a69-8414-87671161520b",
   "metadata": {},
   "outputs": [
    {
     "data": {
      "image/png": "[encoded data removed]",
      "text/plain": [
       "<Figure size 640x480 with 1 Axes>"
      ]
     },
     "metadata": {},
     "output_type": "display_data"
    },
    {
     "data": {
      "image/png": "[encoded data removed]",
      "text/plain": [
       "<Figure size 640x480 with 1 Axes>"
      ]
     },
     "metadata": {},
     "output_type": "display_data"
    },
    {
     "data": {
      "image/png": "[encoded data removed]",
      "text/plain": [
       "<Figure size 640x480 with 1 Axes>"
      ]
     },
     "metadata": {},
     "output_type": "display_data"
    },
    {
     "data": {
      "image/png": "[encoded data removed]",
      "text/plain": [
       "<Figure size 640x480 with 1 Axes>"
      ]
     },
     "metadata": {},
     "output_type": "display_data"
    },
    {
     "data": {
      "image/png": "[encoded data removed]",
      "text/plain": [
       "<Figure size 640x480 with 1 Axes>"
      ]
     },
     "metadata": {},
     "output_type": "display_data"
    }
   ],
   "source": [
    "for col in train_scaled.columns[train_scaled.dtypes == 'object']:\n",
    "    plt.figure()\n",
    "    plt.title(f'Distribution of {col}')\n",
    "    sns.histplot(data=train_scaled, x=col)\n",
    "    plt.show()"
   ]
  },
  {
   "cell_type": "markdown",
   "id": "dd634044-0e41-4ba0-a4d3-7d51d763a97c",
   "metadata": {},
   "source": [
    "  "
   ]
  },
  {
   "cell_type": "markdown",
   "id": "9b12e313-fe3b-40dc-9a90-85fe43c6f754",
   "metadata": {},
   "source": [
    "  "
   ]
  },
  {
   "cell_type": "markdown",
   "id": "74c9dfe1-d54d-4881-a7d4-bef101ecb7bb",
   "metadata": {},
   "source": [
    "  "
   ]
  },
  {
   "cell_type": "markdown",
   "id": "4df86bf2-5e55-4356-ada2-fe429b9952d1",
   "metadata": {},
   "source": [
    "  "
   ]
  },
  {
   "cell_type": "markdown",
   "id": "97ddbd60-d872-463a-9d1a-011da92dba67",
   "metadata": {},
   "source": [
    "# What does the correlation between all numerical features?"
   ]
  },
  {
   "cell_type": "code",
   "execution_count": null,
   "id": "55aa2d9b-8a90-484c-a8d8-17c9b4e690e4",
   "metadata": {},
   "outputs": [],
   "source": [
    "sns.pairplot(data = train, corner=True)"
   ]
  },
  {
   "cell_type": "markdown",
   "id": "6b65f122-40fb-4d38-ac96-76942d91bc3d",
   "metadata": {},
   "source": [
    "  "
   ]
  },
  {
   "cell_type": "markdown",
   "id": "3cd3bb20-e969-4da1-be54-c65aa92bb8f0",
   "metadata": {},
   "source": [
    "  "
   ]
  },
  {
   "cell_type": "markdown",
   "id": "1b9679a4-6af2-4cc7-8b1e-47002e6fe48e",
   "metadata": {},
   "source": [
    "# what is the `country` count distributions within this data?"
   ]
  },
  {
   "cell_type": "code",
   "execution_count": null,
   "id": "f92543b7-a037-4a86-94a2-7ac4f2edd4c9",
   "metadata": {},
   "outputs": [],
   "source": [
    "country_cnts = train.country.value_counts()\n",
    "country_cnts = pd.DataFrame(country_cnts).reset_index()\n",
    "country_cnts = country_cnts[country_cnts['count'] > 1000]"
   ]
  },
  {
   "cell_type": "code",
   "execution_count": null,
   "id": "aa85a14a-1910-4443-aee4-0c1b0ab33525",
   "metadata": {},
   "outputs": [],
   "source": [
    "# set figsze\n",
    "plt.figure(figsize=(15, 10))\n",
    "\n",
    "# Create the bar plot\n",
    "ax = sns.barplot(data=country_cnts, x='count', y='country', palette='bright')\n",
    "\n",
    "# remove spines\n",
    "sns.despine(left=True, bottom=True)\n",
    "\n",
    "# adding values at the end of each bar\n",
    "for p in ax.patches:\n",
    "    \n",
    "    ax.annotate(f'{p.get_width():.0f}', (p.get_width(), p.get_y() + p.get_height() / 2),\n",
    "                ha='left', va='center', fontsize=10, color='black')\n",
    "\n",
    "# Remove x-tick labels, keeping the ticks\n",
    "ax.set_xticklabels([])\n",
    "ax.set_xticks([])\n",
    "\n",
    "# Remove y ticks\n",
    "ax.tick_params(axis='y', which='both', left=False)\n",
    "# ax.tick_params(axis='x', which='both', bottom=False, xlabel=None)\n",
    "\n",
    "        \n",
    "# set labels\n",
    "plt.title('Country Distribution')\n",
    "\n",
    "# capitalize the y-axis labels\n",
    "ax.set_yticklabels([label.get_text().upper() for label in ax.get_yticklabels()])\n",
    "\n",
    "plt.ylabel('Country', rotation=0, labelpad=30)\n",
    "plt.xlabel('')\n",
    "plt.tight_layout()\n",
    "plt.show()"
   ]
  },
  {
   "cell_type": "markdown",
   "id": "b88b119c-5127-4c19-a859-48b8cb3682ad",
   "metadata": {},
   "source": [
    "* The data is comprised of alot of infmormation relating to the United Kingdom"
   ]
  },
  {
   "cell_type": "markdown",
   "id": "72d4c435-6598-430b-92de-9781880f2b8a",
   "metadata": {},
   "source": [
    "  "
   ]
  },
  {
   "cell_type": "markdown",
   "id": "b815a714-29d5-4d8c-be48-2fd75f4e90fe",
   "metadata": {},
   "source": [
    "  "
   ]
  },
  {
   "cell_type": "markdown",
   "id": "12607ee1-d3e3-4cec-9928-e2ced26d674e",
   "metadata": {},
   "source": [
    "  "
   ]
  },
  {
   "cell_type": "markdown",
   "id": "68eb0230-1ed7-4cac-88c3-cb673ff59c57",
   "metadata": {},
   "source": [
    "  "
   ]
  },
  {
   "cell_type": "markdown",
   "id": "0be0ad49-6fa5-4024-974e-7ebc766b5257",
   "metadata": {},
   "source": [
    "## How does `quantity` vary with `customer_id`?"
   ]
  },
  {
   "cell_type": "code",
   "execution_count": null,
   "id": "171aa66d-46a8-4162-9de2-b671f2e6f2a2",
   "metadata": {},
   "outputs": [],
   "source": [
    "plt.figure(figsize=(10, 6))\n",
    "sns.scatterplot(x='quantity', y='customer_id', data=df)\n",
    "plt.title('Quantity vs. Customers')\n",
    "plt.xlabel('Quantity')\n",
    "plt.ylabel('Customer ID')\n",
    "plt.show()"
   ]
  },
  {
   "cell_type": "markdown",
   "id": "44e1b7db-fe4c-4fc7-8873-7f7955e84847",
   "metadata": {},
   "source": [
    "  "
   ]
  },
  {
   "cell_type": "markdown",
   "id": "934d2579-3d41-45b1-ad7f-8d5469fca015",
   "metadata": {},
   "source": [
    "  "
   ]
  },
  {
   "cell_type": "markdown",
   "id": "88f316f5-156e-4aa8-9796-0cc6a26791ed",
   "metadata": {},
   "source": [
    "  "
   ]
  },
  {
   "cell_type": "markdown",
   "id": "887b0872-c5bf-4fe1-ab31-2d9910e8a73e",
   "metadata": {},
   "source": [
    "  "
   ]
  },
  {
   "cell_type": "markdown",
   "id": "7b9f7b49-abe4-485d-b268-c89afe878d02",
   "metadata": {},
   "source": [
    "## how about `unit_price` and `customer_id`?"
   ]
  },
  {
   "cell_type": "code",
   "execution_count": null,
   "id": "f83c88fd-dd05-4ac3-bd15-698bd12f8ef0",
   "metadata": {},
   "outputs": [],
   "source": [
    "plt.figure(figsize=(10, 6))\n",
    "sns.scatterplot(x='unit_price', y='customer_id', data=df)\n",
    "plt.title('Unit Price vs. Customers')\n",
    "plt.xlabel('Unit Price')\n",
    "plt.ylabel('Customer ID')\n",
    "plt.show()"
   ]
  },
  {
   "cell_type": "markdown",
   "id": "3ec66eb1-d18d-4c65-88a0-3fc0fcdd6777",
   "metadata": {},
   "source": [
    "  "
   ]
  },
  {
   "cell_type": "markdown",
   "id": "d4d224f7-1746-4403-8121-b0fb49561bd1",
   "metadata": {},
   "source": [
    "  "
   ]
  },
  {
   "cell_type": "markdown",
   "id": "37c527d6-481b-4652-86ef-21cd55b666b9",
   "metadata": {},
   "source": [
    "  "
   ]
  },
  {
   "cell_type": "markdown",
   "id": "fba0413d-1475-4727-b2d1-e86bcb29ec75",
   "metadata": {},
   "source": [
    "  "
   ]
  },
  {
   "cell_type": "markdown",
   "id": "205a3cc9-49d7-4e9c-b071-fc88000b6f0f",
   "metadata": {},
   "source": [
    "# How would scaling and normalizing features aid in getting a better visualization of distribution that exist within this dataset?"
   ]
  },
  {
   "cell_type": "markdown",
   "id": "726731a9-9d3e-4e15-a7e8-3e1962ab9324",
   "metadata": {},
   "source": [
    "  "
   ]
  },
  {
   "cell_type": "markdown",
   "id": "fbd1e291-ea2c-4668-acbd-527b461baae4",
   "metadata": {},
   "source": [
    "  "
   ]
  },
  {
   "cell_type": "markdown",
   "id": "db2c422b-8f4a-43a5-82b2-ff1eeaf146e9",
   "metadata": {},
   "source": [
    "# Code added to prep function to handle negative values:"
   ]
  },
  {
   "cell_type": "code",
   "execution_count": null,
   "id": "c41ba5e4-221c-4956-b693-2d26b004a566",
   "metadata": {
    "jupyter": {
     "source_hidden": true
    }
   },
   "outputs": [],
   "source": [
    "# df['quantity'] = df['quantity'].apply(lambda x: max(x, 0))\n",
    "    \n",
    "# df['unit_price'] = df['unit_price'].apply(lambda x: max(x, 0))"
   ]
  },
  {
   "cell_type": "markdown",
   "id": "a999ba0c-1e3b-436c-a6fd-a7e9359105a3",
   "metadata": {},
   "source": [
    "  "
   ]
  },
  {
   "cell_type": "markdown",
   "id": "7e4e6c0d-715e-47fa-b728-a36f9fd6d2d6",
   "metadata": {},
   "source": [
    "  "
   ]
  },
  {
   "cell_type": "code",
   "execution_count": null,
   "id": "07339a95-e818-49ae-b3fe-75946f0b2a4a",
   "metadata": {},
   "outputs": [],
   "source": [
    "df = df.copy()\n",
    "\n",
    "mms = MinMaxScaler()\n",
    "\n",
    "df_scaled = mms.fit(df['quantity',\n",
    "                    'unit_price',\n",
    "                    'total_price']])\n"
   ]
  },
  {
   "cell_type": "code",
   "execution_count": null,
   "id": "3ba8716b-2f47-4cfc-8dc6-d8e792b7456c",
   "metadata": {},
   "outputs": [],
   "source": [
    "df.head()"
   ]
  },
  {
   "cell_type": "code",
   "execution_count": null,
   "id": "2790958d-f7be-4bef-80bb-97970dbbf2dc",
   "metadata": {},
   "outputs": [],
   "source": [
    "df.total_price.value_counts()"
   ]
  },
  {
   "cell_type": "code",
   "execution_count": null,
   "id": "c6518d28-9669-448f-b109-6845be6440ac",
   "metadata": {},
   "outputs": [],
   "source": [
    "sns.lineplot(x=df.index, y=df.total_price)"
   ]
  }
 ],
 "metadata": {
  "kernelspec": {
   "display_name": "Python 3 (ipykernel)",
   "language": "python",
   "name": "python3"
  },
  "language_info": {
   "codemirror_mode": {
    "name": "ipython",
    "version": 3
   },
   "file_extension": ".py",
   "mimetype": "text/x-python",
   "name": "python",
   "nbconvert_exporter": "python",
   "pygments_lexer": "ipython3",
   "version": "3.10.9"
  }
 },
 "nbformat": 4,
 "nbformat_minor": 5
}
