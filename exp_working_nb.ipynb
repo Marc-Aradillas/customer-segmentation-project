{
 "cells": [
  {
   "cell_type": "code",
   "execution_count": 1,
   "id": "571b111c-cc41-4dc0-a34e-35cea5a3e112",
   "metadata": {},
   "outputs": [],
   "source": [
    "# imported libs\n",
    "import os\n",
    "import pandas as pd\n",
    "import numpy as np\n",
    "import matplotlib.pyplot as plt\n",
    "import seaborn as sns\n",
    "from sklearn.model_selection import train_test_split\n",
    "from sklearn.preprocessing import MinMaxScaler, StandardScaler, RobustScaler, PolynomialFeatures\n",
    "\n",
    "# local imports\n",
    "import wrangle as w\n",
    "\n",
    "# ignore warning\n",
    "import warnings\n",
    "warnings.filterwarnings('ignore')"
   ]
  },
  {
   "cell_type": "markdown",
   "id": "3a15e5d4-2901-4942-ab88-177a9733ae8c",
   "metadata": {},
   "source": [
    "# Exploration Working Notebook"
   ]
  },
  {
   "cell_type": "code",
   "execution_count": 2,
   "id": "0cb2f7c1-fcad-4ba3-8527-a40f92414098",
   "metadata": {},
   "outputs": [],
   "source": [
    "import wrangle as w"
   ]
  },
  {
   "cell_type": "markdown",
   "id": "8d1ac563-5460-4d09-9d3b-635cc8008e97",
   "metadata": {},
   "source": [
    "  "
   ]
  },
  {
   "cell_type": "markdown",
   "id": "b61d5a40-e6d2-4bc9-9e08-7f5e83dae3c0",
   "metadata": {},
   "source": [
    "  "
   ]
  },
  {
   "cell_type": "code",
   "execution_count": 3,
   "id": "ad41be2a-4ea5-437d-bc23-83e51fa890d1",
   "metadata": {},
   "outputs": [
    {
     "data": {
      "text/plain": [
       "((365551, 28), (78332, 28), (78333, 28))"
      ]
     },
     "execution_count": 3,
     "metadata": {},
     "output_type": "execute_result"
    }
   ],
   "source": [
    "train, val, test, train_scaled, val_scaled, test_scaled, new_df, df_customers, df = w.wrangle_data()\n",
    "train.shape, val.shape, test.shape"
   ]
  },
  {
   "cell_type": "markdown",
   "id": "41586794-c7b6-419a-b299-83615ea26d6e",
   "metadata": {},
   "source": [
    "  "
   ]
  },
  {
   "cell_type": "code",
   "execution_count": 4,
   "id": "fb3e668a-da07-4b5a-8b68-02b18656b951",
   "metadata": {
    "scrolled": true
   },
   "outputs": [
    {
     "name": "stdout",
     "output_type": "stream",
     "text": [
      "<class 'pandas.core.frame.DataFrame'>\n",
      "Index: 522216 entries, 0 to 541908\n",
      "Data columns (total 28 columns):\n",
      " #   Column                         Non-Null Count   Dtype         \n",
      "---  ------                         --------------   -----         \n",
      " 0   invoice_no                     522216 non-null  object        \n",
      " 1   stock_code                     522216 non-null  object        \n",
      " 2   description                    522216 non-null  object        \n",
      " 3   quantity                       522216 non-null  int64         \n",
      " 4   invoice_date                   522216 non-null  datetime64[ns]\n",
      " 5   unit_price                     522216 non-null  float64       \n",
      " 6   customer_id                    522216 non-null  object        \n",
      " 7   country                        522216 non-null  object        \n",
      " 8   total_price                    522216 non-null  float64       \n",
      " 9   invoice_date_day               522216 non-null  object        \n",
      " 10  invoice_date_time              522216 non-null  object        \n",
      " 11  invoice_year                   522216 non-null  int32         \n",
      " 12  invoice_month                  522216 non-null  int32         \n",
      " 13  invoice_month_name             522216 non-null  object        \n",
      " 14  invoice_day                    522216 non-null  int32         \n",
      " 15  invoice_day_name               522216 non-null  object        \n",
      " 16  invoice_day_of_week            522216 non-null  int32         \n",
      " 17  invoice_week_of_year           522216 non-null  UInt32        \n",
      " 18  invoice_hour                   522216 non-null  int32         \n",
      " 19  quantity_outliers              522216 non-null  int64         \n",
      " 20  unit_price_outliers            522216 non-null  int64         \n",
      " 21  total_price_outliers           522216 non-null  int64         \n",
      " 22  invoice_year_outliers          522216 non-null  int64         \n",
      " 23  invoice_month_outliers         522216 non-null  int64         \n",
      " 24  invoice_day_outliers           522216 non-null  int64         \n",
      " 25  invoice_day_of_week_outliers   522216 non-null  int64         \n",
      " 26  invoice_week_of_year_outliers  522216 non-null  int64         \n",
      " 27  invoice_hour_outliers          522216 non-null  int64         \n",
      "dtypes: UInt32(1), datetime64[ns](1), float64(2), int32(5), int64(10), object(9)\n",
      "memory usage: 104.1+ MB\n"
     ]
    }
   ],
   "source": [
    "# cleaned dataframe\n",
    "df.info()"
   ]
  },
  {
   "cell_type": "code",
   "execution_count": 5,
   "id": "c3b2a8c7-baa7-4238-b68d-5579b5ec1044",
   "metadata": {},
   "outputs": [
    {
     "data": {
      "text/plain": [
       "invoice_no                       0\n",
       "stock_code                       0\n",
       "description                      0\n",
       "quantity                         0\n",
       "invoice_date                     0\n",
       "unit_price                       0\n",
       "customer_id                      0\n",
       "country                          0\n",
       "total_price                      0\n",
       "invoice_date_day                 0\n",
       "invoice_date_time                0\n",
       "invoice_year                     0\n",
       "invoice_month                    0\n",
       "invoice_month_name               0\n",
       "invoice_day                      0\n",
       "invoice_day_name                 0\n",
       "invoice_day_of_week              0\n",
       "invoice_week_of_year             0\n",
       "invoice_hour                     0\n",
       "quantity_outliers                0\n",
       "unit_price_outliers              0\n",
       "total_price_outliers             0\n",
       "invoice_year_outliers            0\n",
       "invoice_month_outliers           0\n",
       "invoice_day_outliers             0\n",
       "invoice_day_of_week_outliers     0\n",
       "invoice_week_of_year_outliers    0\n",
       "invoice_hour_outliers            0\n",
       "dtype: int64"
      ]
     },
     "execution_count": 5,
     "metadata": {},
     "output_type": "execute_result"
    }
   ],
   "source": [
    "df.isnull().sum()"
   ]
  },
  {
   "cell_type": "markdown",
   "id": "53fd7627-d86b-4c91-97ac-83793a6daedc",
   "metadata": {},
   "source": [
    "  "
   ]
  },
  {
   "cell_type": "markdown",
   "id": "5c8b2aa7-250e-4580-9ccc-aa86831e1ee2",
   "metadata": {},
   "source": [
    "  "
   ]
  },
  {
   "cell_type": "markdown",
   "id": "72cf6ae6-cd99-4399-a406-0ba1295648c4",
   "metadata": {},
   "source": [
    "  "
   ]
  },
  {
   "cell_type": "markdown",
   "id": "b665a944-bdcb-41c9-8d0d-843c1376529e",
   "metadata": {},
   "source": [
    "  "
   ]
  },
  {
   "cell_type": "markdown",
   "id": "19d9c3ed-5705-4a68-a062-71b395996e4b",
   "metadata": {},
   "source": [
    "  "
   ]
  },
  {
   "cell_type": "markdown",
   "id": "c591c37a-de67-4224-a0ce-fd3e1d96da87",
   "metadata": {},
   "source": [
    "  "
   ]
  },
  {
   "cell_type": "code",
   "execution_count": 6,
   "id": "93269d0f-b0c7-47eb-a9c1-8c82ee63db42",
   "metadata": {},
   "outputs": [
    {
     "data": {
      "text/html": [
       "<div>\n",
       "<style scoped>\n",
       "    .dataframe tbody tr th:only-of-type {\n",
       "        vertical-align: middle;\n",
       "    }\n",
       "\n",
       "    .dataframe tbody tr th {\n",
       "        vertical-align: top;\n",
       "    }\n",
       "\n",
       "    .dataframe thead th {\n",
       "        text-align: right;\n",
       "    }\n",
       "</style>\n",
       "<table border=\"1\" class=\"dataframe\">\n",
       "  <thead>\n",
       "    <tr style=\"text-align: right;\">\n",
       "      <th></th>\n",
       "      <th>invoice_no</th>\n",
       "      <th>stock_code</th>\n",
       "      <th>description</th>\n",
       "      <th>quantity</th>\n",
       "      <th>invoice_date</th>\n",
       "      <th>unit_price</th>\n",
       "      <th>customer_id</th>\n",
       "      <th>country</th>\n",
       "      <th>total_price</th>\n",
       "      <th>invoice_date_day</th>\n",
       "      <th>...</th>\n",
       "      <th>invoice_hour</th>\n",
       "      <th>quantity_outliers</th>\n",
       "      <th>unit_price_outliers</th>\n",
       "      <th>total_price_outliers</th>\n",
       "      <th>invoice_year_outliers</th>\n",
       "      <th>invoice_month_outliers</th>\n",
       "      <th>invoice_day_outliers</th>\n",
       "      <th>invoice_day_of_week_outliers</th>\n",
       "      <th>invoice_week_of_year_outliers</th>\n",
       "      <th>invoice_hour_outliers</th>\n",
       "    </tr>\n",
       "  </thead>\n",
       "  <tbody>\n",
       "    <tr>\n",
       "      <th>0</th>\n",
       "      <td>536365</td>\n",
       "      <td>85123A</td>\n",
       "      <td>WHITE HANGING HEART T-LIGHT HOLDER</td>\n",
       "      <td>6</td>\n",
       "      <td>2010-12-01 08:26:00</td>\n",
       "      <td>2.55</td>\n",
       "      <td>17850</td>\n",
       "      <td>United Kingdom</td>\n",
       "      <td>15.30</td>\n",
       "      <td>2010-12-01</td>\n",
       "      <td>...</td>\n",
       "      <td>8</td>\n",
       "      <td>0</td>\n",
       "      <td>0</td>\n",
       "      <td>0</td>\n",
       "      <td>1</td>\n",
       "      <td>0</td>\n",
       "      <td>0</td>\n",
       "      <td>0</td>\n",
       "      <td>0</td>\n",
       "      <td>0</td>\n",
       "    </tr>\n",
       "    <tr>\n",
       "      <th>1</th>\n",
       "      <td>536365</td>\n",
       "      <td>71053</td>\n",
       "      <td>WHITE METAL LANTERN</td>\n",
       "      <td>6</td>\n",
       "      <td>2010-12-01 08:26:00</td>\n",
       "      <td>3.39</td>\n",
       "      <td>17850</td>\n",
       "      <td>United Kingdom</td>\n",
       "      <td>20.34</td>\n",
       "      <td>2010-12-01</td>\n",
       "      <td>...</td>\n",
       "      <td>8</td>\n",
       "      <td>0</td>\n",
       "      <td>0</td>\n",
       "      <td>0</td>\n",
       "      <td>1</td>\n",
       "      <td>0</td>\n",
       "      <td>0</td>\n",
       "      <td>0</td>\n",
       "      <td>0</td>\n",
       "      <td>0</td>\n",
       "    </tr>\n",
       "    <tr>\n",
       "      <th>2</th>\n",
       "      <td>536365</td>\n",
       "      <td>84406B</td>\n",
       "      <td>CREAM CUPID HEARTS COAT HANGER</td>\n",
       "      <td>8</td>\n",
       "      <td>2010-12-01 08:26:00</td>\n",
       "      <td>2.75</td>\n",
       "      <td>17850</td>\n",
       "      <td>United Kingdom</td>\n",
       "      <td>22.00</td>\n",
       "      <td>2010-12-01</td>\n",
       "      <td>...</td>\n",
       "      <td>8</td>\n",
       "      <td>0</td>\n",
       "      <td>0</td>\n",
       "      <td>0</td>\n",
       "      <td>1</td>\n",
       "      <td>0</td>\n",
       "      <td>0</td>\n",
       "      <td>0</td>\n",
       "      <td>0</td>\n",
       "      <td>0</td>\n",
       "    </tr>\n",
       "    <tr>\n",
       "      <th>3</th>\n",
       "      <td>536365</td>\n",
       "      <td>84029G</td>\n",
       "      <td>KNITTED UNION FLAG HOT WATER BOTTLE</td>\n",
       "      <td>6</td>\n",
       "      <td>2010-12-01 08:26:00</td>\n",
       "      <td>3.39</td>\n",
       "      <td>17850</td>\n",
       "      <td>United Kingdom</td>\n",
       "      <td>20.34</td>\n",
       "      <td>2010-12-01</td>\n",
       "      <td>...</td>\n",
       "      <td>8</td>\n",
       "      <td>0</td>\n",
       "      <td>0</td>\n",
       "      <td>0</td>\n",
       "      <td>1</td>\n",
       "      <td>0</td>\n",
       "      <td>0</td>\n",
       "      <td>0</td>\n",
       "      <td>0</td>\n",
       "      <td>0</td>\n",
       "    </tr>\n",
       "    <tr>\n",
       "      <th>4</th>\n",
       "      <td>536365</td>\n",
       "      <td>84029E</td>\n",
       "      <td>RED WOOLLY HOTTIE WHITE HEART.</td>\n",
       "      <td>6</td>\n",
       "      <td>2010-12-01 08:26:00</td>\n",
       "      <td>3.39</td>\n",
       "      <td>17850</td>\n",
       "      <td>United Kingdom</td>\n",
       "      <td>20.34</td>\n",
       "      <td>2010-12-01</td>\n",
       "      <td>...</td>\n",
       "      <td>8</td>\n",
       "      <td>0</td>\n",
       "      <td>0</td>\n",
       "      <td>0</td>\n",
       "      <td>1</td>\n",
       "      <td>0</td>\n",
       "      <td>0</td>\n",
       "      <td>0</td>\n",
       "      <td>0</td>\n",
       "      <td>0</td>\n",
       "    </tr>\n",
       "  </tbody>\n",
       "</table>\n",
       "<p>5 rows × 28 columns</p>\n",
       "</div>"
      ],
      "text/plain": [
       "  invoice_no stock_code                          description  quantity  \\\n",
       "0     536365     85123A   WHITE HANGING HEART T-LIGHT HOLDER         6   \n",
       "1     536365      71053                  WHITE METAL LANTERN         6   \n",
       "2     536365     84406B       CREAM CUPID HEARTS COAT HANGER         8   \n",
       "3     536365     84029G  KNITTED UNION FLAG HOT WATER BOTTLE         6   \n",
       "4     536365     84029E       RED WOOLLY HOTTIE WHITE HEART.         6   \n",
       "\n",
       "         invoice_date  unit_price customer_id         country  total_price  \\\n",
       "0 2010-12-01 08:26:00        2.55       17850  United Kingdom        15.30   \n",
       "1 2010-12-01 08:26:00        3.39       17850  United Kingdom        20.34   \n",
       "2 2010-12-01 08:26:00        2.75       17850  United Kingdom        22.00   \n",
       "3 2010-12-01 08:26:00        3.39       17850  United Kingdom        20.34   \n",
       "4 2010-12-01 08:26:00        3.39       17850  United Kingdom        20.34   \n",
       "\n",
       "  invoice_date_day  ... invoice_hour  quantity_outliers  unit_price_outliers  \\\n",
       "0       2010-12-01  ...            8                  0                    0   \n",
       "1       2010-12-01  ...            8                  0                    0   \n",
       "2       2010-12-01  ...            8                  0                    0   \n",
       "3       2010-12-01  ...            8                  0                    0   \n",
       "4       2010-12-01  ...            8                  0                    0   \n",
       "\n",
       "  total_price_outliers  invoice_year_outliers invoice_month_outliers  \\\n",
       "0                    0                      1                      0   \n",
       "1                    0                      1                      0   \n",
       "2                    0                      1                      0   \n",
       "3                    0                      1                      0   \n",
       "4                    0                      1                      0   \n",
       "\n",
       "   invoice_day_outliers  invoice_day_of_week_outliers  \\\n",
       "0                     0                             0   \n",
       "1                     0                             0   \n",
       "2                     0                             0   \n",
       "3                     0                             0   \n",
       "4                     0                             0   \n",
       "\n",
       "   invoice_week_of_year_outliers  invoice_hour_outliers  \n",
       "0                              0                      0  \n",
       "1                              0                      0  \n",
       "2                              0                      0  \n",
       "3                              0                      0  \n",
       "4                              0                      0  \n",
       "\n",
       "[5 rows x 28 columns]"
      ]
     },
     "execution_count": 6,
     "metadata": {},
     "output_type": "execute_result"
    }
   ],
   "source": [
    "df.head()"
   ]
  },
  {
   "cell_type": "markdown",
   "id": "7d4e5666-9fe3-4580-af73-52565361bc20",
   "metadata": {},
   "source": [
    "  "
   ]
  },
  {
   "cell_type": "markdown",
   "id": "214a7d19-fb42-4e5b-9f80-affe791bddc6",
   "metadata": {},
   "source": [
    "  "
   ]
  },
  {
   "cell_type": "markdown",
   "id": "93c6ac55-5370-4bc7-9855-0e72980d1d50",
   "metadata": {},
   "source": [
    "  "
   ]
  },
  {
   "cell_type": "code",
   "execution_count": 7,
   "id": "d6f2137c-6e0c-44af-85d9-41d153724aaa",
   "metadata": {},
   "outputs": [
    {
     "data": {
      "text/html": [
       "<div>\n",
       "<style scoped>\n",
       "    .dataframe tbody tr th:only-of-type {\n",
       "        vertical-align: middle;\n",
       "    }\n",
       "\n",
       "    .dataframe tbody tr th {\n",
       "        vertical-align: top;\n",
       "    }\n",
       "\n",
       "    .dataframe thead th {\n",
       "        text-align: right;\n",
       "    }\n",
       "</style>\n",
       "<table border=\"1\" class=\"dataframe\">\n",
       "  <thead>\n",
       "    <tr style=\"text-align: right;\">\n",
       "      <th></th>\n",
       "      <th>invoice_date</th>\n",
       "      <th>invoice_no</th>\n",
       "      <th>total_price</th>\n",
       "    </tr>\n",
       "    <tr>\n",
       "      <th>customer_id</th>\n",
       "      <th></th>\n",
       "      <th></th>\n",
       "      <th></th>\n",
       "    </tr>\n",
       "  </thead>\n",
       "  <tbody>\n",
       "    <tr>\n",
       "      <th>0</th>\n",
       "      <td>0</td>\n",
       "      <td>129855</td>\n",
       "      <td>1473225.50</td>\n",
       "    </tr>\n",
       "    <tr>\n",
       "      <th>12347</th>\n",
       "      <td>1</td>\n",
       "      <td>182</td>\n",
       "      <td>4310.00</td>\n",
       "    </tr>\n",
       "    <tr>\n",
       "      <th>12348</th>\n",
       "      <td>74</td>\n",
       "      <td>31</td>\n",
       "      <td>1797.24</td>\n",
       "    </tr>\n",
       "  </tbody>\n",
       "</table>\n",
       "</div>"
      ],
      "text/plain": [
       "             invoice_date  invoice_no  total_price\n",
       "customer_id                                       \n",
       "0                       0      129855   1473225.50\n",
       "12347                   1         182      4310.00\n",
       "12348                  74          31      1797.24"
      ]
     },
     "execution_count": 7,
     "metadata": {},
     "output_type": "execute_result"
    }
   ],
   "source": [
    "# aggregated and grouped by dataframe\n",
    "new_df\n",
    "\n",
    "new_df.head(3)"
   ]
  },
  {
   "cell_type": "markdown",
   "id": "a85cb14a-3b48-44ac-9301-f52caf6c10d2",
   "metadata": {},
   "source": [
    "  "
   ]
  },
  {
   "cell_type": "markdown",
   "id": "b11d285f-401a-4687-a74a-34280ce35284",
   "metadata": {},
   "source": [
    "  "
   ]
  },
  {
   "cell_type": "markdown",
   "id": "377eaab6-eef9-44f1-b1e9-5838aa1055f3",
   "metadata": {},
   "source": [
    "  "
   ]
  },
  {
   "cell_type": "code",
   "execution_count": null,
   "id": "a6b97584-beb8-49fc-89f5-9ce6431ad934",
   "metadata": {},
   "outputs": [],
   "source": [
    "train.columns.to_list()"
   ]
  },
  {
   "cell_type": "code",
   "execution_count": 8,
   "id": "10c184f6-cae5-4cf8-9c67-5798b986d450",
   "metadata": {},
   "outputs": [
    {
     "name": "stdout",
     "output_type": "stream",
     "text": [
      "<class 'pandas.core.frame.DataFrame'>\n",
      "Index: 365551 entries, 426075 to 126882\n",
      "Data columns (total 28 columns):\n",
      " #   Column                         Non-Null Count   Dtype         \n",
      "---  ------                         --------------   -----         \n",
      " 0   invoice_no                     365551 non-null  object        \n",
      " 1   stock_code                     365551 non-null  object        \n",
      " 2   description                    365551 non-null  object        \n",
      " 3   quantity                       365551 non-null  int64         \n",
      " 4   invoice_date                   365551 non-null  datetime64[ns]\n",
      " 5   unit_price                     365551 non-null  float64       \n",
      " 6   customer_id                    365551 non-null  object        \n",
      " 7   country                        365551 non-null  object        \n",
      " 8   total_price                    365551 non-null  float64       \n",
      " 9   invoice_date_day               365551 non-null  object        \n",
      " 10  invoice_date_time              365551 non-null  object        \n",
      " 11  invoice_year                   365551 non-null  int32         \n",
      " 12  invoice_month                  365551 non-null  int32         \n",
      " 13  invoice_month_name             365551 non-null  object        \n",
      " 14  invoice_day                    365551 non-null  int32         \n",
      " 15  invoice_day_name               365551 non-null  object        \n",
      " 16  invoice_day_of_week            365551 non-null  int32         \n",
      " 17  invoice_week_of_year           365551 non-null  UInt32        \n",
      " 18  invoice_hour                   365551 non-null  int32         \n",
      " 19  quantity_outliers              365551 non-null  int64         \n",
      " 20  unit_price_outliers            365551 non-null  int64         \n",
      " 21  total_price_outliers           365551 non-null  int64         \n",
      " 22  invoice_year_outliers          365551 non-null  int64         \n",
      " 23  invoice_month_outliers         365551 non-null  int64         \n",
      " 24  invoice_day_outliers           365551 non-null  int64         \n",
      " 25  invoice_day_of_week_outliers   365551 non-null  int64         \n",
      " 26  invoice_week_of_year_outliers  365551 non-null  int64         \n",
      " 27  invoice_hour_outliers          365551 non-null  int64         \n",
      "dtypes: UInt32(1), datetime64[ns](1), float64(2), int32(5), int64(10), object(9)\n",
      "memory usage: 72.9+ MB\n"
     ]
    }
   ],
   "source": [
    "train.info()"
   ]
  },
  {
   "cell_type": "code",
   "execution_count": 57,
   "id": "dbfcb4c9-db2f-46c7-87bb-017540636725",
   "metadata": {},
   "outputs": [
    {
     "data": {
      "text/plain": [
       "invoice_month_name\n",
       "November     57630\n",
       "December     46070\n",
       "October      40975\n",
       "September    34073\n",
       "July         26583\n",
       "May          24914\n",
       "June         24760\n",
       "March        24673\n",
       "August       23797\n",
       "January      23520\n",
       "April        19989\n",
       "February     18567\n",
       "Name: count, dtype: int64"
      ]
     },
     "execution_count": 57,
     "metadata": {},
     "output_type": "execute_result"
    }
   ],
   "source": [
    "train.invoice_month_name.value_counts()"
   ]
  },
  {
   "cell_type": "code",
   "execution_count": 28,
   "id": "39db9408-b837-4d5f-8f66-89a6e8f68e9c",
   "metadata": {},
   "outputs": [],
   "source": [
    "month_counts = train.invoice_month_name.value_counts()"
   ]
  },
  {
   "cell_type": "code",
   "execution_count": null,
   "id": "eb9fc416-f488-48a0-8c80-d76250fbadf0",
   "metadata": {},
   "outputs": [],
   "source": [
    "month_order = [\"January\", \"February\", \"March\", \"April\", \"May\", \"June\", \n",
    "               \"July\", \"August\", \"September\", \"October\", \"November\", \"December\"]\n",
    "\n",
    "plt.bar(x=month_counts.sort_index().index, height=month_counts.sort_index().values, order=month_order)\n",
    "plt.xticks(rotation=30)\n",
    "plt.show()"
   ]
  },
  {
   "cell_type": "code",
   "execution_count": 26,
   "id": "70df29bb-2d03-4668-a9fa-d7502915654d",
   "metadata": {},
   "outputs": [
    {
     "data": {
      "text/plain": [
       "invoice_day_name\n",
       "Thursday     69560\n",
       "Tuesday      68743\n",
       "Monday       64027\n",
       "Wednesday    63680\n",
       "Friday       55220\n",
       "Sunday       44321\n",
       "Name: count, dtype: int64"
      ]
     },
     "execution_count": 26,
     "metadata": {},
     "output_type": "execute_result"
    }
   ],
   "source": [
    "train.invoice_day_name.value_counts()"
   ]
  },
  {
   "cell_type": "code",
   "execution_count": 24,
   "id": "55e745c1-99d8-413a-8fec-16632cd34123",
   "metadata": {},
   "outputs": [
    {
     "data": {
      "text/plain": [
       "426075     October\n",
       "278193        July\n",
       "531339    December\n",
       "288076      August\n",
       "531421    December\n",
       "            ...   \n",
       "270148        July\n",
       "380658     October\n",
       "137343       March\n",
       "153119       April\n",
       "126882       March\n",
       "Name: invoice_month_name, Length: 365551, dtype: object"
      ]
     },
     "execution_count": 24,
     "metadata": {},
     "output_type": "execute_result"
    }
   ],
   "source": [
    "train.invoice_month_name"
   ]
  },
  {
   "cell_type": "code",
   "execution_count": 9,
   "id": "d39f2fc5-765c-4deb-8060-fa3629b29503",
   "metadata": {},
   "outputs": [
    {
     "data": {
      "text/html": [
       "<div>\n",
       "<style scoped>\n",
       "    .dataframe tbody tr th:only-of-type {\n",
       "        vertical-align: middle;\n",
       "    }\n",
       "\n",
       "    .dataframe tbody tr th {\n",
       "        vertical-align: top;\n",
       "    }\n",
       "\n",
       "    .dataframe thead th {\n",
       "        text-align: right;\n",
       "    }\n",
       "</style>\n",
       "<table border=\"1\" class=\"dataframe\">\n",
       "  <thead>\n",
       "    <tr style=\"text-align: right;\">\n",
       "      <th></th>\n",
       "      <th>invoice_no</th>\n",
       "      <th>stock_code</th>\n",
       "      <th>description</th>\n",
       "      <th>quantity</th>\n",
       "      <th>invoice_date</th>\n",
       "      <th>unit_price</th>\n",
       "      <th>customer_id</th>\n",
       "      <th>country</th>\n",
       "      <th>total_price</th>\n",
       "      <th>invoice_date_day</th>\n",
       "      <th>...</th>\n",
       "      <th>invoice_hour</th>\n",
       "      <th>quantity_outliers</th>\n",
       "      <th>unit_price_outliers</th>\n",
       "      <th>total_price_outliers</th>\n",
       "      <th>invoice_year_outliers</th>\n",
       "      <th>invoice_month_outliers</th>\n",
       "      <th>invoice_day_outliers</th>\n",
       "      <th>invoice_day_of_week_outliers</th>\n",
       "      <th>invoice_week_of_year_outliers</th>\n",
       "      <th>invoice_hour_outliers</th>\n",
       "    </tr>\n",
       "  </thead>\n",
       "  <tbody>\n",
       "    <tr>\n",
       "      <th>426075</th>\n",
       "      <td>573343</td>\n",
       "      <td>22086</td>\n",
       "      <td>PAPER CHAIN KIT 50'S CHRISTMAS</td>\n",
       "      <td>3</td>\n",
       "      <td>2011-10-30 11:59:00</td>\n",
       "      <td>2.95</td>\n",
       "      <td>13566</td>\n",
       "      <td>United Kingdom</td>\n",
       "      <td>8.85</td>\n",
       "      <td>2011-10-30</td>\n",
       "      <td>...</td>\n",
       "      <td>11</td>\n",
       "      <td>0</td>\n",
       "      <td>0</td>\n",
       "      <td>0</td>\n",
       "      <td>0</td>\n",
       "      <td>0</td>\n",
       "      <td>0</td>\n",
       "      <td>0</td>\n",
       "      <td>0</td>\n",
       "      <td>0</td>\n",
       "    </tr>\n",
       "    <tr>\n",
       "      <th>278193</th>\n",
       "      <td>561209</td>\n",
       "      <td>22297</td>\n",
       "      <td>HEART IVORY TRELLIS SMALL</td>\n",
       "      <td>1</td>\n",
       "      <td>2011-07-25 16:57:00</td>\n",
       "      <td>2.46</td>\n",
       "      <td>0</td>\n",
       "      <td>United Kingdom</td>\n",
       "      <td>2.46</td>\n",
       "      <td>2011-07-25</td>\n",
       "      <td>...</td>\n",
       "      <td>16</td>\n",
       "      <td>0</td>\n",
       "      <td>0</td>\n",
       "      <td>0</td>\n",
       "      <td>0</td>\n",
       "      <td>0</td>\n",
       "      <td>0</td>\n",
       "      <td>0</td>\n",
       "      <td>0</td>\n",
       "      <td>0</td>\n",
       "    </tr>\n",
       "    <tr>\n",
       "      <th>531339</th>\n",
       "      <td>580915</td>\n",
       "      <td>23208</td>\n",
       "      <td>LUNCH BAG VINTAGE LEAF DESIGN</td>\n",
       "      <td>10</td>\n",
       "      <td>2011-12-06 13:45:00</td>\n",
       "      <td>1.65</td>\n",
       "      <td>17705</td>\n",
       "      <td>United Kingdom</td>\n",
       "      <td>16.50</td>\n",
       "      <td>2011-12-06</td>\n",
       "      <td>...</td>\n",
       "      <td>13</td>\n",
       "      <td>0</td>\n",
       "      <td>0</td>\n",
       "      <td>0</td>\n",
       "      <td>0</td>\n",
       "      <td>0</td>\n",
       "      <td>0</td>\n",
       "      <td>0</td>\n",
       "      <td>0</td>\n",
       "      <td>0</td>\n",
       "    </tr>\n",
       "    <tr>\n",
       "      <th>288076</th>\n",
       "      <td>562129</td>\n",
       "      <td>21216</td>\n",
       "      <td>SET 3 RETROSPOT TEA,COFFEE,SUGAR</td>\n",
       "      <td>4</td>\n",
       "      <td>2011-08-03 09:09:00</td>\n",
       "      <td>4.95</td>\n",
       "      <td>13186</td>\n",
       "      <td>United Kingdom</td>\n",
       "      <td>19.80</td>\n",
       "      <td>2011-08-03</td>\n",
       "      <td>...</td>\n",
       "      <td>9</td>\n",
       "      <td>0</td>\n",
       "      <td>0</td>\n",
       "      <td>0</td>\n",
       "      <td>0</td>\n",
       "      <td>0</td>\n",
       "      <td>0</td>\n",
       "      <td>0</td>\n",
       "      <td>0</td>\n",
       "      <td>0</td>\n",
       "    </tr>\n",
       "    <tr>\n",
       "      <th>531421</th>\n",
       "      <td>580955</td>\n",
       "      <td>23597</td>\n",
       "      <td>PAPER BUNTING PAISLEY PARK</td>\n",
       "      <td>6</td>\n",
       "      <td>2011-12-06 14:22:00</td>\n",
       "      <td>2.95</td>\n",
       "      <td>12442</td>\n",
       "      <td>Spain</td>\n",
       "      <td>17.70</td>\n",
       "      <td>2011-12-06</td>\n",
       "      <td>...</td>\n",
       "      <td>14</td>\n",
       "      <td>0</td>\n",
       "      <td>0</td>\n",
       "      <td>0</td>\n",
       "      <td>0</td>\n",
       "      <td>0</td>\n",
       "      <td>0</td>\n",
       "      <td>0</td>\n",
       "      <td>0</td>\n",
       "      <td>0</td>\n",
       "    </tr>\n",
       "  </tbody>\n",
       "</table>\n",
       "<p>5 rows × 28 columns</p>\n",
       "</div>"
      ],
      "text/plain": [
       "       invoice_no stock_code                       description  quantity  \\\n",
       "426075     573343      22086   PAPER CHAIN KIT 50'S CHRISTMAS          3   \n",
       "278193     561209      22297         HEART IVORY TRELLIS SMALL         1   \n",
       "531339     580915      23208     LUNCH BAG VINTAGE LEAF DESIGN        10   \n",
       "288076     562129      21216  SET 3 RETROSPOT TEA,COFFEE,SUGAR         4   \n",
       "531421     580955      23597        PAPER BUNTING PAISLEY PARK         6   \n",
       "\n",
       "              invoice_date  unit_price customer_id         country  \\\n",
       "426075 2011-10-30 11:59:00        2.95       13566  United Kingdom   \n",
       "278193 2011-07-25 16:57:00        2.46           0  United Kingdom   \n",
       "531339 2011-12-06 13:45:00        1.65       17705  United Kingdom   \n",
       "288076 2011-08-03 09:09:00        4.95       13186  United Kingdom   \n",
       "531421 2011-12-06 14:22:00        2.95       12442           Spain   \n",
       "\n",
       "        total_price invoice_date_day  ... invoice_hour  quantity_outliers  \\\n",
       "426075         8.85       2011-10-30  ...           11                  0   \n",
       "278193         2.46       2011-07-25  ...           16                  0   \n",
       "531339        16.50       2011-12-06  ...           13                  0   \n",
       "288076        19.80       2011-08-03  ...            9                  0   \n",
       "531421        17.70       2011-12-06  ...           14                  0   \n",
       "\n",
       "        unit_price_outliers total_price_outliers  invoice_year_outliers  \\\n",
       "426075                    0                    0                      0   \n",
       "278193                    0                    0                      0   \n",
       "531339                    0                    0                      0   \n",
       "288076                    0                    0                      0   \n",
       "531421                    0                    0                      0   \n",
       "\n",
       "       invoice_month_outliers  invoice_day_outliers  \\\n",
       "426075                      0                     0   \n",
       "278193                      0                     0   \n",
       "531339                      0                     0   \n",
       "288076                      0                     0   \n",
       "531421                      0                     0   \n",
       "\n",
       "        invoice_day_of_week_outliers  invoice_week_of_year_outliers  \\\n",
       "426075                             0                              0   \n",
       "278193                             0                              0   \n",
       "531339                             0                              0   \n",
       "288076                             0                              0   \n",
       "531421                             0                              0   \n",
       "\n",
       "        invoice_hour_outliers  \n",
       "426075                      0  \n",
       "278193                      0  \n",
       "531339                      0  \n",
       "288076                      0  \n",
       "531421                      0  \n",
       "\n",
       "[5 rows x 28 columns]"
      ]
     },
     "execution_count": 9,
     "metadata": {},
     "output_type": "execute_result"
    }
   ],
   "source": [
    "train.head()"
   ]
  },
  {
   "cell_type": "code",
   "execution_count": 10,
   "id": "898423fc-6787-42a6-a250-2722e4d50899",
   "metadata": {},
   "outputs": [
    {
     "data": {
      "text/html": [
       "<div>\n",
       "<style scoped>\n",
       "    .dataframe tbody tr th:only-of-type {\n",
       "        vertical-align: middle;\n",
       "    }\n",
       "\n",
       "    .dataframe tbody tr th {\n",
       "        vertical-align: top;\n",
       "    }\n",
       "\n",
       "    .dataframe thead th {\n",
       "        text-align: right;\n",
       "    }\n",
       "</style>\n",
       "<table border=\"1\" class=\"dataframe\">\n",
       "  <thead>\n",
       "    <tr style=\"text-align: right;\">\n",
       "      <th></th>\n",
       "      <th>count</th>\n",
       "      <th>mean</th>\n",
       "      <th>min</th>\n",
       "      <th>25%</th>\n",
       "      <th>50%</th>\n",
       "      <th>75%</th>\n",
       "      <th>max</th>\n",
       "      <th>std</th>\n",
       "    </tr>\n",
       "  </thead>\n",
       "  <tbody>\n",
       "    <tr>\n",
       "      <th>quantity</th>\n",
       "      <td>365551.0</td>\n",
       "      <td>10.222355</td>\n",
       "      <td>1.0</td>\n",
       "      <td>1.0</td>\n",
       "      <td>3.0</td>\n",
       "      <td>11.0</td>\n",
       "      <td>12540.0</td>\n",
       "      <td>41.842003</td>\n",
       "    </tr>\n",
       "    <tr>\n",
       "      <th>invoice_date</th>\n",
       "      <td>365551</td>\n",
       "      <td>2011-07-05 00:12:14.365163520</td>\n",
       "      <td>2010-12-01 08:26:00</td>\n",
       "      <td>2011-03-28 12:35:00</td>\n",
       "      <td>2011-07-20 16:12:00</td>\n",
       "      <td>2011-10-19 13:58:00</td>\n",
       "      <td>2011-12-09 12:50:00</td>\n",
       "      <td>NaN</td>\n",
       "    </tr>\n",
       "    <tr>\n",
       "      <th>unit_price</th>\n",
       "      <td>365551.0</td>\n",
       "      <td>3.274478</td>\n",
       "      <td>-11062.06</td>\n",
       "      <td>1.25</td>\n",
       "      <td>2.08</td>\n",
       "      <td>4.13</td>\n",
       "      <td>11062.06</td>\n",
       "      <td>33.167279</td>\n",
       "    </tr>\n",
       "    <tr>\n",
       "      <th>total_price</th>\n",
       "      <td>365551.0</td>\n",
       "      <td>18.652299</td>\n",
       "      <td>-11062.06</td>\n",
       "      <td>3.75</td>\n",
       "      <td>9.9</td>\n",
       "      <td>17.7</td>\n",
       "      <td>11062.06</td>\n",
       "      <td>68.149364</td>\n",
       "    </tr>\n",
       "    <tr>\n",
       "      <th>invoice_year</th>\n",
       "      <td>365551.0</td>\n",
       "      <td>2010.921398</td>\n",
       "      <td>2010.0</td>\n",
       "      <td>2011.0</td>\n",
       "      <td>2011.0</td>\n",
       "      <td>2011.0</td>\n",
       "      <td>2011.0</td>\n",
       "      <td>0.269117</td>\n",
       "    </tr>\n",
       "    <tr>\n",
       "      <th>invoice_month</th>\n",
       "      <td>365551.0</td>\n",
       "      <td>7.57047</td>\n",
       "      <td>1.0</td>\n",
       "      <td>5.0</td>\n",
       "      <td>8.0</td>\n",
       "      <td>11.0</td>\n",
       "      <td>12.0</td>\n",
       "      <td>3.506139</td>\n",
       "    </tr>\n",
       "    <tr>\n",
       "      <th>invoice_day</th>\n",
       "      <td>365551.0</td>\n",
       "      <td>15.013653</td>\n",
       "      <td>1.0</td>\n",
       "      <td>7.0</td>\n",
       "      <td>15.0</td>\n",
       "      <td>22.0</td>\n",
       "      <td>31.0</td>\n",
       "      <td>8.659922</td>\n",
       "    </tr>\n",
       "    <tr>\n",
       "      <th>invoice_day_of_week</th>\n",
       "      <td>365551.0</td>\n",
       "      <td>2.439028</td>\n",
       "      <td>0.0</td>\n",
       "      <td>1.0</td>\n",
       "      <td>2.0</td>\n",
       "      <td>4.0</td>\n",
       "      <td>6.0</td>\n",
       "      <td>1.852124</td>\n",
       "    </tr>\n",
       "    <tr>\n",
       "      <th>invoice_week_of_year</th>\n",
       "      <td>365551.0</td>\n",
       "      <td>30.802101</td>\n",
       "      <td>1.0</td>\n",
       "      <td>18.0</td>\n",
       "      <td>34.0</td>\n",
       "      <td>45.0</td>\n",
       "      <td>51.0</td>\n",
       "      <td>15.135593</td>\n",
       "    </tr>\n",
       "    <tr>\n",
       "      <th>invoice_hour</th>\n",
       "      <td>365551.0</td>\n",
       "      <td>13.079942</td>\n",
       "      <td>7.0</td>\n",
       "      <td>11.0</td>\n",
       "      <td>13.0</td>\n",
       "      <td>15.0</td>\n",
       "      <td>20.0</td>\n",
       "      <td>2.4373</td>\n",
       "    </tr>\n",
       "    <tr>\n",
       "      <th>quantity_outliers</th>\n",
       "      <td>365551.0</td>\n",
       "      <td>0.106396</td>\n",
       "      <td>0.0</td>\n",
       "      <td>0.0</td>\n",
       "      <td>0.0</td>\n",
       "      <td>0.0</td>\n",
       "      <td>1.0</td>\n",
       "      <td>0.308344</td>\n",
       "    </tr>\n",
       "    <tr>\n",
       "      <th>unit_price_outliers</th>\n",
       "      <td>365551.0</td>\n",
       "      <td>0.068294</td>\n",
       "      <td>0.0</td>\n",
       "      <td>0.0</td>\n",
       "      <td>0.0</td>\n",
       "      <td>0.0</td>\n",
       "      <td>1.0</td>\n",
       "      <td>0.25225</td>\n",
       "    </tr>\n",
       "    <tr>\n",
       "      <th>total_price_outliers</th>\n",
       "      <td>365551.0</td>\n",
       "      <td>0.078979</td>\n",
       "      <td>0.0</td>\n",
       "      <td>0.0</td>\n",
       "      <td>0.0</td>\n",
       "      <td>0.0</td>\n",
       "      <td>1.0</td>\n",
       "      <td>0.269707</td>\n",
       "    </tr>\n",
       "    <tr>\n",
       "      <th>invoice_year_outliers</th>\n",
       "      <td>365551.0</td>\n",
       "      <td>0.078602</td>\n",
       "      <td>0.0</td>\n",
       "      <td>0.0</td>\n",
       "      <td>0.0</td>\n",
       "      <td>0.0</td>\n",
       "      <td>1.0</td>\n",
       "      <td>0.269117</td>\n",
       "    </tr>\n",
       "    <tr>\n",
       "      <th>invoice_month_outliers</th>\n",
       "      <td>365551.0</td>\n",
       "      <td>0.0</td>\n",
       "      <td>0.0</td>\n",
       "      <td>0.0</td>\n",
       "      <td>0.0</td>\n",
       "      <td>0.0</td>\n",
       "      <td>0.0</td>\n",
       "      <td>0.0</td>\n",
       "    </tr>\n",
       "    <tr>\n",
       "      <th>invoice_day_outliers</th>\n",
       "      <td>365551.0</td>\n",
       "      <td>0.0</td>\n",
       "      <td>0.0</td>\n",
       "      <td>0.0</td>\n",
       "      <td>0.0</td>\n",
       "      <td>0.0</td>\n",
       "      <td>0.0</td>\n",
       "      <td>0.0</td>\n",
       "    </tr>\n",
       "    <tr>\n",
       "      <th>invoice_day_of_week_outliers</th>\n",
       "      <td>365551.0</td>\n",
       "      <td>0.0</td>\n",
       "      <td>0.0</td>\n",
       "      <td>0.0</td>\n",
       "      <td>0.0</td>\n",
       "      <td>0.0</td>\n",
       "      <td>0.0</td>\n",
       "      <td>0.0</td>\n",
       "    </tr>\n",
       "    <tr>\n",
       "      <th>invoice_week_of_year_outliers</th>\n",
       "      <td>365551.0</td>\n",
       "      <td>0.0</td>\n",
       "      <td>0.0</td>\n",
       "      <td>0.0</td>\n",
       "      <td>0.0</td>\n",
       "      <td>0.0</td>\n",
       "      <td>0.0</td>\n",
       "      <td>0.0</td>\n",
       "    </tr>\n",
       "    <tr>\n",
       "      <th>invoice_hour_outliers</th>\n",
       "      <td>365551.0</td>\n",
       "      <td>0.0</td>\n",
       "      <td>0.0</td>\n",
       "      <td>0.0</td>\n",
       "      <td>0.0</td>\n",
       "      <td>0.0</td>\n",
       "      <td>0.0</td>\n",
       "      <td>0.0</td>\n",
       "    </tr>\n",
       "  </tbody>\n",
       "</table>\n",
       "</div>"
      ],
      "text/plain": [
       "                                  count                           mean  \\\n",
       "quantity                       365551.0                      10.222355   \n",
       "invoice_date                     365551  2011-07-05 00:12:14.365163520   \n",
       "unit_price                     365551.0                       3.274478   \n",
       "total_price                    365551.0                      18.652299   \n",
       "invoice_year                   365551.0                    2010.921398   \n",
       "invoice_month                  365551.0                        7.57047   \n",
       "invoice_day                    365551.0                      15.013653   \n",
       "invoice_day_of_week            365551.0                       2.439028   \n",
       "invoice_week_of_year           365551.0                      30.802101   \n",
       "invoice_hour                   365551.0                      13.079942   \n",
       "quantity_outliers              365551.0                       0.106396   \n",
       "unit_price_outliers            365551.0                       0.068294   \n",
       "total_price_outliers           365551.0                       0.078979   \n",
       "invoice_year_outliers          365551.0                       0.078602   \n",
       "invoice_month_outliers         365551.0                            0.0   \n",
       "invoice_day_outliers           365551.0                            0.0   \n",
       "invoice_day_of_week_outliers   365551.0                            0.0   \n",
       "invoice_week_of_year_outliers  365551.0                            0.0   \n",
       "invoice_hour_outliers          365551.0                            0.0   \n",
       "\n",
       "                                               min                  25%  \\\n",
       "quantity                                       1.0                  1.0   \n",
       "invoice_date                   2010-12-01 08:26:00  2011-03-28 12:35:00   \n",
       "unit_price                               -11062.06                 1.25   \n",
       "total_price                              -11062.06                 3.75   \n",
       "invoice_year                                2010.0               2011.0   \n",
       "invoice_month                                  1.0                  5.0   \n",
       "invoice_day                                    1.0                  7.0   \n",
       "invoice_day_of_week                            0.0                  1.0   \n",
       "invoice_week_of_year                           1.0                 18.0   \n",
       "invoice_hour                                   7.0                 11.0   \n",
       "quantity_outliers                              0.0                  0.0   \n",
       "unit_price_outliers                            0.0                  0.0   \n",
       "total_price_outliers                           0.0                  0.0   \n",
       "invoice_year_outliers                          0.0                  0.0   \n",
       "invoice_month_outliers                         0.0                  0.0   \n",
       "invoice_day_outliers                           0.0                  0.0   \n",
       "invoice_day_of_week_outliers                   0.0                  0.0   \n",
       "invoice_week_of_year_outliers                  0.0                  0.0   \n",
       "invoice_hour_outliers                          0.0                  0.0   \n",
       "\n",
       "                                               50%                  75%  \\\n",
       "quantity                                       3.0                 11.0   \n",
       "invoice_date                   2011-07-20 16:12:00  2011-10-19 13:58:00   \n",
       "unit_price                                    2.08                 4.13   \n",
       "total_price                                    9.9                 17.7   \n",
       "invoice_year                                2011.0               2011.0   \n",
       "invoice_month                                  8.0                 11.0   \n",
       "invoice_day                                   15.0                 22.0   \n",
       "invoice_day_of_week                            2.0                  4.0   \n",
       "invoice_week_of_year                          34.0                 45.0   \n",
       "invoice_hour                                  13.0                 15.0   \n",
       "quantity_outliers                              0.0                  0.0   \n",
       "unit_price_outliers                            0.0                  0.0   \n",
       "total_price_outliers                           0.0                  0.0   \n",
       "invoice_year_outliers                          0.0                  0.0   \n",
       "invoice_month_outliers                         0.0                  0.0   \n",
       "invoice_day_outliers                           0.0                  0.0   \n",
       "invoice_day_of_week_outliers                   0.0                  0.0   \n",
       "invoice_week_of_year_outliers                  0.0                  0.0   \n",
       "invoice_hour_outliers                          0.0                  0.0   \n",
       "\n",
       "                                               max        std  \n",
       "quantity                                   12540.0  41.842003  \n",
       "invoice_date                   2011-12-09 12:50:00        NaN  \n",
       "unit_price                                11062.06  33.167279  \n",
       "total_price                               11062.06  68.149364  \n",
       "invoice_year                                2011.0   0.269117  \n",
       "invoice_month                                 12.0   3.506139  \n",
       "invoice_day                                   31.0   8.659922  \n",
       "invoice_day_of_week                            6.0   1.852124  \n",
       "invoice_week_of_year                          51.0  15.135593  \n",
       "invoice_hour                                  20.0     2.4373  \n",
       "quantity_outliers                              1.0   0.308344  \n",
       "unit_price_outliers                            1.0    0.25225  \n",
       "total_price_outliers                           1.0   0.269707  \n",
       "invoice_year_outliers                          1.0   0.269117  \n",
       "invoice_month_outliers                         0.0        0.0  \n",
       "invoice_day_outliers                           0.0        0.0  \n",
       "invoice_day_of_week_outliers                   0.0        0.0  \n",
       "invoice_week_of_year_outliers                  0.0        0.0  \n",
       "invoice_hour_outliers                          0.0        0.0  "
      ]
     },
     "execution_count": 10,
     "metadata": {},
     "output_type": "execute_result"
    }
   ],
   "source": [
    "train.describe().T"
   ]
  },
  {
   "cell_type": "code",
   "execution_count": 11,
   "id": "c918d653-7ea6-4197-b56b-18942b7e939b",
   "metadata": {},
   "outputs": [
    {
     "data": {
      "text/html": [
       "<div>\n",
       "<style scoped>\n",
       "    .dataframe tbody tr th:only-of-type {\n",
       "        vertical-align: middle;\n",
       "    }\n",
       "\n",
       "    .dataframe tbody tr th {\n",
       "        vertical-align: top;\n",
       "    }\n",
       "\n",
       "    .dataframe thead th {\n",
       "        text-align: right;\n",
       "    }\n",
       "</style>\n",
       "<table border=\"1\" class=\"dataframe\">\n",
       "  <thead>\n",
       "    <tr style=\"text-align: right;\">\n",
       "      <th></th>\n",
       "      <th>quantity</th>\n",
       "      <th>unit_price</th>\n",
       "      <th>total_price</th>\n",
       "    </tr>\n",
       "  </thead>\n",
       "  <tbody>\n",
       "    <tr>\n",
       "      <th>426075</th>\n",
       "      <td>3</td>\n",
       "      <td>2.95</td>\n",
       "      <td>8.85</td>\n",
       "    </tr>\n",
       "    <tr>\n",
       "      <th>278193</th>\n",
       "      <td>1</td>\n",
       "      <td>2.46</td>\n",
       "      <td>2.46</td>\n",
       "    </tr>\n",
       "    <tr>\n",
       "      <th>531339</th>\n",
       "      <td>10</td>\n",
       "      <td>1.65</td>\n",
       "      <td>16.50</td>\n",
       "    </tr>\n",
       "    <tr>\n",
       "      <th>288076</th>\n",
       "      <td>4</td>\n",
       "      <td>4.95</td>\n",
       "      <td>19.80</td>\n",
       "    </tr>\n",
       "    <tr>\n",
       "      <th>531421</th>\n",
       "      <td>6</td>\n",
       "      <td>2.95</td>\n",
       "      <td>17.70</td>\n",
       "    </tr>\n",
       "  </tbody>\n",
       "</table>\n",
       "</div>"
      ],
      "text/plain": [
       "        quantity  unit_price  total_price\n",
       "426075         3        2.95         8.85\n",
       "278193         1        2.46         2.46\n",
       "531339        10        1.65        16.50\n",
       "288076         4        4.95        19.80\n",
       "531421         6        2.95        17.70"
      ]
     },
     "execution_count": 11,
     "metadata": {},
     "output_type": "execute_result"
    }
   ],
   "source": [
    "train[['quantity', 'unit_price', 'total_price']].head()"
   ]
  },
  {
   "cell_type": "markdown",
   "id": "8dca984c-5f1c-4816-9de2-bdcc4976f0cc",
   "metadata": {},
   "source": [
    "  "
   ]
  },
  {
   "cell_type": "markdown",
   "id": "4ffa821a-ec7c-4c1a-9b59-7703cf7be0ff",
   "metadata": {},
   "source": [
    "  "
   ]
  },
  {
   "cell_type": "code",
   "execution_count": 12,
   "id": "3f65b36a-1735-421a-a62c-ead97ac0ad1b",
   "metadata": {},
   "outputs": [
    {
     "data": {
      "text/plain": [
       "((365551, 28), (78332, 28), (78333, 28))"
      ]
     },
     "execution_count": 12,
     "metadata": {},
     "output_type": "execute_result"
    }
   ],
   "source": [
    "train_scaled.shape, val_scaled.shape, test_scaled.shape"
   ]
  },
  {
   "cell_type": "code",
   "execution_count": 13,
   "id": "943b9d89-31d9-49ad-8656-a5e572c99405",
   "metadata": {},
   "outputs": [
    {
     "data": {
      "text/html": [
       "<div>\n",
       "<style scoped>\n",
       "    .dataframe tbody tr th:only-of-type {\n",
       "        vertical-align: middle;\n",
       "    }\n",
       "\n",
       "    .dataframe tbody tr th {\n",
       "        vertical-align: top;\n",
       "    }\n",
       "\n",
       "    .dataframe thead th {\n",
       "        text-align: right;\n",
       "    }\n",
       "</style>\n",
       "<table border=\"1\" class=\"dataframe\">\n",
       "  <thead>\n",
       "    <tr style=\"text-align: right;\">\n",
       "      <th></th>\n",
       "      <th>invoice_no</th>\n",
       "      <th>stock_code</th>\n",
       "      <th>description</th>\n",
       "      <th>quantity</th>\n",
       "      <th>invoice_date</th>\n",
       "      <th>unit_price</th>\n",
       "      <th>customer_id</th>\n",
       "      <th>country</th>\n",
       "      <th>total_price</th>\n",
       "      <th>invoice_date_day</th>\n",
       "      <th>...</th>\n",
       "      <th>invoice_hour</th>\n",
       "      <th>quantity_outliers</th>\n",
       "      <th>unit_price_outliers</th>\n",
       "      <th>total_price_outliers</th>\n",
       "      <th>invoice_year_outliers</th>\n",
       "      <th>invoice_month_outliers</th>\n",
       "      <th>invoice_day_outliers</th>\n",
       "      <th>invoice_day_of_week_outliers</th>\n",
       "      <th>invoice_week_of_year_outliers</th>\n",
       "      <th>invoice_hour_outliers</th>\n",
       "    </tr>\n",
       "  </thead>\n",
       "  <tbody>\n",
       "    <tr>\n",
       "      <th>426075</th>\n",
       "      <td>573343</td>\n",
       "      <td>22086</td>\n",
       "      <td>PAPER CHAIN KIT 50'S CHRISTMAS</td>\n",
       "      <td>0.000160</td>\n",
       "      <td>2011-10-30 11:59:00</td>\n",
       "      <td>0.500133</td>\n",
       "      <td>13566</td>\n",
       "      <td>United Kingdom</td>\n",
       "      <td>0.500400</td>\n",
       "      <td>2011-10-30</td>\n",
       "      <td>...</td>\n",
       "      <td>0.307692</td>\n",
       "      <td>0.0</td>\n",
       "      <td>0.0</td>\n",
       "      <td>0.0</td>\n",
       "      <td>0.0</td>\n",
       "      <td>0.0</td>\n",
       "      <td>0.0</td>\n",
       "      <td>0.0</td>\n",
       "      <td>0.0</td>\n",
       "      <td>0.0</td>\n",
       "    </tr>\n",
       "    <tr>\n",
       "      <th>278193</th>\n",
       "      <td>561209</td>\n",
       "      <td>22297</td>\n",
       "      <td>HEART IVORY TRELLIS SMALL</td>\n",
       "      <td>0.000000</td>\n",
       "      <td>2011-07-25 16:57:00</td>\n",
       "      <td>0.500111</td>\n",
       "      <td>0</td>\n",
       "      <td>United Kingdom</td>\n",
       "      <td>0.500111</td>\n",
       "      <td>2011-07-25</td>\n",
       "      <td>...</td>\n",
       "      <td>0.692308</td>\n",
       "      <td>0.0</td>\n",
       "      <td>0.0</td>\n",
       "      <td>0.0</td>\n",
       "      <td>0.0</td>\n",
       "      <td>0.0</td>\n",
       "      <td>0.0</td>\n",
       "      <td>0.0</td>\n",
       "      <td>0.0</td>\n",
       "      <td>0.0</td>\n",
       "    </tr>\n",
       "    <tr>\n",
       "      <th>531339</th>\n",
       "      <td>580915</td>\n",
       "      <td>23208</td>\n",
       "      <td>LUNCH BAG VINTAGE LEAF DESIGN</td>\n",
       "      <td>0.000718</td>\n",
       "      <td>2011-12-06 13:45:00</td>\n",
       "      <td>0.500075</td>\n",
       "      <td>17705</td>\n",
       "      <td>United Kingdom</td>\n",
       "      <td>0.500746</td>\n",
       "      <td>2011-12-06</td>\n",
       "      <td>...</td>\n",
       "      <td>0.461538</td>\n",
       "      <td>0.0</td>\n",
       "      <td>0.0</td>\n",
       "      <td>0.0</td>\n",
       "      <td>0.0</td>\n",
       "      <td>0.0</td>\n",
       "      <td>0.0</td>\n",
       "      <td>0.0</td>\n",
       "      <td>0.0</td>\n",
       "      <td>0.0</td>\n",
       "    </tr>\n",
       "  </tbody>\n",
       "</table>\n",
       "<p>3 rows × 28 columns</p>\n",
       "</div>"
      ],
      "text/plain": [
       "       invoice_no stock_code                      description  quantity  \\\n",
       "426075     573343      22086  PAPER CHAIN KIT 50'S CHRISTMAS   0.000160   \n",
       "278193     561209      22297        HEART IVORY TRELLIS SMALL  0.000000   \n",
       "531339     580915      23208    LUNCH BAG VINTAGE LEAF DESIGN  0.000718   \n",
       "\n",
       "              invoice_date  unit_price customer_id         country  \\\n",
       "426075 2011-10-30 11:59:00    0.500133       13566  United Kingdom   \n",
       "278193 2011-07-25 16:57:00    0.500111           0  United Kingdom   \n",
       "531339 2011-12-06 13:45:00    0.500075       17705  United Kingdom   \n",
       "\n",
       "        total_price invoice_date_day  ... invoice_hour  quantity_outliers  \\\n",
       "426075     0.500400       2011-10-30  ...     0.307692                0.0   \n",
       "278193     0.500111       2011-07-25  ...     0.692308                0.0   \n",
       "531339     0.500746       2011-12-06  ...     0.461538                0.0   \n",
       "\n",
       "        unit_price_outliers total_price_outliers  invoice_year_outliers  \\\n",
       "426075                  0.0                  0.0                    0.0   \n",
       "278193                  0.0                  0.0                    0.0   \n",
       "531339                  0.0                  0.0                    0.0   \n",
       "\n",
       "       invoice_month_outliers  invoice_day_outliers  \\\n",
       "426075                    0.0                   0.0   \n",
       "278193                    0.0                   0.0   \n",
       "531339                    0.0                   0.0   \n",
       "\n",
       "        invoice_day_of_week_outliers  invoice_week_of_year_outliers  \\\n",
       "426075                           0.0                            0.0   \n",
       "278193                           0.0                            0.0   \n",
       "531339                           0.0                            0.0   \n",
       "\n",
       "        invoice_hour_outliers  \n",
       "426075                    0.0  \n",
       "278193                    0.0  \n",
       "531339                    0.0  \n",
       "\n",
       "[3 rows x 28 columns]"
      ]
     },
     "execution_count": 13,
     "metadata": {},
     "output_type": "execute_result"
    }
   ],
   "source": [
    "train_scaled.head(3)"
   ]
  },
  {
   "cell_type": "code",
   "execution_count": 14,
   "id": "d2e6405f-49fd-45ae-a071-c24db4bea97a",
   "metadata": {},
   "outputs": [
    {
     "data": {
      "text/html": [
       "<div>\n",
       "<style scoped>\n",
       "    .dataframe tbody tr th:only-of-type {\n",
       "        vertical-align: middle;\n",
       "    }\n",
       "\n",
       "    .dataframe tbody tr th {\n",
       "        vertical-align: top;\n",
       "    }\n",
       "\n",
       "    .dataframe thead th {\n",
       "        text-align: right;\n",
       "    }\n",
       "</style>\n",
       "<table border=\"1\" class=\"dataframe\">\n",
       "  <thead>\n",
       "    <tr style=\"text-align: right;\">\n",
       "      <th></th>\n",
       "      <th>count</th>\n",
       "      <th>mean</th>\n",
       "      <th>min</th>\n",
       "      <th>25%</th>\n",
       "      <th>50%</th>\n",
       "      <th>75%</th>\n",
       "      <th>max</th>\n",
       "      <th>std</th>\n",
       "    </tr>\n",
       "  </thead>\n",
       "  <tbody>\n",
       "    <tr>\n",
       "      <th>quantity</th>\n",
       "      <td>365551.0</td>\n",
       "      <td>0.000735</td>\n",
       "      <td>0.0</td>\n",
       "      <td>0.0</td>\n",
       "      <td>0.00016</td>\n",
       "      <td>0.000798</td>\n",
       "      <td>1.0</td>\n",
       "      <td>0.003337</td>\n",
       "    </tr>\n",
       "    <tr>\n",
       "      <th>invoice_date</th>\n",
       "      <td>365551</td>\n",
       "      <td>2011-07-05 00:12:14.365163520</td>\n",
       "      <td>2010-12-01 08:26:00</td>\n",
       "      <td>2011-03-28 12:35:00</td>\n",
       "      <td>2011-07-20 16:12:00</td>\n",
       "      <td>2011-10-19 13:58:00</td>\n",
       "      <td>2011-12-09 12:50:00</td>\n",
       "      <td>NaN</td>\n",
       "    </tr>\n",
       "    <tr>\n",
       "      <th>unit_price</th>\n",
       "      <td>365551.0</td>\n",
       "      <td>0.500148</td>\n",
       "      <td>0.0</td>\n",
       "      <td>0.500056</td>\n",
       "      <td>0.500094</td>\n",
       "      <td>0.500187</td>\n",
       "      <td>1.0</td>\n",
       "      <td>0.001499</td>\n",
       "    </tr>\n",
       "    <tr>\n",
       "      <th>total_price</th>\n",
       "      <td>365551.0</td>\n",
       "      <td>0.500843</td>\n",
       "      <td>0.0</td>\n",
       "      <td>0.500169</td>\n",
       "      <td>0.500447</td>\n",
       "      <td>0.5008</td>\n",
       "      <td>1.0</td>\n",
       "      <td>0.00308</td>\n",
       "    </tr>\n",
       "    <tr>\n",
       "      <th>invoice_year</th>\n",
       "      <td>365551.0</td>\n",
       "      <td>0.921398</td>\n",
       "      <td>0.0</td>\n",
       "      <td>1.0</td>\n",
       "      <td>1.0</td>\n",
       "      <td>1.0</td>\n",
       "      <td>1.0</td>\n",
       "      <td>0.269117</td>\n",
       "    </tr>\n",
       "    <tr>\n",
       "      <th>invoice_month</th>\n",
       "      <td>365551.0</td>\n",
       "      <td>0.597315</td>\n",
       "      <td>0.0</td>\n",
       "      <td>0.363636</td>\n",
       "      <td>0.636364</td>\n",
       "      <td>0.909091</td>\n",
       "      <td>1.0</td>\n",
       "      <td>0.31874</td>\n",
       "    </tr>\n",
       "    <tr>\n",
       "      <th>invoice_day</th>\n",
       "      <td>365551.0</td>\n",
       "      <td>0.467122</td>\n",
       "      <td>0.0</td>\n",
       "      <td>0.2</td>\n",
       "      <td>0.466667</td>\n",
       "      <td>0.7</td>\n",
       "      <td>1.0</td>\n",
       "      <td>0.288664</td>\n",
       "    </tr>\n",
       "    <tr>\n",
       "      <th>invoice_day_of_week</th>\n",
       "      <td>365551.0</td>\n",
       "      <td>0.406505</td>\n",
       "      <td>0.0</td>\n",
       "      <td>0.166667</td>\n",
       "      <td>0.333333</td>\n",
       "      <td>0.666667</td>\n",
       "      <td>1.0</td>\n",
       "      <td>0.308687</td>\n",
       "    </tr>\n",
       "    <tr>\n",
       "      <th>invoice_week_of_year</th>\n",
       "      <td>365551.0</td>\n",
       "      <td>0.596042</td>\n",
       "      <td>0.0</td>\n",
       "      <td>0.34</td>\n",
       "      <td>0.66</td>\n",
       "      <td>0.88</td>\n",
       "      <td>1.0</td>\n",
       "      <td>0.302712</td>\n",
       "    </tr>\n",
       "    <tr>\n",
       "      <th>invoice_hour</th>\n",
       "      <td>365551.0</td>\n",
       "      <td>0.467688</td>\n",
       "      <td>0.0</td>\n",
       "      <td>0.307692</td>\n",
       "      <td>0.461538</td>\n",
       "      <td>0.615385</td>\n",
       "      <td>1.0</td>\n",
       "      <td>0.187485</td>\n",
       "    </tr>\n",
       "    <tr>\n",
       "      <th>quantity_outliers</th>\n",
       "      <td>365551.0</td>\n",
       "      <td>0.106396</td>\n",
       "      <td>0.0</td>\n",
       "      <td>0.0</td>\n",
       "      <td>0.0</td>\n",
       "      <td>0.0</td>\n",
       "      <td>1.0</td>\n",
       "      <td>0.308344</td>\n",
       "    </tr>\n",
       "    <tr>\n",
       "      <th>unit_price_outliers</th>\n",
       "      <td>365551.0</td>\n",
       "      <td>0.068294</td>\n",
       "      <td>0.0</td>\n",
       "      <td>0.0</td>\n",
       "      <td>0.0</td>\n",
       "      <td>0.0</td>\n",
       "      <td>1.0</td>\n",
       "      <td>0.25225</td>\n",
       "    </tr>\n",
       "    <tr>\n",
       "      <th>total_price_outliers</th>\n",
       "      <td>365551.0</td>\n",
       "      <td>0.078979</td>\n",
       "      <td>0.0</td>\n",
       "      <td>0.0</td>\n",
       "      <td>0.0</td>\n",
       "      <td>0.0</td>\n",
       "      <td>1.0</td>\n",
       "      <td>0.269707</td>\n",
       "    </tr>\n",
       "    <tr>\n",
       "      <th>invoice_year_outliers</th>\n",
       "      <td>365551.0</td>\n",
       "      <td>0.078602</td>\n",
       "      <td>0.0</td>\n",
       "      <td>0.0</td>\n",
       "      <td>0.0</td>\n",
       "      <td>0.0</td>\n",
       "      <td>1.0</td>\n",
       "      <td>0.269117</td>\n",
       "    </tr>\n",
       "    <tr>\n",
       "      <th>invoice_month_outliers</th>\n",
       "      <td>365551.0</td>\n",
       "      <td>0.0</td>\n",
       "      <td>0.0</td>\n",
       "      <td>0.0</td>\n",
       "      <td>0.0</td>\n",
       "      <td>0.0</td>\n",
       "      <td>0.0</td>\n",
       "      <td>0.0</td>\n",
       "    </tr>\n",
       "    <tr>\n",
       "      <th>invoice_day_outliers</th>\n",
       "      <td>365551.0</td>\n",
       "      <td>0.0</td>\n",
       "      <td>0.0</td>\n",
       "      <td>0.0</td>\n",
       "      <td>0.0</td>\n",
       "      <td>0.0</td>\n",
       "      <td>0.0</td>\n",
       "      <td>0.0</td>\n",
       "    </tr>\n",
       "    <tr>\n",
       "      <th>invoice_day_of_week_outliers</th>\n",
       "      <td>365551.0</td>\n",
       "      <td>0.0</td>\n",
       "      <td>0.0</td>\n",
       "      <td>0.0</td>\n",
       "      <td>0.0</td>\n",
       "      <td>0.0</td>\n",
       "      <td>0.0</td>\n",
       "      <td>0.0</td>\n",
       "    </tr>\n",
       "    <tr>\n",
       "      <th>invoice_week_of_year_outliers</th>\n",
       "      <td>365551.0</td>\n",
       "      <td>0.0</td>\n",
       "      <td>0.0</td>\n",
       "      <td>0.0</td>\n",
       "      <td>0.0</td>\n",
       "      <td>0.0</td>\n",
       "      <td>0.0</td>\n",
       "      <td>0.0</td>\n",
       "    </tr>\n",
       "    <tr>\n",
       "      <th>invoice_hour_outliers</th>\n",
       "      <td>365551.0</td>\n",
       "      <td>0.0</td>\n",
       "      <td>0.0</td>\n",
       "      <td>0.0</td>\n",
       "      <td>0.0</td>\n",
       "      <td>0.0</td>\n",
       "      <td>0.0</td>\n",
       "      <td>0.0</td>\n",
       "    </tr>\n",
       "  </tbody>\n",
       "</table>\n",
       "</div>"
      ],
      "text/plain": [
       "                                  count                           mean  \\\n",
       "quantity                       365551.0                       0.000735   \n",
       "invoice_date                     365551  2011-07-05 00:12:14.365163520   \n",
       "unit_price                     365551.0                       0.500148   \n",
       "total_price                    365551.0                       0.500843   \n",
       "invoice_year                   365551.0                       0.921398   \n",
       "invoice_month                  365551.0                       0.597315   \n",
       "invoice_day                    365551.0                       0.467122   \n",
       "invoice_day_of_week            365551.0                       0.406505   \n",
       "invoice_week_of_year           365551.0                       0.596042   \n",
       "invoice_hour                   365551.0                       0.467688   \n",
       "quantity_outliers              365551.0                       0.106396   \n",
       "unit_price_outliers            365551.0                       0.068294   \n",
       "total_price_outliers           365551.0                       0.078979   \n",
       "invoice_year_outliers          365551.0                       0.078602   \n",
       "invoice_month_outliers         365551.0                            0.0   \n",
       "invoice_day_outliers           365551.0                            0.0   \n",
       "invoice_day_of_week_outliers   365551.0                            0.0   \n",
       "invoice_week_of_year_outliers  365551.0                            0.0   \n",
       "invoice_hour_outliers          365551.0                            0.0   \n",
       "\n",
       "                                               min                  25%  \\\n",
       "quantity                                       0.0                  0.0   \n",
       "invoice_date                   2010-12-01 08:26:00  2011-03-28 12:35:00   \n",
       "unit_price                                     0.0             0.500056   \n",
       "total_price                                    0.0             0.500169   \n",
       "invoice_year                                   0.0                  1.0   \n",
       "invoice_month                                  0.0             0.363636   \n",
       "invoice_day                                    0.0                  0.2   \n",
       "invoice_day_of_week                            0.0             0.166667   \n",
       "invoice_week_of_year                           0.0                 0.34   \n",
       "invoice_hour                                   0.0             0.307692   \n",
       "quantity_outliers                              0.0                  0.0   \n",
       "unit_price_outliers                            0.0                  0.0   \n",
       "total_price_outliers                           0.0                  0.0   \n",
       "invoice_year_outliers                          0.0                  0.0   \n",
       "invoice_month_outliers                         0.0                  0.0   \n",
       "invoice_day_outliers                           0.0                  0.0   \n",
       "invoice_day_of_week_outliers                   0.0                  0.0   \n",
       "invoice_week_of_year_outliers                  0.0                  0.0   \n",
       "invoice_hour_outliers                          0.0                  0.0   \n",
       "\n",
       "                                               50%                  75%  \\\n",
       "quantity                                   0.00016             0.000798   \n",
       "invoice_date                   2011-07-20 16:12:00  2011-10-19 13:58:00   \n",
       "unit_price                                0.500094             0.500187   \n",
       "total_price                               0.500447               0.5008   \n",
       "invoice_year                                   1.0                  1.0   \n",
       "invoice_month                             0.636364             0.909091   \n",
       "invoice_day                               0.466667                  0.7   \n",
       "invoice_day_of_week                       0.333333             0.666667   \n",
       "invoice_week_of_year                          0.66                 0.88   \n",
       "invoice_hour                              0.461538             0.615385   \n",
       "quantity_outliers                              0.0                  0.0   \n",
       "unit_price_outliers                            0.0                  0.0   \n",
       "total_price_outliers                           0.0                  0.0   \n",
       "invoice_year_outliers                          0.0                  0.0   \n",
       "invoice_month_outliers                         0.0                  0.0   \n",
       "invoice_day_outliers                           0.0                  0.0   \n",
       "invoice_day_of_week_outliers                   0.0                  0.0   \n",
       "invoice_week_of_year_outliers                  0.0                  0.0   \n",
       "invoice_hour_outliers                          0.0                  0.0   \n",
       "\n",
       "                                               max       std  \n",
       "quantity                                       1.0  0.003337  \n",
       "invoice_date                   2011-12-09 12:50:00       NaN  \n",
       "unit_price                                     1.0  0.001499  \n",
       "total_price                                    1.0   0.00308  \n",
       "invoice_year                                   1.0  0.269117  \n",
       "invoice_month                                  1.0   0.31874  \n",
       "invoice_day                                    1.0  0.288664  \n",
       "invoice_day_of_week                            1.0  0.308687  \n",
       "invoice_week_of_year                           1.0  0.302712  \n",
       "invoice_hour                                   1.0  0.187485  \n",
       "quantity_outliers                              1.0  0.308344  \n",
       "unit_price_outliers                            1.0   0.25225  \n",
       "total_price_outliers                           1.0  0.269707  \n",
       "invoice_year_outliers                          1.0  0.269117  \n",
       "invoice_month_outliers                         0.0       0.0  \n",
       "invoice_day_outliers                           0.0       0.0  \n",
       "invoice_day_of_week_outliers                   0.0       0.0  \n",
       "invoice_week_of_year_outliers                  0.0       0.0  \n",
       "invoice_hour_outliers                          0.0       0.0  "
      ]
     },
     "execution_count": 14,
     "metadata": {},
     "output_type": "execute_result"
    }
   ],
   "source": [
    "train_scaled.describe().T"
   ]
  },
  {
   "cell_type": "markdown",
   "id": "c4443750-865b-457f-9296-b189cc62611b",
   "metadata": {},
   "source": [
    "  "
   ]
  },
  {
   "cell_type": "markdown",
   "id": "c99a021c-bdc1-4b18-9097-a84875d08f7b",
   "metadata": {},
   "source": [
    "  "
   ]
  },
  {
   "cell_type": "markdown",
   "id": "319d19af-2f54-4660-9cb3-e3aab3277b51",
   "metadata": {},
   "source": [
    "  "
   ]
  },
  {
   "cell_type": "code",
   "execution_count": 15,
   "id": "5eb14458-e7eb-439c-840a-c82802b1a7f9",
   "metadata": {},
   "outputs": [
    {
     "data": {
      "text/html": [
       "<div>\n",
       "<style scoped>\n",
       "    .dataframe tbody tr th:only-of-type {\n",
       "        vertical-align: middle;\n",
       "    }\n",
       "\n",
       "    .dataframe tbody tr th {\n",
       "        vertical-align: top;\n",
       "    }\n",
       "\n",
       "    .dataframe thead th {\n",
       "        text-align: right;\n",
       "    }\n",
       "</style>\n",
       "<table border=\"1\" class=\"dataframe\">\n",
       "  <thead>\n",
       "    <tr style=\"text-align: right;\">\n",
       "      <th></th>\n",
       "      <th>count</th>\n",
       "      <th>mean</th>\n",
       "      <th>min</th>\n",
       "      <th>25%</th>\n",
       "      <th>50%</th>\n",
       "      <th>75%</th>\n",
       "      <th>max</th>\n",
       "      <th>std</th>\n",
       "    </tr>\n",
       "  </thead>\n",
       "  <tbody>\n",
       "    <tr>\n",
       "      <th>quantity</th>\n",
       "      <td>365551.0</td>\n",
       "      <td>0.000735</td>\n",
       "      <td>0.0</td>\n",
       "      <td>0.0</td>\n",
       "      <td>0.00016</td>\n",
       "      <td>0.000798</td>\n",
       "      <td>1.0</td>\n",
       "      <td>0.003337</td>\n",
       "    </tr>\n",
       "    <tr>\n",
       "      <th>invoice_date</th>\n",
       "      <td>365551</td>\n",
       "      <td>2011-07-05 00:12:14.365163520</td>\n",
       "      <td>2010-12-01 08:26:00</td>\n",
       "      <td>2011-03-28 12:35:00</td>\n",
       "      <td>2011-07-20 16:12:00</td>\n",
       "      <td>2011-10-19 13:58:00</td>\n",
       "      <td>2011-12-09 12:50:00</td>\n",
       "      <td>NaN</td>\n",
       "    </tr>\n",
       "    <tr>\n",
       "      <th>unit_price</th>\n",
       "      <td>365551.0</td>\n",
       "      <td>0.500148</td>\n",
       "      <td>0.0</td>\n",
       "      <td>0.500056</td>\n",
       "      <td>0.500094</td>\n",
       "      <td>0.500187</td>\n",
       "      <td>1.0</td>\n",
       "      <td>0.001499</td>\n",
       "    </tr>\n",
       "    <tr>\n",
       "      <th>total_price</th>\n",
       "      <td>365551.0</td>\n",
       "      <td>0.500843</td>\n",
       "      <td>0.0</td>\n",
       "      <td>0.500169</td>\n",
       "      <td>0.500447</td>\n",
       "      <td>0.5008</td>\n",
       "      <td>1.0</td>\n",
       "      <td>0.00308</td>\n",
       "    </tr>\n",
       "    <tr>\n",
       "      <th>invoice_year</th>\n",
       "      <td>365551.0</td>\n",
       "      <td>0.921398</td>\n",
       "      <td>0.0</td>\n",
       "      <td>1.0</td>\n",
       "      <td>1.0</td>\n",
       "      <td>1.0</td>\n",
       "      <td>1.0</td>\n",
       "      <td>0.269117</td>\n",
       "    </tr>\n",
       "    <tr>\n",
       "      <th>invoice_month</th>\n",
       "      <td>365551.0</td>\n",
       "      <td>0.597315</td>\n",
       "      <td>0.0</td>\n",
       "      <td>0.363636</td>\n",
       "      <td>0.636364</td>\n",
       "      <td>0.909091</td>\n",
       "      <td>1.0</td>\n",
       "      <td>0.31874</td>\n",
       "    </tr>\n",
       "    <tr>\n",
       "      <th>invoice_day</th>\n",
       "      <td>365551.0</td>\n",
       "      <td>0.467122</td>\n",
       "      <td>0.0</td>\n",
       "      <td>0.2</td>\n",
       "      <td>0.466667</td>\n",
       "      <td>0.7</td>\n",
       "      <td>1.0</td>\n",
       "      <td>0.288664</td>\n",
       "    </tr>\n",
       "    <tr>\n",
       "      <th>invoice_day_of_week</th>\n",
       "      <td>365551.0</td>\n",
       "      <td>0.406505</td>\n",
       "      <td>0.0</td>\n",
       "      <td>0.166667</td>\n",
       "      <td>0.333333</td>\n",
       "      <td>0.666667</td>\n",
       "      <td>1.0</td>\n",
       "      <td>0.308687</td>\n",
       "    </tr>\n",
       "    <tr>\n",
       "      <th>invoice_week_of_year</th>\n",
       "      <td>365551.0</td>\n",
       "      <td>0.596042</td>\n",
       "      <td>0.0</td>\n",
       "      <td>0.34</td>\n",
       "      <td>0.66</td>\n",
       "      <td>0.88</td>\n",
       "      <td>1.0</td>\n",
       "      <td>0.302712</td>\n",
       "    </tr>\n",
       "    <tr>\n",
       "      <th>invoice_hour</th>\n",
       "      <td>365551.0</td>\n",
       "      <td>0.467688</td>\n",
       "      <td>0.0</td>\n",
       "      <td>0.307692</td>\n",
       "      <td>0.461538</td>\n",
       "      <td>0.615385</td>\n",
       "      <td>1.0</td>\n",
       "      <td>0.187485</td>\n",
       "    </tr>\n",
       "    <tr>\n",
       "      <th>quantity_outliers</th>\n",
       "      <td>365551.0</td>\n",
       "      <td>0.106396</td>\n",
       "      <td>0.0</td>\n",
       "      <td>0.0</td>\n",
       "      <td>0.0</td>\n",
       "      <td>0.0</td>\n",
       "      <td>1.0</td>\n",
       "      <td>0.308344</td>\n",
       "    </tr>\n",
       "    <tr>\n",
       "      <th>unit_price_outliers</th>\n",
       "      <td>365551.0</td>\n",
       "      <td>0.068294</td>\n",
       "      <td>0.0</td>\n",
       "      <td>0.0</td>\n",
       "      <td>0.0</td>\n",
       "      <td>0.0</td>\n",
       "      <td>1.0</td>\n",
       "      <td>0.25225</td>\n",
       "    </tr>\n",
       "    <tr>\n",
       "      <th>total_price_outliers</th>\n",
       "      <td>365551.0</td>\n",
       "      <td>0.078979</td>\n",
       "      <td>0.0</td>\n",
       "      <td>0.0</td>\n",
       "      <td>0.0</td>\n",
       "      <td>0.0</td>\n",
       "      <td>1.0</td>\n",
       "      <td>0.269707</td>\n",
       "    </tr>\n",
       "    <tr>\n",
       "      <th>invoice_year_outliers</th>\n",
       "      <td>365551.0</td>\n",
       "      <td>0.078602</td>\n",
       "      <td>0.0</td>\n",
       "      <td>0.0</td>\n",
       "      <td>0.0</td>\n",
       "      <td>0.0</td>\n",
       "      <td>1.0</td>\n",
       "      <td>0.269117</td>\n",
       "    </tr>\n",
       "    <tr>\n",
       "      <th>invoice_month_outliers</th>\n",
       "      <td>365551.0</td>\n",
       "      <td>0.0</td>\n",
       "      <td>0.0</td>\n",
       "      <td>0.0</td>\n",
       "      <td>0.0</td>\n",
       "      <td>0.0</td>\n",
       "      <td>0.0</td>\n",
       "      <td>0.0</td>\n",
       "    </tr>\n",
       "    <tr>\n",
       "      <th>invoice_day_outliers</th>\n",
       "      <td>365551.0</td>\n",
       "      <td>0.0</td>\n",
       "      <td>0.0</td>\n",
       "      <td>0.0</td>\n",
       "      <td>0.0</td>\n",
       "      <td>0.0</td>\n",
       "      <td>0.0</td>\n",
       "      <td>0.0</td>\n",
       "    </tr>\n",
       "    <tr>\n",
       "      <th>invoice_day_of_week_outliers</th>\n",
       "      <td>365551.0</td>\n",
       "      <td>0.0</td>\n",
       "      <td>0.0</td>\n",
       "      <td>0.0</td>\n",
       "      <td>0.0</td>\n",
       "      <td>0.0</td>\n",
       "      <td>0.0</td>\n",
       "      <td>0.0</td>\n",
       "    </tr>\n",
       "    <tr>\n",
       "      <th>invoice_week_of_year_outliers</th>\n",
       "      <td>365551.0</td>\n",
       "      <td>0.0</td>\n",
       "      <td>0.0</td>\n",
       "      <td>0.0</td>\n",
       "      <td>0.0</td>\n",
       "      <td>0.0</td>\n",
       "      <td>0.0</td>\n",
       "      <td>0.0</td>\n",
       "    </tr>\n",
       "    <tr>\n",
       "      <th>invoice_hour_outliers</th>\n",
       "      <td>365551.0</td>\n",
       "      <td>0.0</td>\n",
       "      <td>0.0</td>\n",
       "      <td>0.0</td>\n",
       "      <td>0.0</td>\n",
       "      <td>0.0</td>\n",
       "      <td>0.0</td>\n",
       "      <td>0.0</td>\n",
       "    </tr>\n",
       "  </tbody>\n",
       "</table>\n",
       "</div>"
      ],
      "text/plain": [
       "                                  count                           mean  \\\n",
       "quantity                       365551.0                       0.000735   \n",
       "invoice_date                     365551  2011-07-05 00:12:14.365163520   \n",
       "unit_price                     365551.0                       0.500148   \n",
       "total_price                    365551.0                       0.500843   \n",
       "invoice_year                   365551.0                       0.921398   \n",
       "invoice_month                  365551.0                       0.597315   \n",
       "invoice_day                    365551.0                       0.467122   \n",
       "invoice_day_of_week            365551.0                       0.406505   \n",
       "invoice_week_of_year           365551.0                       0.596042   \n",
       "invoice_hour                   365551.0                       0.467688   \n",
       "quantity_outliers              365551.0                       0.106396   \n",
       "unit_price_outliers            365551.0                       0.068294   \n",
       "total_price_outliers           365551.0                       0.078979   \n",
       "invoice_year_outliers          365551.0                       0.078602   \n",
       "invoice_month_outliers         365551.0                            0.0   \n",
       "invoice_day_outliers           365551.0                            0.0   \n",
       "invoice_day_of_week_outliers   365551.0                            0.0   \n",
       "invoice_week_of_year_outliers  365551.0                            0.0   \n",
       "invoice_hour_outliers          365551.0                            0.0   \n",
       "\n",
       "                                               min                  25%  \\\n",
       "quantity                                       0.0                  0.0   \n",
       "invoice_date                   2010-12-01 08:26:00  2011-03-28 12:35:00   \n",
       "unit_price                                     0.0             0.500056   \n",
       "total_price                                    0.0             0.500169   \n",
       "invoice_year                                   0.0                  1.0   \n",
       "invoice_month                                  0.0             0.363636   \n",
       "invoice_day                                    0.0                  0.2   \n",
       "invoice_day_of_week                            0.0             0.166667   \n",
       "invoice_week_of_year                           0.0                 0.34   \n",
       "invoice_hour                                   0.0             0.307692   \n",
       "quantity_outliers                              0.0                  0.0   \n",
       "unit_price_outliers                            0.0                  0.0   \n",
       "total_price_outliers                           0.0                  0.0   \n",
       "invoice_year_outliers                          0.0                  0.0   \n",
       "invoice_month_outliers                         0.0                  0.0   \n",
       "invoice_day_outliers                           0.0                  0.0   \n",
       "invoice_day_of_week_outliers                   0.0                  0.0   \n",
       "invoice_week_of_year_outliers                  0.0                  0.0   \n",
       "invoice_hour_outliers                          0.0                  0.0   \n",
       "\n",
       "                                               50%                  75%  \\\n",
       "quantity                                   0.00016             0.000798   \n",
       "invoice_date                   2011-07-20 16:12:00  2011-10-19 13:58:00   \n",
       "unit_price                                0.500094             0.500187   \n",
       "total_price                               0.500447               0.5008   \n",
       "invoice_year                                   1.0                  1.0   \n",
       "invoice_month                             0.636364             0.909091   \n",
       "invoice_day                               0.466667                  0.7   \n",
       "invoice_day_of_week                       0.333333             0.666667   \n",
       "invoice_week_of_year                          0.66                 0.88   \n",
       "invoice_hour                              0.461538             0.615385   \n",
       "quantity_outliers                              0.0                  0.0   \n",
       "unit_price_outliers                            0.0                  0.0   \n",
       "total_price_outliers                           0.0                  0.0   \n",
       "invoice_year_outliers                          0.0                  0.0   \n",
       "invoice_month_outliers                         0.0                  0.0   \n",
       "invoice_day_outliers                           0.0                  0.0   \n",
       "invoice_day_of_week_outliers                   0.0                  0.0   \n",
       "invoice_week_of_year_outliers                  0.0                  0.0   \n",
       "invoice_hour_outliers                          0.0                  0.0   \n",
       "\n",
       "                                               max       std  \n",
       "quantity                                       1.0  0.003337  \n",
       "invoice_date                   2011-12-09 12:50:00       NaN  \n",
       "unit_price                                     1.0  0.001499  \n",
       "total_price                                    1.0   0.00308  \n",
       "invoice_year                                   1.0  0.269117  \n",
       "invoice_month                                  1.0   0.31874  \n",
       "invoice_day                                    1.0  0.288664  \n",
       "invoice_day_of_week                            1.0  0.308687  \n",
       "invoice_week_of_year                           1.0  0.302712  \n",
       "invoice_hour                                   1.0  0.187485  \n",
       "quantity_outliers                              1.0  0.308344  \n",
       "unit_price_outliers                            1.0   0.25225  \n",
       "total_price_outliers                           1.0  0.269707  \n",
       "invoice_year_outliers                          1.0  0.269117  \n",
       "invoice_month_outliers                         0.0       0.0  \n",
       "invoice_day_outliers                           0.0       0.0  \n",
       "invoice_day_of_week_outliers                   0.0       0.0  \n",
       "invoice_week_of_year_outliers                  0.0       0.0  \n",
       "invoice_hour_outliers                          0.0       0.0  "
      ]
     },
     "execution_count": 15,
     "metadata": {},
     "output_type": "execute_result"
    }
   ],
   "source": [
    "train_scaled.describe().T"
   ]
  },
  {
   "cell_type": "markdown",
   "id": "5470e5af-6404-4e51-af9b-6811c8539669",
   "metadata": {},
   "source": [
    "  "
   ]
  },
  {
   "cell_type": "code",
   "execution_count": 16,
   "id": "e2e48581-dfcc-41d9-86e6-f48ac5ee508c",
   "metadata": {},
   "outputs": [
    {
     "data": {
      "text/html": [
       "<div>\n",
       "<style scoped>\n",
       "    .dataframe tbody tr th:only-of-type {\n",
       "        vertical-align: middle;\n",
       "    }\n",
       "\n",
       "    .dataframe tbody tr th {\n",
       "        vertical-align: top;\n",
       "    }\n",
       "\n",
       "    .dataframe thead th {\n",
       "        text-align: right;\n",
       "    }\n",
       "</style>\n",
       "<table border=\"1\" class=\"dataframe\">\n",
       "  <thead>\n",
       "    <tr style=\"text-align: right;\">\n",
       "      <th></th>\n",
       "      <th>invoice_no</th>\n",
       "      <th>stock_code</th>\n",
       "      <th>description</th>\n",
       "      <th>quantity</th>\n",
       "      <th>invoice_date</th>\n",
       "      <th>unit_price</th>\n",
       "      <th>customer_id</th>\n",
       "      <th>country</th>\n",
       "      <th>total_price</th>\n",
       "      <th>invoice_date_day</th>\n",
       "      <th>...</th>\n",
       "      <th>invoice_hour</th>\n",
       "      <th>quantity_outliers</th>\n",
       "      <th>unit_price_outliers</th>\n",
       "      <th>total_price_outliers</th>\n",
       "      <th>invoice_year_outliers</th>\n",
       "      <th>invoice_month_outliers</th>\n",
       "      <th>invoice_day_outliers</th>\n",
       "      <th>invoice_day_of_week_outliers</th>\n",
       "      <th>invoice_week_of_year_outliers</th>\n",
       "      <th>invoice_hour_outliers</th>\n",
       "    </tr>\n",
       "  </thead>\n",
       "  <tbody>\n",
       "    <tr>\n",
       "      <th>426075</th>\n",
       "      <td>573343</td>\n",
       "      <td>22086</td>\n",
       "      <td>PAPER CHAIN KIT 50'S CHRISTMAS</td>\n",
       "      <td>0.000160</td>\n",
       "      <td>2011-10-30 11:59:00</td>\n",
       "      <td>0.500133</td>\n",
       "      <td>13566</td>\n",
       "      <td>United Kingdom</td>\n",
       "      <td>0.500400</td>\n",
       "      <td>2011-10-30</td>\n",
       "      <td>...</td>\n",
       "      <td>0.307692</td>\n",
       "      <td>0.0</td>\n",
       "      <td>0.0</td>\n",
       "      <td>0.0</td>\n",
       "      <td>0.0</td>\n",
       "      <td>0.0</td>\n",
       "      <td>0.0</td>\n",
       "      <td>0.0</td>\n",
       "      <td>0.0</td>\n",
       "      <td>0.0</td>\n",
       "    </tr>\n",
       "    <tr>\n",
       "      <th>278193</th>\n",
       "      <td>561209</td>\n",
       "      <td>22297</td>\n",
       "      <td>HEART IVORY TRELLIS SMALL</td>\n",
       "      <td>0.000000</td>\n",
       "      <td>2011-07-25 16:57:00</td>\n",
       "      <td>0.500111</td>\n",
       "      <td>0</td>\n",
       "      <td>United Kingdom</td>\n",
       "      <td>0.500111</td>\n",
       "      <td>2011-07-25</td>\n",
       "      <td>...</td>\n",
       "      <td>0.692308</td>\n",
       "      <td>0.0</td>\n",
       "      <td>0.0</td>\n",
       "      <td>0.0</td>\n",
       "      <td>0.0</td>\n",
       "      <td>0.0</td>\n",
       "      <td>0.0</td>\n",
       "      <td>0.0</td>\n",
       "      <td>0.0</td>\n",
       "      <td>0.0</td>\n",
       "    </tr>\n",
       "    <tr>\n",
       "      <th>531339</th>\n",
       "      <td>580915</td>\n",
       "      <td>23208</td>\n",
       "      <td>LUNCH BAG VINTAGE LEAF DESIGN</td>\n",
       "      <td>0.000718</td>\n",
       "      <td>2011-12-06 13:45:00</td>\n",
       "      <td>0.500075</td>\n",
       "      <td>17705</td>\n",
       "      <td>United Kingdom</td>\n",
       "      <td>0.500746</td>\n",
       "      <td>2011-12-06</td>\n",
       "      <td>...</td>\n",
       "      <td>0.461538</td>\n",
       "      <td>0.0</td>\n",
       "      <td>0.0</td>\n",
       "      <td>0.0</td>\n",
       "      <td>0.0</td>\n",
       "      <td>0.0</td>\n",
       "      <td>0.0</td>\n",
       "      <td>0.0</td>\n",
       "      <td>0.0</td>\n",
       "      <td>0.0</td>\n",
       "    </tr>\n",
       "    <tr>\n",
       "      <th>288076</th>\n",
       "      <td>562129</td>\n",
       "      <td>21216</td>\n",
       "      <td>SET 3 RETROSPOT TEA,COFFEE,SUGAR</td>\n",
       "      <td>0.000239</td>\n",
       "      <td>2011-08-03 09:09:00</td>\n",
       "      <td>0.500224</td>\n",
       "      <td>13186</td>\n",
       "      <td>United Kingdom</td>\n",
       "      <td>0.500895</td>\n",
       "      <td>2011-08-03</td>\n",
       "      <td>...</td>\n",
       "      <td>0.153846</td>\n",
       "      <td>0.0</td>\n",
       "      <td>0.0</td>\n",
       "      <td>0.0</td>\n",
       "      <td>0.0</td>\n",
       "      <td>0.0</td>\n",
       "      <td>0.0</td>\n",
       "      <td>0.0</td>\n",
       "      <td>0.0</td>\n",
       "      <td>0.0</td>\n",
       "    </tr>\n",
       "    <tr>\n",
       "      <th>531421</th>\n",
       "      <td>580955</td>\n",
       "      <td>23597</td>\n",
       "      <td>PAPER BUNTING PAISLEY PARK</td>\n",
       "      <td>0.000399</td>\n",
       "      <td>2011-12-06 14:22:00</td>\n",
       "      <td>0.500133</td>\n",
       "      <td>12442</td>\n",
       "      <td>Spain</td>\n",
       "      <td>0.500800</td>\n",
       "      <td>2011-12-06</td>\n",
       "      <td>...</td>\n",
       "      <td>0.538462</td>\n",
       "      <td>0.0</td>\n",
       "      <td>0.0</td>\n",
       "      <td>0.0</td>\n",
       "      <td>0.0</td>\n",
       "      <td>0.0</td>\n",
       "      <td>0.0</td>\n",
       "      <td>0.0</td>\n",
       "      <td>0.0</td>\n",
       "      <td>0.0</td>\n",
       "    </tr>\n",
       "  </tbody>\n",
       "</table>\n",
       "<p>5 rows × 28 columns</p>\n",
       "</div>"
      ],
      "text/plain": [
       "       invoice_no stock_code                       description  quantity  \\\n",
       "426075     573343      22086   PAPER CHAIN KIT 50'S CHRISTMAS   0.000160   \n",
       "278193     561209      22297         HEART IVORY TRELLIS SMALL  0.000000   \n",
       "531339     580915      23208     LUNCH BAG VINTAGE LEAF DESIGN  0.000718   \n",
       "288076     562129      21216  SET 3 RETROSPOT TEA,COFFEE,SUGAR  0.000239   \n",
       "531421     580955      23597        PAPER BUNTING PAISLEY PARK  0.000399   \n",
       "\n",
       "              invoice_date  unit_price customer_id         country  \\\n",
       "426075 2011-10-30 11:59:00    0.500133       13566  United Kingdom   \n",
       "278193 2011-07-25 16:57:00    0.500111           0  United Kingdom   \n",
       "531339 2011-12-06 13:45:00    0.500075       17705  United Kingdom   \n",
       "288076 2011-08-03 09:09:00    0.500224       13186  United Kingdom   \n",
       "531421 2011-12-06 14:22:00    0.500133       12442           Spain   \n",
       "\n",
       "        total_price invoice_date_day  ... invoice_hour  quantity_outliers  \\\n",
       "426075     0.500400       2011-10-30  ...     0.307692                0.0   \n",
       "278193     0.500111       2011-07-25  ...     0.692308                0.0   \n",
       "531339     0.500746       2011-12-06  ...     0.461538                0.0   \n",
       "288076     0.500895       2011-08-03  ...     0.153846                0.0   \n",
       "531421     0.500800       2011-12-06  ...     0.538462                0.0   \n",
       "\n",
       "        unit_price_outliers total_price_outliers  invoice_year_outliers  \\\n",
       "426075                  0.0                  0.0                    0.0   \n",
       "278193                  0.0                  0.0                    0.0   \n",
       "531339                  0.0                  0.0                    0.0   \n",
       "288076                  0.0                  0.0                    0.0   \n",
       "531421                  0.0                  0.0                    0.0   \n",
       "\n",
       "       invoice_month_outliers  invoice_day_outliers  \\\n",
       "426075                    0.0                   0.0   \n",
       "278193                    0.0                   0.0   \n",
       "531339                    0.0                   0.0   \n",
       "288076                    0.0                   0.0   \n",
       "531421                    0.0                   0.0   \n",
       "\n",
       "        invoice_day_of_week_outliers  invoice_week_of_year_outliers  \\\n",
       "426075                           0.0                            0.0   \n",
       "278193                           0.0                            0.0   \n",
       "531339                           0.0                            0.0   \n",
       "288076                           0.0                            0.0   \n",
       "531421                           0.0                            0.0   \n",
       "\n",
       "        invoice_hour_outliers  \n",
       "426075                    0.0  \n",
       "278193                    0.0  \n",
       "531339                    0.0  \n",
       "288076                    0.0  \n",
       "531421                    0.0  \n",
       "\n",
       "[5 rows x 28 columns]"
      ]
     },
     "execution_count": 16,
     "metadata": {},
     "output_type": "execute_result"
    }
   ],
   "source": [
    "train_scaled.head()  "
   ]
  },
  {
   "cell_type": "markdown",
   "id": "63c3967d-c78e-4d2e-a331-6603fa1d3fdc",
   "metadata": {},
   "source": [
    "## New features below based on features present:"
   ]
  },
  {
   "cell_type": "code",
   "execution_count": 17,
   "id": "f9945689-4a02-44ee-b7ac-e84f5eb109f0",
   "metadata": {},
   "outputs": [
    {
     "data": {
      "text/plain": [
       "total_price\n",
       "15.00      14081\n",
       "1.25        6629\n",
       "2.46        6486\n",
       "17.70       6314\n",
       "4.13        6064\n",
       "           ...  \n",
       "66.36          1\n",
       "1668.59        1\n",
       "94.64          1\n",
       "68.25          1\n",
       "307.56         1\n",
       "Name: count, Length: 3645, dtype: int64"
      ]
     },
     "execution_count": 17,
     "metadata": {},
     "output_type": "execute_result"
    }
   ],
   "source": [
    "train.total_price.value_counts()"
   ]
  },
  {
   "cell_type": "markdown",
   "id": "8a0861f7-6b33-4de2-a744-ccde67da58ea",
   "metadata": {},
   "source": [
    "  "
   ]
  },
  {
   "cell_type": "markdown",
   "id": "271d2338-edc2-4294-a19d-f6348c9cc3e7",
   "metadata": {},
   "source": [
    "  "
   ]
  },
  {
   "cell_type": "markdown",
   "id": "eca18ca1-ed2c-4e79-ba03-fedd87665c1f",
   "metadata": {},
   "source": [
    "  "
   ]
  },
  {
   "cell_type": "markdown",
   "id": "1689cf58-4772-48d6-a7e6-ddd1f097ea0a",
   "metadata": {},
   "source": [
    "  "
   ]
  },
  {
   "cell_type": "code",
   "execution_count": 18,
   "id": "949af44a-0ad5-4194-a3fd-4a9ecb722a2b",
   "metadata": {},
   "outputs": [
    {
     "data": {
      "text/plain": [
       "426075     8.85\n",
       "278193     2.46\n",
       "531339    16.50\n",
       "288076    19.80\n",
       "531421    17.70\n",
       "Name: total_price, dtype: float64"
      ]
     },
     "execution_count": 18,
     "metadata": {},
     "output_type": "execute_result"
    }
   ],
   "source": [
    "train.total_price.head()"
   ]
  },
  {
   "cell_type": "markdown",
   "id": "a4673504-0e0a-40cc-bce4-8a5d538e0fe8",
   "metadata": {},
   "source": [
    "  "
   ]
  },
  {
   "cell_type": "markdown",
   "id": "128a4aa3-0a37-4b5b-8b94-807e43fb93bf",
   "metadata": {},
   "source": [
    "  "
   ]
  },
  {
   "cell_type": "markdown",
   "id": "25dd467a-cdf3-4154-a7c3-7edcf5fe75a7",
   "metadata": {},
   "source": [
    "  "
   ]
  },
  {
   "cell_type": "markdown",
   "id": "70cc2f66-18b1-4c91-8aab-c2615d452faf",
   "metadata": {},
   "source": [
    "## Can we see patterns, find signals in the data?\n",
    "\n",
    "## What features are driving the outcome?\n",
    "\n",
    "## Are there other features we can construct that have stronger relationships?\n",
    "\n",
    "## Visualization and statistical testing\n",
    "\n",
    "## I want to walk away from exploration with with modeling strategies (feature selection, algorithm selection, evaluation methods, etc.)."
   ]
  },
  {
   "cell_type": "markdown",
   "id": "a7bd2f89-1d12-4fb8-bef0-d79beb8975ca",
   "metadata": {},
   "source": [
    "  "
   ]
  },
  {
   "cell_type": "markdown",
   "id": "e92fd962-7944-4ef0-87d5-612d8d6a86ae",
   "metadata": {},
   "source": [
    "  "
   ]
  },
  {
   "cell_type": "markdown",
   "id": "75f4d6bb-4417-45f3-9e26-1fdd033f2d69",
   "metadata": {},
   "source": [
    "  "
   ]
  },
  {
   "cell_type": "markdown",
   "id": "bf447ee5-73e5-4d65-b28c-b5258ad42d70",
   "metadata": {},
   "source": [
    "  "
   ]
  },
  {
   "cell_type": "markdown",
   "id": "78d33728-421e-4004-9727-1e359bf03475",
   "metadata": {},
   "source": [
    "  "
   ]
  },
  {
   "cell_type": "markdown",
   "id": "ac3604bd-164e-4c34-b1c2-185b4505cb43",
   "metadata": {},
   "source": [
    "  "
   ]
  },
  {
   "cell_type": "markdown",
   "id": "5932c0bb-e376-4ed0-a981-3fd652e3bef0",
   "metadata": {},
   "source": [
    "## Lets take a look at the distributions of all features in the data\n",
    "\n",
    "## What is the distribution of scaled numerical features?"
   ]
  },
  {
   "cell_type": "code",
   "execution_count": null,
   "id": "d7470af0-64f6-471a-b9a0-1b7fcb12d628",
   "metadata": {},
   "outputs": [
    {
     "data": {
      "image/png": "[encoded data removed]",
      "text/plain": [
       "<Figure size 640x480 with 1 Axes>"
      ]
     },
     "metadata": {},
     "output_type": "display_data"
    }
   ],
   "source": [
    "import matplotlib.pyplot as plt\n",
    "import seaborn as sns\n",
    "\n",
    "numeric_cols = train.columns[(train.dtypes == 'float64') | (train.dtypes == 'int64') | (train.dtypes == 'int32') | (train.dtypes == 'UInt32')]\n",
    "\n",
    "# Created histograms for numeric columns\n",
    "for col in numeric_cols:\n",
    "    plt.figure()\n",
    "    plt.title(f'Distribution of {col}')\n",
    "    sns.histplot(data=train, x=col)\n",
    "    plt.tight_layout()\n",
    "    plt.show()"
   ]
  },
  {
   "cell_type": "markdown",
   "id": "db75586e-537f-46d1-ac46-720a4f32e9ab",
   "metadata": {},
   "source": [
    "  "
   ]
  },
  {
   "cell_type": "markdown",
   "id": "5c6a1b35-cb08-4233-8bf2-e4715f4b35ac",
   "metadata": {},
   "source": [
    "  "
   ]
  },
  {
   "cell_type": "markdown",
   "id": "cd62fe1b-8f36-4a1e-aa52-f9eca5f0953f",
   "metadata": {},
   "source": [
    "  "
   ]
  },
  {
   "cell_type": "markdown",
   "id": "3bbb4b6c-8721-4ead-b6f1-acebf8e482c9",
   "metadata": {},
   "source": [
    "## Categorical data\n",
    "\n",
    "## What is the distribution of categorical features?"
   ]
  },
  {
   "cell_type": "code",
   "execution_count": 20,
   "id": "86c86673-ac83-4a69-8414-87671161520b",
   "metadata": {},
   "outputs": [
    {
     "data": {
      "image/png": "[encoded data removed]",
      "text/plain": [
       "<Figure size 640x480 with 1 Axes>"
      ]
     },
     "metadata": {},
     "output_type": "display_data"
    },
    {
     "data": {
      "image/png": "[encoded data removed]",
      "text/plain": [
       "<Figure size 640x480 with 1 Axes>"
      ]
     },
     "metadata": {},
     "output_type": "display_data"
    },
    {
     "data": {
      "image/png": "[encoded data removed]",
      "text/plain": [
       "<Figure size 640x480 with 1 Axes>"
      ]
     },
     "metadata": {},
     "output_type": "display_data"
    },
    {
     "data": {
      "image/png": "[encoded data removed]",
      "text/plain": [
       "<Figure size 640x480 with 1 Axes>"
      ]
     },
     "metadata": {},
     "output_type": "display_data"
    },
    {
     "data": {
      "image/png": "[encoded data removed]",
      "text/plain": [
       "<Figure size 640x480 with 1 Axes>"
      ]
     },
     "metadata": {},
     "output_type": "display_data"
    },
    {
     "data": {
      "image/png": "[encoded data removed]",
      "text/plain": [
       "<Figure size 640x480 with 1 Axes>"
      ]
     },
     "metadata": {},
     "output_type": "display_data"
    },
    {
     "ename": "TypeError",
     "evalue": "Invalid object type at position 0",
     "output_type": "error",
     "traceback": [
      "\u001b[0;31m---------------------------------------------------------------------------\u001b[0m",
      "\u001b[0;31mTypeError\u001b[0m                                 Traceback (most recent call last)",
      "File \u001b[0;32mlib.pyx:2368\u001b[0m, in \u001b[0;36mpandas._libs.lib.maybe_convert_numeric\u001b[0;34m()\u001b[0m\n",
      "\u001b[0;31mTypeError\u001b[0m: Invalid object type",
      "\nDuring handling of the above exception, another exception occurred:\n",
      "\u001b[0;31mTypeError\u001b[0m                                 Traceback (most recent call last)",
      "Cell \u001b[0;32mIn[20], line 4\u001b[0m\n\u001b[1;32m      2\u001b[0m plt\u001b[38;5;241m.\u001b[39mfigure()\n\u001b[1;32m      3\u001b[0m plt\u001b[38;5;241m.\u001b[39mtitle(\u001b[38;5;124mf\u001b[39m\u001b[38;5;124m'\u001b[39m\u001b[38;5;124mDistribution of \u001b[39m\u001b[38;5;132;01m{\u001b[39;00mcol\u001b[38;5;132;01m}\u001b[39;00m\u001b[38;5;124m'\u001b[39m)\n\u001b[0;32m----> 4\u001b[0m \u001b[43msns\u001b[49m\u001b[38;5;241;43m.\u001b[39;49m\u001b[43mhistplot\u001b[49m\u001b[43m(\u001b[49m\u001b[43mdata\u001b[49m\u001b[38;5;241;43m=\u001b[39;49m\u001b[43mtrain_scaled\u001b[49m\u001b[43m,\u001b[49m\u001b[43m \u001b[49m\u001b[43mx\u001b[49m\u001b[38;5;241;43m=\u001b[39;49m\u001b[43mcol\u001b[49m\u001b[43m)\u001b[49m\n\u001b[1;32m      5\u001b[0m plt\u001b[38;5;241m.\u001b[39mshow()\n",
      "File \u001b[0;32m/opt/homebrew/anaconda3/lib/python3.10/site-packages/seaborn/distributions.py:1416\u001b[0m, in \u001b[0;36mhistplot\u001b[0;34m(data, x, y, hue, weights, stat, bins, binwidth, binrange, discrete, cumulative, common_bins, common_norm, multiple, element, fill, shrink, kde, kde_kws, line_kws, thresh, pthresh, pmax, cbar, cbar_ax, cbar_kws, palette, hue_order, hue_norm, color, log_scale, legend, ax, **kwargs)\u001b[0m\n\u001b[1;32m   1405\u001b[0m estimate_kws \u001b[38;5;241m=\u001b[39m \u001b[38;5;28mdict\u001b[39m(\n\u001b[1;32m   1406\u001b[0m     stat\u001b[38;5;241m=\u001b[39mstat,\n\u001b[1;32m   1407\u001b[0m     bins\u001b[38;5;241m=\u001b[39mbins,\n\u001b[0;32m   (...)\u001b[0m\n\u001b[1;32m   1411\u001b[0m     cumulative\u001b[38;5;241m=\u001b[39mcumulative,\n\u001b[1;32m   1412\u001b[0m )\n\u001b[1;32m   1414\u001b[0m \u001b[38;5;28;01mif\u001b[39;00m p\u001b[38;5;241m.\u001b[39munivariate:\n\u001b[0;32m-> 1416\u001b[0m     \u001b[43mp\u001b[49m\u001b[38;5;241;43m.\u001b[39;49m\u001b[43mplot_univariate_histogram\u001b[49m\u001b[43m(\u001b[49m\n\u001b[1;32m   1417\u001b[0m \u001b[43m        \u001b[49m\u001b[43mmultiple\u001b[49m\u001b[38;5;241;43m=\u001b[39;49m\u001b[43mmultiple\u001b[49m\u001b[43m,\u001b[49m\n\u001b[1;32m   1418\u001b[0m \u001b[43m        \u001b[49m\u001b[43melement\u001b[49m\u001b[38;5;241;43m=\u001b[39;49m\u001b[43melement\u001b[49m\u001b[43m,\u001b[49m\n\u001b[1;32m   1419\u001b[0m \u001b[43m        \u001b[49m\u001b[43mfill\u001b[49m\u001b[38;5;241;43m=\u001b[39;49m\u001b[43mfill\u001b[49m\u001b[43m,\u001b[49m\n\u001b[1;32m   1420\u001b[0m \u001b[43m        \u001b[49m\u001b[43mshrink\u001b[49m\u001b[38;5;241;43m=\u001b[39;49m\u001b[43mshrink\u001b[49m\u001b[43m,\u001b[49m\n\u001b[1;32m   1421\u001b[0m \u001b[43m        \u001b[49m\u001b[43mcommon_norm\u001b[49m\u001b[38;5;241;43m=\u001b[39;49m\u001b[43mcommon_norm\u001b[49m\u001b[43m,\u001b[49m\n\u001b[1;32m   1422\u001b[0m \u001b[43m        \u001b[49m\u001b[43mcommon_bins\u001b[49m\u001b[38;5;241;43m=\u001b[39;49m\u001b[43mcommon_bins\u001b[49m\u001b[43m,\u001b[49m\n\u001b[1;32m   1423\u001b[0m \u001b[43m        \u001b[49m\u001b[43mkde\u001b[49m\u001b[38;5;241;43m=\u001b[39;49m\u001b[43mkde\u001b[49m\u001b[43m,\u001b[49m\n\u001b[1;32m   1424\u001b[0m \u001b[43m        \u001b[49m\u001b[43mkde_kws\u001b[49m\u001b[38;5;241;43m=\u001b[39;49m\u001b[43mkde_kws\u001b[49m\u001b[43m,\u001b[49m\n\u001b[1;32m   1425\u001b[0m \u001b[43m        \u001b[49m\u001b[43mcolor\u001b[49m\u001b[38;5;241;43m=\u001b[39;49m\u001b[43mcolor\u001b[49m\u001b[43m,\u001b[49m\n\u001b[1;32m   1426\u001b[0m \u001b[43m        \u001b[49m\u001b[43mlegend\u001b[49m\u001b[38;5;241;43m=\u001b[39;49m\u001b[43mlegend\u001b[49m\u001b[43m,\u001b[49m\n\u001b[1;32m   1427\u001b[0m \u001b[43m        \u001b[49m\u001b[43mestimate_kws\u001b[49m\u001b[38;5;241;43m=\u001b[39;49m\u001b[43mestimate_kws\u001b[49m\u001b[43m,\u001b[49m\n\u001b[1;32m   1428\u001b[0m \u001b[43m        \u001b[49m\u001b[43mline_kws\u001b[49m\u001b[38;5;241;43m=\u001b[39;49m\u001b[43mline_kws\u001b[49m\u001b[43m,\u001b[49m\n\u001b[1;32m   1429\u001b[0m \u001b[43m        \u001b[49m\u001b[38;5;241;43m*\u001b[39;49m\u001b[38;5;241;43m*\u001b[39;49m\u001b[43mkwargs\u001b[49m\u001b[43m,\u001b[49m\n\u001b[1;32m   1430\u001b[0m \u001b[43m    \u001b[49m\u001b[43m)\u001b[49m\n\u001b[1;32m   1432\u001b[0m \u001b[38;5;28;01melse\u001b[39;00m:\n\u001b[1;32m   1434\u001b[0m     p\u001b[38;5;241m.\u001b[39mplot_bivariate_histogram(\n\u001b[1;32m   1435\u001b[0m         common_bins\u001b[38;5;241m=\u001b[39mcommon_bins,\n\u001b[1;32m   1436\u001b[0m         common_norm\u001b[38;5;241m=\u001b[39mcommon_norm,\n\u001b[0;32m   (...)\u001b[0m\n\u001b[1;32m   1446\u001b[0m         \u001b[38;5;241m*\u001b[39m\u001b[38;5;241m*\u001b[39mkwargs,\n\u001b[1;32m   1447\u001b[0m     )\n",
      "File \u001b[0;32m/opt/homebrew/anaconda3/lib/python3.10/site-packages/seaborn/distributions.py:427\u001b[0m, in \u001b[0;36m_DistributionPlotter.plot_univariate_histogram\u001b[0;34m(self, multiple, element, fill, common_norm, common_bins, shrink, kde, kde_kws, color, legend, line_kws, estimate_kws, **plot_kws)\u001b[0m\n\u001b[1;32m    424\u001b[0m histograms \u001b[38;5;241m=\u001b[39m {}\n\u001b[1;32m    426\u001b[0m \u001b[38;5;66;03m# Do pre-compute housekeeping related to multiple groups\u001b[39;00m\n\u001b[0;32m--> 427\u001b[0m all_data \u001b[38;5;241m=\u001b[39m \u001b[38;5;28;43mself\u001b[39;49m\u001b[38;5;241;43m.\u001b[39;49m\u001b[43mcomp_data\u001b[49m\u001b[38;5;241m.\u001b[39mdropna()\n\u001b[1;32m    428\u001b[0m all_weights \u001b[38;5;241m=\u001b[39m all_data\u001b[38;5;241m.\u001b[39mget(\u001b[38;5;124m\"\u001b[39m\u001b[38;5;124mweights\u001b[39m\u001b[38;5;124m\"\u001b[39m, \u001b[38;5;28;01mNone\u001b[39;00m)\n\u001b[1;32m    430\u001b[0m multiple_histograms \u001b[38;5;241m=\u001b[39m \u001b[38;5;28mset\u001b[39m(\u001b[38;5;28mself\u001b[39m\u001b[38;5;241m.\u001b[39mvariables) \u001b[38;5;241m-\u001b[39m {\u001b[38;5;124m\"\u001b[39m\u001b[38;5;124mx\u001b[39m\u001b[38;5;124m\"\u001b[39m, \u001b[38;5;124m\"\u001b[39m\u001b[38;5;124my\u001b[39m\u001b[38;5;124m\"\u001b[39m}\n",
      "File \u001b[0;32m/opt/homebrew/anaconda3/lib/python3.10/site-packages/seaborn/_base.py:999\u001b[0m, in \u001b[0;36mVectorPlotter.comp_data\u001b[0;34m(self)\u001b[0m\n\u001b[1;32m    994\u001b[0m \u001b[38;5;28;01mif\u001b[39;00m var \u001b[38;5;129;01min\u001b[39;00m \u001b[38;5;28mself\u001b[39m\u001b[38;5;241m.\u001b[39mvar_levels:\n\u001b[1;32m    995\u001b[0m     \u001b[38;5;66;03m# TODO this should happen in some centralized location\u001b[39;00m\n\u001b[1;32m    996\u001b[0m     \u001b[38;5;66;03m# it is similar to GH2419, but more complicated because\u001b[39;00m\n\u001b[1;32m    997\u001b[0m     \u001b[38;5;66;03m# supporting `order` in categorical plots is tricky\u001b[39;00m\n\u001b[1;32m    998\u001b[0m     orig \u001b[38;5;241m=\u001b[39m orig[orig\u001b[38;5;241m.\u001b[39misin(\u001b[38;5;28mself\u001b[39m\u001b[38;5;241m.\u001b[39mvar_levels[var])]\n\u001b[0;32m--> 999\u001b[0m comp \u001b[38;5;241m=\u001b[39m \u001b[43mpd\u001b[49m\u001b[38;5;241;43m.\u001b[39;49m\u001b[43mto_numeric\u001b[49m\u001b[43m(\u001b[49m\u001b[43mconverter\u001b[49m\u001b[38;5;241;43m.\u001b[39;49m\u001b[43mconvert_units\u001b[49m\u001b[43m(\u001b[49m\u001b[43morig\u001b[49m\u001b[43m)\u001b[49m\u001b[43m)\u001b[49m\u001b[38;5;241m.\u001b[39mastype(\u001b[38;5;28mfloat\u001b[39m)\n\u001b[1;32m   1000\u001b[0m transform \u001b[38;5;241m=\u001b[39m converter\u001b[38;5;241m.\u001b[39mget_transform()\u001b[38;5;241m.\u001b[39mtransform\n\u001b[1;32m   1001\u001b[0m parts\u001b[38;5;241m.\u001b[39mappend(pd\u001b[38;5;241m.\u001b[39mSeries(transform(comp), orig\u001b[38;5;241m.\u001b[39mindex, name\u001b[38;5;241m=\u001b[39morig\u001b[38;5;241m.\u001b[39mname))\n",
      "File \u001b[0;32m/opt/homebrew/anaconda3/lib/python3.10/site-packages/pandas/core/tools/numeric.py:222\u001b[0m, in \u001b[0;36mto_numeric\u001b[0;34m(arg, errors, downcast, dtype_backend)\u001b[0m\n\u001b[1;32m    220\u001b[0m coerce_numeric \u001b[38;5;241m=\u001b[39m errors \u001b[38;5;129;01mnot\u001b[39;00m \u001b[38;5;129;01min\u001b[39;00m (\u001b[38;5;124m\"\u001b[39m\u001b[38;5;124mignore\u001b[39m\u001b[38;5;124m\"\u001b[39m, \u001b[38;5;124m\"\u001b[39m\u001b[38;5;124mraise\u001b[39m\u001b[38;5;124m\"\u001b[39m)\n\u001b[1;32m    221\u001b[0m \u001b[38;5;28;01mtry\u001b[39;00m:\n\u001b[0;32m--> 222\u001b[0m     values, new_mask \u001b[38;5;241m=\u001b[39m \u001b[43mlib\u001b[49m\u001b[38;5;241;43m.\u001b[39;49m\u001b[43mmaybe_convert_numeric\u001b[49m\u001b[43m(\u001b[49m\u001b[43m  \u001b[49m\u001b[38;5;66;43;03m# type: ignore[call-overload]  # noqa: E501\u001b[39;49;00m\n\u001b[1;32m    223\u001b[0m \u001b[43m        \u001b[49m\u001b[43mvalues\u001b[49m\u001b[43m,\u001b[49m\n\u001b[1;32m    224\u001b[0m \u001b[43m        \u001b[49m\u001b[38;5;28;43mset\u001b[39;49m\u001b[43m(\u001b[49m\u001b[43m)\u001b[49m\u001b[43m,\u001b[49m\n\u001b[1;32m    225\u001b[0m \u001b[43m        \u001b[49m\u001b[43mcoerce_numeric\u001b[49m\u001b[38;5;241;43m=\u001b[39;49m\u001b[43mcoerce_numeric\u001b[49m\u001b[43m,\u001b[49m\n\u001b[1;32m    226\u001b[0m \u001b[43m        \u001b[49m\u001b[43mconvert_to_masked_nullable\u001b[49m\u001b[38;5;241;43m=\u001b[39;49m\u001b[43mdtype_backend\u001b[49m\u001b[43m \u001b[49m\u001b[38;5;129;43;01mis\u001b[39;49;00m\u001b[43m \u001b[49m\u001b[38;5;129;43;01mnot\u001b[39;49;00m\u001b[43m \u001b[49m\u001b[43mlib\u001b[49m\u001b[38;5;241;43m.\u001b[39;49m\u001b[43mno_default\u001b[49m\n\u001b[1;32m    227\u001b[0m \u001b[43m        \u001b[49m\u001b[38;5;129;43;01mor\u001b[39;49;00m\u001b[43m \u001b[49m\u001b[38;5;28;43misinstance\u001b[39;49m\u001b[43m(\u001b[49m\u001b[43mvalues_dtype\u001b[49m\u001b[43m,\u001b[49m\u001b[43m \u001b[49m\u001b[43mStringDtype\u001b[49m\u001b[43m)\u001b[49m\u001b[43m,\u001b[49m\n\u001b[1;32m    228\u001b[0m \u001b[43m    \u001b[49m\u001b[43m)\u001b[49m\n\u001b[1;32m    229\u001b[0m \u001b[38;5;28;01mexcept\u001b[39;00m (\u001b[38;5;167;01mValueError\u001b[39;00m, \u001b[38;5;167;01mTypeError\u001b[39;00m):\n\u001b[1;32m    230\u001b[0m     \u001b[38;5;28;01mif\u001b[39;00m errors \u001b[38;5;241m==\u001b[39m \u001b[38;5;124m\"\u001b[39m\u001b[38;5;124mraise\u001b[39m\u001b[38;5;124m\"\u001b[39m:\n",
      "File \u001b[0;32mlib.pyx:2410\u001b[0m, in \u001b[0;36mpandas._libs.lib.maybe_convert_numeric\u001b[0;34m()\u001b[0m\n",
      "\u001b[0;31mTypeError\u001b[0m: Invalid object type at position 0"
     ]
    },
    {
     "data": {
      "image/png": "[encoded data removed]",
      "text/plain": [
       "<Figure size 640x480 with 1 Axes>"
      ]
     },
     "metadata": {},
     "output_type": "display_data"
    }
   ],
   "source": [
    "# Specify the column for the histogram\n",
    "col = 'your_column_name_here'\n",
    "\n",
    "# Check the data type of the specified column\n",
    "if train_scaled[col].dtype.kind in 'biufc':\n",
    "    # Create histogram if the data type is numeric\n",
    "    plt.figure()\n",
    "    plt.title(f'Distribution of {col}')\n",
    "    sns.histplot(data=train_scaled, x=col)\n",
    "    plt.show()\n",
    "else:\n",
    "    print(f\"Cannot create histogram. The data type of {col} is not numeric.\")\n"
   ]
  },
  {
   "cell_type": "markdown",
   "id": "dd634044-0e41-4ba0-a4d3-7d51d763a97c",
   "metadata": {},
   "source": [
    "  "
   ]
  },
  {
   "cell_type": "markdown",
   "id": "9b12e313-fe3b-40dc-9a90-85fe43c6f754",
   "metadata": {},
   "source": [
    "  "
   ]
  },
  {
   "cell_type": "markdown",
   "id": "74c9dfe1-d54d-4881-a7d4-bef101ecb7bb",
   "metadata": {},
   "source": [
    "  "
   ]
  },
  {
   "cell_type": "markdown",
   "id": "4df86bf2-5e55-4356-ada2-fe429b9952d1",
   "metadata": {},
   "source": [
    "  "
   ]
  },
  {
   "cell_type": "markdown",
   "id": "97ddbd60-d872-463a-9d1a-011da92dba67",
   "metadata": {},
   "source": [
    "# What does the correlation between all numerical features?"
   ]
  },
  {
   "cell_type": "code",
   "execution_count": null,
   "id": "55aa2d9b-8a90-484c-a8d8-17c9b4e690e4",
   "metadata": {},
   "outputs": [],
   "source": [
    "sns.pairplot(data = train_scaled, corner=False)"
   ]
  },
  {
   "cell_type": "markdown",
   "id": "6b65f122-40fb-4d38-ac96-76942d91bc3d",
   "metadata": {},
   "source": [
    "  "
   ]
  },
  {
   "cell_type": "markdown",
   "id": "3cd3bb20-e969-4da1-be54-c65aa92bb8f0",
   "metadata": {},
   "source": [
    "  "
   ]
  },
  {
   "cell_type": "markdown",
   "id": "1b9679a4-6af2-4cc7-8b1e-47002e6fe48e",
   "metadata": {},
   "source": [
    "# what is the `country` count distributions within this data?"
   ]
  },
  {
   "cell_type": "code",
   "execution_count": null,
   "id": "f92543b7-a037-4a86-94a2-7ac4f2edd4c9",
   "metadata": {},
   "outputs": [],
   "source": [
    "country_cnts = train_scaled.country.value_counts()\n",
    "country_cnts = pd.DataFrame(country_cnts).reset_index()\n",
    "country_cnts = country_cnts[country_cnts['count'] > 1000]"
   ]
  },
  {
   "cell_type": "code",
   "execution_count": null,
   "id": "aa85a14a-1910-4443-aee4-0c1b0ab33525",
   "metadata": {},
   "outputs": [],
   "source": [
    "# set figsze\n",
    "plt.figure(figsize=(15, 10))\n",
    "\n",
    "# Create the bar plot\n",
    "ax = sns.barplot(data=country_cnts, x='count', y='country', palette='bright')\n",
    "\n",
    "# remove spines\n",
    "sns.despine(left=True, bottom=True)\n",
    "\n",
    "# adding values at the end of each bar\n",
    "for p in ax.patches:\n",
    "    \n",
    "    ax.annotate(f'{p.get_width():.0f}', (p.get_width(), p.get_y() + p.get_height() / 2),\n",
    "                ha='left', va='center', fontsize=10, color='black')\n",
    "\n",
    "# Remove x-tick labels, keeping the ticks\n",
    "ax.set_xticklabels([])\n",
    "ax.set_xticks([])\n",
    "\n",
    "# Remove y ticks\n",
    "ax.tick_params(axis='y', which='both', left=False)\n",
    "# ax.tick_params(axis='x', which='both', bottom=False, xlabel=None)\n",
    "\n",
    "        \n",
    "# set labels\n",
    "plt.title('Country Distribution')\n",
    "\n",
    "# capitalize the y-axis labels\n",
    "ax.set_yticklabels([label.get_text().upper() for label in ax.get_yticklabels()])\n",
    "\n",
    "plt.ylabel('Country', rotation=0, labelpad=30)\n",
    "plt.xlabel('')\n",
    "plt.tight_layout()\n",
    "plt.show()"
   ]
  },
  {
   "cell_type": "markdown",
   "id": "b88b119c-5127-4c19-a859-48b8cb3682ad",
   "metadata": {},
   "source": [
    "* The data is comprised of alot of infmormation relating to the United Kingdom"
   ]
  },
  {
   "cell_type": "markdown",
   "id": "72d4c435-6598-430b-92de-9781880f2b8a",
   "metadata": {},
   "source": [
    "  "
   ]
  },
  {
   "cell_type": "markdown",
   "id": "b815a714-29d5-4d8c-be48-2fd75f4e90fe",
   "metadata": {},
   "source": [
    "  "
   ]
  },
  {
   "cell_type": "markdown",
   "id": "12607ee1-d3e3-4cec-9928-e2ced26d674e",
   "metadata": {},
   "source": [
    "  "
   ]
  },
  {
   "cell_type": "markdown",
   "id": "68eb0230-1ed7-4cac-88c3-cb673ff59c57",
   "metadata": {},
   "source": [
    "  "
   ]
  },
  {
   "cell_type": "markdown",
   "id": "0be0ad49-6fa5-4024-974e-7ebc766b5257",
   "metadata": {},
   "source": [
    "## How does `quantity` vary with `customer_id`?"
   ]
  },
  {
   "cell_type": "code",
   "execution_count": null,
   "id": "171aa66d-46a8-4162-9de2-b671f2e6f2a2",
   "metadata": {},
   "outputs": [],
   "source": [
    "plt.figure(figsize=(10, 6))\n",
    "sns.relplot(x='quantity', y='customer_id', data=train_scaled)\n",
    "plt.title('Quantity vs. Customers')\n",
    "plt.xlabel('Quantity')\n",
    "plt.ylabel('Customer ID')\n",
    "plt.show()"
   ]
  },
  {
   "cell_type": "markdown",
   "id": "44e1b7db-fe4c-4fc7-8873-7f7955e84847",
   "metadata": {},
   "source": [
    "  "
   ]
  },
  {
   "cell_type": "markdown",
   "id": "934d2579-3d41-45b1-ad7f-8d5469fca015",
   "metadata": {},
   "source": [
    "  "
   ]
  },
  {
   "cell_type": "markdown",
   "id": "88f316f5-156e-4aa8-9796-0cc6a26791ed",
   "metadata": {},
   "source": [
    "  "
   ]
  },
  {
   "cell_type": "markdown",
   "id": "887b0872-c5bf-4fe1-ab31-2d9910e8a73e",
   "metadata": {},
   "source": [
    "  "
   ]
  },
  {
   "cell_type": "markdown",
   "id": "7b9f7b49-abe4-485d-b268-c89afe878d02",
   "metadata": {},
   "source": [
    "## how about `unit_price` and `customer_id`?"
   ]
  },
  {
   "cell_type": "code",
   "execution_count": null,
   "id": "f83c88fd-dd05-4ac3-bd15-698bd12f8ef0",
   "metadata": {},
   "outputs": [],
   "source": [
    "plt.figure(figsize=(10, 6))\n",
    "sns.relplot(x='unit_price', y='customer_id', data=train_scaled)\n",
    "plt.title('Unit Price vs. Customers')\n",
    "plt.xlabel('Unit Price')\n",
    "plt.ylabel('Customer ID')\n",
    "plt.show()"
   ]
  },
  {
   "cell_type": "markdown",
   "id": "3ec66eb1-d18d-4c65-88a0-3fc0fcdd6777",
   "metadata": {},
   "source": [
    "  "
   ]
  },
  {
   "cell_type": "markdown",
   "id": "d4d224f7-1746-4403-8121-b0fb49561bd1",
   "metadata": {},
   "source": [
    "  "
   ]
  },
  {
   "cell_type": "markdown",
   "id": "37c527d6-481b-4652-86ef-21cd55b666b9",
   "metadata": {},
   "source": [
    "  "
   ]
  },
  {
   "cell_type": "markdown",
   "id": "007b0640-643e-43d5-8d53-0d7da3d8c304",
   "metadata": {},
   "source": [
    "## Scatter plot of  `total_price` and `quantity`"
   ]
  },
  {
   "cell_type": "code",
   "execution_count": null,
   "id": "8e6d8ff2-3a33-4acb-a32b-128ef6b53c27",
   "metadata": {},
   "outputs": [],
   "source": [
    "# plt.figure(figsize=(10, 6))\n",
    "sns.scatterplot(x='total_price', y='quantity', data=train)\n",
    "plt.title('Is there a relationship between Total Price and Quantity?')\n",
    "plt.xlabel('Total Price')\n",
    "plt.ylabel('Quantity')\n",
    "plt.show()"
   ]
  },
  {
   "cell_type": "code",
   "execution_count": null,
   "id": "ec6fd9ef-4689-4ae4-849b-def7d8a8a932",
   "metadata": {},
   "outputs": [],
   "source": [
    "# plt.figure(figsize=(10, 6))\n",
    "sns.scatterplot(x='total_price', y='quantity', data=train_scaled)\n",
    "plt.title('Is there a relationship between Total Price and Quantity?')\n",
    "plt.xlabel('Total Price')\n",
    "plt.ylabel('Quantity')\n",
    "plt.show()"
   ]
  },
  {
   "cell_type": "markdown",
   "id": "d4b5ce96-081b-4e85-b8c0-b0ca4b95729f",
   "metadata": {},
   "source": [
    "# -----------------------------------------------------------------"
   ]
  },
  {
   "cell_type": "markdown",
   "id": "fba0413d-1475-4727-b2d1-e86bcb29ec75",
   "metadata": {},
   "source": [
    "  "
   ]
  },
  {
   "cell_type": "markdown",
   "id": "205a3cc9-49d7-4e9c-b071-fc88000b6f0f",
   "metadata": {
    "jp-MarkdownHeadingCollapsed": true
   },
   "source": [
    "# How would scaling and normalizing features aid in getting a better visualization of distribution that exist within this dataset?\n",
    "\n",
    "A data split and then scaling the train subset aided in providing a better visual and distribution of the data."
   ]
  },
  {
   "cell_type": "markdown",
   "id": "726731a9-9d3e-4e15-a7e8-3e1962ab9324",
   "metadata": {},
   "source": [
    "  "
   ]
  },
  {
   "cell_type": "markdown",
   "id": "fbd1e291-ea2c-4668-acbd-527b461baae4",
   "metadata": {},
   "source": [
    "  "
   ]
  },
  {
   "cell_type": "markdown",
   "id": "db2c422b-8f4a-43a5-82b2-ff1eeaf146e9",
   "metadata": {},
   "source": [
    "# Code added to prep function to handle negative values:"
   ]
  },
  {
   "cell_type": "code",
   "execution_count": null,
   "id": "c41ba5e4-221c-4956-b693-2d26b004a566",
   "metadata": {
    "jupyter": {
     "source_hidden": true
    }
   },
   "outputs": [],
   "source": [
    "# df['quantity'] = df['quantity'].apply(lambda x: max(x, 0))\n",
    "    \n",
    "# df['unit_price'] = df['unit_price'].apply(lambda x: max(x, 0))"
   ]
  },
  {
   "cell_type": "markdown",
   "id": "a999ba0c-1e3b-436c-a6fd-a7e9359105a3",
   "metadata": {},
   "source": [
    "  "
   ]
  },
  {
   "cell_type": "markdown",
   "id": "f4da7709-f0cc-4874-b381-b77f56120d1d",
   "metadata": {},
   "source": [
    "# -----------------------------------------------------------------"
   ]
  },
  {
   "cell_type": "markdown",
   "id": "420e1201-461f-4b5d-a956-2ea5668c7a6a",
   "metadata": {},
   "source": [
    "## I'm going to bin quantities:"
   ]
  },
  {
   "cell_type": "code",
   "execution_count": null,
   "id": "3c0e5816-a897-4c8e-b8d4-9bdb143be08a",
   "metadata": {},
   "outputs": [],
   "source": [
    "train['quantity_bin'] = pd.cut(train.quantity, [0, 10, 20, 30, 40, 50, 10000])\n",
    "\n",
    "train.head()"
   ]
  },
  {
   "cell_type": "markdown",
   "id": "34600583-c61d-429c-a6cf-47c92e15aa5a",
   "metadata": {},
   "source": [
    "## How does quantity vary from total_price?"
   ]
  },
  {
   "cell_type": "code",
   "execution_count": null,
   "id": "b22dc7e3-8fe2-45e8-8fd9-ca3375f52e0a",
   "metadata": {},
   "outputs": [],
   "source": [
    "sns.barplot(x='quantity_bin', y='total_price', data=train)\n",
    "plt.title('Is there a relationship between Total Price and Quantity?')\n",
    "plt.xlabel('Quantity')\n",
    "plt.ylabel('Total Price')\n",
    "plt.show()"
   ]
  },
  {
   "cell_type": "markdown",
   "id": "57ce50c5-42cb-4b4b-a7a3-9b9fa19edb82",
   "metadata": {},
   "source": [
    "  "
   ]
  },
  {
   "cell_type": "markdown",
   "id": "d69cced4-6cce-420f-b1f6-e1022a3fe12e",
   "metadata": {},
   "source": [
    "  "
   ]
  },
  {
   "cell_type": "markdown",
   "id": "c19de241-d716-42f0-aa9d-147162c5f882",
   "metadata": {},
   "source": [
    "  "
   ]
  },
  {
   "cell_type": "markdown",
   "id": "f269ab5c-1f86-45b5-af93-1dc0c71ca91f",
   "metadata": {},
   "source": [
    "## At this point I need to select a few features to further look at, I am going to take a look at my new_df dataframe which consists of invoice_date, invoice_no, and total_price."
   ]
  },
  {
   "cell_type": "code",
   "execution_count": null,
   "id": "e6263f4f-7846-4c94-86bb-d6961748f8c7",
   "metadata": {},
   "outputs": [],
   "source": [
    "new_df.head()"
   ]
  },
  {
   "cell_type": "code",
   "execution_count": null,
   "id": "7f726216-0824-4f03-a555-f65b65d10f2b",
   "metadata": {},
   "outputs": [],
   "source": [
    "train, val, test = w.train_val_test(new_df)"
   ]
  },
  {
   "cell_type": "code",
   "execution_count": null,
   "id": "c2d00e2c-933f-473f-b5fd-dbf9d09063a1",
   "metadata": {},
   "outputs": [],
   "source": [
    "train.columns"
   ]
  },
  {
   "cell_type": "markdown",
   "id": "69c28a07-b8bf-4b98-8a52-f83abe06330b",
   "metadata": {},
   "source": [
    "## Narrowing feature on what I want to explore."
   ]
  },
  {
   "cell_type": "code",
   "execution_count": null,
   "id": "9bb30726-3f01-47ae-b60f-9050a78b14c4",
   "metadata": {},
   "outputs": [],
   "source": [
    "categoricals = ['invoice_no']\n",
    "\n",
    "numericals = ['invoice_date', 'total_price']\n",
    "\n",
    "explore_cols = numericals + categoricals"
   ]
  },
  {
   "cell_type": "code",
   "execution_count": null,
   "id": "ebe83dd2-9b03-4443-b48c-4c00b9dadf57",
   "metadata": {},
   "outputs": [],
   "source": [
    "explore_cols"
   ]
  },
  {
   "cell_type": "markdown",
   "id": "64544135-eaef-49e2-89f3-dca2467a906e",
   "metadata": {},
   "source": [
    "  "
   ]
  },
  {
   "cell_type": "markdown",
   "id": "f72ca7cf-2102-4583-bd02-d8d01f8253b7",
   "metadata": {},
   "source": [
    "  "
   ]
  },
  {
   "cell_type": "markdown",
   "id": "70831a5b-4522-48a5-9c6d-34e6d3b3d950",
   "metadata": {},
   "source": [
    "  "
   ]
  },
  {
   "cell_type": "markdown",
   "id": "9f843b81-4637-43a8-8f06-f78cc6061386",
   "metadata": {},
   "source": [
    "## creating histograms on train[columns] numericals specifically"
   ]
  },
  {
   "cell_type": "code",
   "execution_count": null,
   "id": "4418c56c-6779-410f-b293-f44f4c613515",
   "metadata": {},
   "outputs": [],
   "source": [
    "fig, axs = plt.subplots(1,2, figsize=(20,6))\n",
    "for col, ax in zip(numericals, axs):\n",
    "    ax.hist(train[col])\n",
    "    ax.set_title(f'Distribution of {col}')\n",
    "plt.show()"
   ]
  },
  {
   "cell_type": "markdown",
   "id": "4f2bf0b9-5b7b-4e8a-8047-9125ef4bfd71",
   "metadata": {},
   "source": [
    "* Normality at first glance is pretty apperant here.\n",
    "* invoice_date: right_tailed, data is very normalized between 0 to 150, then uniform\n",
    "* total_price: Heavily concentrated around 0"
   ]
  },
  {
   "cell_type": "markdown",
   "id": "827ff53b-0032-47fd-a339-0b75b0bb8843",
   "metadata": {},
   "source": [
    "  "
   ]
  },
  {
   "cell_type": "markdown",
   "id": "f1ed67f6-ed1f-4c3a-b744-8b75a8ed327e",
   "metadata": {},
   "source": [
    "  "
   ]
  },
  {
   "cell_type": "markdown",
   "id": "90332928-1b00-4af3-aa6b-6705e587447f",
   "metadata": {},
   "source": [
    "  "
   ]
  },
  {
   "cell_type": "code",
   "execution_count": null,
   "id": "3d433b26-1ae4-4909-866e-8878c1182ef7",
   "metadata": {},
   "outputs": [],
   "source": [
    "sns.pairplot(data=train[explore_cols])\n",
    "plt.show()"
   ]
  },
  {
   "cell_type": "markdown",
   "id": "46f8bf6d-4bc4-4c2a-bfc7-ed135f57a982",
   "metadata": {},
   "source": [
    "initital observations on this info based on a pair plot:\n",
    "\n",
    "* total_price and invoice_no seems to have something, but otherwise there is a concentration near zero in this data"
   ]
  },
  {
   "cell_type": "markdown",
   "id": "d1df6aaa-8675-41bb-8866-4cd481a7ea6e",
   "metadata": {},
   "source": [
    "  "
   ]
  },
  {
   "cell_type": "markdown",
   "id": "dac87e9f-5af5-4a3d-98cf-6ab887cd6a11",
   "metadata": {},
   "source": [
    "  "
   ]
  },
  {
   "cell_type": "markdown",
   "id": "e84e38be-449e-4fa9-adfc-aa2a0d3b836b",
   "metadata": {},
   "source": [
    "  "
   ]
  },
  {
   "cell_type": "markdown",
   "id": "575d357d-450d-4639-93b5-50d2becd883e",
   "metadata": {},
   "source": [
    "  # We need to remove existing outliers that are in the pairplot.\n",
    "\n",
    "  * This means I have to reevaluate the function application prepping."
   ]
  },
  {
   "cell_type": "markdown",
   "id": "58a360b8-be3d-46f3-b979-ceb293b19d7b",
   "metadata": {},
   "source": [
    "  "
   ]
  },
  {
   "cell_type": "markdown",
   "id": "e2d944f2-46c3-4141-a94c-b3fb1395d669",
   "metadata": {},
   "source": [
    "  "
   ]
  },
  {
   "cell_type": "code",
   "execution_count": null,
   "id": "8acb6930-5ef1-42f6-8351-678ec32bb6c4",
   "metadata": {},
   "outputs": [],
   "source": [
    "train, val, test = w.train_val_test(normalize_df)"
   ]
  },
  {
   "cell_type": "code",
   "execution_count": null,
   "id": "36ac2e32-1c8d-4c33-9bd2-0fbbdefb7005",
   "metadata": {},
   "outputs": [],
   "source": [
    "train.columns"
   ]
  },
  {
   "cell_type": "code",
   "execution_count": null,
   "id": "aa93e455-1c9e-4d82-92c6-2b96c6fc6d73",
   "metadata": {},
   "outputs": [],
   "source": [
    "scaler = MinMaxScaler()\n",
    "normalize_train = scaler.fit_transform(train)"
   ]
  },
  {
   "cell_type": "code",
   "execution_count": null,
   "id": "d4487ba5-bc8f-428e-b94a-fee23831ba44",
   "metadata": {},
   "outputs": [],
   "source": [
    "normalize_train"
   ]
  },
  {
   "cell_type": "markdown",
   "id": "0289265f-c185-4775-b3e8-71e3f43505f3",
   "metadata": {},
   "source": [
    "  "
   ]
  },
  {
   "cell_type": "markdown",
   "id": "f3397c37-2207-46dd-91bb-7579304890ad",
   "metadata": {},
   "source": [
    "  "
   ]
  },
  {
   "cell_type": "markdown",
   "id": "a90f7811-8b75-4abf-b6e4-72094926faa0",
   "metadata": {},
   "source": [
    "  "
   ]
  },
  {
   "cell_type": "markdown",
   "id": "c8ab320a-7e34-4e2f-9d04-d553a2189694",
   "metadata": {},
   "source": [
    "  "
   ]
  },
  {
   "cell_type": "markdown",
   "id": "7e4e6c0d-715e-47fa-b728-a36f9fd6d2d6",
   "metadata": {},
   "source": [
    "  "
   ]
  }
 ],
 "metadata": {
  "kernelspec": {
   "display_name": "Python 3 (ipykernel)",
   "language": "python",
   "name": "python3"
  },
  "language_info": {
   "codemirror_mode": {
    "name": "ipython",
    "version": 3
   },
   "file_extension": ".py",
   "mimetype": "text/x-python",
   "name": "python",
   "nbconvert_exporter": "python",
   "pygments_lexer": "ipython3",
   "version": "3.10.9"
  }
 },
 "nbformat": 4,
 "nbformat_minor": 5
}
