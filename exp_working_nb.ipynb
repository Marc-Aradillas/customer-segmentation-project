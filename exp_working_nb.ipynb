{
 "cells": [
  {
   "cell_type": "code",
   "execution_count": 1,
   "id": "571b111c-cc41-4dc0-a34e-35cea5a3e112",
   "metadata": {},
   "outputs": [],
   "source": [
    "# imported libs\n",
    "import os\n",
    "import pandas as pd\n",
    "import numpy as np\n",
    "import matplotlib.pyplot as plt\n",
    "import seaborn as sns\n",
    "from sklearn.model_selection import train_test_split\n",
    "from sklearn.preprocessing import MinMaxScaler, StandardScaler, RobustScaler, PolynomialFeatures\n",
    "\n",
    "# local imports\n",
    "import wrangle as w\n",
    "\n",
    "# ignore warninga\n",
    "import warnings\n",
    "warnings.filterwarnings('ignore')"
   ]
  },
  {
   "cell_type": "markdown",
   "id": "3a15e5d4-2901-4942-ab88-177a9733ae8c",
   "metadata": {},
   "source": [
    "# Exploration Working Notebook"
   ]
  },
  {
   "cell_type": "code",
   "execution_count": 2,
   "id": "0cb2f7c1-fcad-4ba3-8527-a40f92414098",
   "metadata": {},
   "outputs": [],
   "source": [
    "import wrangle as w"
   ]
  },
  {
   "cell_type": "markdown",
   "id": "8d1ac563-5460-4d09-9d3b-635cc8008e97",
   "metadata": {},
   "source": [
    "  "
   ]
  },
  {
   "cell_type": "markdown",
   "id": "b61d5a40-e6d2-4bc9-9e08-7f5e83dae3c0",
   "metadata": {},
   "source": [
    "  "
   ]
  },
  {
   "cell_type": "code",
   "execution_count": null,
   "id": "d39f2fc5-765c-4deb-8060-fa3629b29503",
   "metadata": {},
   "outputs": [],
   "source": [
    "train, val, test = w.wrangle_data()\n",
    "train.shape, val.shape, test.shape"
   ]
  },
  {
   "cell_type": "code",
   "execution_count": null,
   "id": "c918d653-7ea6-4197-b56b-18942b7e939b",
   "metadata": {},
   "outputs": [],
   "source": [
    "train.head()"
   ]
  },
  {
   "cell_type": "markdown",
   "id": "8dca984c-5f1c-4816-9de2-bdcc4976f0cc",
   "metadata": {},
   "source": [
    "  "
   ]
  },
  {
   "cell_type": "markdown",
   "id": "4ffa821a-ec7c-4c1a-9b59-7703cf7be0ff",
   "metadata": {},
   "source": [
    "  "
   ]
  },
  {
   "cell_type": "code",
   "execution_count": null,
   "id": "d2e6405f-49fd-45ae-a071-c24db4bea97a",
   "metadata": {},
   "outputs": [],
   "source": [
    "train.info()"
   ]
  },
  {
   "cell_type": "markdown",
   "id": "c4443750-865b-457f-9296-b189cc62611b",
   "metadata": {},
   "source": [
    "  "
   ]
  },
  {
   "cell_type": "markdown",
   "id": "c99a021c-bdc1-4b18-9097-a84875d08f7b",
   "metadata": {},
   "source": [
    "  "
   ]
  },
  {
   "cell_type": "markdown",
   "id": "319d19af-2f54-4660-9cb3-e3aab3277b51",
   "metadata": {},
   "source": [
    "  "
   ]
  },
  {
   "cell_type": "code",
   "execution_count": null,
   "id": "5eb14458-e7eb-439c-840a-c82802b1a7f9",
   "metadata": {},
   "outputs": [],
   "source": [
    "train.describe().T"
   ]
  },
  {
   "cell_type": "markdown",
   "id": "5470e5af-6404-4e51-af9b-6811c8539669",
   "metadata": {},
   "source": [
    "  "
   ]
  },
  {
   "cell_type": "code",
   "execution_count": null,
   "id": "e2e48581-dfcc-41d9-86e6-f48ac5ee508c",
   "metadata": {},
   "outputs": [],
   "source": [
    "train.head(50)  "
   ]
  },
  {
   "cell_type": "markdown",
   "id": "63c3967d-c78e-4d2e-a331-6603fa1d3fdc",
   "metadata": {},
   "source": [
    "## New features below based on features present:"
   ]
  },
  {
   "cell_type": "code",
   "execution_count": null,
   "id": "f9945689-4a02-44ee-b7ac-e84f5eb109f0",
   "metadata": {},
   "outputs": [],
   "source": [
    "train.total_price.value_counts()"
   ]
  },
  {
   "cell_type": "markdown",
   "id": "8a0861f7-6b33-4de2-a744-ccde67da58ea",
   "metadata": {},
   "source": [
    "  "
   ]
  },
  {
   "cell_type": "markdown",
   "id": "271d2338-edc2-4294-a19d-f6348c9cc3e7",
   "metadata": {},
   "source": [
    "  "
   ]
  },
  {
   "cell_type": "markdown",
   "id": "eca18ca1-ed2c-4e79-ba03-fedd87665c1f",
   "metadata": {},
   "source": [
    "  "
   ]
  },
  {
   "cell_type": "markdown",
   "id": "1689cf58-4772-48d6-a7e6-ddd1f097ea0a",
   "metadata": {},
   "source": [
    "  "
   ]
  },
  {
   "cell_type": "code",
   "execution_count": null,
   "id": "949af44a-0ad5-4194-a3fd-4a9ecb722a2b",
   "metadata": {},
   "outputs": [],
   "source": [
    "train.total_price.head()"
   ]
  },
  {
   "cell_type": "markdown",
   "id": "a4673504-0e0a-40cc-bce4-8a5d538e0fe8",
   "metadata": {},
   "source": [
    "  "
   ]
  },
  {
   "cell_type": "markdown",
   "id": "128a4aa3-0a37-4b5b-8b94-807e43fb93bf",
   "metadata": {},
   "source": [
    "  "
   ]
  },
  {
   "cell_type": "markdown",
   "id": "25dd467a-cdf3-4154-a7c3-7edcf5fe75a7",
   "metadata": {},
   "source": [
    "  "
   ]
  },
  {
   "cell_type": "markdown",
   "id": "70cc2f66-18b1-4c91-8aab-c2615d452faf",
   "metadata": {},
   "source": [
    "## Can we see patterns, find signals in the data?\n",
    "\n",
    "## What features are driving the outcome?\n",
    "\n",
    "## Are there other features we can construct that have stronger relationships?\n",
    "\n",
    "## Visualization and statistical testing\n",
    "\n",
    "## I want to walk away from exploration with with modeling strategies (feature selection, algorithm selection, evaluation methods, etc.)."
   ]
  },
  {
   "cell_type": "markdown",
   "id": "a7bd2f89-1d12-4fb8-bef0-d79beb8975ca",
   "metadata": {},
   "source": [
    "  "
   ]
  },
  {
   "cell_type": "markdown",
   "id": "e92fd962-7944-4ef0-87d5-612d8d6a86ae",
   "metadata": {},
   "source": [
    "  "
   ]
  },
  {
   "cell_type": "markdown",
   "id": "75f4d6bb-4417-45f3-9e26-1fdd033f2d69",
   "metadata": {},
   "source": [
    "  "
   ]
  },
  {
   "cell_type": "markdown",
   "id": "bf447ee5-73e5-4d65-b28c-b5258ad42d70",
   "metadata": {},
   "source": [
    "  "
   ]
  },
  {
   "cell_type": "markdown",
   "id": "78d33728-421e-4004-9727-1e359bf03475",
   "metadata": {},
   "source": [
    "  "
   ]
  },
  {
   "cell_type": "markdown",
   "id": "ac3604bd-164e-4c34-b1c2-185b4505cb43",
   "metadata": {},
   "source": [
    "  "
   ]
  },
  {
   "cell_type": "markdown",
   "id": "5932c0bb-e376-4ed0-a981-3fd652e3bef0",
   "metadata": {},
   "source": [
    "## Lets take a look at the distributions of all features in the data\n",
    "\n",
    "## What is the distribution of numerical features?"
   ]
  },
  {
   "cell_type": "code",
   "execution_count": null,
   "id": "d7470af0-64f6-471a-b9a0-1b7fcb12d628",
   "metadata": {},
   "outputs": [],
   "source": [
    "import matplotlib.pyplot as plt\n",
    "import seaborn as sns\n",
    "\n",
    "numeric_cols = train.columns[(train.dtypes == 'float64') | (train.dtypes == 'int64')]\n",
    "\n",
    "# Created histograms for numeric columns\n",
    "for col in numeric_cols:\n",
    "    plt.figure()\n",
    "    plt.title(f'Distribution of {col}')\n",
    "    plt.xlim(0, 5000)\n",
    "    sns.histplot(data=df, x=col, bins=100)\n",
    "    plt.show()"
   ]
  },
  {
   "cell_type": "markdown",
   "id": "db75586e-537f-46d1-ac46-720a4f32e9ab",
   "metadata": {},
   "source": [
    "  "
   ]
  },
  {
   "cell_type": "markdown",
   "id": "5c6a1b35-cb08-4233-8bf2-e4715f4b35ac",
   "metadata": {},
   "source": [
    "  "
   ]
  },
  {
   "cell_type": "markdown",
   "id": "cd62fe1b-8f36-4a1e-aa52-f9eca5f0953f",
   "metadata": {},
   "source": [
    "  "
   ]
  },
  {
   "cell_type": "markdown",
   "id": "3bbb4b6c-8721-4ead-b6f1-acebf8e482c9",
   "metadata": {},
   "source": [
    "## Categorical data\n",
    "\n",
    "## What is the distribution of categorical features?"
   ]
  },
  {
   "cell_type": "code",
   "execution_count": null,
   "id": "86c86673-ac83-4a69-8414-87671161520b",
   "metadata": {},
   "outputs": [],
   "source": [
    "for col in df.columns[df.dtypes == 'object']:\n",
    "    plt.figure()\n",
    "    plt.title(f'Distribution of {col}')\n",
    "    sns.histplot(data=df, x=col)\n",
    "    plt.show()"
   ]
  },
  {
   "cell_type": "markdown",
   "id": "dd634044-0e41-4ba0-a4d3-7d51d763a97c",
   "metadata": {},
   "source": [
    "  "
   ]
  },
  {
   "cell_type": "markdown",
   "id": "9b12e313-fe3b-40dc-9a90-85fe43c6f754",
   "metadata": {},
   "source": [
    "  "
   ]
  },
  {
   "cell_type": "markdown",
   "id": "74c9dfe1-d54d-4881-a7d4-bef101ecb7bb",
   "metadata": {},
   "source": [
    "  "
   ]
  },
  {
   "cell_type": "markdown",
   "id": "4df86bf2-5e55-4356-ada2-fe429b9952d1",
   "metadata": {},
   "source": [
    "  "
   ]
  },
  {
   "cell_type": "markdown",
   "id": "97ddbd60-d872-463a-9d1a-011da92dba67",
   "metadata": {},
   "source": [
    "# What does the correlation between all numerical features?"
   ]
  },
  {
   "cell_type": "code",
   "execution_count": null,
   "id": "55aa2d9b-8a90-484c-a8d8-17c9b4e690e4",
   "metadata": {},
   "outputs": [],
   "source": [
    "sns.pairplot(data = df, corner=True)"
   ]
  },
  {
   "cell_type": "markdown",
   "id": "6b65f122-40fb-4d38-ac96-76942d91bc3d",
   "metadata": {},
   "source": [
    "  "
   ]
  },
  {
   "cell_type": "markdown",
   "id": "3cd3bb20-e969-4da1-be54-c65aa92bb8f0",
   "metadata": {},
   "source": [
    "  "
   ]
  },
  {
   "cell_type": "markdown",
   "id": "1b9679a4-6af2-4cc7-8b1e-47002e6fe48e",
   "metadata": {},
   "source": [
    "# what is the `country` count distributions within this data?"
   ]
  },
  {
   "cell_type": "code",
   "execution_count": null,
   "id": "f92543b7-a037-4a86-94a2-7ac4f2edd4c9",
   "metadata": {},
   "outputs": [],
   "source": [
    "country_cnts = df.country.value_counts()\n",
    "country_cnts = pd.DataFrame(country_cnts).reset_index()\n",
    "country_cnts = country_cnts[country_cnts['count'] > 1000]"
   ]
  },
  {
   "cell_type": "code",
   "execution_count": null,
   "id": "aa85a14a-1910-4443-aee4-0c1b0ab33525",
   "metadata": {},
   "outputs": [],
   "source": [
    "# set figsze\n",
    "plt.figure(figsize=(15, 10))\n",
    "\n",
    "# Create the bar plot\n",
    "ax = sns.barplot(data=country_cnts, x='count', y='country', palette='bright')\n",
    "\n",
    "# remove spines\n",
    "sns.despine(left=True, bottom=True)\n",
    "\n",
    "# adding values at the end of each bar\n",
    "for p in ax.patches:\n",
    "    \n",
    "    ax.annotate(f'{p.get_width():.0f}', (p.get_width(), p.get_y() + p.get_height() / 2),\n",
    "                ha='left', va='center', fontsize=10, color='black')\n",
    "\n",
    "# Remove x-tick labels, keeping the ticks\n",
    "ax.set_xticklabels([])\n",
    "ax.set_xticks([])\n",
    "\n",
    "# Remove y ticks\n",
    "ax.tick_params(axis='y', which='both', left=False)\n",
    "# ax.tick_params(axis='x', which='both', bottom=False, xlabel=None)\n",
    "\n",
    "        \n",
    "# set labels\n",
    "plt.title('Country Distribution')\n",
    "\n",
    "# capitalize the y-axis labels\n",
    "ax.set_yticklabels([label.get_text().upper() for label in ax.get_yticklabels()])\n",
    "\n",
    "plt.ylabel('Country', rotation=0, labelpad=30)\n",
    "plt.xlabel('')\n",
    "plt.tight_layout()\n",
    "plt.show()"
   ]
  },
  {
   "cell_type": "markdown",
   "id": "b88b119c-5127-4c19-a859-48b8cb3682ad",
   "metadata": {},
   "source": [
    "* The data is comprised of alot of infmormation relating to the United Kingdom"
   ]
  },
  {
   "cell_type": "markdown",
   "id": "72d4c435-6598-430b-92de-9781880f2b8a",
   "metadata": {},
   "source": [
    "  "
   ]
  },
  {
   "cell_type": "markdown",
   "id": "b815a714-29d5-4d8c-be48-2fd75f4e90fe",
   "metadata": {},
   "source": [
    "  "
   ]
  },
  {
   "cell_type": "markdown",
   "id": "12607ee1-d3e3-4cec-9928-e2ced26d674e",
   "metadata": {},
   "source": [
    "  "
   ]
  },
  {
   "cell_type": "markdown",
   "id": "68eb0230-1ed7-4cac-88c3-cb673ff59c57",
   "metadata": {},
   "source": [
    "  "
   ]
  },
  {
   "cell_type": "markdown",
   "id": "0be0ad49-6fa5-4024-974e-7ebc766b5257",
   "metadata": {},
   "source": [
    "## How does `quantity` vary with `customer_id`?"
   ]
  },
  {
   "cell_type": "code",
   "execution_count": null,
   "id": "171aa66d-46a8-4162-9de2-b671f2e6f2a2",
   "metadata": {},
   "outputs": [],
   "source": [
    "plt.figure(figsize=(10, 6))\n",
    "sns.scatterplot(x='quantity', y='customer_id', data=df)\n",
    "plt.title('Quantity vs. Customers')\n",
    "plt.xlabel('Quantity')\n",
    "plt.ylabel('Customer ID')\n",
    "plt.show()"
   ]
  },
  {
   "cell_type": "markdown",
   "id": "44e1b7db-fe4c-4fc7-8873-7f7955e84847",
   "metadata": {},
   "source": [
    "  "
   ]
  },
  {
   "cell_type": "markdown",
   "id": "934d2579-3d41-45b1-ad7f-8d5469fca015",
   "metadata": {},
   "source": [
    "  "
   ]
  },
  {
   "cell_type": "markdown",
   "id": "88f316f5-156e-4aa8-9796-0cc6a26791ed",
   "metadata": {},
   "source": [
    "  "
   ]
  },
  {
   "cell_type": "markdown",
   "id": "887b0872-c5bf-4fe1-ab31-2d9910e8a73e",
   "metadata": {},
   "source": [
    "  "
   ]
  },
  {
   "cell_type": "markdown",
   "id": "7b9f7b49-abe4-485d-b268-c89afe878d02",
   "metadata": {},
   "source": [
    "## how about `unit_price` and `customer_id`?"
   ]
  },
  {
   "cell_type": "code",
   "execution_count": null,
   "id": "f83c88fd-dd05-4ac3-bd15-698bd12f8ef0",
   "metadata": {},
   "outputs": [],
   "source": [
    "plt.figure(figsize=(10, 6))\n",
    "sns.scatterplot(x='unit_price', y='customer_id', data=df)\n",
    "plt.title('Unit Price vs. Customers')\n",
    "plt.xlabel('Unit Price')\n",
    "plt.ylabel('Customer ID')\n",
    "plt.show()"
   ]
  },
  {
   "cell_type": "markdown",
   "id": "3ec66eb1-d18d-4c65-88a0-3fc0fcdd6777",
   "metadata": {},
   "source": [
    "  "
   ]
  },
  {
   "cell_type": "markdown",
   "id": "d4d224f7-1746-4403-8121-b0fb49561bd1",
   "metadata": {},
   "source": [
    "  "
   ]
  },
  {
   "cell_type": "markdown",
   "id": "37c527d6-481b-4652-86ef-21cd55b666b9",
   "metadata": {},
   "source": [
    "  "
   ]
  },
  {
   "cell_type": "markdown",
   "id": "fba0413d-1475-4727-b2d1-e86bcb29ec75",
   "metadata": {},
   "source": [
    "  "
   ]
  },
  {
   "cell_type": "markdown",
   "id": "205a3cc9-49d7-4e9c-b071-fc88000b6f0f",
   "metadata": {},
   "source": [
    "# How would scaling and normalizing features aid in getting a better visualization of distribution that exist within this dataset?"
   ]
  },
  {
   "cell_type": "markdown",
   "id": "726731a9-9d3e-4e15-a7e8-3e1962ab9324",
   "metadata": {},
   "source": [
    "  "
   ]
  },
  {
   "cell_type": "markdown",
   "id": "fbd1e291-ea2c-4668-acbd-527b461baae4",
   "metadata": {},
   "source": [
    "  "
   ]
  },
  {
   "cell_type": "markdown",
   "id": "db2c422b-8f4a-43a5-82b2-ff1eeaf146e9",
   "metadata": {},
   "source": [
    "# Code added to prep function to handle negative values:"
   ]
  },
  {
   "cell_type": "code",
   "execution_count": null,
   "id": "c41ba5e4-221c-4956-b693-2d26b004a566",
   "metadata": {
    "jupyter": {
     "source_hidden": true
    }
   },
   "outputs": [],
   "source": [
    "# df['quantity'] = df['quantity'].apply(lambda x: max(x, 0))\n",
    "    \n",
    "# df['unit_price'] = df['unit_price'].apply(lambda x: max(x, 0))"
   ]
  },
  {
   "cell_type": "markdown",
   "id": "a999ba0c-1e3b-436c-a6fd-a7e9359105a3",
   "metadata": {},
   "source": [
    "  "
   ]
  },
  {
   "cell_type": "markdown",
   "id": "7e4e6c0d-715e-47fa-b728-a36f9fd6d2d6",
   "metadata": {},
   "source": [
    "  "
   ]
  },
  {
   "cell_type": "code",
   "execution_count": null,
   "id": "07339a95-e818-49ae-b3fe-75946f0b2a4a",
   "metadata": {},
   "outputs": [],
   "source": [
    "df = df.copy()\n",
    "\n",
    "mms = MinMaxScaler()\n",
    "\n",
    "df_scaled = mms.fit(df['quantity',\n",
    "                    'unit_price',\n",
    "                    'total_price']])\n"
   ]
  },
  {
   "cell_type": "code",
   "execution_count": null,
   "id": "3ba8716b-2f47-4cfc-8dc6-d8e792b7456c",
   "metadata": {},
   "outputs": [],
   "source": [
    "df.head()"
   ]
  },
  {
   "cell_type": "code",
   "execution_count": null,
   "id": "2790958d-f7be-4bef-80bb-97970dbbf2dc",
   "metadata": {},
   "outputs": [],
   "source": [
    "df.total_price.value_counts()"
   ]
  },
  {
   "cell_type": "code",
   "execution_count": null,
   "id": "c6518d28-9669-448f-b109-6845be6440ac",
   "metadata": {},
   "outputs": [],
   "source": [
    "sns.lineplot(x=df.index, y=df.total_price)"
   ]
  }
 ],
 "metadata": {
  "kernelspec": {
   "display_name": "Python 3 (ipykernel)",
   "language": "python",
   "name": "python3"
  },
  "language_info": {
   "codemirror_mode": {
    "name": "ipython",
    "version": 3
   },
   "file_extension": ".py",
   "mimetype": "text/x-python",
   "name": "python",
   "nbconvert_exporter": "python",
   "pygments_lexer": "ipython3",
   "version": "3.10.9"
  }
 },
 "nbformat": 4,
 "nbformat_minor": 5
}
