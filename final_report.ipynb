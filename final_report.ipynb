{
 "cells": [
  {
   "cell_type": "markdown",
   "id": "00819637-f9b4-48a6-93e5-bb512eb76c92",
   "metadata": {},
   "source": [
    "# Customer Segmentation Project"
   ]
  },
  {
   "cell_type": "markdown",
   "id": "993d9a36-02ec-4973-b1f2-06de0f2d5e6e",
   "metadata": {},
   "source": [
    "## Project Description:\n",
    "\n",
    "### This Project is about utilizing a customer segmentation datset acquired via Kaggle. The dataset is comprised of international sales transactions and description of goods being traded. The purpose is to practice refining use of unsupervised learning clustering algorithms. This is great to exercise to practice how to draw up business insights and strategies/actionable reccommendations."
   ]
  },
  {
   "cell_type": "markdown",
   "id": "e588dbba-7439-4430-8044-1f59aa3f2226",
   "metadata": {},
   "source": [
    "## Project Goal:\n",
    "\n",
    "The goal is to achieve customer segmentation and identify business insights."
   ]
  },
  {
   "cell_type": "markdown",
   "id": "99eac492-a39d-4d94-b9bb-4d75220f0efd",
   "metadata": {},
   "source": [
    "## Initital Thoughts:\n",
    "\n",
    "### The dataset is comprised of both numerical and categorical data. Features like customer IDs, unit price, quantity, and invoice dates will be set a foundation to aggregate data and highlight indicators on what is driving online customers."
   ]
  },
  {
   "cell_type": "markdown",
   "id": "02008ea0-977c-42ca-ae9d-712fb1045203",
   "metadata": {},
   "source": [
    "## The Plan\n",
    "\n",
    "* Acquire data\n",
    "* Prepare Data\n",
    "    * Check for NULL/Empty values\n",
    "    * Handle nega"
   ]
  },
  {
   "cell_type": "code",
   "execution_count": 1,
   "id": "424666f0-a156-4953-9e92-146f61fdf1d8",
   "metadata": {},
   "outputs": [],
   "source": [
    "# Ignoring warning messages\n",
    "import warnings\n",
    "warnings.filterwarnings(\"ignore\")\n",
    "\n",
    "# Local imports\n",
    "import pandas as pd\n",
    "import numpy as np\n",
    "\n",
    "# Visualization imports\n",
    "import matplotlib.pyplot as plt\n",
    "import seaborn as sns\n",
    "\n",
    "# Custom imports\n",
    "import summarize as s\n",
    "import wrangle as w\n",
    "import explore as e\n",
    "import model as m"
   ]
  }
 ],
 "metadata": {
  "kernelspec": {
   "display_name": "Python 3 (ipykernel)",
   "language": "python",
   "name": "python3"
  },
  "language_info": {
   "codemirror_mode": {
    "name": "ipython",
    "version": 3
   },
   "file_extension": ".py",
   "mimetype": "text/x-python",
   "name": "python",
   "nbconvert_exporter": "python",
   "pygments_lexer": "ipython3",
   "version": "3.10.9"
  }
 },
 "nbformat": 4,
 "nbformat_minor": 5
}
