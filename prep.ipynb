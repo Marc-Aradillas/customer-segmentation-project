{
 "cells": [
  {
   "cell_type": "code",
   "execution_count": 1,
   "id": "a1d65486-7abb-4486-8c6c-5cedd7db7598",
   "metadata": {},
   "outputs": [],
   "source": [
    "import acquire as a"
   ]
  },
  {
   "cell_type": "code",
   "execution_count": 2,
   "id": "0e04e20c-a5ce-4bd8-97df-9b8567886454",
   "metadata": {},
   "outputs": [],
   "source": [
    "df = a.acquire_data()"
   ]
  },
  {
   "cell_type": "markdown",
   "id": "0ae96896-454d-4ad8-8811-b92c2135d916",
   "metadata": {},
   "source": [
    "   "
   ]
  },
  {
   "cell_type": "markdown",
   "id": "5cd6cb13-c787-4790-98b5-6a6e4ce00116",
   "metadata": {},
   "source": [
    "   "
   ]
  },
  {
   "cell_type": "markdown",
   "id": "4e38b391-64bb-4a54-a8ba-d6ecafa4115c",
   "metadata": {},
   "source": [
    "   "
   ]
  },
  {
   "cell_type": "markdown",
   "id": "a61c9e42-709b-4121-85a7-0efc2d1cc673",
   "metadata": {},
   "source": [
    "   "
   ]
  },
  {
   "cell_type": "markdown",
   "id": "289d06d4-1c90-4309-8c9c-374c32542d17",
   "metadata": {},
   "source": [
    "## Preparation work"
   ]
  },
  {
   "cell_type": "code",
   "execution_count": 3,
   "id": "640c8c4d-00f9-44dc-89a2-c4ecebaeea2d",
   "metadata": {},
   "outputs": [],
   "source": [
    "import os\n",
    "import pandas as pd\n",
    "import numpy as np\n",
    "import matplotlib.pyplot as plt\n",
    "import seaborn as sns\n",
    "from sklearn.model_selection import train_test_split\n",
    "from sklearn.preprocessing import MinMaxScaler, StandardScaler, RobustScaler, PolynomialFeatures"
   ]
  },
  {
   "cell_type": "markdown",
   "id": "6ca2d5f1-9981-4193-a7db-76dbdd1237a0",
   "metadata": {},
   "source": [
    "   "
   ]
  },
  {
   "cell_type": "code",
   "execution_count": 4,
   "id": "60eca3d7-8785-4e17-9b46-561f18ab429c",
   "metadata": {},
   "outputs": [
    {
     "data": {
      "text/html": [
       "<div>\n",
       "<style scoped>\n",
       "    .dataframe tbody tr th:only-of-type {\n",
       "        vertical-align: middle;\n",
       "    }\n",
       "\n",
       "    .dataframe tbody tr th {\n",
       "        vertical-align: top;\n",
       "    }\n",
       "\n",
       "    .dataframe thead th {\n",
       "        text-align: right;\n",
       "    }\n",
       "</style>\n",
       "<table border=\"1\" class=\"dataframe\">\n",
       "  <thead>\n",
       "    <tr style=\"text-align: right;\">\n",
       "      <th></th>\n",
       "      <th>InvoiceNo</th>\n",
       "      <th>StockCode</th>\n",
       "      <th>Description</th>\n",
       "      <th>Quantity</th>\n",
       "      <th>InvoiceDate</th>\n",
       "      <th>UnitPrice</th>\n",
       "      <th>CustomerID</th>\n",
       "      <th>Country</th>\n",
       "    </tr>\n",
       "  </thead>\n",
       "  <tbody>\n",
       "    <tr>\n",
       "      <th>0</th>\n",
       "      <td>536365</td>\n",
       "      <td>85123A</td>\n",
       "      <td>WHITE HANGING HEART T-LIGHT HOLDER</td>\n",
       "      <td>6</td>\n",
       "      <td>2010-12-01 08:26:00</td>\n",
       "      <td>2.55</td>\n",
       "      <td>17850.0</td>\n",
       "      <td>United Kingdom</td>\n",
       "    </tr>\n",
       "    <tr>\n",
       "      <th>1</th>\n",
       "      <td>536365</td>\n",
       "      <td>71053</td>\n",
       "      <td>WHITE METAL LANTERN</td>\n",
       "      <td>6</td>\n",
       "      <td>2010-12-01 08:26:00</td>\n",
       "      <td>3.39</td>\n",
       "      <td>17850.0</td>\n",
       "      <td>United Kingdom</td>\n",
       "    </tr>\n",
       "    <tr>\n",
       "      <th>2</th>\n",
       "      <td>536365</td>\n",
       "      <td>84406B</td>\n",
       "      <td>CREAM CUPID HEARTS COAT HANGER</td>\n",
       "      <td>8</td>\n",
       "      <td>2010-12-01 08:26:00</td>\n",
       "      <td>2.75</td>\n",
       "      <td>17850.0</td>\n",
       "      <td>United Kingdom</td>\n",
       "    </tr>\n",
       "    <tr>\n",
       "      <th>3</th>\n",
       "      <td>536365</td>\n",
       "      <td>84029G</td>\n",
       "      <td>KNITTED UNION FLAG HOT WATER BOTTLE</td>\n",
       "      <td>6</td>\n",
       "      <td>2010-12-01 08:26:00</td>\n",
       "      <td>3.39</td>\n",
       "      <td>17850.0</td>\n",
       "      <td>United Kingdom</td>\n",
       "    </tr>\n",
       "    <tr>\n",
       "      <th>4</th>\n",
       "      <td>536365</td>\n",
       "      <td>84029E</td>\n",
       "      <td>RED WOOLLY HOTTIE WHITE HEART.</td>\n",
       "      <td>6</td>\n",
       "      <td>2010-12-01 08:26:00</td>\n",
       "      <td>3.39</td>\n",
       "      <td>17850.0</td>\n",
       "      <td>United Kingdom</td>\n",
       "    </tr>\n",
       "  </tbody>\n",
       "</table>\n",
       "</div>"
      ],
      "text/plain": [
       "  InvoiceNo StockCode                          Description  Quantity  \\\n",
       "0    536365    85123A   WHITE HANGING HEART T-LIGHT HOLDER         6   \n",
       "1    536365     71053                  WHITE METAL LANTERN         6   \n",
       "2    536365    84406B       CREAM CUPID HEARTS COAT HANGER         8   \n",
       "3    536365    84029G  KNITTED UNION FLAG HOT WATER BOTTLE         6   \n",
       "4    536365    84029E       RED WOOLLY HOTTIE WHITE HEART.         6   \n",
       "\n",
       "           InvoiceDate  UnitPrice  CustomerID         Country  \n",
       "0  2010-12-01 08:26:00       2.55     17850.0  United Kingdom  \n",
       "1  2010-12-01 08:26:00       3.39     17850.0  United Kingdom  \n",
       "2  2010-12-01 08:26:00       2.75     17850.0  United Kingdom  \n",
       "3  2010-12-01 08:26:00       3.39     17850.0  United Kingdom  \n",
       "4  2010-12-01 08:26:00       3.39     17850.0  United Kingdom  "
      ]
     },
     "execution_count": 4,
     "metadata": {},
     "output_type": "execute_result"
    }
   ],
   "source": [
    "df.head()"
   ]
  },
  {
   "cell_type": "code",
   "execution_count": 5,
   "id": "a6c17c79-d8f3-4799-87f6-7d942a869d62",
   "metadata": {},
   "outputs": [],
   "source": [
    "# made column names pythonic\n",
    "df.columns = [\n",
    "    col.lower().replace(' ','_') for col in df.columns\n",
    "]"
   ]
  },
  {
   "cell_type": "code",
   "execution_count": 6,
   "id": "dfcbf415-cc4a-4ffc-89a6-3efe3033de4c",
   "metadata": {},
   "outputs": [
    {
     "name": "stdout",
     "output_type": "stream",
     "text": [
      "<class 'pandas.core.frame.DataFrame'>\n",
      "RangeIndex: 541909 entries, 0 to 541908\n",
      "Data columns (total 8 columns):\n",
      " #   Column       Non-Null Count   Dtype  \n",
      "---  ------       --------------   -----  \n",
      " 0   invoiceno    541909 non-null  object \n",
      " 1   stockcode    541909 non-null  object \n",
      " 2   description  540455 non-null  object \n",
      " 3   quantity     541909 non-null  int64  \n",
      " 4   invoicedate  541909 non-null  object \n",
      " 5   unitprice    541909 non-null  float64\n",
      " 6   customerid   406829 non-null  float64\n",
      " 7   country      541909 non-null  object \n",
      "dtypes: float64(2), int64(1), object(5)\n",
      "memory usage: 33.1+ MB\n"
     ]
    }
   ],
   "source": [
    "df.info()"
   ]
  },
  {
   "cell_type": "markdown",
   "id": "0b39455e-c8c1-4748-be6c-2f23c4d257fe",
   "metadata": {},
   "source": [
    "## Why is there NaN values for customerid? is there a match for customer id and country?"
   ]
  },
  {
   "cell_type": "code",
   "execution_count": 7,
   "id": "e3b78d61-db53-400d-b03d-50741a7df39f",
   "metadata": {},
   "outputs": [
    {
     "data": {
      "text/html": [
       "<div>\n",
       "<style scoped>\n",
       "    .dataframe tbody tr th:only-of-type {\n",
       "        vertical-align: middle;\n",
       "    }\n",
       "\n",
       "    .dataframe tbody tr th {\n",
       "        vertical-align: top;\n",
       "    }\n",
       "\n",
       "    .dataframe thead th {\n",
       "        text-align: right;\n",
       "    }\n",
       "</style>\n",
       "<table border=\"1\" class=\"dataframe\">\n",
       "  <thead>\n",
       "    <tr style=\"text-align: right;\">\n",
       "      <th></th>\n",
       "      <th>invoiceno</th>\n",
       "      <th>stockcode</th>\n",
       "      <th>description</th>\n",
       "      <th>quantity</th>\n",
       "      <th>invoicedate</th>\n",
       "      <th>unitprice</th>\n",
       "      <th>customerid</th>\n",
       "      <th>country</th>\n",
       "    </tr>\n",
       "  </thead>\n",
       "  <tbody>\n",
       "    <tr>\n",
       "      <th>622</th>\n",
       "      <td>536414</td>\n",
       "      <td>22139</td>\n",
       "      <td>NaN</td>\n",
       "      <td>56</td>\n",
       "      <td>2010-12-01 11:52:00</td>\n",
       "      <td>0.00</td>\n",
       "      <td>NaN</td>\n",
       "      <td>United Kingdom</td>\n",
       "    </tr>\n",
       "    <tr>\n",
       "      <th>1443</th>\n",
       "      <td>536544</td>\n",
       "      <td>21773</td>\n",
       "      <td>DECORATIVE ROSE BATHROOM BOTTLE</td>\n",
       "      <td>1</td>\n",
       "      <td>2010-12-01 14:32:00</td>\n",
       "      <td>2.51</td>\n",
       "      <td>NaN</td>\n",
       "      <td>United Kingdom</td>\n",
       "    </tr>\n",
       "    <tr>\n",
       "      <th>1444</th>\n",
       "      <td>536544</td>\n",
       "      <td>21774</td>\n",
       "      <td>DECORATIVE CATS BATHROOM BOTTLE</td>\n",
       "      <td>2</td>\n",
       "      <td>2010-12-01 14:32:00</td>\n",
       "      <td>2.51</td>\n",
       "      <td>NaN</td>\n",
       "      <td>United Kingdom</td>\n",
       "    </tr>\n",
       "    <tr>\n",
       "      <th>1445</th>\n",
       "      <td>536544</td>\n",
       "      <td>21786</td>\n",
       "      <td>POLKADOT RAIN HAT</td>\n",
       "      <td>4</td>\n",
       "      <td>2010-12-01 14:32:00</td>\n",
       "      <td>0.85</td>\n",
       "      <td>NaN</td>\n",
       "      <td>United Kingdom</td>\n",
       "    </tr>\n",
       "    <tr>\n",
       "      <th>1446</th>\n",
       "      <td>536544</td>\n",
       "      <td>21787</td>\n",
       "      <td>RAIN PONCHO RETROSPOT</td>\n",
       "      <td>2</td>\n",
       "      <td>2010-12-01 14:32:00</td>\n",
       "      <td>1.66</td>\n",
       "      <td>NaN</td>\n",
       "      <td>United Kingdom</td>\n",
       "    </tr>\n",
       "    <tr>\n",
       "      <th>...</th>\n",
       "      <td>...</td>\n",
       "      <td>...</td>\n",
       "      <td>...</td>\n",
       "      <td>...</td>\n",
       "      <td>...</td>\n",
       "      <td>...</td>\n",
       "      <td>...</td>\n",
       "      <td>...</td>\n",
       "    </tr>\n",
       "    <tr>\n",
       "      <th>541536</th>\n",
       "      <td>581498</td>\n",
       "      <td>85099B</td>\n",
       "      <td>JUMBO BAG RED RETROSPOT</td>\n",
       "      <td>5</td>\n",
       "      <td>2011-12-09 10:26:00</td>\n",
       "      <td>4.13</td>\n",
       "      <td>NaN</td>\n",
       "      <td>United Kingdom</td>\n",
       "    </tr>\n",
       "    <tr>\n",
       "      <th>541537</th>\n",
       "      <td>581498</td>\n",
       "      <td>85099C</td>\n",
       "      <td>JUMBO  BAG BAROQUE BLACK WHITE</td>\n",
       "      <td>4</td>\n",
       "      <td>2011-12-09 10:26:00</td>\n",
       "      <td>4.13</td>\n",
       "      <td>NaN</td>\n",
       "      <td>United Kingdom</td>\n",
       "    </tr>\n",
       "    <tr>\n",
       "      <th>541538</th>\n",
       "      <td>581498</td>\n",
       "      <td>85150</td>\n",
       "      <td>LADIES &amp; GENTLEMEN METAL SIGN</td>\n",
       "      <td>1</td>\n",
       "      <td>2011-12-09 10:26:00</td>\n",
       "      <td>4.96</td>\n",
       "      <td>NaN</td>\n",
       "      <td>United Kingdom</td>\n",
       "    </tr>\n",
       "    <tr>\n",
       "      <th>541539</th>\n",
       "      <td>581498</td>\n",
       "      <td>85174</td>\n",
       "      <td>S/4 CACTI CANDLES</td>\n",
       "      <td>1</td>\n",
       "      <td>2011-12-09 10:26:00</td>\n",
       "      <td>10.79</td>\n",
       "      <td>NaN</td>\n",
       "      <td>United Kingdom</td>\n",
       "    </tr>\n",
       "    <tr>\n",
       "      <th>541540</th>\n",
       "      <td>581498</td>\n",
       "      <td>DOT</td>\n",
       "      <td>DOTCOM POSTAGE</td>\n",
       "      <td>1</td>\n",
       "      <td>2011-12-09 10:26:00</td>\n",
       "      <td>1714.17</td>\n",
       "      <td>NaN</td>\n",
       "      <td>United Kingdom</td>\n",
       "    </tr>\n",
       "  </tbody>\n",
       "</table>\n",
       "<p>135080 rows × 8 columns</p>\n",
       "</div>"
      ],
      "text/plain": [
       "       invoiceno stockcode                      description  quantity  \\\n",
       "622       536414     22139                              NaN        56   \n",
       "1443      536544     21773  DECORATIVE ROSE BATHROOM BOTTLE         1   \n",
       "1444      536544     21774  DECORATIVE CATS BATHROOM BOTTLE         2   \n",
       "1445      536544     21786               POLKADOT RAIN HAT          4   \n",
       "1446      536544     21787            RAIN PONCHO RETROSPOT         2   \n",
       "...          ...       ...                              ...       ...   \n",
       "541536    581498    85099B          JUMBO BAG RED RETROSPOT         5   \n",
       "541537    581498    85099C   JUMBO  BAG BAROQUE BLACK WHITE         4   \n",
       "541538    581498     85150    LADIES & GENTLEMEN METAL SIGN         1   \n",
       "541539    581498     85174                S/4 CACTI CANDLES         1   \n",
       "541540    581498       DOT                   DOTCOM POSTAGE         1   \n",
       "\n",
       "                invoicedate  unitprice  customerid         country  \n",
       "622     2010-12-01 11:52:00       0.00         NaN  United Kingdom  \n",
       "1443    2010-12-01 14:32:00       2.51         NaN  United Kingdom  \n",
       "1444    2010-12-01 14:32:00       2.51         NaN  United Kingdom  \n",
       "1445    2010-12-01 14:32:00       0.85         NaN  United Kingdom  \n",
       "1446    2010-12-01 14:32:00       1.66         NaN  United Kingdom  \n",
       "...                     ...        ...         ...             ...  \n",
       "541536  2011-12-09 10:26:00       4.13         NaN  United Kingdom  \n",
       "541537  2011-12-09 10:26:00       4.13         NaN  United Kingdom  \n",
       "541538  2011-12-09 10:26:00       4.96         NaN  United Kingdom  \n",
       "541539  2011-12-09 10:26:00      10.79         NaN  United Kingdom  \n",
       "541540  2011-12-09 10:26:00    1714.17         NaN  United Kingdom  \n",
       "\n",
       "[135080 rows x 8 columns]"
      ]
     },
     "execution_count": 7,
     "metadata": {},
     "output_type": "execute_result"
    }
   ],
   "source": [
    "rows_with_null = df[df.isna().any(axis=1)]\n",
    "rows_with_null"
   ]
  },
  {
   "cell_type": "code",
   "execution_count": 8,
   "id": "c63db550-dbe3-455c-aa99-f6c46697dec8",
   "metadata": {},
   "outputs": [],
   "source": [
    "columns_with_nulls = df.columns[df.isna().any(axis=0)]"
   ]
  },
  {
   "cell_type": "code",
   "execution_count": 9,
   "id": "0e4d4c3b-013e-462a-8700-a0fdf532cd3c",
   "metadata": {},
   "outputs": [
    {
     "data": {
      "text/plain": [
       "Index(['description', 'customerid'], dtype='object')"
      ]
     },
     "execution_count": 9,
     "metadata": {},
     "output_type": "execute_result"
    }
   ],
   "source": [
    "columns_with_nulls"
   ]
  },
  {
   "cell_type": "code",
   "execution_count": 10,
   "id": "b3950bc9-c040-4c27-ada1-f3ccbd79a68e",
   "metadata": {},
   "outputs": [
    {
     "name": "stdout",
     "output_type": "stream",
     "text": [
      "Rows with null values in specified columns:\n"
     ]
    },
    {
     "data": {
      "text/html": [
       "<div>\n",
       "<style scoped>\n",
       "    .dataframe tbody tr th:only-of-type {\n",
       "        vertical-align: middle;\n",
       "    }\n",
       "\n",
       "    .dataframe tbody tr th {\n",
       "        vertical-align: top;\n",
       "    }\n",
       "\n",
       "    .dataframe thead th {\n",
       "        text-align: right;\n",
       "    }\n",
       "</style>\n",
       "<table border=\"1\" class=\"dataframe\">\n",
       "  <thead>\n",
       "    <tr style=\"text-align: right;\">\n",
       "      <th></th>\n",
       "      <th>invoiceno</th>\n",
       "      <th>stockcode</th>\n",
       "      <th>description</th>\n",
       "      <th>quantity</th>\n",
       "      <th>invoicedate</th>\n",
       "      <th>unitprice</th>\n",
       "      <th>customerid</th>\n",
       "      <th>country</th>\n",
       "    </tr>\n",
       "  </thead>\n",
       "  <tbody>\n",
       "    <tr>\n",
       "      <th>622</th>\n",
       "      <td>536414</td>\n",
       "      <td>22139</td>\n",
       "      <td>NaN</td>\n",
       "      <td>56</td>\n",
       "      <td>2010-12-01 11:52:00</td>\n",
       "      <td>0.00</td>\n",
       "      <td>NaN</td>\n",
       "      <td>United Kingdom</td>\n",
       "    </tr>\n",
       "    <tr>\n",
       "      <th>1443</th>\n",
       "      <td>536544</td>\n",
       "      <td>21773</td>\n",
       "      <td>DECORATIVE ROSE BATHROOM BOTTLE</td>\n",
       "      <td>1</td>\n",
       "      <td>2010-12-01 14:32:00</td>\n",
       "      <td>2.51</td>\n",
       "      <td>NaN</td>\n",
       "      <td>United Kingdom</td>\n",
       "    </tr>\n",
       "    <tr>\n",
       "      <th>1444</th>\n",
       "      <td>536544</td>\n",
       "      <td>21774</td>\n",
       "      <td>DECORATIVE CATS BATHROOM BOTTLE</td>\n",
       "      <td>2</td>\n",
       "      <td>2010-12-01 14:32:00</td>\n",
       "      <td>2.51</td>\n",
       "      <td>NaN</td>\n",
       "      <td>United Kingdom</td>\n",
       "    </tr>\n",
       "    <tr>\n",
       "      <th>1445</th>\n",
       "      <td>536544</td>\n",
       "      <td>21786</td>\n",
       "      <td>POLKADOT RAIN HAT</td>\n",
       "      <td>4</td>\n",
       "      <td>2010-12-01 14:32:00</td>\n",
       "      <td>0.85</td>\n",
       "      <td>NaN</td>\n",
       "      <td>United Kingdom</td>\n",
       "    </tr>\n",
       "    <tr>\n",
       "      <th>1446</th>\n",
       "      <td>536544</td>\n",
       "      <td>21787</td>\n",
       "      <td>RAIN PONCHO RETROSPOT</td>\n",
       "      <td>2</td>\n",
       "      <td>2010-12-01 14:32:00</td>\n",
       "      <td>1.66</td>\n",
       "      <td>NaN</td>\n",
       "      <td>United Kingdom</td>\n",
       "    </tr>\n",
       "    <tr>\n",
       "      <th>...</th>\n",
       "      <td>...</td>\n",
       "      <td>...</td>\n",
       "      <td>...</td>\n",
       "      <td>...</td>\n",
       "      <td>...</td>\n",
       "      <td>...</td>\n",
       "      <td>...</td>\n",
       "      <td>...</td>\n",
       "    </tr>\n",
       "    <tr>\n",
       "      <th>541536</th>\n",
       "      <td>581498</td>\n",
       "      <td>85099B</td>\n",
       "      <td>JUMBO BAG RED RETROSPOT</td>\n",
       "      <td>5</td>\n",
       "      <td>2011-12-09 10:26:00</td>\n",
       "      <td>4.13</td>\n",
       "      <td>NaN</td>\n",
       "      <td>United Kingdom</td>\n",
       "    </tr>\n",
       "    <tr>\n",
       "      <th>541537</th>\n",
       "      <td>581498</td>\n",
       "      <td>85099C</td>\n",
       "      <td>JUMBO  BAG BAROQUE BLACK WHITE</td>\n",
       "      <td>4</td>\n",
       "      <td>2011-12-09 10:26:00</td>\n",
       "      <td>4.13</td>\n",
       "      <td>NaN</td>\n",
       "      <td>United Kingdom</td>\n",
       "    </tr>\n",
       "    <tr>\n",
       "      <th>541538</th>\n",
       "      <td>581498</td>\n",
       "      <td>85150</td>\n",
       "      <td>LADIES &amp; GENTLEMEN METAL SIGN</td>\n",
       "      <td>1</td>\n",
       "      <td>2011-12-09 10:26:00</td>\n",
       "      <td>4.96</td>\n",
       "      <td>NaN</td>\n",
       "      <td>United Kingdom</td>\n",
       "    </tr>\n",
       "    <tr>\n",
       "      <th>541539</th>\n",
       "      <td>581498</td>\n",
       "      <td>85174</td>\n",
       "      <td>S/4 CACTI CANDLES</td>\n",
       "      <td>1</td>\n",
       "      <td>2011-12-09 10:26:00</td>\n",
       "      <td>10.79</td>\n",
       "      <td>NaN</td>\n",
       "      <td>United Kingdom</td>\n",
       "    </tr>\n",
       "    <tr>\n",
       "      <th>541540</th>\n",
       "      <td>581498</td>\n",
       "      <td>DOT</td>\n",
       "      <td>DOTCOM POSTAGE</td>\n",
       "      <td>1</td>\n",
       "      <td>2011-12-09 10:26:00</td>\n",
       "      <td>1714.17</td>\n",
       "      <td>NaN</td>\n",
       "      <td>United Kingdom</td>\n",
       "    </tr>\n",
       "  </tbody>\n",
       "</table>\n",
       "<p>135080 rows × 8 columns</p>\n",
       "</div>"
      ],
      "text/plain": [
       "       invoiceno stockcode                      description  quantity  \\\n",
       "622       536414     22139                              NaN        56   \n",
       "1443      536544     21773  DECORATIVE ROSE BATHROOM BOTTLE         1   \n",
       "1444      536544     21774  DECORATIVE CATS BATHROOM BOTTLE         2   \n",
       "1445      536544     21786               POLKADOT RAIN HAT          4   \n",
       "1446      536544     21787            RAIN PONCHO RETROSPOT         2   \n",
       "...          ...       ...                              ...       ...   \n",
       "541536    581498    85099B          JUMBO BAG RED RETROSPOT         5   \n",
       "541537    581498    85099C   JUMBO  BAG BAROQUE BLACK WHITE         4   \n",
       "541538    581498     85150    LADIES & GENTLEMEN METAL SIGN         1   \n",
       "541539    581498     85174                S/4 CACTI CANDLES         1   \n",
       "541540    581498       DOT                   DOTCOM POSTAGE         1   \n",
       "\n",
       "                invoicedate  unitprice  customerid         country  \n",
       "622     2010-12-01 11:52:00       0.00         NaN  United Kingdom  \n",
       "1443    2010-12-01 14:32:00       2.51         NaN  United Kingdom  \n",
       "1444    2010-12-01 14:32:00       2.51         NaN  United Kingdom  \n",
       "1445    2010-12-01 14:32:00       0.85         NaN  United Kingdom  \n",
       "1446    2010-12-01 14:32:00       1.66         NaN  United Kingdom  \n",
       "...                     ...        ...         ...             ...  \n",
       "541536  2011-12-09 10:26:00       4.13         NaN  United Kingdom  \n",
       "541537  2011-12-09 10:26:00       4.13         NaN  United Kingdom  \n",
       "541538  2011-12-09 10:26:00       4.96         NaN  United Kingdom  \n",
       "541539  2011-12-09 10:26:00      10.79         NaN  United Kingdom  \n",
       "541540  2011-12-09 10:26:00    1714.17         NaN  United Kingdom  \n",
       "\n",
       "[135080 rows x 8 columns]"
      ]
     },
     "execution_count": 10,
     "metadata": {},
     "output_type": "execute_result"
    }
   ],
   "source": [
    "# Select rows where any of the specified columns have null values\n",
    "rows_with_nulls = df[df[columns_with_nulls].isnull().any(axis=1)]\n",
    "\n",
    "print(\"Rows with null values in specified columns:\")\n",
    "rows_with_nulls"
   ]
  },
  {
   "cell_type": "markdown",
   "id": "34b973f8-54b4-4d32-851c-d14963093aad",
   "metadata": {},
   "source": [
    "## Customerids aren't unique to each country in the dataset"
   ]
  },
  {
   "cell_type": "code",
   "execution_count": 11,
   "id": "8c1afd92-065b-4b0c-b42a-bfcc0033b227",
   "metadata": {},
   "outputs": [
    {
     "data": {
      "text/plain": [
       "customerid  country       \n",
       "17841.0     United Kingdom    7983\n",
       "14911.0     EIRE              5903\n",
       "14096.0     United Kingdom    5128\n",
       "12748.0     United Kingdom    4642\n",
       "14606.0     United Kingdom    2782\n",
       "                              ... \n",
       "14351.0     United Kingdom       1\n",
       "15562.0     United Kingdom       1\n",
       "17065.0     United Kingdom       1\n",
       "15070.0     United Kingdom       1\n",
       "14090.0     United Kingdom       1\n",
       "Name: count, Length: 4380, dtype: int64"
      ]
     },
     "execution_count": 11,
     "metadata": {},
     "output_type": "execute_result"
    }
   ],
   "source": [
    "df[['customerid','country']].value_counts()"
   ]
  },
  {
   "cell_type": "markdown",
   "id": "89f12a2a-bef3-4354-ac3e-96647b99f55e",
   "metadata": {},
   "source": [
    "  "
   ]
  },
  {
   "cell_type": "markdown",
   "id": "df641ccc-1422-4dde-bd3d-1dd3abb8dc8d",
   "metadata": {},
   "source": [
    "   "
   ]
  },
  {
   "cell_type": "code",
   "execution_count": 12,
   "id": "1e326eea-833d-4c01-bede-662a44a1e31f",
   "metadata": {},
   "outputs": [],
   "source": [
    "country_cnts = df.country.value_counts()"
   ]
  },
  {
   "cell_type": "markdown",
   "id": "94dfa788-a8da-415b-9fd5-9f6956da4ab9",
   "metadata": {},
   "source": [
    "  "
   ]
  },
  {
   "cell_type": "code",
   "execution_count": 13,
   "id": "3072bf65-6789-4e39-91b3-36c523248556",
   "metadata": {},
   "outputs": [],
   "source": [
    "country_cnts = pd.DataFrame(country_cnts).reset_index()"
   ]
  },
  {
   "cell_type": "markdown",
   "id": "aba82b94-555b-4d5b-b2fd-1d0fc85be4a8",
   "metadata": {},
   "source": [
    "  "
   ]
  },
  {
   "cell_type": "code",
   "execution_count": 14,
   "id": "af31f270-de2e-4b46-8038-1181d3095001",
   "metadata": {},
   "outputs": [],
   "source": [
    "country_cnts = country_cnts[country_cnts['count'] > 1000]"
   ]
  },
  {
   "cell_type": "markdown",
   "id": "e83b1e95-efb0-458c-baa9-cd3f40df2bc6",
   "metadata": {},
   "source": [
    "  "
   ]
  },
  {
   "cell_type": "code",
   "execution_count": 15,
   "id": "61dff3cd-437a-43f7-a811-a98a5e326a0e",
   "metadata": {
    "scrolled": true
   },
   "outputs": [],
   "source": [
    "# plt.figure(figsize=(12, 8))\n",
    "\n",
    "# sns.barplot(data=country_cnts, x='count', y='country', palette='bright')\n",
    "# plt.title('Country Distribution')\n",
    "# plt.ylabel('Country', rotation=0)\n",
    "# plt.tight_layout()\n",
    "# plt.show()"
   ]
  },
  {
   "cell_type": "code",
   "execution_count": 16,
   "id": "88791f63-07d0-4797-82b2-6f734e45119c",
   "metadata": {},
   "outputs": [
    {
     "name": "stderr",
     "output_type": "stream",
     "text": [
      "/var/folders/hz/r10rvhgs41x5bxdmg79hksdw0000gn/T/ipykernel_40556/3697237330.py:5: FutureWarning: \n",
      "\n",
      "Passing `palette` without assigning `hue` is deprecated and will be removed in v0.14.0. Assign the `y` variable to `hue` and set `legend=False` for the same effect.\n",
      "\n",
      "  ax = sns.barplot(data=country_cnts, x='count', y='country', palette='bright')\n",
      "/var/folders/hz/r10rvhgs41x5bxdmg79hksdw0000gn/T/ipykernel_40556/3697237330.py:29: UserWarning: set_ticklabels() should only be used with a fixed number of ticks, i.e. after set_ticks() or using a FixedLocator.\n",
      "  ax.set_yticklabels([label.get_text().upper() for label in ax.get_yticklabels()])\n"
     ]
    },
    {
     "data": {
      "image/png": "[encoded data removed]",
      "text/plain": [
       "<Figure size 1500x1000 with 1 Axes>"
      ]
     },
     "metadata": {},
     "output_type": "display_data"
    }
   ],
   "source": [
    "# set figsze\n",
    "plt.figure(figsize=(15, 10))\n",
    "\n",
    "# Create the bar plot\n",
    "ax = sns.barplot(data=country_cnts, x='count', y='country', palette='bright')\n",
    "\n",
    "# remove spines\n",
    "sns.despine(left=True, bottom=True)\n",
    "\n",
    "# adding values at the end of each bar\n",
    "for p in ax.patches:\n",
    "    \n",
    "    ax.annotate(f'{p.get_width():.0f}', (p.get_width(), p.get_y() + p.get_height() / 2),\n",
    "                ha='left', va='center', fontsize=10, color='black')\n",
    "\n",
    "# Remove x-tick labels, keeping the ticks\n",
    "ax.set_xticklabels([])\n",
    "ax.set_xticks([])\n",
    "\n",
    "# Remove y ticks\n",
    "ax.tick_params(axis='y', which='both', left=False)\n",
    "# ax.tick_params(axis='x', which='both', bottom=False, xlabel=None)\n",
    "\n",
    "        \n",
    "# set labels\n",
    "plt.title('Country Distribution')\n",
    "\n",
    "# capitalize the y-axis labels\n",
    "ax.set_yticklabels([label.get_text().upper() for label in ax.get_yticklabels()])\n",
    "\n",
    "plt.ylabel('Country', rotation=0, labelpad=30)\n",
    "plt.xlabel('')\n",
    "plt.tight_layout()\n",
    "plt.show()"
   ]
  },
  {
   "cell_type": "markdown",
   "id": "7fa47a84-58c6-4d0d-956f-1d406f4b1f22",
   "metadata": {},
   "source": [
    "  "
   ]
  },
  {
   "cell_type": "markdown",
   "id": "b810ee32-4c39-4df9-b24d-419e1b0804ee",
   "metadata": {},
   "source": [
    "  "
   ]
  },
  {
   "cell_type": "markdown",
   "id": "d60ab38c-dd8b-4481-ae30-0c4e75aa31f8",
   "metadata": {},
   "source": [
    "  "
   ]
  },
  {
   "cell_type": "markdown",
   "id": "55cc9b5e-760f-43aa-aec6-3e774649c73c",
   "metadata": {},
   "source": [
    "# Based on this visual we can see that all countries that appear over 1000X within this dataset"
   ]
  },
  {
   "cell_type": "markdown",
   "id": "ccf9283d-3cae-41b4-97c9-45c49f504ad2",
   "metadata": {},
   "source": [
    "  "
   ]
  },
  {
   "cell_type": "markdown",
   "id": "5c801cc1-4ac9-45e4-bdcf-1244d72937c1",
   "metadata": {},
   "source": [
    "  "
   ]
  },
  {
   "cell_type": "markdown",
   "id": "88383c34-c38a-433e-80b0-64931d607906",
   "metadata": {},
   "source": [
    "  "
   ]
  },
  {
   "cell_type": "markdown",
   "id": "983c84c3-606a-4941-a364-1cab4d186f20",
   "metadata": {},
   "source": [
    "# what are the distributions that exist in this dataset?"
   ]
  },
  {
   "cell_type": "code",
   "execution_count": 31,
   "id": "48ebe1b5-7153-4c61-8062-becf72f8176b",
   "metadata": {},
   "outputs": [
    {
     "data": {
      "image/png": "[encoded data removed]",
      "text/plain": [
       "<Figure size 640x480 with 1 Axes>"
      ]
     },
     "metadata": {},
     "output_type": "display_data"
    },
    {
     "data": {
      "image/png": "[encoded data removed]",
      "text/plain": [
       "<Figure size 640x480 with 1 Axes>"
      ]
     },
     "metadata": {},
     "output_type": "display_data"
    },
    {
     "data": {
      "image/png": "[encoded data removed]",
      "text/plain": [
       "<Figure size 640x480 with 1 Axes>"
      ]
     },
     "metadata": {},
     "output_type": "display_data"
    }
   ],
   "source": [
    "numeric_cols = df.columns[(df.dtypes == 'float64') | (df.dtypes == 'int64')]\n",
    "\n",
    "# Create histograms for selected columns\n",
    "for col in numeric_cols:\n",
    "    plt.figure()\n",
    "    plt.title(f'Distribution of {col}')\n",
    "    sns.histplot(data=df, x=col)\n",
    "    plt.show()"
   ]
  },
  {
   "cell_type": "markdown",
   "id": "a8b7f332-2099-492f-a646-fe6caacf16d9",
   "metadata": {},
   "source": [
    "  "
   ]
  },
  {
   "cell_type": "markdown",
   "id": "8625e76b-1647-4a6e-a245-251d0ffe56a8",
   "metadata": {},
   "source": [
    "  "
   ]
  },
  {
   "cell_type": "markdown",
   "id": "16a5b323-40c7-46e7-9c29-586104a8f3c8",
   "metadata": {},
   "source": [
    "  "
   ]
  },
  {
   "cell_type": "markdown",
   "id": "03b34c00-7663-479f-b7bc-24451de2d215",
   "metadata": {},
   "source": [
    "  "
   ]
  },
  {
   "cell_type": "code",
   "execution_count": 62,
   "id": "cdcb71eb-7321-4314-b11b-2e5fdef52139",
   "metadata": {},
   "outputs": [
    {
     "data": {
      "image/png": "[encoded data removed]",
      "text/plain": [
       "<Figure size 640x480 with 1 Axes>"
      ]
     },
     "metadata": {},
     "output_type": "display_data"
    },
    {
     "data": {
      "image/png": "[encoded data removed]",
      "text/plain": [
       "<Figure size 640x480 with 1 Axes>"
      ]
     },
     "metadata": {},
     "output_type": "display_data"
    },
    {
     "data": {
      "image/png": "[encoded data removed]",
      "text/plain": [
       "<Figure size 640x480 with 1 Axes>"
      ]
     },
     "metadata": {},
     "output_type": "display_data"
    },
    {
     "data": {
      "image/png": "[encoded data removed]",
      "text/plain": [
       "<Figure size 640x480 with 1 Axes>"
      ]
     },
     "metadata": {},
     "output_type": "display_data"
    },
    {
     "data": {
      "image/png": "[encoded data removed]",
      "text/plain": [
       "<Figure size 640x480 with 1 Axes>"
      ]
     },
     "metadata": {},
     "output_type": "display_data"
    }
   ],
   "source": [
    "for col in df.columns[df.dtypes == 'object']:\n",
    "    plt.figure()\n",
    "    plt.title(f'Distribution of {col}')\n",
    "    sns.histplot(data=df, x=col)\n",
    "    plt.show()"
   ]
  },
  {
   "cell_type": "markdown",
   "id": "cfeb74ff-eeb9-45ab-a89c-6c723f99e69a",
   "metadata": {},
   "source": [
    "  "
   ]
  },
  {
   "cell_type": "markdown",
   "id": "369f1541-e5ee-4565-a75f-a7a6f26cf328",
   "metadata": {},
   "source": [
    "  "
   ]
  },
  {
   "cell_type": "markdown",
   "id": "7817daeb-fd0d-4596-ad85-ee3ba677366c",
   "metadata": {},
   "source": [
    "  "
   ]
  },
  {
   "cell_type": "markdown",
   "id": "656726cf-872f-4fc9-84eb-29f7f87bc4eb",
   "metadata": {},
   "source": [
    "  "
   ]
  },
  {
   "cell_type": "markdown",
   "id": "367d8713-2616-47c6-b2b4-a042d8fbde8f",
   "metadata": {},
   "source": [
    "# the number of na values is 135080, is it worth trying to salvage this data?"
   ]
  },
  {
   "cell_type": "code",
   "execution_count": 17,
   "id": "264449cf-757e-4bca-b496-3aa41975cec5",
   "metadata": {},
   "outputs": [
    {
     "data": {
      "text/plain": [
       "405732"
      ]
     },
     "execution_count": 17,
     "metadata": {},
     "output_type": "execute_result"
    }
   ],
   "source": [
    "541540 - 135808"
   ]
  },
  {
   "cell_type": "markdown",
   "id": "8bc8bba5-7437-4770-a7fe-524be2e20539",
   "metadata": {},
   "source": [
    "  "
   ]
  },
  {
   "cell_type": "markdown",
   "id": "30f9ea72-196f-4870-9e07-a8a2bf45ce55",
   "metadata": {},
   "source": [
    "  "
   ]
  },
  {
   "cell_type": "markdown",
   "id": "0322fde2-3e06-4247-a45b-407bc1a7c8ee",
   "metadata": {},
   "source": [
    "## This is 25% of the dataset"
   ]
  },
  {
   "cell_type": "markdown",
   "id": "c5463656-9aab-4b94-9f76-4e7e60e1a305",
   "metadata": {},
   "source": [
    "  "
   ]
  },
  {
   "cell_type": "markdown",
   "id": "305e8007-6129-48ff-8651-c3eb4924fe36",
   "metadata": {},
   "source": [
    "  "
   ]
  },
  {
   "cell_type": "markdown",
   "id": "85258621-3401-489f-a493-bc4f0b91d859",
   "metadata": {},
   "source": [
    "## what patterns or reasons are there for this missing data?, is there a way to impute or fill this with other info or infered based on context?"
   ]
  },
  {
   "cell_type": "markdown",
   "id": "7ab41cdc-c4b9-4c9e-a5c3-67858949393d",
   "metadata": {},
   "source": [
    "  "
   ]
  },
  {
   "cell_type": "code",
   "execution_count": 18,
   "id": "a9f95ab1-5656-4480-8ba0-076d4117e739",
   "metadata": {},
   "outputs": [
    {
     "data": {
      "text/plain": [
       "country\n",
       "United Kingdom    133600\n",
       "EIRE                 711\n",
       "Hong Kong            288\n",
       "Unspecified          202\n",
       "Switzerland          125\n",
       "France                66\n",
       "Israel                47\n",
       "Portugal              39\n",
       "Bahrain                2\n",
       "Name: count, dtype: int64"
      ]
     },
     "execution_count": 18,
     "metadata": {},
     "output_type": "execute_result"
    }
   ],
   "source": [
    "rows_with_nulls.country.value_counts()"
   ]
  },
  {
   "cell_type": "markdown",
   "id": "e3be92a0-0969-4333-8c94-8a0331b00e87",
   "metadata": {},
   "source": [
    "  "
   ]
  },
  {
   "cell_type": "markdown",
   "id": "ecb74219-1cef-4a45-ae11-36dc14a4d891",
   "metadata": {},
   "source": [
    "  "
   ]
  },
  {
   "cell_type": "code",
   "execution_count": 19,
   "id": "30b3c9b5-3329-49c7-93eb-82d4a0e56f67",
   "metadata": {},
   "outputs": [
    {
     "data": {
      "text/html": [
       "<div>\n",
       "<style scoped>\n",
       "    .dataframe tbody tr th:only-of-type {\n",
       "        vertical-align: middle;\n",
       "    }\n",
       "\n",
       "    .dataframe tbody tr th {\n",
       "        vertical-align: top;\n",
       "    }\n",
       "\n",
       "    .dataframe thead th {\n",
       "        text-align: right;\n",
       "    }\n",
       "</style>\n",
       "<table border=\"1\" class=\"dataframe\">\n",
       "  <thead>\n",
       "    <tr style=\"text-align: right;\">\n",
       "      <th></th>\n",
       "      <th>invoiceno</th>\n",
       "      <th>stockcode</th>\n",
       "      <th>description</th>\n",
       "      <th>quantity</th>\n",
       "      <th>invoicedate</th>\n",
       "      <th>unitprice</th>\n",
       "      <th>customerid</th>\n",
       "      <th>country</th>\n",
       "    </tr>\n",
       "  </thead>\n",
       "  <tbody>\n",
       "    <tr>\n",
       "      <th>6353</th>\n",
       "      <td>536885</td>\n",
       "      <td>21832</td>\n",
       "      <td>CHOCOLATE CALCULATOR</td>\n",
       "      <td>24</td>\n",
       "      <td>2010-12-03 11:42:00</td>\n",
       "      <td>1.65</td>\n",
       "      <td>NaN</td>\n",
       "      <td>EIRE</td>\n",
       "    </tr>\n",
       "    <tr>\n",
       "      <th>6354</th>\n",
       "      <td>536885</td>\n",
       "      <td>21523</td>\n",
       "      <td>DOORMAT FANCY FONT HOME SWEET HOME</td>\n",
       "      <td>10</td>\n",
       "      <td>2010-12-03 11:42:00</td>\n",
       "      <td>6.75</td>\n",
       "      <td>NaN</td>\n",
       "      <td>EIRE</td>\n",
       "    </tr>\n",
       "    <tr>\n",
       "      <th>6355</th>\n",
       "      <td>536885</td>\n",
       "      <td>48184</td>\n",
       "      <td>DOORMAT ENGLISH ROSE</td>\n",
       "      <td>10</td>\n",
       "      <td>2010-12-03 11:42:00</td>\n",
       "      <td>6.75</td>\n",
       "      <td>NaN</td>\n",
       "      <td>EIRE</td>\n",
       "    </tr>\n",
       "    <tr>\n",
       "      <th>6356</th>\n",
       "      <td>536885</td>\n",
       "      <td>22837</td>\n",
       "      <td>HOT WATER BOTTLE BABUSHKA</td>\n",
       "      <td>24</td>\n",
       "      <td>2010-12-03 11:42:00</td>\n",
       "      <td>4.65</td>\n",
       "      <td>NaN</td>\n",
       "      <td>EIRE</td>\n",
       "    </tr>\n",
       "    <tr>\n",
       "      <th>6357</th>\n",
       "      <td>536885</td>\n",
       "      <td>22632</td>\n",
       "      <td>HAND WARMER RED RETROSPOT</td>\n",
       "      <td>12</td>\n",
       "      <td>2010-12-03 11:42:00</td>\n",
       "      <td>2.10</td>\n",
       "      <td>NaN</td>\n",
       "      <td>EIRE</td>\n",
       "    </tr>\n",
       "    <tr>\n",
       "      <th>...</th>\n",
       "      <td>...</td>\n",
       "      <td>...</td>\n",
       "      <td>...</td>\n",
       "      <td>...</td>\n",
       "      <td>...</td>\n",
       "      <td>...</td>\n",
       "      <td>...</td>\n",
       "      <td>...</td>\n",
       "    </tr>\n",
       "    <tr>\n",
       "      <th>518850</th>\n",
       "      <td>580124</td>\n",
       "      <td>23212</td>\n",
       "      <td>HEART WREATH DECORATION WITH BELL</td>\n",
       "      <td>12</td>\n",
       "      <td>2011-12-01 17:12:00</td>\n",
       "      <td>1.25</td>\n",
       "      <td>NaN</td>\n",
       "      <td>EIRE</td>\n",
       "    </tr>\n",
       "    <tr>\n",
       "      <th>518851</th>\n",
       "      <td>580124</td>\n",
       "      <td>23311</td>\n",
       "      <td>VINTAGE CHRISTMAS STOCKING</td>\n",
       "      <td>6</td>\n",
       "      <td>2011-12-01 17:12:00</td>\n",
       "      <td>2.55</td>\n",
       "      <td>NaN</td>\n",
       "      <td>EIRE</td>\n",
       "    </tr>\n",
       "    <tr>\n",
       "      <th>518852</th>\n",
       "      <td>580124</td>\n",
       "      <td>23312</td>\n",
       "      <td>VINTAGE CHRISTMAS GIFT SACK</td>\n",
       "      <td>8</td>\n",
       "      <td>2011-12-01 17:12:00</td>\n",
       "      <td>4.15</td>\n",
       "      <td>NaN</td>\n",
       "      <td>EIRE</td>\n",
       "    </tr>\n",
       "    <tr>\n",
       "      <th>518853</th>\n",
       "      <td>580124</td>\n",
       "      <td>22834</td>\n",
       "      <td>HAND WARMER BABUSHKA DESIGN</td>\n",
       "      <td>24</td>\n",
       "      <td>2011-12-01 17:12:00</td>\n",
       "      <td>2.10</td>\n",
       "      <td>NaN</td>\n",
       "      <td>EIRE</td>\n",
       "    </tr>\n",
       "    <tr>\n",
       "      <th>518854</th>\n",
       "      <td>580124</td>\n",
       "      <td>C2</td>\n",
       "      <td>CARRIAGE</td>\n",
       "      <td>1</td>\n",
       "      <td>2011-12-01 17:12:00</td>\n",
       "      <td>50.00</td>\n",
       "      <td>NaN</td>\n",
       "      <td>EIRE</td>\n",
       "    </tr>\n",
       "  </tbody>\n",
       "</table>\n",
       "<p>1480 rows × 8 columns</p>\n",
       "</div>"
      ],
      "text/plain": [
       "       invoiceno stockcode                         description  quantity  \\\n",
       "6353      536885     21832                CHOCOLATE CALCULATOR        24   \n",
       "6354      536885     21523  DOORMAT FANCY FONT HOME SWEET HOME        10   \n",
       "6355      536885     48184               DOORMAT ENGLISH ROSE         10   \n",
       "6356      536885     22837          HOT WATER BOTTLE BABUSHKA         24   \n",
       "6357      536885     22632           HAND WARMER RED RETROSPOT        12   \n",
       "...          ...       ...                                 ...       ...   \n",
       "518850    580124     23212   HEART WREATH DECORATION WITH BELL        12   \n",
       "518851    580124     23311         VINTAGE CHRISTMAS STOCKING          6   \n",
       "518852    580124     23312         VINTAGE CHRISTMAS GIFT SACK         8   \n",
       "518853    580124     22834         HAND WARMER BABUSHKA DESIGN        24   \n",
       "518854    580124        C2                            CARRIAGE         1   \n",
       "\n",
       "                invoicedate  unitprice  customerid country  \n",
       "6353    2010-12-03 11:42:00       1.65         NaN    EIRE  \n",
       "6354    2010-12-03 11:42:00       6.75         NaN    EIRE  \n",
       "6355    2010-12-03 11:42:00       6.75         NaN    EIRE  \n",
       "6356    2010-12-03 11:42:00       4.65         NaN    EIRE  \n",
       "6357    2010-12-03 11:42:00       2.10         NaN    EIRE  \n",
       "...                     ...        ...         ...     ...  \n",
       "518850  2011-12-01 17:12:00       1.25         NaN    EIRE  \n",
       "518851  2011-12-01 17:12:00       2.55         NaN    EIRE  \n",
       "518852  2011-12-01 17:12:00       4.15         NaN    EIRE  \n",
       "518853  2011-12-01 17:12:00       2.10         NaN    EIRE  \n",
       "518854  2011-12-01 17:12:00      50.00         NaN    EIRE  \n",
       "\n",
       "[1480 rows x 8 columns]"
      ]
     },
     "execution_count": 19,
     "metadata": {},
     "output_type": "execute_result"
    }
   ],
   "source": [
    "rows_nouk_nulls = rows_with_nulls[rows_with_nulls.country != 'United Kingdom']\n",
    "rows_nouk_nulls"
   ]
  },
  {
   "cell_type": "markdown",
   "id": "9fce2699-bd95-4967-b1cd-cbac62d7d8ef",
   "metadata": {},
   "source": [
    "  "
   ]
  },
  {
   "cell_type": "markdown",
   "id": "6b65ce61-4c67-4c05-a05a-7e7f2d36b090",
   "metadata": {},
   "source": [
    "  "
   ]
  },
  {
   "cell_type": "markdown",
   "id": "86c7d912-ed96-4c20-8b72-2accc61cde82",
   "metadata": {},
   "source": [
    "## I don't think we need unspecified countries."
   ]
  },
  {
   "cell_type": "code",
   "execution_count": 20,
   "id": "1bf74489-2252-4de6-b96f-f4a44a6c4ef4",
   "metadata": {},
   "outputs": [
    {
     "data": {
      "text/plain": [
       "country\n",
       "EIRE           711\n",
       "Hong Kong      288\n",
       "Unspecified    202\n",
       "Switzerland    125\n",
       "France          66\n",
       "Israel          47\n",
       "Portugal        39\n",
       "Bahrain          2\n",
       "Name: count, dtype: int64"
      ]
     },
     "execution_count": 20,
     "metadata": {},
     "output_type": "execute_result"
    }
   ],
   "source": [
    "rows_nouk_nulls.country.value_counts()"
   ]
  },
  {
   "cell_type": "markdown",
   "id": "69e406e5-686b-4cdf-945a-30e10bad1508",
   "metadata": {},
   "source": [
    "## how do unique values help here?"
   ]
  },
  {
   "cell_type": "code",
   "execution_count": 21,
   "id": "b341c446-5785-469a-823f-aceb1eb866a0",
   "metadata": {},
   "outputs": [
    {
     "data": {
      "text/plain": [
       "invoiceno       73\n",
       "stockcode      735\n",
       "description    742\n",
       "quantity        50\n",
       "invoicedate     73\n",
       "unitprice       73\n",
       "customerid       0\n",
       "country          8\n",
       "dtype: int64"
      ]
     },
     "execution_count": 21,
     "metadata": {},
     "output_type": "execute_result"
    }
   ],
   "source": [
    "rows_nouk_nulls.nunique()"
   ]
  },
  {
   "cell_type": "markdown",
   "id": "5bd2339c-b2b3-4ce1-aefa-26936ecf6156",
   "metadata": {},
   "source": [
    "  "
   ]
  },
  {
   "cell_type": "markdown",
   "id": "495e1dbb-fc72-4aad-8ad4-d486648e2cd3",
   "metadata": {},
   "source": [
    "  "
   ]
  },
  {
   "cell_type": "markdown",
   "id": "80728aad-0bba-472f-b9c0-b27535571d4c",
   "metadata": {},
   "source": [
    "  "
   ]
  },
  {
   "cell_type": "markdown",
   "id": "e0df17b5-3bf2-4597-87b1-4db67694b6ac",
   "metadata": {},
   "source": [
    "## UK is comprised of so many nulls\n",
    "- would it add value to the data evaluation if there are observations with a unit price of 0.0?"
   ]
  },
  {
   "cell_type": "code",
   "execution_count": 22,
   "id": "0536cb98-fefe-42cd-96bd-16cb2157732d",
   "metadata": {},
   "outputs": [
    {
     "name": "stdout",
     "output_type": "stream",
     "text": [
      "country\n",
      "United Kingdom    1454\n",
      "Name: count, dtype: int64\n"
     ]
    },
    {
     "data": {
      "text/html": [
       "<div>\n",
       "<style scoped>\n",
       "    .dataframe tbody tr th:only-of-type {\n",
       "        vertical-align: middle;\n",
       "    }\n",
       "\n",
       "    .dataframe tbody tr th {\n",
       "        vertical-align: top;\n",
       "    }\n",
       "\n",
       "    .dataframe thead th {\n",
       "        text-align: right;\n",
       "    }\n",
       "</style>\n",
       "<table border=\"1\" class=\"dataframe\">\n",
       "  <thead>\n",
       "    <tr style=\"text-align: right;\">\n",
       "      <th></th>\n",
       "      <th>invoiceno</th>\n",
       "      <th>stockcode</th>\n",
       "      <th>description</th>\n",
       "      <th>quantity</th>\n",
       "      <th>invoicedate</th>\n",
       "      <th>unitprice</th>\n",
       "      <th>customerid</th>\n",
       "      <th>country</th>\n",
       "    </tr>\n",
       "  </thead>\n",
       "  <tbody>\n",
       "    <tr>\n",
       "      <th>622</th>\n",
       "      <td>536414</td>\n",
       "      <td>22139</td>\n",
       "      <td>NaN</td>\n",
       "      <td>56</td>\n",
       "      <td>2010-12-01 11:52:00</td>\n",
       "      <td>0.0</td>\n",
       "      <td>NaN</td>\n",
       "      <td>United Kingdom</td>\n",
       "    </tr>\n",
       "    <tr>\n",
       "      <th>1970</th>\n",
       "      <td>536545</td>\n",
       "      <td>21134</td>\n",
       "      <td>NaN</td>\n",
       "      <td>1</td>\n",
       "      <td>2010-12-01 14:32:00</td>\n",
       "      <td>0.0</td>\n",
       "      <td>NaN</td>\n",
       "      <td>United Kingdom</td>\n",
       "    </tr>\n",
       "    <tr>\n",
       "      <th>1971</th>\n",
       "      <td>536546</td>\n",
       "      <td>22145</td>\n",
       "      <td>NaN</td>\n",
       "      <td>1</td>\n",
       "      <td>2010-12-01 14:33:00</td>\n",
       "      <td>0.0</td>\n",
       "      <td>NaN</td>\n",
       "      <td>United Kingdom</td>\n",
       "    </tr>\n",
       "    <tr>\n",
       "      <th>1972</th>\n",
       "      <td>536547</td>\n",
       "      <td>37509</td>\n",
       "      <td>NaN</td>\n",
       "      <td>1</td>\n",
       "      <td>2010-12-01 14:33:00</td>\n",
       "      <td>0.0</td>\n",
       "      <td>NaN</td>\n",
       "      <td>United Kingdom</td>\n",
       "    </tr>\n",
       "    <tr>\n",
       "      <th>1987</th>\n",
       "      <td>536549</td>\n",
       "      <td>85226A</td>\n",
       "      <td>NaN</td>\n",
       "      <td>1</td>\n",
       "      <td>2010-12-01 14:34:00</td>\n",
       "      <td>0.0</td>\n",
       "      <td>NaN</td>\n",
       "      <td>United Kingdom</td>\n",
       "    </tr>\n",
       "    <tr>\n",
       "      <th>...</th>\n",
       "      <td>...</td>\n",
       "      <td>...</td>\n",
       "      <td>...</td>\n",
       "      <td>...</td>\n",
       "      <td>...</td>\n",
       "      <td>...</td>\n",
       "      <td>...</td>\n",
       "      <td>...</td>\n",
       "    </tr>\n",
       "    <tr>\n",
       "      <th>535322</th>\n",
       "      <td>581199</td>\n",
       "      <td>84581</td>\n",
       "      <td>NaN</td>\n",
       "      <td>-2</td>\n",
       "      <td>2011-12-07 18:26:00</td>\n",
       "      <td>0.0</td>\n",
       "      <td>NaN</td>\n",
       "      <td>United Kingdom</td>\n",
       "    </tr>\n",
       "    <tr>\n",
       "      <th>535326</th>\n",
       "      <td>581203</td>\n",
       "      <td>23406</td>\n",
       "      <td>NaN</td>\n",
       "      <td>15</td>\n",
       "      <td>2011-12-07 18:31:00</td>\n",
       "      <td>0.0</td>\n",
       "      <td>NaN</td>\n",
       "      <td>United Kingdom</td>\n",
       "    </tr>\n",
       "    <tr>\n",
       "      <th>535332</th>\n",
       "      <td>581209</td>\n",
       "      <td>21620</td>\n",
       "      <td>NaN</td>\n",
       "      <td>6</td>\n",
       "      <td>2011-12-07 18:35:00</td>\n",
       "      <td>0.0</td>\n",
       "      <td>NaN</td>\n",
       "      <td>United Kingdom</td>\n",
       "    </tr>\n",
       "    <tr>\n",
       "      <th>536981</th>\n",
       "      <td>581234</td>\n",
       "      <td>72817</td>\n",
       "      <td>NaN</td>\n",
       "      <td>27</td>\n",
       "      <td>2011-12-08 10:33:00</td>\n",
       "      <td>0.0</td>\n",
       "      <td>NaN</td>\n",
       "      <td>United Kingdom</td>\n",
       "    </tr>\n",
       "    <tr>\n",
       "      <th>538554</th>\n",
       "      <td>581408</td>\n",
       "      <td>85175</td>\n",
       "      <td>NaN</td>\n",
       "      <td>20</td>\n",
       "      <td>2011-12-08 14:06:00</td>\n",
       "      <td>0.0</td>\n",
       "      <td>NaN</td>\n",
       "      <td>United Kingdom</td>\n",
       "    </tr>\n",
       "  </tbody>\n",
       "</table>\n",
       "<p>1454 rows × 8 columns</p>\n",
       "</div>"
      ],
      "text/plain": [
       "       invoiceno stockcode description  quantity          invoicedate  \\\n",
       "622       536414     22139         NaN        56  2010-12-01 11:52:00   \n",
       "1970      536545     21134         NaN         1  2010-12-01 14:32:00   \n",
       "1971      536546     22145         NaN         1  2010-12-01 14:33:00   \n",
       "1972      536547     37509         NaN         1  2010-12-01 14:33:00   \n",
       "1987      536549    85226A         NaN         1  2010-12-01 14:34:00   \n",
       "...          ...       ...         ...       ...                  ...   \n",
       "535322    581199     84581         NaN        -2  2011-12-07 18:26:00   \n",
       "535326    581203     23406         NaN        15  2011-12-07 18:31:00   \n",
       "535332    581209     21620         NaN         6  2011-12-07 18:35:00   \n",
       "536981    581234     72817         NaN        27  2011-12-08 10:33:00   \n",
       "538554    581408     85175         NaN        20  2011-12-08 14:06:00   \n",
       "\n",
       "        unitprice  customerid         country  \n",
       "622           0.0         NaN  United Kingdom  \n",
       "1970          0.0         NaN  United Kingdom  \n",
       "1971          0.0         NaN  United Kingdom  \n",
       "1972          0.0         NaN  United Kingdom  \n",
       "1987          0.0         NaN  United Kingdom  \n",
       "...           ...         ...             ...  \n",
       "535322        0.0         NaN  United Kingdom  \n",
       "535326        0.0         NaN  United Kingdom  \n",
       "535332        0.0         NaN  United Kingdom  \n",
       "536981        0.0         NaN  United Kingdom  \n",
       "538554        0.0         NaN  United Kingdom  \n",
       "\n",
       "[1454 rows x 8 columns]"
      ]
     },
     "execution_count": 22,
     "metadata": {},
     "output_type": "execute_result"
    }
   ],
   "source": [
    "zero_unitprice_rows = rows_with_nulls.loc[rows_with_nulls['description'].isnull() & (rows_with_nulls['unitprice'] == 0.0)]\n",
    "print(zero_unitprice_rows.country.value_counts())\n",
    "zero_unitprice_rows"
   ]
  },
  {
   "cell_type": "markdown",
   "id": "fb265007-8857-4eb0-b38d-8e0b4047b8cf",
   "metadata": {},
   "source": [
    "  "
   ]
  },
  {
   "cell_type": "markdown",
   "id": "3938af8c-bb38-43cc-bb52-a7e3624bf2cc",
   "metadata": {},
   "source": [
    "  "
   ]
  },
  {
   "cell_type": "markdown",
   "id": "052fa067-1c89-4feb-8909-8f35ec6bda44",
   "metadata": {},
   "source": [
    "## checking quantity and customer_ids"
   ]
  },
  {
   "cell_type": "code",
   "execution_count": 23,
   "id": "e7dc3112-0444-4eb3-8b68-38a1e648afe8",
   "metadata": {},
   "outputs": [
    {
     "name": "stdout",
     "output_type": "stream",
     "text": [
      "country\n",
      "United Kingdom    74761\n",
      "Switzerland          46\n",
      "Unspecified          42\n",
      "France               30\n",
      "EIRE                 18\n",
      "Portugal              9\n",
      "Hong Kong             6\n",
      "Israel                1\n",
      "Name: count, dtype: int64\n"
     ]
    },
    {
     "data": {
      "text/html": [
       "<div>\n",
       "<style scoped>\n",
       "    .dataframe tbody tr th:only-of-type {\n",
       "        vertical-align: middle;\n",
       "    }\n",
       "\n",
       "    .dataframe tbody tr th {\n",
       "        vertical-align: top;\n",
       "    }\n",
       "\n",
       "    .dataframe thead th {\n",
       "        text-align: right;\n",
       "    }\n",
       "</style>\n",
       "<table border=\"1\" class=\"dataframe\">\n",
       "  <thead>\n",
       "    <tr style=\"text-align: right;\">\n",
       "      <th></th>\n",
       "      <th>invoiceno</th>\n",
       "      <th>stockcode</th>\n",
       "      <th>description</th>\n",
       "      <th>quantity</th>\n",
       "      <th>invoicedate</th>\n",
       "      <th>unitprice</th>\n",
       "      <th>customerid</th>\n",
       "      <th>country</th>\n",
       "    </tr>\n",
       "  </thead>\n",
       "  <tbody>\n",
       "    <tr>\n",
       "      <th>1443</th>\n",
       "      <td>536544</td>\n",
       "      <td>21773</td>\n",
       "      <td>DECORATIVE ROSE BATHROOM BOTTLE</td>\n",
       "      <td>1</td>\n",
       "      <td>2010-12-01 14:32:00</td>\n",
       "      <td>2.51</td>\n",
       "      <td>NaN</td>\n",
       "      <td>United Kingdom</td>\n",
       "    </tr>\n",
       "    <tr>\n",
       "      <th>1452</th>\n",
       "      <td>536544</td>\n",
       "      <td>21809</td>\n",
       "      <td>CHRISTMAS HANGING TREE WITH BELL</td>\n",
       "      <td>1</td>\n",
       "      <td>2010-12-01 14:32:00</td>\n",
       "      <td>2.51</td>\n",
       "      <td>NaN</td>\n",
       "      <td>United Kingdom</td>\n",
       "    </tr>\n",
       "    <tr>\n",
       "      <th>1454</th>\n",
       "      <td>536544</td>\n",
       "      <td>21811</td>\n",
       "      <td>CHRISTMAS HANGING HEART WITH BELL</td>\n",
       "      <td>1</td>\n",
       "      <td>2010-12-01 14:32:00</td>\n",
       "      <td>2.51</td>\n",
       "      <td>NaN</td>\n",
       "      <td>United Kingdom</td>\n",
       "    </tr>\n",
       "    <tr>\n",
       "      <th>1455</th>\n",
       "      <td>536544</td>\n",
       "      <td>21821</td>\n",
       "      <td>GLITTER STAR GARLAND WITH BELLS</td>\n",
       "      <td>1</td>\n",
       "      <td>2010-12-01 14:32:00</td>\n",
       "      <td>7.62</td>\n",
       "      <td>NaN</td>\n",
       "      <td>United Kingdom</td>\n",
       "    </tr>\n",
       "    <tr>\n",
       "      <th>1456</th>\n",
       "      <td>536544</td>\n",
       "      <td>21822</td>\n",
       "      <td>GLITTER CHRISTMAS TREE WITH BELLS</td>\n",
       "      <td>1</td>\n",
       "      <td>2010-12-01 14:32:00</td>\n",
       "      <td>4.21</td>\n",
       "      <td>NaN</td>\n",
       "      <td>United Kingdom</td>\n",
       "    </tr>\n",
       "    <tr>\n",
       "      <th>...</th>\n",
       "      <td>...</td>\n",
       "      <td>...</td>\n",
       "      <td>...</td>\n",
       "      <td>...</td>\n",
       "      <td>...</td>\n",
       "      <td>...</td>\n",
       "      <td>...</td>\n",
       "      <td>...</td>\n",
       "    </tr>\n",
       "    <tr>\n",
       "      <th>541532</th>\n",
       "      <td>581498</td>\n",
       "      <td>85038</td>\n",
       "      <td>6 CHOCOLATE LOVE HEART T-LIGHTS</td>\n",
       "      <td>1</td>\n",
       "      <td>2011-12-09 10:26:00</td>\n",
       "      <td>4.13</td>\n",
       "      <td>NaN</td>\n",
       "      <td>United Kingdom</td>\n",
       "    </tr>\n",
       "    <tr>\n",
       "      <th>541533</th>\n",
       "      <td>581498</td>\n",
       "      <td>85048</td>\n",
       "      <td>15CM CHRISTMAS GLASS BALL 20 LIGHTS</td>\n",
       "      <td>1</td>\n",
       "      <td>2011-12-09 10:26:00</td>\n",
       "      <td>16.63</td>\n",
       "      <td>NaN</td>\n",
       "      <td>United Kingdom</td>\n",
       "    </tr>\n",
       "    <tr>\n",
       "      <th>541538</th>\n",
       "      <td>581498</td>\n",
       "      <td>85150</td>\n",
       "      <td>LADIES &amp; GENTLEMEN METAL SIGN</td>\n",
       "      <td>1</td>\n",
       "      <td>2011-12-09 10:26:00</td>\n",
       "      <td>4.96</td>\n",
       "      <td>NaN</td>\n",
       "      <td>United Kingdom</td>\n",
       "    </tr>\n",
       "    <tr>\n",
       "      <th>541539</th>\n",
       "      <td>581498</td>\n",
       "      <td>85174</td>\n",
       "      <td>S/4 CACTI CANDLES</td>\n",
       "      <td>1</td>\n",
       "      <td>2011-12-09 10:26:00</td>\n",
       "      <td>10.79</td>\n",
       "      <td>NaN</td>\n",
       "      <td>United Kingdom</td>\n",
       "    </tr>\n",
       "    <tr>\n",
       "      <th>541540</th>\n",
       "      <td>581498</td>\n",
       "      <td>DOT</td>\n",
       "      <td>DOTCOM POSTAGE</td>\n",
       "      <td>1</td>\n",
       "      <td>2011-12-09 10:26:00</td>\n",
       "      <td>1714.17</td>\n",
       "      <td>NaN</td>\n",
       "      <td>United Kingdom</td>\n",
       "    </tr>\n",
       "  </tbody>\n",
       "</table>\n",
       "<p>74913 rows × 8 columns</p>\n",
       "</div>"
      ],
      "text/plain": [
       "       invoiceno stockcode                          description  quantity  \\\n",
       "1443      536544     21773      DECORATIVE ROSE BATHROOM BOTTLE         1   \n",
       "1452      536544     21809     CHRISTMAS HANGING TREE WITH BELL         1   \n",
       "1454      536544     21811    CHRISTMAS HANGING HEART WITH BELL         1   \n",
       "1455      536544     21821     GLITTER STAR GARLAND WITH BELLS          1   \n",
       "1456      536544     21822    GLITTER CHRISTMAS TREE WITH BELLS         1   \n",
       "...          ...       ...                                  ...       ...   \n",
       "541532    581498     85038      6 CHOCOLATE LOVE HEART T-LIGHTS         1   \n",
       "541533    581498     85048  15CM CHRISTMAS GLASS BALL 20 LIGHTS         1   \n",
       "541538    581498     85150        LADIES & GENTLEMEN METAL SIGN         1   \n",
       "541539    581498     85174                    S/4 CACTI CANDLES         1   \n",
       "541540    581498       DOT                       DOTCOM POSTAGE         1   \n",
       "\n",
       "                invoicedate  unitprice  customerid         country  \n",
       "1443    2010-12-01 14:32:00       2.51         NaN  United Kingdom  \n",
       "1452    2010-12-01 14:32:00       2.51         NaN  United Kingdom  \n",
       "1454    2010-12-01 14:32:00       2.51         NaN  United Kingdom  \n",
       "1455    2010-12-01 14:32:00       7.62         NaN  United Kingdom  \n",
       "1456    2010-12-01 14:32:00       4.21         NaN  United Kingdom  \n",
       "...                     ...        ...         ...             ...  \n",
       "541532  2011-12-09 10:26:00       4.13         NaN  United Kingdom  \n",
       "541533  2011-12-09 10:26:00      16.63         NaN  United Kingdom  \n",
       "541538  2011-12-09 10:26:00       4.96         NaN  United Kingdom  \n",
       "541539  2011-12-09 10:26:00      10.79         NaN  United Kingdom  \n",
       "541540  2011-12-09 10:26:00    1714.17         NaN  United Kingdom  \n",
       "\n",
       "[74913 rows x 8 columns]"
      ]
     },
     "execution_count": 23,
     "metadata": {},
     "output_type": "execute_result"
    }
   ],
   "source": [
    "quanitity_custid_rows = rows_with_nulls.loc[rows_with_nulls['customerid'].isnull() & (rows_with_nulls['quantity'] == 1)]\n",
    "print(quanitity_custid_rows.country.value_counts())\n",
    "quanitity_custid_rows"
   ]
  },
  {
   "cell_type": "markdown",
   "id": "9bc87541-8be7-4c36-8484-7e20130a528d",
   "metadata": {},
   "source": [
    "  "
   ]
  },
  {
   "cell_type": "markdown",
   "id": "8e402261-58b1-41b0-a50b-a1134830d484",
   "metadata": {},
   "source": [
    "  "
   ]
  },
  {
   "cell_type": "markdown",
   "id": "f6b46716-a83e-42d7-8b59-5b239595fdf2",
   "metadata": {},
   "source": [
    "  "
   ]
  },
  {
   "cell_type": "code",
   "execution_count": 28,
   "id": "04d60464-268f-47b5-b587-5e03ff49d3df",
   "metadata": {},
   "outputs": [
    {
     "name": "stdout",
     "output_type": "stream",
     "text": [
      "country\n",
      "United Kingdom    13\n",
      "Name: count, dtype: int64\n"
     ]
    },
    {
     "data": {
      "text/html": [
       "<div>\n",
       "<style scoped>\n",
       "    .dataframe tbody tr th:only-of-type {\n",
       "        vertical-align: middle;\n",
       "    }\n",
       "\n",
       "    .dataframe tbody tr th {\n",
       "        vertical-align: top;\n",
       "    }\n",
       "\n",
       "    .dataframe thead th {\n",
       "        text-align: right;\n",
       "    }\n",
       "</style>\n",
       "<table border=\"1\" class=\"dataframe\">\n",
       "  <thead>\n",
       "    <tr style=\"text-align: right;\">\n",
       "      <th></th>\n",
       "      <th>invoiceno</th>\n",
       "      <th>stockcode</th>\n",
       "      <th>description</th>\n",
       "      <th>quantity</th>\n",
       "      <th>invoicedate</th>\n",
       "      <th>unitprice</th>\n",
       "      <th>customerid</th>\n",
       "      <th>country</th>\n",
       "    </tr>\n",
       "  </thead>\n",
       "  <tbody>\n",
       "    <tr>\n",
       "      <th>52262</th>\n",
       "      <td>540699</td>\n",
       "      <td>POST</td>\n",
       "      <td>NaN</td>\n",
       "      <td>1000</td>\n",
       "      <td>2011-01-11 09:32:00</td>\n",
       "      <td>0.00</td>\n",
       "      <td>NaN</td>\n",
       "      <td>United Kingdom</td>\n",
       "    </tr>\n",
       "    <tr>\n",
       "      <th>74614</th>\n",
       "      <td>542504</td>\n",
       "      <td>37413</td>\n",
       "      <td>NaN</td>\n",
       "      <td>5568</td>\n",
       "      <td>2011-01-28 12:03:00</td>\n",
       "      <td>0.00</td>\n",
       "      <td>NaN</td>\n",
       "      <td>United Kingdom</td>\n",
       "    </tr>\n",
       "    <tr>\n",
       "      <th>74615</th>\n",
       "      <td>542505</td>\n",
       "      <td>79063D</td>\n",
       "      <td>NaN</td>\n",
       "      <td>2560</td>\n",
       "      <td>2011-01-28 12:04:00</td>\n",
       "      <td>0.00</td>\n",
       "      <td>NaN</td>\n",
       "      <td>United Kingdom</td>\n",
       "    </tr>\n",
       "    <tr>\n",
       "      <th>82795</th>\n",
       "      <td>543258</td>\n",
       "      <td>84611B</td>\n",
       "      <td>NaN</td>\n",
       "      <td>1287</td>\n",
       "      <td>2011-02-04 16:06:00</td>\n",
       "      <td>0.00</td>\n",
       "      <td>NaN</td>\n",
       "      <td>United Kingdom</td>\n",
       "    </tr>\n",
       "    <tr>\n",
       "      <th>115807</th>\n",
       "      <td>546139</td>\n",
       "      <td>84988</td>\n",
       "      <td>?</td>\n",
       "      <td>3000</td>\n",
       "      <td>2011-03-09 16:35:00</td>\n",
       "      <td>0.00</td>\n",
       "      <td>NaN</td>\n",
       "      <td>United Kingdom</td>\n",
       "    </tr>\n",
       "    <tr>\n",
       "      <th>136537</th>\n",
       "      <td>547966</td>\n",
       "      <td>DOT</td>\n",
       "      <td>NaN</td>\n",
       "      <td>1000</td>\n",
       "      <td>2011-03-28 15:49:00</td>\n",
       "      <td>0.00</td>\n",
       "      <td>NaN</td>\n",
       "      <td>United Kingdom</td>\n",
       "    </tr>\n",
       "    <tr>\n",
       "      <th>160541</th>\n",
       "      <td>550460</td>\n",
       "      <td>47556B</td>\n",
       "      <td>did  a credit  and did not tick ret</td>\n",
       "      <td>1300</td>\n",
       "      <td>2011-04-18 13:18:00</td>\n",
       "      <td>0.00</td>\n",
       "      <td>NaN</td>\n",
       "      <td>United Kingdom</td>\n",
       "    </tr>\n",
       "    <tr>\n",
       "      <th>203751</th>\n",
       "      <td>554550</td>\n",
       "      <td>47566B</td>\n",
       "      <td>incorrectly credited C550456 see 47</td>\n",
       "      <td>1300</td>\n",
       "      <td>2011-05-25 09:57:00</td>\n",
       "      <td>0.00</td>\n",
       "      <td>NaN</td>\n",
       "      <td>United Kingdom</td>\n",
       "    </tr>\n",
       "    <tr>\n",
       "      <th>220843</th>\n",
       "      <td>556231</td>\n",
       "      <td>85123A</td>\n",
       "      <td>?</td>\n",
       "      <td>4000</td>\n",
       "      <td>2011-06-09 15:04:00</td>\n",
       "      <td>0.00</td>\n",
       "      <td>NaN</td>\n",
       "      <td>United Kingdom</td>\n",
       "    </tr>\n",
       "    <tr>\n",
       "      <th>263885</th>\n",
       "      <td>560040</td>\n",
       "      <td>23343</td>\n",
       "      <td>came coded as 20713</td>\n",
       "      <td>3100</td>\n",
       "      <td>2011-07-14 14:28:00</td>\n",
       "      <td>0.00</td>\n",
       "      <td>NaN</td>\n",
       "      <td>United Kingdom</td>\n",
       "    </tr>\n",
       "    <tr>\n",
       "      <th>422750</th>\n",
       "      <td>573114</td>\n",
       "      <td>20713</td>\n",
       "      <td>wrongly coded 23343</td>\n",
       "      <td>1000</td>\n",
       "      <td>2011-10-27 15:36:00</td>\n",
       "      <td>0.00</td>\n",
       "      <td>NaN</td>\n",
       "      <td>United Kingdom</td>\n",
       "    </tr>\n",
       "    <tr>\n",
       "      <th>447035</th>\n",
       "      <td>574941</td>\n",
       "      <td>22197</td>\n",
       "      <td>POPCORN HOLDER</td>\n",
       "      <td>1820</td>\n",
       "      <td>2011-11-07 17:42:00</td>\n",
       "      <td>1.95</td>\n",
       "      <td>NaN</td>\n",
       "      <td>United Kingdom</td>\n",
       "    </tr>\n",
       "    <tr>\n",
       "      <th>467796</th>\n",
       "      <td>576365</td>\n",
       "      <td>22197</td>\n",
       "      <td>POPCORN HOLDER</td>\n",
       "      <td>1130</td>\n",
       "      <td>2011-11-14 17:55:00</td>\n",
       "      <td>1.95</td>\n",
       "      <td>NaN</td>\n",
       "      <td>United Kingdom</td>\n",
       "    </tr>\n",
       "  </tbody>\n",
       "</table>\n",
       "</div>"
      ],
      "text/plain": [
       "       invoiceno stockcode                          description  quantity  \\\n",
       "52262     540699      POST                                  NaN      1000   \n",
       "74614     542504     37413                                  NaN      5568   \n",
       "74615     542505    79063D                                  NaN      2560   \n",
       "82795     543258    84611B                                  NaN      1287   \n",
       "115807    546139     84988                                    ?      3000   \n",
       "136537    547966       DOT                                  NaN      1000   \n",
       "160541    550460    47556B  did  a credit  and did not tick ret      1300   \n",
       "203751    554550    47566B  incorrectly credited C550456 see 47      1300   \n",
       "220843    556231    85123A                                    ?      4000   \n",
       "263885    560040     23343                  came coded as 20713      3100   \n",
       "422750    573114     20713                  wrongly coded 23343      1000   \n",
       "447035    574941     22197                       POPCORN HOLDER      1820   \n",
       "467796    576365     22197                       POPCORN HOLDER      1130   \n",
       "\n",
       "                invoicedate  unitprice  customerid         country  \n",
       "52262   2011-01-11 09:32:00       0.00         NaN  United Kingdom  \n",
       "74614   2011-01-28 12:03:00       0.00         NaN  United Kingdom  \n",
       "74615   2011-01-28 12:04:00       0.00         NaN  United Kingdom  \n",
       "82795   2011-02-04 16:06:00       0.00         NaN  United Kingdom  \n",
       "115807  2011-03-09 16:35:00       0.00         NaN  United Kingdom  \n",
       "136537  2011-03-28 15:49:00       0.00         NaN  United Kingdom  \n",
       "160541  2011-04-18 13:18:00       0.00         NaN  United Kingdom  \n",
       "203751  2011-05-25 09:57:00       0.00         NaN  United Kingdom  \n",
       "220843  2011-06-09 15:04:00       0.00         NaN  United Kingdom  \n",
       "263885  2011-07-14 14:28:00       0.00         NaN  United Kingdom  \n",
       "422750  2011-10-27 15:36:00       0.00         NaN  United Kingdom  \n",
       "447035  2011-11-07 17:42:00       1.95         NaN  United Kingdom  \n",
       "467796  2011-11-14 17:55:00       1.95         NaN  United Kingdom  "
      ]
     },
     "execution_count": 28,
     "metadata": {},
     "output_type": "execute_result"
    }
   ],
   "source": [
    "zero_unitprice_rows = rows_with_nulls.loc[rows_with_nulls['customerid'].isnull() & (rows_with_nulls['quantity'] >= 100)]\n",
    "print(zero_unitprice_rows.country.value_counts())\n",
    "zero_unitprice_rows"
   ]
  },
  {
   "cell_type": "markdown",
   "id": "1dff7eff-7c95-41d6-b8f7-3d886937b91d",
   "metadata": {},
   "source": [
    "  "
   ]
  },
  {
   "cell_type": "markdown",
   "id": "a81bde6e-eb44-40d7-8df5-ed610cd62929",
   "metadata": {},
   "source": [
    "  "
   ]
  },
  {
   "cell_type": "code",
   "execution_count": null,
   "id": "94108177-661e-441a-9b9b-06f69f7fd8e7",
   "metadata": {},
   "outputs": [],
   "source": [
    "rows_with_nulls.description.value_counts()"
   ]
  },
  {
   "cell_type": "markdown",
   "id": "f677b954-cf19-43cd-956f-f5634aec46f8",
   "metadata": {},
   "source": [
    "  "
   ]
  },
  {
   "cell_type": "markdown",
   "id": "86c26205-aa50-4679-9d93-6efacfb2b92f",
   "metadata": {},
   "source": [
    "  "
   ]
  },
  {
   "cell_type": "code",
   "execution_count": null,
   "id": "062c9011-f65b-4539-a34e-83889ec3946e",
   "metadata": {},
   "outputs": [],
   "source": [
    "rows_with_nulls.description.to_list"
   ]
  },
  {
   "cell_type": "markdown",
   "id": "9d88c160-4f5d-4027-817f-9a561b2932ae",
   "metadata": {},
   "source": [
    "  "
   ]
  }
 ],
 "metadata": {
  "kernelspec": {
   "display_name": "Python 3 (ipykernel)",
   "language": "python",
   "name": "python3"
  },
  "language_info": {
   "codemirror_mode": {
    "name": "ipython",
    "version": 3
   },
   "file_extension": ".py",
   "mimetype": "text/x-python",
   "name": "python",
   "nbconvert_exporter": "python",
   "pygments_lexer": "ipython3",
   "version": "3.10.9"
  }
 },
 "nbformat": 4,
 "nbformat_minor": 5
}
