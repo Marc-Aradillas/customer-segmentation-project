{
 "cells": [
  {
   "cell_type": "code",
   "execution_count": 1,
   "id": "a1d65486-7abb-4486-8c6c-5cedd7db7598",
   "metadata": {},
   "outputs": [],
   "source": [
    "import acquire as a"
   ]
  },
  {
   "cell_type": "code",
   "execution_count": 2,
   "id": "0e04e20c-a5ce-4bd8-97df-9b8567886454",
   "metadata": {},
   "outputs": [],
   "source": [
    "df = a.acquire_data()"
   ]
  },
  {
   "cell_type": "markdown",
   "id": "0ae96896-454d-4ad8-8811-b92c2135d916",
   "metadata": {},
   "source": [
    "   "
   ]
  },
  {
   "cell_type": "markdown",
   "id": "5cd6cb13-c787-4790-98b5-6a6e4ce00116",
   "metadata": {},
   "source": [
    "   "
   ]
  },
  {
   "cell_type": "markdown",
   "id": "4e38b391-64bb-4a54-a8ba-d6ecafa4115c",
   "metadata": {},
   "source": [
    "   "
   ]
  },
  {
   "cell_type": "markdown",
   "id": "a61c9e42-709b-4121-85a7-0efc2d1cc673",
   "metadata": {},
   "source": [
    "   "
   ]
  },
  {
   "cell_type": "markdown",
   "id": "289d06d4-1c90-4309-8c9c-374c32542d17",
   "metadata": {},
   "source": [
    "## Preparation work"
   ]
  },
  {
   "cell_type": "code",
   "execution_count": 3,
   "id": "640c8c4d-00f9-44dc-89a2-c4ecebaeea2d",
   "metadata": {},
   "outputs": [],
   "source": [
    "import os\n",
    "import pandas as pd\n",
    "import numpy as np\n",
    "import matplotlib.pyplot as plt\n",
    "import seaborn as sns\n",
    "from sklearn.model_selection import train_test_split\n",
    "from sklearn.preprocessing import MinMaxScaler, StandardScaler, RobustScaler, PolynomialFeatures"
   ]
  },
  {
   "cell_type": "markdown",
   "id": "6ca2d5f1-9981-4193-a7db-76dbdd1237a0",
   "metadata": {},
   "source": [
    "   "
   ]
  },
  {
   "cell_type": "code",
   "execution_count": 4,
   "id": "60eca3d7-8785-4e17-9b46-561f18ab429c",
   "metadata": {},
   "outputs": [
    {
     "data": {
      "text/html": [
       "<div>\n",
       "<style scoped>\n",
       "    .dataframe tbody tr th:only-of-type {\n",
       "        vertical-align: middle;\n",
       "    }\n",
       "\n",
       "    .dataframe tbody tr th {\n",
       "        vertical-align: top;\n",
       "    }\n",
       "\n",
       "    .dataframe thead th {\n",
       "        text-align: right;\n",
       "    }\n",
       "</style>\n",
       "<table border=\"1\" class=\"dataframe\">\n",
       "  <thead>\n",
       "    <tr style=\"text-align: right;\">\n",
       "      <th></th>\n",
       "      <th>InvoiceNo</th>\n",
       "      <th>StockCode</th>\n",
       "      <th>Description</th>\n",
       "      <th>Quantity</th>\n",
       "      <th>InvoiceDate</th>\n",
       "      <th>UnitPrice</th>\n",
       "      <th>CustomerID</th>\n",
       "      <th>Country</th>\n",
       "    </tr>\n",
       "  </thead>\n",
       "  <tbody>\n",
       "    <tr>\n",
       "      <th>0</th>\n",
       "      <td>536365</td>\n",
       "      <td>85123A</td>\n",
       "      <td>WHITE HANGING HEART T-LIGHT HOLDER</td>\n",
       "      <td>6</td>\n",
       "      <td>2010-12-01 08:26:00</td>\n",
       "      <td>2.55</td>\n",
       "      <td>17850.0</td>\n",
       "      <td>United Kingdom</td>\n",
       "    </tr>\n",
       "    <tr>\n",
       "      <th>1</th>\n",
       "      <td>536365</td>\n",
       "      <td>71053</td>\n",
       "      <td>WHITE METAL LANTERN</td>\n",
       "      <td>6</td>\n",
       "      <td>2010-12-01 08:26:00</td>\n",
       "      <td>3.39</td>\n",
       "      <td>17850.0</td>\n",
       "      <td>United Kingdom</td>\n",
       "    </tr>\n",
       "    <tr>\n",
       "      <th>2</th>\n",
       "      <td>536365</td>\n",
       "      <td>84406B</td>\n",
       "      <td>CREAM CUPID HEARTS COAT HANGER</td>\n",
       "      <td>8</td>\n",
       "      <td>2010-12-01 08:26:00</td>\n",
       "      <td>2.75</td>\n",
       "      <td>17850.0</td>\n",
       "      <td>United Kingdom</td>\n",
       "    </tr>\n",
       "    <tr>\n",
       "      <th>3</th>\n",
       "      <td>536365</td>\n",
       "      <td>84029G</td>\n",
       "      <td>KNITTED UNION FLAG HOT WATER BOTTLE</td>\n",
       "      <td>6</td>\n",
       "      <td>2010-12-01 08:26:00</td>\n",
       "      <td>3.39</td>\n",
       "      <td>17850.0</td>\n",
       "      <td>United Kingdom</td>\n",
       "    </tr>\n",
       "    <tr>\n",
       "      <th>4</th>\n",
       "      <td>536365</td>\n",
       "      <td>84029E</td>\n",
       "      <td>RED WOOLLY HOTTIE WHITE HEART.</td>\n",
       "      <td>6</td>\n",
       "      <td>2010-12-01 08:26:00</td>\n",
       "      <td>3.39</td>\n",
       "      <td>17850.0</td>\n",
       "      <td>United Kingdom</td>\n",
       "    </tr>\n",
       "  </tbody>\n",
       "</table>\n",
       "</div>"
      ],
      "text/plain": [
       "  InvoiceNo StockCode                          Description  Quantity  \\\n",
       "0    536365    85123A   WHITE HANGING HEART T-LIGHT HOLDER         6   \n",
       "1    536365     71053                  WHITE METAL LANTERN         6   \n",
       "2    536365    84406B       CREAM CUPID HEARTS COAT HANGER         8   \n",
       "3    536365    84029G  KNITTED UNION FLAG HOT WATER BOTTLE         6   \n",
       "4    536365    84029E       RED WOOLLY HOTTIE WHITE HEART.         6   \n",
       "\n",
       "           InvoiceDate  UnitPrice  CustomerID         Country  \n",
       "0  2010-12-01 08:26:00       2.55     17850.0  United Kingdom  \n",
       "1  2010-12-01 08:26:00       3.39     17850.0  United Kingdom  \n",
       "2  2010-12-01 08:26:00       2.75     17850.0  United Kingdom  \n",
       "3  2010-12-01 08:26:00       3.39     17850.0  United Kingdom  \n",
       "4  2010-12-01 08:26:00       3.39     17850.0  United Kingdom  "
      ]
     },
     "execution_count": 4,
     "metadata": {},
     "output_type": "execute_result"
    }
   ],
   "source": [
    "df.head()"
   ]
  },
  {
   "cell_type": "code",
   "execution_count": 5,
   "id": "a6c17c79-d8f3-4799-87f6-7d942a869d62",
   "metadata": {},
   "outputs": [],
   "source": [
    "# made column names pythonic\n",
    "df.columns = [\n",
    "    col.lower().replace(' ','_') for col in df.columns\n",
    "]"
   ]
  },
  {
   "cell_type": "code",
   "execution_count": null,
   "id": "dfcbf415-cc4a-4ffc-89a6-3efe3033de4c",
   "metadata": {},
   "outputs": [],
   "source": [
    "df.info()"
   ]
  },
  {
   "cell_type": "markdown",
   "id": "0b39455e-c8c1-4748-be6c-2f23c4d257fe",
   "metadata": {},
   "source": [
    "## Why is there NaN values for customerid? is there a match for customer id and country?"
   ]
  },
  {
   "cell_type": "code",
   "execution_count": 7,
   "id": "e3b78d61-db53-400d-b03d-50741a7df39f",
   "metadata": {},
   "outputs": [
    {
     "data": {
      "text/html": [
       "<div>\n",
       "<style scoped>\n",
       "    .dataframe tbody tr th:only-of-type {\n",
       "        vertical-align: middle;\n",
       "    }\n",
       "\n",
       "    .dataframe tbody tr th {\n",
       "        vertical-align: top;\n",
       "    }\n",
       "\n",
       "    .dataframe thead th {\n",
       "        text-align: right;\n",
       "    }\n",
       "</style>\n",
       "<table border=\"1\" class=\"dataframe\">\n",
       "  <thead>\n",
       "    <tr style=\"text-align: right;\">\n",
       "      <th></th>\n",
       "      <th>invoiceno</th>\n",
       "      <th>stockcode</th>\n",
       "      <th>description</th>\n",
       "      <th>quantity</th>\n",
       "      <th>invoicedate</th>\n",
       "      <th>unitprice</th>\n",
       "      <th>customerid</th>\n",
       "      <th>country</th>\n",
       "    </tr>\n",
       "  </thead>\n",
       "  <tbody>\n",
       "    <tr>\n",
       "      <th>622</th>\n",
       "      <td>536414</td>\n",
       "      <td>22139</td>\n",
       "      <td>NaN</td>\n",
       "      <td>56</td>\n",
       "      <td>2010-12-01 11:52:00</td>\n",
       "      <td>0.00</td>\n",
       "      <td>NaN</td>\n",
       "      <td>United Kingdom</td>\n",
       "    </tr>\n",
       "    <tr>\n",
       "      <th>1443</th>\n",
       "      <td>536544</td>\n",
       "      <td>21773</td>\n",
       "      <td>DECORATIVE ROSE BATHROOM BOTTLE</td>\n",
       "      <td>1</td>\n",
       "      <td>2010-12-01 14:32:00</td>\n",
       "      <td>2.51</td>\n",
       "      <td>NaN</td>\n",
       "      <td>United Kingdom</td>\n",
       "    </tr>\n",
       "    <tr>\n",
       "      <th>1444</th>\n",
       "      <td>536544</td>\n",
       "      <td>21774</td>\n",
       "      <td>DECORATIVE CATS BATHROOM BOTTLE</td>\n",
       "      <td>2</td>\n",
       "      <td>2010-12-01 14:32:00</td>\n",
       "      <td>2.51</td>\n",
       "      <td>NaN</td>\n",
       "      <td>United Kingdom</td>\n",
       "    </tr>\n",
       "    <tr>\n",
       "      <th>1445</th>\n",
       "      <td>536544</td>\n",
       "      <td>21786</td>\n",
       "      <td>POLKADOT RAIN HAT</td>\n",
       "      <td>4</td>\n",
       "      <td>2010-12-01 14:32:00</td>\n",
       "      <td>0.85</td>\n",
       "      <td>NaN</td>\n",
       "      <td>United Kingdom</td>\n",
       "    </tr>\n",
       "    <tr>\n",
       "      <th>1446</th>\n",
       "      <td>536544</td>\n",
       "      <td>21787</td>\n",
       "      <td>RAIN PONCHO RETROSPOT</td>\n",
       "      <td>2</td>\n",
       "      <td>2010-12-01 14:32:00</td>\n",
       "      <td>1.66</td>\n",
       "      <td>NaN</td>\n",
       "      <td>United Kingdom</td>\n",
       "    </tr>\n",
       "    <tr>\n",
       "      <th>...</th>\n",
       "      <td>...</td>\n",
       "      <td>...</td>\n",
       "      <td>...</td>\n",
       "      <td>...</td>\n",
       "      <td>...</td>\n",
       "      <td>...</td>\n",
       "      <td>...</td>\n",
       "      <td>...</td>\n",
       "    </tr>\n",
       "    <tr>\n",
       "      <th>541536</th>\n",
       "      <td>581498</td>\n",
       "      <td>85099B</td>\n",
       "      <td>JUMBO BAG RED RETROSPOT</td>\n",
       "      <td>5</td>\n",
       "      <td>2011-12-09 10:26:00</td>\n",
       "      <td>4.13</td>\n",
       "      <td>NaN</td>\n",
       "      <td>United Kingdom</td>\n",
       "    </tr>\n",
       "    <tr>\n",
       "      <th>541537</th>\n",
       "      <td>581498</td>\n",
       "      <td>85099C</td>\n",
       "      <td>JUMBO  BAG BAROQUE BLACK WHITE</td>\n",
       "      <td>4</td>\n",
       "      <td>2011-12-09 10:26:00</td>\n",
       "      <td>4.13</td>\n",
       "      <td>NaN</td>\n",
       "      <td>United Kingdom</td>\n",
       "    </tr>\n",
       "    <tr>\n",
       "      <th>541538</th>\n",
       "      <td>581498</td>\n",
       "      <td>85150</td>\n",
       "      <td>LADIES &amp; GENTLEMEN METAL SIGN</td>\n",
       "      <td>1</td>\n",
       "      <td>2011-12-09 10:26:00</td>\n",
       "      <td>4.96</td>\n",
       "      <td>NaN</td>\n",
       "      <td>United Kingdom</td>\n",
       "    </tr>\n",
       "    <tr>\n",
       "      <th>541539</th>\n",
       "      <td>581498</td>\n",
       "      <td>85174</td>\n",
       "      <td>S/4 CACTI CANDLES</td>\n",
       "      <td>1</td>\n",
       "      <td>2011-12-09 10:26:00</td>\n",
       "      <td>10.79</td>\n",
       "      <td>NaN</td>\n",
       "      <td>United Kingdom</td>\n",
       "    </tr>\n",
       "    <tr>\n",
       "      <th>541540</th>\n",
       "      <td>581498</td>\n",
       "      <td>DOT</td>\n",
       "      <td>DOTCOM POSTAGE</td>\n",
       "      <td>1</td>\n",
       "      <td>2011-12-09 10:26:00</td>\n",
       "      <td>1714.17</td>\n",
       "      <td>NaN</td>\n",
       "      <td>United Kingdom</td>\n",
       "    </tr>\n",
       "  </tbody>\n",
       "</table>\n",
       "<p>135080 rows × 8 columns</p>\n",
       "</div>"
      ],
      "text/plain": [
       "       invoiceno stockcode                      description  quantity  \\\n",
       "622       536414     22139                              NaN        56   \n",
       "1443      536544     21773  DECORATIVE ROSE BATHROOM BOTTLE         1   \n",
       "1444      536544     21774  DECORATIVE CATS BATHROOM BOTTLE         2   \n",
       "1445      536544     21786               POLKADOT RAIN HAT          4   \n",
       "1446      536544     21787            RAIN PONCHO RETROSPOT         2   \n",
       "...          ...       ...                              ...       ...   \n",
       "541536    581498    85099B          JUMBO BAG RED RETROSPOT         5   \n",
       "541537    581498    85099C   JUMBO  BAG BAROQUE BLACK WHITE         4   \n",
       "541538    581498     85150    LADIES & GENTLEMEN METAL SIGN         1   \n",
       "541539    581498     85174                S/4 CACTI CANDLES         1   \n",
       "541540    581498       DOT                   DOTCOM POSTAGE         1   \n",
       "\n",
       "                invoicedate  unitprice  customerid         country  \n",
       "622     2010-12-01 11:52:00       0.00         NaN  United Kingdom  \n",
       "1443    2010-12-01 14:32:00       2.51         NaN  United Kingdom  \n",
       "1444    2010-12-01 14:32:00       2.51         NaN  United Kingdom  \n",
       "1445    2010-12-01 14:32:00       0.85         NaN  United Kingdom  \n",
       "1446    2010-12-01 14:32:00       1.66         NaN  United Kingdom  \n",
       "...                     ...        ...         ...             ...  \n",
       "541536  2011-12-09 10:26:00       4.13         NaN  United Kingdom  \n",
       "541537  2011-12-09 10:26:00       4.13         NaN  United Kingdom  \n",
       "541538  2011-12-09 10:26:00       4.96         NaN  United Kingdom  \n",
       "541539  2011-12-09 10:26:00      10.79         NaN  United Kingdom  \n",
       "541540  2011-12-09 10:26:00    1714.17         NaN  United Kingdom  \n",
       "\n",
       "[135080 rows x 8 columns]"
      ]
     },
     "execution_count": 7,
     "metadata": {},
     "output_type": "execute_result"
    }
   ],
   "source": [
    "rows_with_null = df[df.isna().any(axis=1)]\n",
    "rows_with_null"
   ]
  },
  {
   "cell_type": "code",
   "execution_count": 8,
   "id": "c63db550-dbe3-455c-aa99-f6c46697dec8",
   "metadata": {},
   "outputs": [],
   "source": [
    "columns_with_nulls = df.columns[df.isna().any(axis=0)]"
   ]
  },
  {
   "cell_type": "code",
   "execution_count": 9,
   "id": "0e4d4c3b-013e-462a-8700-a0fdf532cd3c",
   "metadata": {},
   "outputs": [
    {
     "data": {
      "text/plain": [
       "Index(['description', 'customerid'], dtype='object')"
      ]
     },
     "execution_count": 9,
     "metadata": {},
     "output_type": "execute_result"
    }
   ],
   "source": [
    "columns_with_nulls"
   ]
  },
  {
   "cell_type": "code",
   "execution_count": 10,
   "id": "b3950bc9-c040-4c27-ada1-f3ccbd79a68e",
   "metadata": {},
   "outputs": [
    {
     "name": "stdout",
     "output_type": "stream",
     "text": [
      "Rows with null values in specified columns:\n"
     ]
    },
    {
     "data": {
      "text/html": [
       "<div>\n",
       "<style scoped>\n",
       "    .dataframe tbody tr th:only-of-type {\n",
       "        vertical-align: middle;\n",
       "    }\n",
       "\n",
       "    .dataframe tbody tr th {\n",
       "        vertical-align: top;\n",
       "    }\n",
       "\n",
       "    .dataframe thead th {\n",
       "        text-align: right;\n",
       "    }\n",
       "</style>\n",
       "<table border=\"1\" class=\"dataframe\">\n",
       "  <thead>\n",
       "    <tr style=\"text-align: right;\">\n",
       "      <th></th>\n",
       "      <th>invoiceno</th>\n",
       "      <th>stockcode</th>\n",
       "      <th>description</th>\n",
       "      <th>quantity</th>\n",
       "      <th>invoicedate</th>\n",
       "      <th>unitprice</th>\n",
       "      <th>customerid</th>\n",
       "      <th>country</th>\n",
       "    </tr>\n",
       "  </thead>\n",
       "  <tbody>\n",
       "    <tr>\n",
       "      <th>622</th>\n",
       "      <td>536414</td>\n",
       "      <td>22139</td>\n",
       "      <td>NaN</td>\n",
       "      <td>56</td>\n",
       "      <td>2010-12-01 11:52:00</td>\n",
       "      <td>0.00</td>\n",
       "      <td>NaN</td>\n",
       "      <td>United Kingdom</td>\n",
       "    </tr>\n",
       "    <tr>\n",
       "      <th>1443</th>\n",
       "      <td>536544</td>\n",
       "      <td>21773</td>\n",
       "      <td>DECORATIVE ROSE BATHROOM BOTTLE</td>\n",
       "      <td>1</td>\n",
       "      <td>2010-12-01 14:32:00</td>\n",
       "      <td>2.51</td>\n",
       "      <td>NaN</td>\n",
       "      <td>United Kingdom</td>\n",
       "    </tr>\n",
       "    <tr>\n",
       "      <th>1444</th>\n",
       "      <td>536544</td>\n",
       "      <td>21774</td>\n",
       "      <td>DECORATIVE CATS BATHROOM BOTTLE</td>\n",
       "      <td>2</td>\n",
       "      <td>2010-12-01 14:32:00</td>\n",
       "      <td>2.51</td>\n",
       "      <td>NaN</td>\n",
       "      <td>United Kingdom</td>\n",
       "    </tr>\n",
       "    <tr>\n",
       "      <th>1445</th>\n",
       "      <td>536544</td>\n",
       "      <td>21786</td>\n",
       "      <td>POLKADOT RAIN HAT</td>\n",
       "      <td>4</td>\n",
       "      <td>2010-12-01 14:32:00</td>\n",
       "      <td>0.85</td>\n",
       "      <td>NaN</td>\n",
       "      <td>United Kingdom</td>\n",
       "    </tr>\n",
       "    <tr>\n",
       "      <th>1446</th>\n",
       "      <td>536544</td>\n",
       "      <td>21787</td>\n",
       "      <td>RAIN PONCHO RETROSPOT</td>\n",
       "      <td>2</td>\n",
       "      <td>2010-12-01 14:32:00</td>\n",
       "      <td>1.66</td>\n",
       "      <td>NaN</td>\n",
       "      <td>United Kingdom</td>\n",
       "    </tr>\n",
       "    <tr>\n",
       "      <th>...</th>\n",
       "      <td>...</td>\n",
       "      <td>...</td>\n",
       "      <td>...</td>\n",
       "      <td>...</td>\n",
       "      <td>...</td>\n",
       "      <td>...</td>\n",
       "      <td>...</td>\n",
       "      <td>...</td>\n",
       "    </tr>\n",
       "    <tr>\n",
       "      <th>541536</th>\n",
       "      <td>581498</td>\n",
       "      <td>85099B</td>\n",
       "      <td>JUMBO BAG RED RETROSPOT</td>\n",
       "      <td>5</td>\n",
       "      <td>2011-12-09 10:26:00</td>\n",
       "      <td>4.13</td>\n",
       "      <td>NaN</td>\n",
       "      <td>United Kingdom</td>\n",
       "    </tr>\n",
       "    <tr>\n",
       "      <th>541537</th>\n",
       "      <td>581498</td>\n",
       "      <td>85099C</td>\n",
       "      <td>JUMBO  BAG BAROQUE BLACK WHITE</td>\n",
       "      <td>4</td>\n",
       "      <td>2011-12-09 10:26:00</td>\n",
       "      <td>4.13</td>\n",
       "      <td>NaN</td>\n",
       "      <td>United Kingdom</td>\n",
       "    </tr>\n",
       "    <tr>\n",
       "      <th>541538</th>\n",
       "      <td>581498</td>\n",
       "      <td>85150</td>\n",
       "      <td>LADIES &amp; GENTLEMEN METAL SIGN</td>\n",
       "      <td>1</td>\n",
       "      <td>2011-12-09 10:26:00</td>\n",
       "      <td>4.96</td>\n",
       "      <td>NaN</td>\n",
       "      <td>United Kingdom</td>\n",
       "    </tr>\n",
       "    <tr>\n",
       "      <th>541539</th>\n",
       "      <td>581498</td>\n",
       "      <td>85174</td>\n",
       "      <td>S/4 CACTI CANDLES</td>\n",
       "      <td>1</td>\n",
       "      <td>2011-12-09 10:26:00</td>\n",
       "      <td>10.79</td>\n",
       "      <td>NaN</td>\n",
       "      <td>United Kingdom</td>\n",
       "    </tr>\n",
       "    <tr>\n",
       "      <th>541540</th>\n",
       "      <td>581498</td>\n",
       "      <td>DOT</td>\n",
       "      <td>DOTCOM POSTAGE</td>\n",
       "      <td>1</td>\n",
       "      <td>2011-12-09 10:26:00</td>\n",
       "      <td>1714.17</td>\n",
       "      <td>NaN</td>\n",
       "      <td>United Kingdom</td>\n",
       "    </tr>\n",
       "  </tbody>\n",
       "</table>\n",
       "<p>135080 rows × 8 columns</p>\n",
       "</div>"
      ],
      "text/plain": [
       "       invoiceno stockcode                      description  quantity  \\\n",
       "622       536414     22139                              NaN        56   \n",
       "1443      536544     21773  DECORATIVE ROSE BATHROOM BOTTLE         1   \n",
       "1444      536544     21774  DECORATIVE CATS BATHROOM BOTTLE         2   \n",
       "1445      536544     21786               POLKADOT RAIN HAT          4   \n",
       "1446      536544     21787            RAIN PONCHO RETROSPOT         2   \n",
       "...          ...       ...                              ...       ...   \n",
       "541536    581498    85099B          JUMBO BAG RED RETROSPOT         5   \n",
       "541537    581498    85099C   JUMBO  BAG BAROQUE BLACK WHITE         4   \n",
       "541538    581498     85150    LADIES & GENTLEMEN METAL SIGN         1   \n",
       "541539    581498     85174                S/4 CACTI CANDLES         1   \n",
       "541540    581498       DOT                   DOTCOM POSTAGE         1   \n",
       "\n",
       "                invoicedate  unitprice  customerid         country  \n",
       "622     2010-12-01 11:52:00       0.00         NaN  United Kingdom  \n",
       "1443    2010-12-01 14:32:00       2.51         NaN  United Kingdom  \n",
       "1444    2010-12-01 14:32:00       2.51         NaN  United Kingdom  \n",
       "1445    2010-12-01 14:32:00       0.85         NaN  United Kingdom  \n",
       "1446    2010-12-01 14:32:00       1.66         NaN  United Kingdom  \n",
       "...                     ...        ...         ...             ...  \n",
       "541536  2011-12-09 10:26:00       4.13         NaN  United Kingdom  \n",
       "541537  2011-12-09 10:26:00       4.13         NaN  United Kingdom  \n",
       "541538  2011-12-09 10:26:00       4.96         NaN  United Kingdom  \n",
       "541539  2011-12-09 10:26:00      10.79         NaN  United Kingdom  \n",
       "541540  2011-12-09 10:26:00    1714.17         NaN  United Kingdom  \n",
       "\n",
       "[135080 rows x 8 columns]"
      ]
     },
     "execution_count": 10,
     "metadata": {},
     "output_type": "execute_result"
    }
   ],
   "source": [
    "# Select rows where any of the specified columns have null values\n",
    "rows_with_nulls = df[df[columns_with_nulls].isnull().any(axis=1)]\n",
    "\n",
    "print(\"Rows with null values in specified columns:\")\n",
    "rows_with_nulls"
   ]
  },
  {
   "cell_type": "code",
   "execution_count": 11,
   "id": "40bcc9cf-e4ea-4e47-a32d-b4339aa4d17f",
   "metadata": {},
   "outputs": [
    {
     "data": {
      "text/html": [
       "<div>\n",
       "<style scoped>\n",
       "    .dataframe tbody tr th:only-of-type {\n",
       "        vertical-align: middle;\n",
       "    }\n",
       "\n",
       "    .dataframe tbody tr th {\n",
       "        vertical-align: top;\n",
       "    }\n",
       "\n",
       "    .dataframe thead th {\n",
       "        text-align: right;\n",
       "    }\n",
       "</style>\n",
       "<table border=\"1\" class=\"dataframe\">\n",
       "  <thead>\n",
       "    <tr style=\"text-align: right;\">\n",
       "      <th></th>\n",
       "      <th>invoiceno</th>\n",
       "      <th>stockcode</th>\n",
       "      <th>description</th>\n",
       "      <th>quantity</th>\n",
       "      <th>invoicedate</th>\n",
       "      <th>unitprice</th>\n",
       "      <th>customerid</th>\n",
       "      <th>country</th>\n",
       "    </tr>\n",
       "  </thead>\n",
       "  <tbody>\n",
       "    <tr>\n",
       "      <th>622</th>\n",
       "      <td>536414</td>\n",
       "      <td>22139</td>\n",
       "      <td>NaN</td>\n",
       "      <td>56</td>\n",
       "      <td>2010-12-01 11:52:00</td>\n",
       "      <td>0.0</td>\n",
       "      <td>NaN</td>\n",
       "      <td>United Kingdom</td>\n",
       "    </tr>\n",
       "    <tr>\n",
       "      <th>1970</th>\n",
       "      <td>536545</td>\n",
       "      <td>21134</td>\n",
       "      <td>NaN</td>\n",
       "      <td>1</td>\n",
       "      <td>2010-12-01 14:32:00</td>\n",
       "      <td>0.0</td>\n",
       "      <td>NaN</td>\n",
       "      <td>United Kingdom</td>\n",
       "    </tr>\n",
       "    <tr>\n",
       "      <th>1971</th>\n",
       "      <td>536546</td>\n",
       "      <td>22145</td>\n",
       "      <td>NaN</td>\n",
       "      <td>1</td>\n",
       "      <td>2010-12-01 14:33:00</td>\n",
       "      <td>0.0</td>\n",
       "      <td>NaN</td>\n",
       "      <td>United Kingdom</td>\n",
       "    </tr>\n",
       "    <tr>\n",
       "      <th>1972</th>\n",
       "      <td>536547</td>\n",
       "      <td>37509</td>\n",
       "      <td>NaN</td>\n",
       "      <td>1</td>\n",
       "      <td>2010-12-01 14:33:00</td>\n",
       "      <td>0.0</td>\n",
       "      <td>NaN</td>\n",
       "      <td>United Kingdom</td>\n",
       "    </tr>\n",
       "    <tr>\n",
       "      <th>1987</th>\n",
       "      <td>536549</td>\n",
       "      <td>85226A</td>\n",
       "      <td>NaN</td>\n",
       "      <td>1</td>\n",
       "      <td>2010-12-01 14:34:00</td>\n",
       "      <td>0.0</td>\n",
       "      <td>NaN</td>\n",
       "      <td>United Kingdom</td>\n",
       "    </tr>\n",
       "    <tr>\n",
       "      <th>...</th>\n",
       "      <td>...</td>\n",
       "      <td>...</td>\n",
       "      <td>...</td>\n",
       "      <td>...</td>\n",
       "      <td>...</td>\n",
       "      <td>...</td>\n",
       "      <td>...</td>\n",
       "      <td>...</td>\n",
       "    </tr>\n",
       "    <tr>\n",
       "      <th>535322</th>\n",
       "      <td>581199</td>\n",
       "      <td>84581</td>\n",
       "      <td>NaN</td>\n",
       "      <td>-2</td>\n",
       "      <td>2011-12-07 18:26:00</td>\n",
       "      <td>0.0</td>\n",
       "      <td>NaN</td>\n",
       "      <td>United Kingdom</td>\n",
       "    </tr>\n",
       "    <tr>\n",
       "      <th>535326</th>\n",
       "      <td>581203</td>\n",
       "      <td>23406</td>\n",
       "      <td>NaN</td>\n",
       "      <td>15</td>\n",
       "      <td>2011-12-07 18:31:00</td>\n",
       "      <td>0.0</td>\n",
       "      <td>NaN</td>\n",
       "      <td>United Kingdom</td>\n",
       "    </tr>\n",
       "    <tr>\n",
       "      <th>535332</th>\n",
       "      <td>581209</td>\n",
       "      <td>21620</td>\n",
       "      <td>NaN</td>\n",
       "      <td>6</td>\n",
       "      <td>2011-12-07 18:35:00</td>\n",
       "      <td>0.0</td>\n",
       "      <td>NaN</td>\n",
       "      <td>United Kingdom</td>\n",
       "    </tr>\n",
       "    <tr>\n",
       "      <th>536981</th>\n",
       "      <td>581234</td>\n",
       "      <td>72817</td>\n",
       "      <td>NaN</td>\n",
       "      <td>27</td>\n",
       "      <td>2011-12-08 10:33:00</td>\n",
       "      <td>0.0</td>\n",
       "      <td>NaN</td>\n",
       "      <td>United Kingdom</td>\n",
       "    </tr>\n",
       "    <tr>\n",
       "      <th>538554</th>\n",
       "      <td>581408</td>\n",
       "      <td>85175</td>\n",
       "      <td>NaN</td>\n",
       "      <td>20</td>\n",
       "      <td>2011-12-08 14:06:00</td>\n",
       "      <td>0.0</td>\n",
       "      <td>NaN</td>\n",
       "      <td>United Kingdom</td>\n",
       "    </tr>\n",
       "  </tbody>\n",
       "</table>\n",
       "<p>1454 rows × 8 columns</p>\n",
       "</div>"
      ],
      "text/plain": [
       "       invoiceno stockcode description  quantity          invoicedate  \\\n",
       "622       536414     22139         NaN        56  2010-12-01 11:52:00   \n",
       "1970      536545     21134         NaN         1  2010-12-01 14:32:00   \n",
       "1971      536546     22145         NaN         1  2010-12-01 14:33:00   \n",
       "1972      536547     37509         NaN         1  2010-12-01 14:33:00   \n",
       "1987      536549    85226A         NaN         1  2010-12-01 14:34:00   \n",
       "...          ...       ...         ...       ...                  ...   \n",
       "535322    581199     84581         NaN        -2  2011-12-07 18:26:00   \n",
       "535326    581203     23406         NaN        15  2011-12-07 18:31:00   \n",
       "535332    581209     21620         NaN         6  2011-12-07 18:35:00   \n",
       "536981    581234     72817         NaN        27  2011-12-08 10:33:00   \n",
       "538554    581408     85175         NaN        20  2011-12-08 14:06:00   \n",
       "\n",
       "        unitprice  customerid         country  \n",
       "622           0.0         NaN  United Kingdom  \n",
       "1970          0.0         NaN  United Kingdom  \n",
       "1971          0.0         NaN  United Kingdom  \n",
       "1972          0.0         NaN  United Kingdom  \n",
       "1987          0.0         NaN  United Kingdom  \n",
       "...           ...         ...             ...  \n",
       "535322        0.0         NaN  United Kingdom  \n",
       "535326        0.0         NaN  United Kingdom  \n",
       "535332        0.0         NaN  United Kingdom  \n",
       "536981        0.0         NaN  United Kingdom  \n",
       "538554        0.0         NaN  United Kingdom  \n",
       "\n",
       "[1454 rows x 8 columns]"
      ]
     },
     "execution_count": 11,
     "metadata": {},
     "output_type": "execute_result"
    }
   ],
   "source": [
    "description_null = df[df['description'].isnull()]\n",
    "description_null[description_null['customerid'].isnull()]"
   ]
  },
  {
   "cell_type": "code",
   "execution_count": 12,
   "id": "19f7fcb7-92db-4bed-ab27-709a649b5472",
   "metadata": {},
   "outputs": [
    {
     "data": {
      "text/plain": [
       "invoiceno           0\n",
       "stockcode           0\n",
       "description      1454\n",
       "quantity            0\n",
       "invoicedate         0\n",
       "unitprice           0\n",
       "customerid     135080\n",
       "country             0\n",
       "dtype: int64"
      ]
     },
     "execution_count": 12,
     "metadata": {},
     "output_type": "execute_result"
    }
   ],
   "source": [
    "rows_with_nulls_nan = rows_with_nulls.isna().sum()\n",
    "rows_with_nulls_nan"
   ]
  },
  {
   "cell_type": "markdown",
   "id": "bae7d6ff-eab5-4650-90ca-b9646d74ba13",
   "metadata": {},
   "source": [
    "# There are only nans within description and customer id"
   ]
  },
  {
   "cell_type": "markdown",
   "id": "34b973f8-54b4-4d32-851c-d14963093aad",
   "metadata": {},
   "source": [
    "## Customerids aren't unique to each country in the dataset"
   ]
  },
  {
   "cell_type": "code",
   "execution_count": 13,
   "id": "8c1afd92-065b-4b0c-b42a-bfcc0033b227",
   "metadata": {},
   "outputs": [
    {
     "data": {
      "text/plain": [
       "customerid  country       \n",
       "17841.0     United Kingdom    7983\n",
       "14911.0     EIRE              5903\n",
       "14096.0     United Kingdom    5128\n",
       "12748.0     United Kingdom    4642\n",
       "14606.0     United Kingdom    2782\n",
       "                              ... \n",
       "14351.0     United Kingdom       1\n",
       "15562.0     United Kingdom       1\n",
       "17065.0     United Kingdom       1\n",
       "15070.0     United Kingdom       1\n",
       "14090.0     United Kingdom       1\n",
       "Name: count, Length: 4380, dtype: int64"
      ]
     },
     "execution_count": 13,
     "metadata": {},
     "output_type": "execute_result"
    }
   ],
   "source": [
    "df[['customerid','country']].value_counts()"
   ]
  },
  {
   "cell_type": "markdown",
   "id": "89f12a2a-bef3-4354-ac3e-96647b99f55e",
   "metadata": {},
   "source": [
    "  "
   ]
  },
  {
   "cell_type": "markdown",
   "id": "df641ccc-1422-4dde-bd3d-1dd3abb8dc8d",
   "metadata": {},
   "source": [
    "   "
   ]
  },
  {
   "cell_type": "code",
   "execution_count": 14,
   "id": "66cc5ccc-c8dd-4c2a-b704-1ea39b4fac8e",
   "metadata": {},
   "outputs": [],
   "source": [
    "country_cnts = df.country.value_counts()\n",
    "country_cnts = pd.DataFrame(country_cnts).reset_index()\n",
    "country_cnts = country_cnts[country_cnts['count'] > 1000]"
   ]
  },
  {
   "cell_type": "markdown",
   "id": "e83b1e95-efb0-458c-baa9-cd3f40df2bc6",
   "metadata": {},
   "source": [
    "  "
   ]
  },
  {
   "cell_type": "code",
   "execution_count": 15,
   "id": "61dff3cd-437a-43f7-a811-a98a5e326a0e",
   "metadata": {
    "scrolled": true
   },
   "outputs": [],
   "source": [
    "# plt.figure(figsize=(12, 8))\n",
    "\n",
    "# sns.barplot(data=country_cnts, x='count', y='country', palette='bright')\n",
    "# plt.title('Country Distribution')\n",
    "# plt.ylabel('Country', rotation=0)\n",
    "# plt.tight_layout()\n",
    "# plt.show()"
   ]
  },
  {
   "cell_type": "code",
   "execution_count": 16,
   "id": "88791f63-07d0-4797-82b2-6f734e45119c",
   "metadata": {},
   "outputs": [
    {
     "name": "stderr",
     "output_type": "stream",
     "text": [
      "/var/folders/hz/r10rvhgs41x5bxdmg79hksdw0000gn/T/ipykernel_14023/3697237330.py:5: FutureWarning: \n",
      "\n",
      "Passing `palette` without assigning `hue` is deprecated and will be removed in v0.14.0. Assign the `y` variable to `hue` and set `legend=False` for the same effect.\n",
      "\n",
      "  ax = sns.barplot(data=country_cnts, x='count', y='country', palette='bright')\n",
      "/var/folders/hz/r10rvhgs41x5bxdmg79hksdw0000gn/T/ipykernel_14023/3697237330.py:29: UserWarning: set_ticklabels() should only be used with a fixed number of ticks, i.e. after set_ticks() or using a FixedLocator.\n",
      "  ax.set_yticklabels([label.get_text().upper() for label in ax.get_yticklabels()])\n"
     ]
    },
    {
     "data": {
      "image/png": "[encoded data removed]",
      "text/plain": [
       "<Figure size 1500x1000 with 1 Axes>"
      ]
     },
     "metadata": {},
     "output_type": "display_data"
    }
   ],
   "source": [
    "# set figsze\n",
    "plt.figure(figsize=(15, 10))\n",
    "\n",
    "# Create the bar plot\n",
    "ax = sns.barplot(data=country_cnts, x='count', y='country', palette='bright')\n",
    "\n",
    "# remove spines\n",
    "sns.despine(left=True, bottom=True)\n",
    "\n",
    "# adding values at the end of each bar\n",
    "for p in ax.patches:\n",
    "    \n",
    "    ax.annotate(f'{p.get_width():.0f}', (p.get_width(), p.get_y() + p.get_height() / 2),\n",
    "                ha='left', va='center', fontsize=10, color='black')\n",
    "\n",
    "# Remove x-tick labels, keeping the ticks\n",
    "ax.set_xticklabels([])\n",
    "ax.set_xticks([])\n",
    "\n",
    "# Remove y ticks\n",
    "ax.tick_params(axis='y', which='both', left=False)\n",
    "# ax.tick_params(axis='x', which='both', bottom=False, xlabel=None)\n",
    "\n",
    "        \n",
    "# set labels\n",
    "plt.title('Country Distribution')\n",
    "\n",
    "# capitalize the y-axis labels\n",
    "ax.set_yticklabels([label.get_text().upper() for label in ax.get_yticklabels()])\n",
    "\n",
    "plt.ylabel('Country', rotation=0, labelpad=30)\n",
    "plt.xlabel('')\n",
    "plt.tight_layout()\n",
    "plt.show()"
   ]
  },
  {
   "cell_type": "markdown",
   "id": "7fa47a84-58c6-4d0d-956f-1d406f4b1f22",
   "metadata": {},
   "source": [
    "  "
   ]
  },
  {
   "cell_type": "markdown",
   "id": "b810ee32-4c39-4df9-b24d-419e1b0804ee",
   "metadata": {},
   "source": [
    "  "
   ]
  },
  {
   "cell_type": "markdown",
   "id": "d60ab38c-dd8b-4481-ae30-0c4e75aa31f8",
   "metadata": {},
   "source": [
    "  "
   ]
  },
  {
   "cell_type": "markdown",
   "id": "55cc9b5e-760f-43aa-aec6-3e774649c73c",
   "metadata": {},
   "source": [
    "# Based on this visual we can see that all countries that appear over 1000X within this dataset"
   ]
  },
  {
   "cell_type": "markdown",
   "id": "ccf9283d-3cae-41b4-97c9-45c49f504ad2",
   "metadata": {},
   "source": [
    "  "
   ]
  },
  {
   "cell_type": "markdown",
   "id": "5c801cc1-4ac9-45e4-bdcf-1244d72937c1",
   "metadata": {},
   "source": [
    "  "
   ]
  },
  {
   "cell_type": "markdown",
   "id": "88383c34-c38a-433e-80b0-64931d607906",
   "metadata": {},
   "source": [
    "  "
   ]
  },
  {
   "cell_type": "markdown",
   "id": "983c84c3-606a-4941-a364-1cab4d186f20",
   "metadata": {},
   "source": [
    "# what are the distributions that exist in this dataset?"
   ]
  },
  {
   "cell_type": "code",
   "execution_count": 17,
   "id": "0e180d4a-6e81-46d9-a9a2-37a3406ace64",
   "metadata": {},
   "outputs": [],
   "source": [
    "numeric_cols = df.columns[(df.dtypes == 'float64') | (df.dtypes == 'int64')]"
   ]
  },
  {
   "cell_type": "code",
   "execution_count": 18,
   "id": "6e8628b6-89d4-4537-bc0a-25caeb518ccd",
   "metadata": {},
   "outputs": [
    {
     "data": {
      "image/png": "[encoded data removed]",
      "text/plain": [
       "<Figure size 640x480 with 1 Axes>"
      ]
     },
     "metadata": {},
     "output_type": "display_data"
    },
    {
     "data": {
      "image/png": "[encoded data removed]",
      "text/plain": [
       "<Figure size 640x480 with 1 Axes>"
      ]
     },
     "metadata": {},
     "output_type": "display_data"
    },
    {
     "data": {
      "image/png": "[encoded data removed]",
      "text/plain": [
       "<Figure size 640x480 with 1 Axes>"
      ]
     },
     "metadata": {},
     "output_type": "display_data"
    }
   ],
   "source": [
    "# Create histograms for selected columns\n",
    "for col in numeric_cols:\n",
    "    plt.figure()\n",
    "    plt.title(f'Distribution of {col}')\n",
    "    sns.histplot(data=df, x=col, bins=50)\n",
    "    plt.show()"
   ]
  },
  {
   "cell_type": "markdown",
   "id": "a8b7f332-2099-492f-a646-fe6caacf16d9",
   "metadata": {},
   "source": [
    "  "
   ]
  },
  {
   "cell_type": "markdown",
   "id": "8625e76b-1647-4a6e-a245-251d0ffe56a8",
   "metadata": {},
   "source": [
    "  "
   ]
  },
  {
   "cell_type": "markdown",
   "id": "16a5b323-40c7-46e7-9c29-586104a8f3c8",
   "metadata": {},
   "source": [
    "  "
   ]
  },
  {
   "cell_type": "markdown",
   "id": "03b34c00-7663-479f-b7bc-24451de2d215",
   "metadata": {},
   "source": [
    "  "
   ]
  },
  {
   "cell_type": "code",
   "execution_count": 19,
   "id": "cdcb71eb-7321-4314-b11b-2e5fdef52139",
   "metadata": {},
   "outputs": [
    {
     "data": {
      "image/png": "[encoded data removed]",
      "text/plain": [
       "<Figure size 640x480 with 1 Axes>"
      ]
     },
     "metadata": {},
     "output_type": "display_data"
    },
    {
     "data": {
      "image/png": "[encoded data removed]",
      "text/plain": [
       "<Figure size 640x480 with 1 Axes>"
      ]
     },
     "metadata": {},
     "output_type": "display_data"
    },
    {
     "data": {
      "image/png": "[encoded data removed]",
      "text/plain": [
       "<Figure size 640x480 with 1 Axes>"
      ]
     },
     "metadata": {},
     "output_type": "display_data"
    },
    {
     "data": {
      "image/png": "[encoded data removed]",
      "text/plain": [
       "<Figure size 640x480 with 1 Axes>"
      ]
     },
     "metadata": {},
     "output_type": "display_data"
    },
    {
     "data": {
      "image/png": "[encoded data removed]",
      "text/plain": [
       "<Figure size 640x480 with 1 Axes>"
      ]
     },
     "metadata": {},
     "output_type": "display_data"
    }
   ],
   "source": [
    "for col in df.columns[df.dtypes == 'object']:\n",
    "    plt.figure()\n",
    "    plt.title(f'Distribution of {col}')\n",
    "    sns.histplot(data=df, x=col)\n",
    "    plt.show()"
   ]
  },
  {
   "cell_type": "markdown",
   "id": "cfeb74ff-eeb9-45ab-a89c-6c723f99e69a",
   "metadata": {},
   "source": [
    "  "
   ]
  },
  {
   "cell_type": "markdown",
   "id": "369f1541-e5ee-4565-a75f-a7a6f26cf328",
   "metadata": {},
   "source": [
    "  "
   ]
  },
  {
   "cell_type": "markdown",
   "id": "7817daeb-fd0d-4596-ad85-ee3ba677366c",
   "metadata": {},
   "source": [
    "  "
   ]
  },
  {
   "cell_type": "markdown",
   "id": "656726cf-872f-4fc9-84eb-29f7f87bc4eb",
   "metadata": {},
   "source": [
    "  "
   ]
  },
  {
   "cell_type": "markdown",
   "id": "367d8713-2616-47c6-b2b4-a042d8fbde8f",
   "metadata": {},
   "source": [
    "# the number of null values is 135080, is it worth trying to salvage this data?"
   ]
  },
  {
   "cell_type": "code",
   "execution_count": 20,
   "id": "264449cf-757e-4bca-b496-3aa41975cec5",
   "metadata": {},
   "outputs": [
    {
     "data": {
      "text/plain": [
       "405732"
      ]
     },
     "execution_count": 20,
     "metadata": {},
     "output_type": "execute_result"
    }
   ],
   "source": [
    "541540 - 135808"
   ]
  },
  {
   "cell_type": "markdown",
   "id": "8bc8bba5-7437-4770-a7fe-524be2e20539",
   "metadata": {},
   "source": [
    "  "
   ]
  },
  {
   "cell_type": "markdown",
   "id": "30f9ea72-196f-4870-9e07-a8a2bf45ce55",
   "metadata": {},
   "source": [
    "  "
   ]
  },
  {
   "cell_type": "markdown",
   "id": "0322fde2-3e06-4247-a45b-407bc1a7c8ee",
   "metadata": {},
   "source": [
    "## This is 25% of the dataset"
   ]
  },
  {
   "cell_type": "markdown",
   "id": "c5463656-9aab-4b94-9f76-4e7e60e1a305",
   "metadata": {},
   "source": [
    "  "
   ]
  },
  {
   "cell_type": "markdown",
   "id": "305e8007-6129-48ff-8651-c3eb4924fe36",
   "metadata": {},
   "source": [
    "  "
   ]
  },
  {
   "cell_type": "markdown",
   "id": "85258621-3401-489f-a493-bc4f0b91d859",
   "metadata": {},
   "source": [
    "## what patterns or reasons are there for this missing data?, is there a way to impute or fill this with other info or infered based on context?"
   ]
  },
  {
   "cell_type": "markdown",
   "id": "7ab41cdc-c4b9-4c9e-a5c3-67858949393d",
   "metadata": {},
   "source": [
    "  "
   ]
  },
  {
   "cell_type": "code",
   "execution_count": 21,
   "id": "a9f95ab1-5656-4480-8ba0-076d4117e739",
   "metadata": {},
   "outputs": [
    {
     "data": {
      "text/plain": [
       "country\n",
       "False    135080\n",
       "Name: count, dtype: int64"
      ]
     },
     "execution_count": 21,
     "metadata": {},
     "output_type": "execute_result"
    }
   ],
   "source": [
    "rows_with_nulls['country'].isnull().value_counts()"
   ]
  },
  {
   "cell_type": "code",
   "execution_count": 22,
   "id": "b21bd889-de74-4c84-9491-e26013c038cb",
   "metadata": {},
   "outputs": [
    {
     "data": {
      "text/html": [
       "<div>\n",
       "<style scoped>\n",
       "    .dataframe tbody tr th:only-of-type {\n",
       "        vertical-align: middle;\n",
       "    }\n",
       "\n",
       "    .dataframe tbody tr th {\n",
       "        vertical-align: top;\n",
       "    }\n",
       "\n",
       "    .dataframe thead th {\n",
       "        text-align: right;\n",
       "    }\n",
       "</style>\n",
       "<table border=\"1\" class=\"dataframe\">\n",
       "  <thead>\n",
       "    <tr style=\"text-align: right;\">\n",
       "      <th></th>\n",
       "      <th>invoiceno</th>\n",
       "      <th>stockcode</th>\n",
       "      <th>description</th>\n",
       "      <th>quantity</th>\n",
       "      <th>invoicedate</th>\n",
       "      <th>unitprice</th>\n",
       "      <th>customerid</th>\n",
       "      <th>country</th>\n",
       "    </tr>\n",
       "  </thead>\n",
       "  <tbody>\n",
       "    <tr>\n",
       "      <th>622</th>\n",
       "      <td>536414</td>\n",
       "      <td>22139</td>\n",
       "      <td>NaN</td>\n",
       "      <td>56</td>\n",
       "      <td>2010-12-01 11:52:00</td>\n",
       "      <td>0.00</td>\n",
       "      <td>NaN</td>\n",
       "      <td>United Kingdom</td>\n",
       "    </tr>\n",
       "    <tr>\n",
       "      <th>1443</th>\n",
       "      <td>536544</td>\n",
       "      <td>21773</td>\n",
       "      <td>DECORATIVE ROSE BATHROOM BOTTLE</td>\n",
       "      <td>1</td>\n",
       "      <td>2010-12-01 14:32:00</td>\n",
       "      <td>2.51</td>\n",
       "      <td>NaN</td>\n",
       "      <td>United Kingdom</td>\n",
       "    </tr>\n",
       "    <tr>\n",
       "      <th>1444</th>\n",
       "      <td>536544</td>\n",
       "      <td>21774</td>\n",
       "      <td>DECORATIVE CATS BATHROOM BOTTLE</td>\n",
       "      <td>2</td>\n",
       "      <td>2010-12-01 14:32:00</td>\n",
       "      <td>2.51</td>\n",
       "      <td>NaN</td>\n",
       "      <td>United Kingdom</td>\n",
       "    </tr>\n",
       "    <tr>\n",
       "      <th>1445</th>\n",
       "      <td>536544</td>\n",
       "      <td>21786</td>\n",
       "      <td>POLKADOT RAIN HAT</td>\n",
       "      <td>4</td>\n",
       "      <td>2010-12-01 14:32:00</td>\n",
       "      <td>0.85</td>\n",
       "      <td>NaN</td>\n",
       "      <td>United Kingdom</td>\n",
       "    </tr>\n",
       "    <tr>\n",
       "      <th>1446</th>\n",
       "      <td>536544</td>\n",
       "      <td>21787</td>\n",
       "      <td>RAIN PONCHO RETROSPOT</td>\n",
       "      <td>2</td>\n",
       "      <td>2010-12-01 14:32:00</td>\n",
       "      <td>1.66</td>\n",
       "      <td>NaN</td>\n",
       "      <td>United Kingdom</td>\n",
       "    </tr>\n",
       "    <tr>\n",
       "      <th>...</th>\n",
       "      <td>...</td>\n",
       "      <td>...</td>\n",
       "      <td>...</td>\n",
       "      <td>...</td>\n",
       "      <td>...</td>\n",
       "      <td>...</td>\n",
       "      <td>...</td>\n",
       "      <td>...</td>\n",
       "    </tr>\n",
       "    <tr>\n",
       "      <th>541536</th>\n",
       "      <td>581498</td>\n",
       "      <td>85099B</td>\n",
       "      <td>JUMBO BAG RED RETROSPOT</td>\n",
       "      <td>5</td>\n",
       "      <td>2011-12-09 10:26:00</td>\n",
       "      <td>4.13</td>\n",
       "      <td>NaN</td>\n",
       "      <td>United Kingdom</td>\n",
       "    </tr>\n",
       "    <tr>\n",
       "      <th>541537</th>\n",
       "      <td>581498</td>\n",
       "      <td>85099C</td>\n",
       "      <td>JUMBO  BAG BAROQUE BLACK WHITE</td>\n",
       "      <td>4</td>\n",
       "      <td>2011-12-09 10:26:00</td>\n",
       "      <td>4.13</td>\n",
       "      <td>NaN</td>\n",
       "      <td>United Kingdom</td>\n",
       "    </tr>\n",
       "    <tr>\n",
       "      <th>541538</th>\n",
       "      <td>581498</td>\n",
       "      <td>85150</td>\n",
       "      <td>LADIES &amp; GENTLEMEN METAL SIGN</td>\n",
       "      <td>1</td>\n",
       "      <td>2011-12-09 10:26:00</td>\n",
       "      <td>4.96</td>\n",
       "      <td>NaN</td>\n",
       "      <td>United Kingdom</td>\n",
       "    </tr>\n",
       "    <tr>\n",
       "      <th>541539</th>\n",
       "      <td>581498</td>\n",
       "      <td>85174</td>\n",
       "      <td>S/4 CACTI CANDLES</td>\n",
       "      <td>1</td>\n",
       "      <td>2011-12-09 10:26:00</td>\n",
       "      <td>10.79</td>\n",
       "      <td>NaN</td>\n",
       "      <td>United Kingdom</td>\n",
       "    </tr>\n",
       "    <tr>\n",
       "      <th>541540</th>\n",
       "      <td>581498</td>\n",
       "      <td>DOT</td>\n",
       "      <td>DOTCOM POSTAGE</td>\n",
       "      <td>1</td>\n",
       "      <td>2011-12-09 10:26:00</td>\n",
       "      <td>1714.17</td>\n",
       "      <td>NaN</td>\n",
       "      <td>United Kingdom</td>\n",
       "    </tr>\n",
       "  </tbody>\n",
       "</table>\n",
       "<p>135080 rows × 8 columns</p>\n",
       "</div>"
      ],
      "text/plain": [
       "       invoiceno stockcode                      description  quantity  \\\n",
       "622       536414     22139                              NaN        56   \n",
       "1443      536544     21773  DECORATIVE ROSE BATHROOM BOTTLE         1   \n",
       "1444      536544     21774  DECORATIVE CATS BATHROOM BOTTLE         2   \n",
       "1445      536544     21786               POLKADOT RAIN HAT          4   \n",
       "1446      536544     21787            RAIN PONCHO RETROSPOT         2   \n",
       "...          ...       ...                              ...       ...   \n",
       "541536    581498    85099B          JUMBO BAG RED RETROSPOT         5   \n",
       "541537    581498    85099C   JUMBO  BAG BAROQUE BLACK WHITE         4   \n",
       "541538    581498     85150    LADIES & GENTLEMEN METAL SIGN         1   \n",
       "541539    581498     85174                S/4 CACTI CANDLES         1   \n",
       "541540    581498       DOT                   DOTCOM POSTAGE         1   \n",
       "\n",
       "                invoicedate  unitprice  customerid         country  \n",
       "622     2010-12-01 11:52:00       0.00         NaN  United Kingdom  \n",
       "1443    2010-12-01 14:32:00       2.51         NaN  United Kingdom  \n",
       "1444    2010-12-01 14:32:00       2.51         NaN  United Kingdom  \n",
       "1445    2010-12-01 14:32:00       0.85         NaN  United Kingdom  \n",
       "1446    2010-12-01 14:32:00       1.66         NaN  United Kingdom  \n",
       "...                     ...        ...         ...             ...  \n",
       "541536  2011-12-09 10:26:00       4.13         NaN  United Kingdom  \n",
       "541537  2011-12-09 10:26:00       4.13         NaN  United Kingdom  \n",
       "541538  2011-12-09 10:26:00       4.96         NaN  United Kingdom  \n",
       "541539  2011-12-09 10:26:00      10.79         NaN  United Kingdom  \n",
       "541540  2011-12-09 10:26:00    1714.17         NaN  United Kingdom  \n",
       "\n",
       "[135080 rows x 8 columns]"
      ]
     },
     "execution_count": 22,
     "metadata": {},
     "output_type": "execute_result"
    }
   ],
   "source": [
    "rows_with_nulls"
   ]
  },
  {
   "cell_type": "markdown",
   "id": "e3be92a0-0969-4333-8c94-8a0331b00e87",
   "metadata": {},
   "source": [
    "  "
   ]
  },
  {
   "cell_type": "markdown",
   "id": "ecb74219-1cef-4a45-ae11-36dc14a4d891",
   "metadata": {},
   "source": [
    "  "
   ]
  },
  {
   "cell_type": "code",
   "execution_count": 23,
   "id": "30b3c9b5-3329-49c7-93eb-82d4a0e56f67",
   "metadata": {},
   "outputs": [
    {
     "data": {
      "text/html": [
       "<div>\n",
       "<style scoped>\n",
       "    .dataframe tbody tr th:only-of-type {\n",
       "        vertical-align: middle;\n",
       "    }\n",
       "\n",
       "    .dataframe tbody tr th {\n",
       "        vertical-align: top;\n",
       "    }\n",
       "\n",
       "    .dataframe thead th {\n",
       "        text-align: right;\n",
       "    }\n",
       "</style>\n",
       "<table border=\"1\" class=\"dataframe\">\n",
       "  <thead>\n",
       "    <tr style=\"text-align: right;\">\n",
       "      <th></th>\n",
       "      <th>invoiceno</th>\n",
       "      <th>stockcode</th>\n",
       "      <th>description</th>\n",
       "      <th>quantity</th>\n",
       "      <th>invoicedate</th>\n",
       "      <th>unitprice</th>\n",
       "      <th>customerid</th>\n",
       "      <th>country</th>\n",
       "    </tr>\n",
       "  </thead>\n",
       "  <tbody>\n",
       "    <tr>\n",
       "      <th>6353</th>\n",
       "      <td>536885</td>\n",
       "      <td>21832</td>\n",
       "      <td>CHOCOLATE CALCULATOR</td>\n",
       "      <td>24</td>\n",
       "      <td>2010-12-03 11:42:00</td>\n",
       "      <td>1.65</td>\n",
       "      <td>NaN</td>\n",
       "      <td>EIRE</td>\n",
       "    </tr>\n",
       "    <tr>\n",
       "      <th>6354</th>\n",
       "      <td>536885</td>\n",
       "      <td>21523</td>\n",
       "      <td>DOORMAT FANCY FONT HOME SWEET HOME</td>\n",
       "      <td>10</td>\n",
       "      <td>2010-12-03 11:42:00</td>\n",
       "      <td>6.75</td>\n",
       "      <td>NaN</td>\n",
       "      <td>EIRE</td>\n",
       "    </tr>\n",
       "    <tr>\n",
       "      <th>6355</th>\n",
       "      <td>536885</td>\n",
       "      <td>48184</td>\n",
       "      <td>DOORMAT ENGLISH ROSE</td>\n",
       "      <td>10</td>\n",
       "      <td>2010-12-03 11:42:00</td>\n",
       "      <td>6.75</td>\n",
       "      <td>NaN</td>\n",
       "      <td>EIRE</td>\n",
       "    </tr>\n",
       "    <tr>\n",
       "      <th>6356</th>\n",
       "      <td>536885</td>\n",
       "      <td>22837</td>\n",
       "      <td>HOT WATER BOTTLE BABUSHKA</td>\n",
       "      <td>24</td>\n",
       "      <td>2010-12-03 11:42:00</td>\n",
       "      <td>4.65</td>\n",
       "      <td>NaN</td>\n",
       "      <td>EIRE</td>\n",
       "    </tr>\n",
       "    <tr>\n",
       "      <th>6357</th>\n",
       "      <td>536885</td>\n",
       "      <td>22632</td>\n",
       "      <td>HAND WARMER RED RETROSPOT</td>\n",
       "      <td>12</td>\n",
       "      <td>2010-12-03 11:42:00</td>\n",
       "      <td>2.10</td>\n",
       "      <td>NaN</td>\n",
       "      <td>EIRE</td>\n",
       "    </tr>\n",
       "    <tr>\n",
       "      <th>...</th>\n",
       "      <td>...</td>\n",
       "      <td>...</td>\n",
       "      <td>...</td>\n",
       "      <td>...</td>\n",
       "      <td>...</td>\n",
       "      <td>...</td>\n",
       "      <td>...</td>\n",
       "      <td>...</td>\n",
       "    </tr>\n",
       "    <tr>\n",
       "      <th>518850</th>\n",
       "      <td>580124</td>\n",
       "      <td>23212</td>\n",
       "      <td>HEART WREATH DECORATION WITH BELL</td>\n",
       "      <td>12</td>\n",
       "      <td>2011-12-01 17:12:00</td>\n",
       "      <td>1.25</td>\n",
       "      <td>NaN</td>\n",
       "      <td>EIRE</td>\n",
       "    </tr>\n",
       "    <tr>\n",
       "      <th>518851</th>\n",
       "      <td>580124</td>\n",
       "      <td>23311</td>\n",
       "      <td>VINTAGE CHRISTMAS STOCKING</td>\n",
       "      <td>6</td>\n",
       "      <td>2011-12-01 17:12:00</td>\n",
       "      <td>2.55</td>\n",
       "      <td>NaN</td>\n",
       "      <td>EIRE</td>\n",
       "    </tr>\n",
       "    <tr>\n",
       "      <th>518852</th>\n",
       "      <td>580124</td>\n",
       "      <td>23312</td>\n",
       "      <td>VINTAGE CHRISTMAS GIFT SACK</td>\n",
       "      <td>8</td>\n",
       "      <td>2011-12-01 17:12:00</td>\n",
       "      <td>4.15</td>\n",
       "      <td>NaN</td>\n",
       "      <td>EIRE</td>\n",
       "    </tr>\n",
       "    <tr>\n",
       "      <th>518853</th>\n",
       "      <td>580124</td>\n",
       "      <td>22834</td>\n",
       "      <td>HAND WARMER BABUSHKA DESIGN</td>\n",
       "      <td>24</td>\n",
       "      <td>2011-12-01 17:12:00</td>\n",
       "      <td>2.10</td>\n",
       "      <td>NaN</td>\n",
       "      <td>EIRE</td>\n",
       "    </tr>\n",
       "    <tr>\n",
       "      <th>518854</th>\n",
       "      <td>580124</td>\n",
       "      <td>C2</td>\n",
       "      <td>CARRIAGE</td>\n",
       "      <td>1</td>\n",
       "      <td>2011-12-01 17:12:00</td>\n",
       "      <td>50.00</td>\n",
       "      <td>NaN</td>\n",
       "      <td>EIRE</td>\n",
       "    </tr>\n",
       "  </tbody>\n",
       "</table>\n",
       "<p>1480 rows × 8 columns</p>\n",
       "</div>"
      ],
      "text/plain": [
       "       invoiceno stockcode                         description  quantity  \\\n",
       "6353      536885     21832                CHOCOLATE CALCULATOR        24   \n",
       "6354      536885     21523  DOORMAT FANCY FONT HOME SWEET HOME        10   \n",
       "6355      536885     48184               DOORMAT ENGLISH ROSE         10   \n",
       "6356      536885     22837          HOT WATER BOTTLE BABUSHKA         24   \n",
       "6357      536885     22632           HAND WARMER RED RETROSPOT        12   \n",
       "...          ...       ...                                 ...       ...   \n",
       "518850    580124     23212   HEART WREATH DECORATION WITH BELL        12   \n",
       "518851    580124     23311         VINTAGE CHRISTMAS STOCKING          6   \n",
       "518852    580124     23312         VINTAGE CHRISTMAS GIFT SACK         8   \n",
       "518853    580124     22834         HAND WARMER BABUSHKA DESIGN        24   \n",
       "518854    580124        C2                            CARRIAGE         1   \n",
       "\n",
       "                invoicedate  unitprice  customerid country  \n",
       "6353    2010-12-03 11:42:00       1.65         NaN    EIRE  \n",
       "6354    2010-12-03 11:42:00       6.75         NaN    EIRE  \n",
       "6355    2010-12-03 11:42:00       6.75         NaN    EIRE  \n",
       "6356    2010-12-03 11:42:00       4.65         NaN    EIRE  \n",
       "6357    2010-12-03 11:42:00       2.10         NaN    EIRE  \n",
       "...                     ...        ...         ...     ...  \n",
       "518850  2011-12-01 17:12:00       1.25         NaN    EIRE  \n",
       "518851  2011-12-01 17:12:00       2.55         NaN    EIRE  \n",
       "518852  2011-12-01 17:12:00       4.15         NaN    EIRE  \n",
       "518853  2011-12-01 17:12:00       2.10         NaN    EIRE  \n",
       "518854  2011-12-01 17:12:00      50.00         NaN    EIRE  \n",
       "\n",
       "[1480 rows x 8 columns]"
      ]
     },
     "execution_count": 23,
     "metadata": {},
     "output_type": "execute_result"
    }
   ],
   "source": [
    "rows_nouk_nulls = rows_with_nulls[rows_with_nulls.country != 'United Kingdom']\n",
    "rows_nouk_nulls"
   ]
  },
  {
   "cell_type": "markdown",
   "id": "9fce2699-bd95-4967-b1cd-cbac62d7d8ef",
   "metadata": {},
   "source": [
    "  "
   ]
  },
  {
   "cell_type": "markdown",
   "id": "6b65ce61-4c67-4c05-a05a-7e7f2d36b090",
   "metadata": {},
   "source": [
    "  "
   ]
  },
  {
   "cell_type": "markdown",
   "id": "86c7d912-ed96-4c20-8b72-2accc61cde82",
   "metadata": {},
   "source": [
    "## I don't think we need unspecified countries."
   ]
  },
  {
   "cell_type": "code",
   "execution_count": 24,
   "id": "1bf74489-2252-4de6-b96f-f4a44a6c4ef4",
   "metadata": {},
   "outputs": [
    {
     "data": {
      "text/plain": [
       "country\n",
       "EIRE           711\n",
       "Hong Kong      288\n",
       "Unspecified    202\n",
       "Switzerland    125\n",
       "France          66\n",
       "Israel          47\n",
       "Portugal        39\n",
       "Bahrain          2\n",
       "Name: count, dtype: int64"
      ]
     },
     "execution_count": 24,
     "metadata": {},
     "output_type": "execute_result"
    }
   ],
   "source": [
    "rows_nouk_nulls.country.value_counts()"
   ]
  },
  {
   "cell_type": "markdown",
   "id": "69e406e5-686b-4cdf-945a-30e10bad1508",
   "metadata": {},
   "source": [
    "## how do unique values help here?"
   ]
  },
  {
   "cell_type": "code",
   "execution_count": 25,
   "id": "b341c446-5785-469a-823f-aceb1eb866a0",
   "metadata": {},
   "outputs": [
    {
     "data": {
      "text/plain": [
       "invoiceno       73\n",
       "stockcode      735\n",
       "description    742\n",
       "quantity        50\n",
       "invoicedate     73\n",
       "unitprice       73\n",
       "customerid       0\n",
       "country          8\n",
       "dtype: int64"
      ]
     },
     "execution_count": 25,
     "metadata": {},
     "output_type": "execute_result"
    }
   ],
   "source": [
    "rows_nouk_nulls.nunique()"
   ]
  },
  {
   "cell_type": "markdown",
   "id": "5bd2339c-b2b3-4ce1-aefa-26936ecf6156",
   "metadata": {},
   "source": [
    "  "
   ]
  },
  {
   "cell_type": "markdown",
   "id": "495e1dbb-fc72-4aad-8ad4-d486648e2cd3",
   "metadata": {},
   "source": [
    "  "
   ]
  },
  {
   "cell_type": "markdown",
   "id": "80728aad-0bba-472f-b9c0-b27535571d4c",
   "metadata": {},
   "source": [
    "  "
   ]
  },
  {
   "cell_type": "markdown",
   "id": "e0df17b5-3bf2-4597-87b1-4db67694b6ac",
   "metadata": {},
   "source": [
    "## UK is comprised of so many nulls\n",
    "- would it add value to the data evaluation if there are observations with a unit price of 0.0?"
   ]
  },
  {
   "cell_type": "code",
   "execution_count": 26,
   "id": "0536cb98-fefe-42cd-96bd-16cb2157732d",
   "metadata": {},
   "outputs": [
    {
     "name": "stdout",
     "output_type": "stream",
     "text": [
      "country\n",
      "United Kingdom    1454\n",
      "Name: count, dtype: int64\n"
     ]
    },
    {
     "data": {
      "text/html": [
       "<div>\n",
       "<style scoped>\n",
       "    .dataframe tbody tr th:only-of-type {\n",
       "        vertical-align: middle;\n",
       "    }\n",
       "\n",
       "    .dataframe tbody tr th {\n",
       "        vertical-align: top;\n",
       "    }\n",
       "\n",
       "    .dataframe thead th {\n",
       "        text-align: right;\n",
       "    }\n",
       "</style>\n",
       "<table border=\"1\" class=\"dataframe\">\n",
       "  <thead>\n",
       "    <tr style=\"text-align: right;\">\n",
       "      <th></th>\n",
       "      <th>invoiceno</th>\n",
       "      <th>stockcode</th>\n",
       "      <th>description</th>\n",
       "      <th>quantity</th>\n",
       "      <th>invoicedate</th>\n",
       "      <th>unitprice</th>\n",
       "      <th>customerid</th>\n",
       "      <th>country</th>\n",
       "    </tr>\n",
       "  </thead>\n",
       "  <tbody>\n",
       "    <tr>\n",
       "      <th>622</th>\n",
       "      <td>536414</td>\n",
       "      <td>22139</td>\n",
       "      <td>NaN</td>\n",
       "      <td>56</td>\n",
       "      <td>2010-12-01 11:52:00</td>\n",
       "      <td>0.0</td>\n",
       "      <td>NaN</td>\n",
       "      <td>United Kingdom</td>\n",
       "    </tr>\n",
       "    <tr>\n",
       "      <th>1970</th>\n",
       "      <td>536545</td>\n",
       "      <td>21134</td>\n",
       "      <td>NaN</td>\n",
       "      <td>1</td>\n",
       "      <td>2010-12-01 14:32:00</td>\n",
       "      <td>0.0</td>\n",
       "      <td>NaN</td>\n",
       "      <td>United Kingdom</td>\n",
       "    </tr>\n",
       "    <tr>\n",
       "      <th>1971</th>\n",
       "      <td>536546</td>\n",
       "      <td>22145</td>\n",
       "      <td>NaN</td>\n",
       "      <td>1</td>\n",
       "      <td>2010-12-01 14:33:00</td>\n",
       "      <td>0.0</td>\n",
       "      <td>NaN</td>\n",
       "      <td>United Kingdom</td>\n",
       "    </tr>\n",
       "    <tr>\n",
       "      <th>1972</th>\n",
       "      <td>536547</td>\n",
       "      <td>37509</td>\n",
       "      <td>NaN</td>\n",
       "      <td>1</td>\n",
       "      <td>2010-12-01 14:33:00</td>\n",
       "      <td>0.0</td>\n",
       "      <td>NaN</td>\n",
       "      <td>United Kingdom</td>\n",
       "    </tr>\n",
       "    <tr>\n",
       "      <th>1987</th>\n",
       "      <td>536549</td>\n",
       "      <td>85226A</td>\n",
       "      <td>NaN</td>\n",
       "      <td>1</td>\n",
       "      <td>2010-12-01 14:34:00</td>\n",
       "      <td>0.0</td>\n",
       "      <td>NaN</td>\n",
       "      <td>United Kingdom</td>\n",
       "    </tr>\n",
       "    <tr>\n",
       "      <th>...</th>\n",
       "      <td>...</td>\n",
       "      <td>...</td>\n",
       "      <td>...</td>\n",
       "      <td>...</td>\n",
       "      <td>...</td>\n",
       "      <td>...</td>\n",
       "      <td>...</td>\n",
       "      <td>...</td>\n",
       "    </tr>\n",
       "    <tr>\n",
       "      <th>535322</th>\n",
       "      <td>581199</td>\n",
       "      <td>84581</td>\n",
       "      <td>NaN</td>\n",
       "      <td>-2</td>\n",
       "      <td>2011-12-07 18:26:00</td>\n",
       "      <td>0.0</td>\n",
       "      <td>NaN</td>\n",
       "      <td>United Kingdom</td>\n",
       "    </tr>\n",
       "    <tr>\n",
       "      <th>535326</th>\n",
       "      <td>581203</td>\n",
       "      <td>23406</td>\n",
       "      <td>NaN</td>\n",
       "      <td>15</td>\n",
       "      <td>2011-12-07 18:31:00</td>\n",
       "      <td>0.0</td>\n",
       "      <td>NaN</td>\n",
       "      <td>United Kingdom</td>\n",
       "    </tr>\n",
       "    <tr>\n",
       "      <th>535332</th>\n",
       "      <td>581209</td>\n",
       "      <td>21620</td>\n",
       "      <td>NaN</td>\n",
       "      <td>6</td>\n",
       "      <td>2011-12-07 18:35:00</td>\n",
       "      <td>0.0</td>\n",
       "      <td>NaN</td>\n",
       "      <td>United Kingdom</td>\n",
       "    </tr>\n",
       "    <tr>\n",
       "      <th>536981</th>\n",
       "      <td>581234</td>\n",
       "      <td>72817</td>\n",
       "      <td>NaN</td>\n",
       "      <td>27</td>\n",
       "      <td>2011-12-08 10:33:00</td>\n",
       "      <td>0.0</td>\n",
       "      <td>NaN</td>\n",
       "      <td>United Kingdom</td>\n",
       "    </tr>\n",
       "    <tr>\n",
       "      <th>538554</th>\n",
       "      <td>581408</td>\n",
       "      <td>85175</td>\n",
       "      <td>NaN</td>\n",
       "      <td>20</td>\n",
       "      <td>2011-12-08 14:06:00</td>\n",
       "      <td>0.0</td>\n",
       "      <td>NaN</td>\n",
       "      <td>United Kingdom</td>\n",
       "    </tr>\n",
       "  </tbody>\n",
       "</table>\n",
       "<p>1454 rows × 8 columns</p>\n",
       "</div>"
      ],
      "text/plain": [
       "       invoiceno stockcode description  quantity          invoicedate  \\\n",
       "622       536414     22139         NaN        56  2010-12-01 11:52:00   \n",
       "1970      536545     21134         NaN         1  2010-12-01 14:32:00   \n",
       "1971      536546     22145         NaN         1  2010-12-01 14:33:00   \n",
       "1972      536547     37509         NaN         1  2010-12-01 14:33:00   \n",
       "1987      536549    85226A         NaN         1  2010-12-01 14:34:00   \n",
       "...          ...       ...         ...       ...                  ...   \n",
       "535322    581199     84581         NaN        -2  2011-12-07 18:26:00   \n",
       "535326    581203     23406         NaN        15  2011-12-07 18:31:00   \n",
       "535332    581209     21620         NaN         6  2011-12-07 18:35:00   \n",
       "536981    581234     72817         NaN        27  2011-12-08 10:33:00   \n",
       "538554    581408     85175         NaN        20  2011-12-08 14:06:00   \n",
       "\n",
       "        unitprice  customerid         country  \n",
       "622           0.0         NaN  United Kingdom  \n",
       "1970          0.0         NaN  United Kingdom  \n",
       "1971          0.0         NaN  United Kingdom  \n",
       "1972          0.0         NaN  United Kingdom  \n",
       "1987          0.0         NaN  United Kingdom  \n",
       "...           ...         ...             ...  \n",
       "535322        0.0         NaN  United Kingdom  \n",
       "535326        0.0         NaN  United Kingdom  \n",
       "535332        0.0         NaN  United Kingdom  \n",
       "536981        0.0         NaN  United Kingdom  \n",
       "538554        0.0         NaN  United Kingdom  \n",
       "\n",
       "[1454 rows x 8 columns]"
      ]
     },
     "execution_count": 26,
     "metadata": {},
     "output_type": "execute_result"
    }
   ],
   "source": [
    "zero_unitprice_rows = rows_with_nulls.loc[rows_with_nulls['description'].isnull() & (rows_with_nulls['unitprice'] == 0.0)]\n",
    "print(zero_unitprice_rows.country.value_counts())\n",
    "zero_unitprice_rows"
   ]
  },
  {
   "cell_type": "markdown",
   "id": "fb265007-8857-4eb0-b38d-8e0b4047b8cf",
   "metadata": {},
   "source": [
    "  "
   ]
  },
  {
   "cell_type": "markdown",
   "id": "3938af8c-bb38-43cc-bb52-a7e3624bf2cc",
   "metadata": {},
   "source": [
    "  "
   ]
  },
  {
   "cell_type": "markdown",
   "id": "052fa067-1c89-4feb-8909-8f35ec6bda44",
   "metadata": {},
   "source": [
    "## checking quantity and customer_ids"
   ]
  },
  {
   "cell_type": "code",
   "execution_count": 27,
   "id": "e7dc3112-0444-4eb3-8b68-38a1e648afe8",
   "metadata": {},
   "outputs": [
    {
     "name": "stdout",
     "output_type": "stream",
     "text": [
      "country\n",
      "United Kingdom    131941\n",
      "EIRE                 656\n",
      "Hong Kong            284\n",
      "Unspecified          202\n",
      "Switzerland          125\n",
      "France                66\n",
      "Israel                47\n",
      "Portugal              39\n",
      "Bahrain                1\n",
      "Name: count, dtype: int64\n"
     ]
    },
    {
     "data": {
      "text/html": [
       "<div>\n",
       "<style scoped>\n",
       "    .dataframe tbody tr th:only-of-type {\n",
       "        vertical-align: middle;\n",
       "    }\n",
       "\n",
       "    .dataframe tbody tr th {\n",
       "        vertical-align: top;\n",
       "    }\n",
       "\n",
       "    .dataframe thead th {\n",
       "        text-align: right;\n",
       "    }\n",
       "</style>\n",
       "<table border=\"1\" class=\"dataframe\">\n",
       "  <thead>\n",
       "    <tr style=\"text-align: right;\">\n",
       "      <th></th>\n",
       "      <th>invoiceno</th>\n",
       "      <th>stockcode</th>\n",
       "      <th>description</th>\n",
       "      <th>quantity</th>\n",
       "      <th>invoicedate</th>\n",
       "      <th>unitprice</th>\n",
       "      <th>customerid</th>\n",
       "      <th>country</th>\n",
       "    </tr>\n",
       "  </thead>\n",
       "  <tbody>\n",
       "    <tr>\n",
       "      <th>622</th>\n",
       "      <td>536414</td>\n",
       "      <td>22139</td>\n",
       "      <td>NaN</td>\n",
       "      <td>56</td>\n",
       "      <td>2010-12-01 11:52:00</td>\n",
       "      <td>0.00</td>\n",
       "      <td>NaN</td>\n",
       "      <td>United Kingdom</td>\n",
       "    </tr>\n",
       "    <tr>\n",
       "      <th>1443</th>\n",
       "      <td>536544</td>\n",
       "      <td>21773</td>\n",
       "      <td>DECORATIVE ROSE BATHROOM BOTTLE</td>\n",
       "      <td>1</td>\n",
       "      <td>2010-12-01 14:32:00</td>\n",
       "      <td>2.51</td>\n",
       "      <td>NaN</td>\n",
       "      <td>United Kingdom</td>\n",
       "    </tr>\n",
       "    <tr>\n",
       "      <th>1444</th>\n",
       "      <td>536544</td>\n",
       "      <td>21774</td>\n",
       "      <td>DECORATIVE CATS BATHROOM BOTTLE</td>\n",
       "      <td>2</td>\n",
       "      <td>2010-12-01 14:32:00</td>\n",
       "      <td>2.51</td>\n",
       "      <td>NaN</td>\n",
       "      <td>United Kingdom</td>\n",
       "    </tr>\n",
       "    <tr>\n",
       "      <th>1445</th>\n",
       "      <td>536544</td>\n",
       "      <td>21786</td>\n",
       "      <td>POLKADOT RAIN HAT</td>\n",
       "      <td>4</td>\n",
       "      <td>2010-12-01 14:32:00</td>\n",
       "      <td>0.85</td>\n",
       "      <td>NaN</td>\n",
       "      <td>United Kingdom</td>\n",
       "    </tr>\n",
       "    <tr>\n",
       "      <th>1446</th>\n",
       "      <td>536544</td>\n",
       "      <td>21787</td>\n",
       "      <td>RAIN PONCHO RETROSPOT</td>\n",
       "      <td>2</td>\n",
       "      <td>2010-12-01 14:32:00</td>\n",
       "      <td>1.66</td>\n",
       "      <td>NaN</td>\n",
       "      <td>United Kingdom</td>\n",
       "    </tr>\n",
       "    <tr>\n",
       "      <th>...</th>\n",
       "      <td>...</td>\n",
       "      <td>...</td>\n",
       "      <td>...</td>\n",
       "      <td>...</td>\n",
       "      <td>...</td>\n",
       "      <td>...</td>\n",
       "      <td>...</td>\n",
       "      <td>...</td>\n",
       "    </tr>\n",
       "    <tr>\n",
       "      <th>541536</th>\n",
       "      <td>581498</td>\n",
       "      <td>85099B</td>\n",
       "      <td>JUMBO BAG RED RETROSPOT</td>\n",
       "      <td>5</td>\n",
       "      <td>2011-12-09 10:26:00</td>\n",
       "      <td>4.13</td>\n",
       "      <td>NaN</td>\n",
       "      <td>United Kingdom</td>\n",
       "    </tr>\n",
       "    <tr>\n",
       "      <th>541537</th>\n",
       "      <td>581498</td>\n",
       "      <td>85099C</td>\n",
       "      <td>JUMBO  BAG BAROQUE BLACK WHITE</td>\n",
       "      <td>4</td>\n",
       "      <td>2011-12-09 10:26:00</td>\n",
       "      <td>4.13</td>\n",
       "      <td>NaN</td>\n",
       "      <td>United Kingdom</td>\n",
       "    </tr>\n",
       "    <tr>\n",
       "      <th>541538</th>\n",
       "      <td>581498</td>\n",
       "      <td>85150</td>\n",
       "      <td>LADIES &amp; GENTLEMEN METAL SIGN</td>\n",
       "      <td>1</td>\n",
       "      <td>2011-12-09 10:26:00</td>\n",
       "      <td>4.96</td>\n",
       "      <td>NaN</td>\n",
       "      <td>United Kingdom</td>\n",
       "    </tr>\n",
       "    <tr>\n",
       "      <th>541539</th>\n",
       "      <td>581498</td>\n",
       "      <td>85174</td>\n",
       "      <td>S/4 CACTI CANDLES</td>\n",
       "      <td>1</td>\n",
       "      <td>2011-12-09 10:26:00</td>\n",
       "      <td>10.79</td>\n",
       "      <td>NaN</td>\n",
       "      <td>United Kingdom</td>\n",
       "    </tr>\n",
       "    <tr>\n",
       "      <th>541540</th>\n",
       "      <td>581498</td>\n",
       "      <td>DOT</td>\n",
       "      <td>DOTCOM POSTAGE</td>\n",
       "      <td>1</td>\n",
       "      <td>2011-12-09 10:26:00</td>\n",
       "      <td>1714.17</td>\n",
       "      <td>NaN</td>\n",
       "      <td>United Kingdom</td>\n",
       "    </tr>\n",
       "  </tbody>\n",
       "</table>\n",
       "<p>133361 rows × 8 columns</p>\n",
       "</div>"
      ],
      "text/plain": [
       "       invoiceno stockcode                      description  quantity  \\\n",
       "622       536414     22139                              NaN        56   \n",
       "1443      536544     21773  DECORATIVE ROSE BATHROOM BOTTLE         1   \n",
       "1444      536544     21774  DECORATIVE CATS BATHROOM BOTTLE         2   \n",
       "1445      536544     21786               POLKADOT RAIN HAT          4   \n",
       "1446      536544     21787            RAIN PONCHO RETROSPOT         2   \n",
       "...          ...       ...                              ...       ...   \n",
       "541536    581498    85099B          JUMBO BAG RED RETROSPOT         5   \n",
       "541537    581498    85099C   JUMBO  BAG BAROQUE BLACK WHITE         4   \n",
       "541538    581498     85150    LADIES & GENTLEMEN METAL SIGN         1   \n",
       "541539    581498     85174                S/4 CACTI CANDLES         1   \n",
       "541540    581498       DOT                   DOTCOM POSTAGE         1   \n",
       "\n",
       "                invoicedate  unitprice  customerid         country  \n",
       "622     2010-12-01 11:52:00       0.00         NaN  United Kingdom  \n",
       "1443    2010-12-01 14:32:00       2.51         NaN  United Kingdom  \n",
       "1444    2010-12-01 14:32:00       2.51         NaN  United Kingdom  \n",
       "1445    2010-12-01 14:32:00       0.85         NaN  United Kingdom  \n",
       "1446    2010-12-01 14:32:00       1.66         NaN  United Kingdom  \n",
       "...                     ...        ...         ...             ...  \n",
       "541536  2011-12-09 10:26:00       4.13         NaN  United Kingdom  \n",
       "541537  2011-12-09 10:26:00       4.13         NaN  United Kingdom  \n",
       "541538  2011-12-09 10:26:00       4.96         NaN  United Kingdom  \n",
       "541539  2011-12-09 10:26:00      10.79         NaN  United Kingdom  \n",
       "541540  2011-12-09 10:26:00    1714.17         NaN  United Kingdom  \n",
       "\n",
       "[133361 rows x 8 columns]"
      ]
     },
     "execution_count": 27,
     "metadata": {},
     "output_type": "execute_result"
    }
   ],
   "source": [
    "quantity_custid_rows = rows_with_nulls.loc[rows_with_nulls['customerid'].isnull() & (rows_with_nulls['quantity'] > 0)]\n",
    "print(quantity_custid_rows.country.value_counts())\n",
    "quantity_custid_rows"
   ]
  },
  {
   "cell_type": "markdown",
   "id": "951962da-4abf-4bb2-b482-8e4af1a17ecf",
   "metadata": {},
   "source": [
    "## are there mixed nan and actual values for invoiceno and customerid?"
   ]
  },
  {
   "cell_type": "code",
   "execution_count": 28,
   "id": "e4a91f11-8bb4-4f1c-8a66-f9643a45c056",
   "metadata": {},
   "outputs": [
    {
     "data": {
      "text/html": [
       "<div>\n",
       "<style scoped>\n",
       "    .dataframe tbody tr th:only-of-type {\n",
       "        vertical-align: middle;\n",
       "    }\n",
       "\n",
       "    .dataframe tbody tr th {\n",
       "        vertical-align: top;\n",
       "    }\n",
       "\n",
       "    .dataframe thead th {\n",
       "        text-align: right;\n",
       "    }\n",
       "</style>\n",
       "<table border=\"1\" class=\"dataframe\">\n",
       "  <thead>\n",
       "    <tr style=\"text-align: right;\">\n",
       "      <th></th>\n",
       "      <th>invoiceno</th>\n",
       "      <th>customerid</th>\n",
       "    </tr>\n",
       "  </thead>\n",
       "  <tbody>\n",
       "  </tbody>\n",
       "</table>\n",
       "</div>"
      ],
      "text/plain": [
       "Empty DataFrame\n",
       "Columns: [invoiceno, customerid]\n",
       "Index: []"
      ]
     },
     "execution_count": 28,
     "metadata": {},
     "output_type": "execute_result"
    }
   ],
   "source": [
    "inv_cust_df = df[['invoiceno', 'customerid']]\n",
    "inv_cust_df = inv_cust_df.loc[inv_cust_df['customerid'].notna() & inv_cust_df['invoiceno'].isna()]\n",
    "inv_cust_df"
   ]
  },
  {
   "cell_type": "markdown",
   "id": "72e5cf18-03a1-497d-b6ac-7dd04a1a575d",
   "metadata": {},
   "source": [
    "## No there is not"
   ]
  },
  {
   "cell_type": "markdown",
   "id": "6e969304-2f0a-4f9f-84e7-aaaf673a4b94",
   "metadata": {},
   "source": [
    "  "
   ]
  },
  {
   "cell_type": "markdown",
   "id": "606da9e4-806d-42b2-b42f-65d32f759b4a",
   "metadata": {},
   "source": [
    "  "
   ]
  },
  {
   "cell_type": "markdown",
   "id": "4b685cb6-c9b9-418b-ba4b-3382eaad09b5",
   "metadata": {},
   "source": [
    "  "
   ]
  },
  {
   "cell_type": "code",
   "execution_count": 29,
   "id": "6780b5b5-27f9-41c1-b17a-e25a51185736",
   "metadata": {},
   "outputs": [],
   "source": [
    "result = df[df.duplicated('invoiceno', keep=False)]"
   ]
  },
  {
   "cell_type": "code",
   "execution_count": 30,
   "id": "b2055276-d848-46c7-8371-177228d7c40c",
   "metadata": {},
   "outputs": [
    {
     "data": {
      "text/html": [
       "<div>\n",
       "<style scoped>\n",
       "    .dataframe tbody tr th:only-of-type {\n",
       "        vertical-align: middle;\n",
       "    }\n",
       "\n",
       "    .dataframe tbody tr th {\n",
       "        vertical-align: top;\n",
       "    }\n",
       "\n",
       "    .dataframe thead th {\n",
       "        text-align: right;\n",
       "    }\n",
       "</style>\n",
       "<table border=\"1\" class=\"dataframe\">\n",
       "  <thead>\n",
       "    <tr style=\"text-align: right;\">\n",
       "      <th></th>\n",
       "      <th>invoiceno</th>\n",
       "      <th>stockcode</th>\n",
       "      <th>description</th>\n",
       "      <th>quantity</th>\n",
       "      <th>invoicedate</th>\n",
       "      <th>unitprice</th>\n",
       "      <th>customerid</th>\n",
       "      <th>country</th>\n",
       "    </tr>\n",
       "  </thead>\n",
       "  <tbody>\n",
       "    <tr>\n",
       "      <th>0</th>\n",
       "      <td>536365</td>\n",
       "      <td>85123A</td>\n",
       "      <td>WHITE HANGING HEART T-LIGHT HOLDER</td>\n",
       "      <td>6</td>\n",
       "      <td>2010-12-01 08:26:00</td>\n",
       "      <td>2.55</td>\n",
       "      <td>17850.0</td>\n",
       "      <td>United Kingdom</td>\n",
       "    </tr>\n",
       "    <tr>\n",
       "      <th>1</th>\n",
       "      <td>536365</td>\n",
       "      <td>71053</td>\n",
       "      <td>WHITE METAL LANTERN</td>\n",
       "      <td>6</td>\n",
       "      <td>2010-12-01 08:26:00</td>\n",
       "      <td>3.39</td>\n",
       "      <td>17850.0</td>\n",
       "      <td>United Kingdom</td>\n",
       "    </tr>\n",
       "    <tr>\n",
       "      <th>2</th>\n",
       "      <td>536365</td>\n",
       "      <td>84406B</td>\n",
       "      <td>CREAM CUPID HEARTS COAT HANGER</td>\n",
       "      <td>8</td>\n",
       "      <td>2010-12-01 08:26:00</td>\n",
       "      <td>2.75</td>\n",
       "      <td>17850.0</td>\n",
       "      <td>United Kingdom</td>\n",
       "    </tr>\n",
       "    <tr>\n",
       "      <th>3</th>\n",
       "      <td>536365</td>\n",
       "      <td>84029G</td>\n",
       "      <td>KNITTED UNION FLAG HOT WATER BOTTLE</td>\n",
       "      <td>6</td>\n",
       "      <td>2010-12-01 08:26:00</td>\n",
       "      <td>3.39</td>\n",
       "      <td>17850.0</td>\n",
       "      <td>United Kingdom</td>\n",
       "    </tr>\n",
       "    <tr>\n",
       "      <th>4</th>\n",
       "      <td>536365</td>\n",
       "      <td>84029E</td>\n",
       "      <td>RED WOOLLY HOTTIE WHITE HEART.</td>\n",
       "      <td>6</td>\n",
       "      <td>2010-12-01 08:26:00</td>\n",
       "      <td>3.39</td>\n",
       "      <td>17850.0</td>\n",
       "      <td>United Kingdom</td>\n",
       "    </tr>\n",
       "    <tr>\n",
       "      <th>...</th>\n",
       "      <td>...</td>\n",
       "      <td>...</td>\n",
       "      <td>...</td>\n",
       "      <td>...</td>\n",
       "      <td>...</td>\n",
       "      <td>...</td>\n",
       "      <td>...</td>\n",
       "      <td>...</td>\n",
       "    </tr>\n",
       "    <tr>\n",
       "      <th>541904</th>\n",
       "      <td>581587</td>\n",
       "      <td>22613</td>\n",
       "      <td>PACK OF 20 SPACEBOY NAPKINS</td>\n",
       "      <td>12</td>\n",
       "      <td>2011-12-09 12:50:00</td>\n",
       "      <td>0.85</td>\n",
       "      <td>12680.0</td>\n",
       "      <td>France</td>\n",
       "    </tr>\n",
       "    <tr>\n",
       "      <th>541905</th>\n",
       "      <td>581587</td>\n",
       "      <td>22899</td>\n",
       "      <td>CHILDREN'S APRON DOLLY GIRL</td>\n",
       "      <td>6</td>\n",
       "      <td>2011-12-09 12:50:00</td>\n",
       "      <td>2.10</td>\n",
       "      <td>12680.0</td>\n",
       "      <td>France</td>\n",
       "    </tr>\n",
       "    <tr>\n",
       "      <th>541906</th>\n",
       "      <td>581587</td>\n",
       "      <td>23254</td>\n",
       "      <td>CHILDRENS CUTLERY DOLLY GIRL</td>\n",
       "      <td>4</td>\n",
       "      <td>2011-12-09 12:50:00</td>\n",
       "      <td>4.15</td>\n",
       "      <td>12680.0</td>\n",
       "      <td>France</td>\n",
       "    </tr>\n",
       "    <tr>\n",
       "      <th>541907</th>\n",
       "      <td>581587</td>\n",
       "      <td>23255</td>\n",
       "      <td>CHILDRENS CUTLERY CIRCUS PARADE</td>\n",
       "      <td>4</td>\n",
       "      <td>2011-12-09 12:50:00</td>\n",
       "      <td>4.15</td>\n",
       "      <td>12680.0</td>\n",
       "      <td>France</td>\n",
       "    </tr>\n",
       "    <tr>\n",
       "      <th>541908</th>\n",
       "      <td>581587</td>\n",
       "      <td>22138</td>\n",
       "      <td>BAKING SET 9 PIECE RETROSPOT</td>\n",
       "      <td>3</td>\n",
       "      <td>2011-12-09 12:50:00</td>\n",
       "      <td>4.95</td>\n",
       "      <td>12680.0</td>\n",
       "      <td>France</td>\n",
       "    </tr>\n",
       "  </tbody>\n",
       "</table>\n",
       "<p>536068 rows × 8 columns</p>\n",
       "</div>"
      ],
      "text/plain": [
       "       invoiceno stockcode                          description  quantity  \\\n",
       "0         536365    85123A   WHITE HANGING HEART T-LIGHT HOLDER         6   \n",
       "1         536365     71053                  WHITE METAL LANTERN         6   \n",
       "2         536365    84406B       CREAM CUPID HEARTS COAT HANGER         8   \n",
       "3         536365    84029G  KNITTED UNION FLAG HOT WATER BOTTLE         6   \n",
       "4         536365    84029E       RED WOOLLY HOTTIE WHITE HEART.         6   \n",
       "...          ...       ...                                  ...       ...   \n",
       "541904    581587     22613          PACK OF 20 SPACEBOY NAPKINS        12   \n",
       "541905    581587     22899         CHILDREN'S APRON DOLLY GIRL          6   \n",
       "541906    581587     23254        CHILDRENS CUTLERY DOLLY GIRL          4   \n",
       "541907    581587     23255      CHILDRENS CUTLERY CIRCUS PARADE         4   \n",
       "541908    581587     22138        BAKING SET 9 PIECE RETROSPOT          3   \n",
       "\n",
       "                invoicedate  unitprice  customerid         country  \n",
       "0       2010-12-01 08:26:00       2.55     17850.0  United Kingdom  \n",
       "1       2010-12-01 08:26:00       3.39     17850.0  United Kingdom  \n",
       "2       2010-12-01 08:26:00       2.75     17850.0  United Kingdom  \n",
       "3       2010-12-01 08:26:00       3.39     17850.0  United Kingdom  \n",
       "4       2010-12-01 08:26:00       3.39     17850.0  United Kingdom  \n",
       "...                     ...        ...         ...             ...  \n",
       "541904  2011-12-09 12:50:00       0.85     12680.0          France  \n",
       "541905  2011-12-09 12:50:00       2.10     12680.0          France  \n",
       "541906  2011-12-09 12:50:00       4.15     12680.0          France  \n",
       "541907  2011-12-09 12:50:00       4.15     12680.0          France  \n",
       "541908  2011-12-09 12:50:00       4.95     12680.0          France  \n",
       "\n",
       "[536068 rows x 8 columns]"
      ]
     },
     "execution_count": 30,
     "metadata": {},
     "output_type": "execute_result"
    }
   ],
   "source": [
    "result"
   ]
  },
  {
   "cell_type": "code",
   "execution_count": 31,
   "id": "83a3a1a4-8355-4408-a59c-e72f23b82f38",
   "metadata": {},
   "outputs": [],
   "source": [
    "nan_check = result.isna().any()"
   ]
  },
  {
   "cell_type": "code",
   "execution_count": 32,
   "id": "aa595d1a-72c7-493b-9779-0a564e0bf5f0",
   "metadata": {},
   "outputs": [
    {
     "data": {
      "text/plain": [
       "invoiceno      False\n",
       "stockcode      False\n",
       "description    False\n",
       "quantity       False\n",
       "invoicedate    False\n",
       "unitprice      False\n",
       "customerid      True\n",
       "country        False\n",
       "dtype: bool"
      ]
     },
     "execution_count": 32,
     "metadata": {},
     "output_type": "execute_result"
    }
   ],
   "source": [
    "nan_check"
   ]
  },
  {
   "cell_type": "code",
   "execution_count": 33,
   "id": "c2b3dc04-08a8-45e4-a090-1687a0e91fc2",
   "metadata": {},
   "outputs": [],
   "source": [
    "nan_count = result.isna().sum()"
   ]
  },
  {
   "cell_type": "code",
   "execution_count": 34,
   "id": "54dd75fe-9e77-4536-b66c-82976f241245",
   "metadata": {},
   "outputs": [
    {
     "data": {
      "text/plain": [
       "invoiceno           0\n",
       "stockcode           0\n",
       "description         0\n",
       "quantity            0\n",
       "invoicedate         0\n",
       "unitprice           0\n",
       "customerid     132634\n",
       "country             0\n",
       "dtype: int64"
      ]
     },
     "execution_count": 34,
     "metadata": {},
     "output_type": "execute_result"
    }
   ],
   "source": [
    "nan_count"
   ]
  },
  {
   "cell_type": "code",
   "execution_count": 35,
   "id": "7e555f30-faf8-47c8-880a-14e7eb994e62",
   "metadata": {},
   "outputs": [
    {
     "data": {
      "text/html": [
       "<div>\n",
       "<style scoped>\n",
       "    .dataframe tbody tr th:only-of-type {\n",
       "        vertical-align: middle;\n",
       "    }\n",
       "\n",
       "    .dataframe tbody tr th {\n",
       "        vertical-align: top;\n",
       "    }\n",
       "\n",
       "    .dataframe thead th {\n",
       "        text-align: right;\n",
       "    }\n",
       "</style>\n",
       "<table border=\"1\" class=\"dataframe\">\n",
       "  <thead>\n",
       "    <tr style=\"text-align: right;\">\n",
       "      <th></th>\n",
       "      <th>invoiceno</th>\n",
       "      <th>stockcode</th>\n",
       "      <th>description</th>\n",
       "      <th>quantity</th>\n",
       "      <th>invoicedate</th>\n",
       "      <th>unitprice</th>\n",
       "      <th>customerid</th>\n",
       "      <th>country</th>\n",
       "    </tr>\n",
       "  </thead>\n",
       "  <tbody>\n",
       "    <tr>\n",
       "      <th>1443</th>\n",
       "      <td>536544</td>\n",
       "      <td>21773</td>\n",
       "      <td>DECORATIVE ROSE BATHROOM BOTTLE</td>\n",
       "      <td>1</td>\n",
       "      <td>2010-12-01 14:32:00</td>\n",
       "      <td>2.51</td>\n",
       "      <td>NaN</td>\n",
       "      <td>United Kingdom</td>\n",
       "    </tr>\n",
       "    <tr>\n",
       "      <th>1444</th>\n",
       "      <td>536544</td>\n",
       "      <td>21774</td>\n",
       "      <td>DECORATIVE CATS BATHROOM BOTTLE</td>\n",
       "      <td>2</td>\n",
       "      <td>2010-12-01 14:32:00</td>\n",
       "      <td>2.51</td>\n",
       "      <td>NaN</td>\n",
       "      <td>United Kingdom</td>\n",
       "    </tr>\n",
       "    <tr>\n",
       "      <th>1445</th>\n",
       "      <td>536544</td>\n",
       "      <td>21786</td>\n",
       "      <td>POLKADOT RAIN HAT</td>\n",
       "      <td>4</td>\n",
       "      <td>2010-12-01 14:32:00</td>\n",
       "      <td>0.85</td>\n",
       "      <td>NaN</td>\n",
       "      <td>United Kingdom</td>\n",
       "    </tr>\n",
       "    <tr>\n",
       "      <th>1446</th>\n",
       "      <td>536544</td>\n",
       "      <td>21787</td>\n",
       "      <td>RAIN PONCHO RETROSPOT</td>\n",
       "      <td>2</td>\n",
       "      <td>2010-12-01 14:32:00</td>\n",
       "      <td>1.66</td>\n",
       "      <td>NaN</td>\n",
       "      <td>United Kingdom</td>\n",
       "    </tr>\n",
       "    <tr>\n",
       "      <th>1447</th>\n",
       "      <td>536544</td>\n",
       "      <td>21790</td>\n",
       "      <td>VINTAGE SNAP CARDS</td>\n",
       "      <td>9</td>\n",
       "      <td>2010-12-01 14:32:00</td>\n",
       "      <td>1.66</td>\n",
       "      <td>NaN</td>\n",
       "      <td>United Kingdom</td>\n",
       "    </tr>\n",
       "    <tr>\n",
       "      <th>...</th>\n",
       "      <td>...</td>\n",
       "      <td>...</td>\n",
       "      <td>...</td>\n",
       "      <td>...</td>\n",
       "      <td>...</td>\n",
       "      <td>...</td>\n",
       "      <td>...</td>\n",
       "      <td>...</td>\n",
       "    </tr>\n",
       "    <tr>\n",
       "      <th>541536</th>\n",
       "      <td>581498</td>\n",
       "      <td>85099B</td>\n",
       "      <td>JUMBO BAG RED RETROSPOT</td>\n",
       "      <td>5</td>\n",
       "      <td>2011-12-09 10:26:00</td>\n",
       "      <td>4.13</td>\n",
       "      <td>NaN</td>\n",
       "      <td>United Kingdom</td>\n",
       "    </tr>\n",
       "    <tr>\n",
       "      <th>541537</th>\n",
       "      <td>581498</td>\n",
       "      <td>85099C</td>\n",
       "      <td>JUMBO  BAG BAROQUE BLACK WHITE</td>\n",
       "      <td>4</td>\n",
       "      <td>2011-12-09 10:26:00</td>\n",
       "      <td>4.13</td>\n",
       "      <td>NaN</td>\n",
       "      <td>United Kingdom</td>\n",
       "    </tr>\n",
       "    <tr>\n",
       "      <th>541538</th>\n",
       "      <td>581498</td>\n",
       "      <td>85150</td>\n",
       "      <td>LADIES &amp; GENTLEMEN METAL SIGN</td>\n",
       "      <td>1</td>\n",
       "      <td>2011-12-09 10:26:00</td>\n",
       "      <td>4.96</td>\n",
       "      <td>NaN</td>\n",
       "      <td>United Kingdom</td>\n",
       "    </tr>\n",
       "    <tr>\n",
       "      <th>541539</th>\n",
       "      <td>581498</td>\n",
       "      <td>85174</td>\n",
       "      <td>S/4 CACTI CANDLES</td>\n",
       "      <td>1</td>\n",
       "      <td>2011-12-09 10:26:00</td>\n",
       "      <td>10.79</td>\n",
       "      <td>NaN</td>\n",
       "      <td>United Kingdom</td>\n",
       "    </tr>\n",
       "    <tr>\n",
       "      <th>541540</th>\n",
       "      <td>581498</td>\n",
       "      <td>DOT</td>\n",
       "      <td>DOTCOM POSTAGE</td>\n",
       "      <td>1</td>\n",
       "      <td>2011-12-09 10:26:00</td>\n",
       "      <td>1714.17</td>\n",
       "      <td>NaN</td>\n",
       "      <td>United Kingdom</td>\n",
       "    </tr>\n",
       "  </tbody>\n",
       "</table>\n",
       "<p>132634 rows × 8 columns</p>\n",
       "</div>"
      ],
      "text/plain": [
       "       invoiceno stockcode                      description  quantity  \\\n",
       "1443      536544     21773  DECORATIVE ROSE BATHROOM BOTTLE         1   \n",
       "1444      536544     21774  DECORATIVE CATS BATHROOM BOTTLE         2   \n",
       "1445      536544     21786               POLKADOT RAIN HAT          4   \n",
       "1446      536544     21787            RAIN PONCHO RETROSPOT         2   \n",
       "1447      536544     21790               VINTAGE SNAP CARDS         9   \n",
       "...          ...       ...                              ...       ...   \n",
       "541536    581498    85099B          JUMBO BAG RED RETROSPOT         5   \n",
       "541537    581498    85099C   JUMBO  BAG BAROQUE BLACK WHITE         4   \n",
       "541538    581498     85150    LADIES & GENTLEMEN METAL SIGN         1   \n",
       "541539    581498     85174                S/4 CACTI CANDLES         1   \n",
       "541540    581498       DOT                   DOTCOM POSTAGE         1   \n",
       "\n",
       "                invoicedate  unitprice  customerid         country  \n",
       "1443    2010-12-01 14:32:00       2.51         NaN  United Kingdom  \n",
       "1444    2010-12-01 14:32:00       2.51         NaN  United Kingdom  \n",
       "1445    2010-12-01 14:32:00       0.85         NaN  United Kingdom  \n",
       "1446    2010-12-01 14:32:00       1.66         NaN  United Kingdom  \n",
       "1447    2010-12-01 14:32:00       1.66         NaN  United Kingdom  \n",
       "...                     ...        ...         ...             ...  \n",
       "541536  2011-12-09 10:26:00       4.13         NaN  United Kingdom  \n",
       "541537  2011-12-09 10:26:00       4.13         NaN  United Kingdom  \n",
       "541538  2011-12-09 10:26:00       4.96         NaN  United Kingdom  \n",
       "541539  2011-12-09 10:26:00      10.79         NaN  United Kingdom  \n",
       "541540  2011-12-09 10:26:00    1714.17         NaN  United Kingdom  \n",
       "\n",
       "[132634 rows x 8 columns]"
      ]
     },
     "execution_count": 35,
     "metadata": {},
     "output_type": "execute_result"
    }
   ],
   "source": [
    "# Identify NaN values in the result DataFrame\n",
    "nan_mask = result['customerid'].isna()\n",
    "\n",
    "# Display the DataFrame with NaN values identified\n",
    "result_with_nans = result[nan_mask]\n",
    "result_with_nans"
   ]
  },
  {
   "cell_type": "code",
   "execution_count": 36,
   "id": "421bd018-b001-4e5c-b221-6c4d87edf2a8",
   "metadata": {},
   "outputs": [
    {
     "data": {
      "text/html": [
       "<div>\n",
       "<style scoped>\n",
       "    .dataframe tbody tr th:only-of-type {\n",
       "        vertical-align: middle;\n",
       "    }\n",
       "\n",
       "    .dataframe tbody tr th {\n",
       "        vertical-align: top;\n",
       "    }\n",
       "\n",
       "    .dataframe thead th {\n",
       "        text-align: right;\n",
       "    }\n",
       "</style>\n",
       "<table border=\"1\" class=\"dataframe\">\n",
       "  <thead>\n",
       "    <tr style=\"text-align: right;\">\n",
       "      <th></th>\n",
       "      <th>invoiceno</th>\n",
       "      <th>stockcode</th>\n",
       "      <th>description</th>\n",
       "      <th>quantity</th>\n",
       "      <th>invoicedate</th>\n",
       "      <th>unitprice</th>\n",
       "      <th>customerid</th>\n",
       "      <th>country</th>\n",
       "    </tr>\n",
       "  </thead>\n",
       "  <tbody>\n",
       "  </tbody>\n",
       "</table>\n",
       "</div>"
      ],
      "text/plain": [
       "Empty DataFrame\n",
       "Columns: [invoiceno, stockcode, description, quantity, invoicedate, unitprice, customerid, country]\n",
       "Index: []"
      ]
     },
     "execution_count": 36,
     "metadata": {},
     "output_type": "execute_result"
    }
   ],
   "source": [
    "# Check for duplicates based on 'InvoiceNo' and 'CustomerID'\n",
    "duplicates = df[df.duplicated(subset=['invoiceno', 'customerid'], keep=False)]\n",
    "\n",
    "# Filter for 'InvoiceNo' observations with both valid and NaN 'CustomerID' values\n",
    "result = duplicates.groupby('invoiceno').filter(lambda x: x['customerid'].notna().any() and x['customerid'].isna().any())\n",
    "\n",
    "result"
   ]
  },
  {
   "cell_type": "markdown",
   "id": "9bc87541-8be7-4c36-8484-7e20130a528d",
   "metadata": {},
   "source": [
    "  "
   ]
  },
  {
   "cell_type": "markdown",
   "id": "8e402261-58b1-41b0-a50b-a1134830d484",
   "metadata": {},
   "source": [
    "  "
   ]
  },
  {
   "cell_type": "markdown",
   "id": "f6b46716-a83e-42d7-8b59-5b239595fdf2",
   "metadata": {},
   "source": [
    "  "
   ]
  },
  {
   "cell_type": "markdown",
   "id": "1dff7eff-7c95-41d6-b8f7-3d886937b91d",
   "metadata": {},
   "source": [
    "  "
   ]
  },
  {
   "cell_type": "code",
   "execution_count": 37,
   "id": "94108177-661e-441a-9b9b-06f69f7fd8e7",
   "metadata": {},
   "outputs": [
    {
     "data": {
      "text/plain": [
       "description\n",
       "DOTCOM POSTAGE                       693\n",
       "JUMBO BAG RED RETROSPOT              497\n",
       "JUMBO STORAGE BAG SUKI               414\n",
       "JUMBO SHOPPER VINTAGE RED PAISLEY    388\n",
       "JUMBO BAG WOODLAND ANIMALS           372\n",
       "                                    ... \n",
       "EAU DE NILE JEWELLED PHOTOFRAME        1\n",
       "WHITE VINTAGE CRYSTAL BRACELET         1\n",
       "RUBY GLASS NECKLACE 42\"                1\n",
       "PURPLE LAS VEGAS BRACELET ROUND        1\n",
       "BLUE LEAVES AND BEADS PHONE CHARM      1\n",
       "Name: count, Length: 3554, dtype: int64"
      ]
     },
     "execution_count": 37,
     "metadata": {},
     "output_type": "execute_result"
    }
   ],
   "source": [
    "rows_with_nulls.description.value_counts()"
   ]
  },
  {
   "cell_type": "markdown",
   "id": "86c26205-aa50-4679-9d93-6efacfb2b92f",
   "metadata": {},
   "source": [
    "  "
   ]
  },
  {
   "cell_type": "code",
   "execution_count": 38,
   "id": "062c9011-f65b-4539-a34e-83889ec3946e",
   "metadata": {},
   "outputs": [
    {
     "data": {
      "text/plain": [
       "<bound method IndexOpsMixin.tolist of 622                                   NaN\n",
       "1443      DECORATIVE ROSE BATHROOM BOTTLE\n",
       "1444      DECORATIVE CATS BATHROOM BOTTLE\n",
       "1445                   POLKADOT RAIN HAT \n",
       "1446                RAIN PONCHO RETROSPOT\n",
       "                       ...               \n",
       "541536            JUMBO BAG RED RETROSPOT\n",
       "541537     JUMBO  BAG BAROQUE BLACK WHITE\n",
       "541538      LADIES & GENTLEMEN METAL SIGN\n",
       "541539                  S/4 CACTI CANDLES\n",
       "541540                     DOTCOM POSTAGE\n",
       "Name: description, Length: 135080, dtype: object>"
      ]
     },
     "execution_count": 38,
     "metadata": {},
     "output_type": "execute_result"
    }
   ],
   "source": [
    "rows_with_nulls.description.to_list"
   ]
  },
  {
   "cell_type": "markdown",
   "id": "8eb0b2ff-8890-42a5-90a7-3b4da56f6604",
   "metadata": {},
   "source": [
    "  "
   ]
  },
  {
   "cell_type": "markdown",
   "id": "91435e9a-b190-4db9-ac71-f7cd51aa089b",
   "metadata": {},
   "source": [
    "  "
   ]
  },
  {
   "cell_type": "markdown",
   "id": "ddc77524-8b3b-4172-b71f-5905cc8e3322",
   "metadata": {},
   "source": [
    "  "
   ]
  },
  {
   "cell_type": "markdown",
   "id": "ab08af0e-63ca-4478-a2b8-ddbaeedb396d",
   "metadata": {},
   "source": [
    " # -------------------------------------- "
   ]
  },
  {
   "cell_type": "markdown",
   "id": "c50b0e3a-c6bf-425c-abd6-247e0eee780d",
   "metadata": {},
   "source": [
    "# After investigating and exploring nulls, i have come to a conclusion, that imputing null values or renaming them with a marker of none or no info to account for nans that exist in the data"
   ]
  },
  {
   "cell_type": "code",
   "execution_count": 39,
   "id": "fd18da3c-3bc0-448a-85a7-88847dbc22f2",
   "metadata": {},
   "outputs": [],
   "source": [
    "import acquire as a\n",
    "\n",
    "df = a.acquire_data()\n",
    "df.columns = [\n",
    "    col.lower().replace(' ','_') for col in df.columns\n",
    "]"
   ]
  },
  {
   "cell_type": "code",
   "execution_count": 40,
   "id": "3ee37bc1-25fb-4225-aecf-9b75a0f15a70",
   "metadata": {},
   "outputs": [
    {
     "name": "stdout",
     "output_type": "stream",
     "text": [
      "<class 'pandas.core.frame.DataFrame'>\n",
      "RangeIndex: 541909 entries, 0 to 541908\n",
      "Data columns (total 8 columns):\n",
      " #   Column       Non-Null Count   Dtype  \n",
      "---  ------       --------------   -----  \n",
      " 0   invoiceno    541909 non-null  object \n",
      " 1   stockcode    541909 non-null  object \n",
      " 2   description  540455 non-null  object \n",
      " 3   quantity     541909 non-null  int64  \n",
      " 4   invoicedate  541909 non-null  object \n",
      " 5   unitprice    541909 non-null  float64\n",
      " 6   customerid   406829 non-null  float64\n",
      " 7   country      541909 non-null  object \n",
      "dtypes: float64(2), int64(1), object(5)\n",
      "memory usage: 33.1+ MB\n"
     ]
    }
   ],
   "source": [
    "df.info()"
   ]
  },
  {
   "cell_type": "markdown",
   "id": "ec8ff300-4b3f-4750-ba10-84b90a9ca163",
   "metadata": {},
   "source": [
    "  "
   ]
  },
  {
   "cell_type": "markdown",
   "id": "9c97ff20-0e98-433d-9088-bc70b3598e73",
   "metadata": {},
   "source": [
    "# Let's correct these datatypes:"
   ]
  },
  {
   "cell_type": "code",
   "execution_count": 41,
   "id": "98f2a8d5-a668-4ee1-8ad7-a5f2ddfaad6b",
   "metadata": {},
   "outputs": [],
   "source": [
    "from datetime import timedelta, datetime\n",
    "\n",
    "# Reassigning the invoicedate column to be a datetime type\n",
    "df.invoicedate = pd.to_datetime(df.invoicedate)"
   ]
  },
  {
   "cell_type": "code",
   "execution_count": 42,
   "id": "c7eaa22e-09d9-4c84-b6aa-49eec64cd971",
   "metadata": {},
   "outputs": [],
   "source": [
    "# Sorting rows by the date and then set the index as that date\n",
    "\n",
    "# df = df.set_index(\"sale_date\").sort_index()"
   ]
  },
  {
   "cell_type": "markdown",
   "id": "e8ccf232-5d4d-400d-8628-db5226c05762",
   "metadata": {},
   "source": [
    "  "
   ]
  },
  {
   "cell_type": "code",
   "execution_count": 43,
   "id": "361ad329-971e-4e9a-af61-baaa2bc1d7b0",
   "metadata": {},
   "outputs": [
    {
     "data": {
      "text/html": [
       "<div>\n",
       "<style scoped>\n",
       "    .dataframe tbody tr th:only-of-type {\n",
       "        vertical-align: middle;\n",
       "    }\n",
       "\n",
       "    .dataframe tbody tr th {\n",
       "        vertical-align: top;\n",
       "    }\n",
       "\n",
       "    .dataframe thead th {\n",
       "        text-align: right;\n",
       "    }\n",
       "</style>\n",
       "<table border=\"1\" class=\"dataframe\">\n",
       "  <thead>\n",
       "    <tr style=\"text-align: right;\">\n",
       "      <th></th>\n",
       "      <th>invoiceno</th>\n",
       "      <th>stockcode</th>\n",
       "      <th>description</th>\n",
       "      <th>quantity</th>\n",
       "      <th>invoicedate</th>\n",
       "      <th>unitprice</th>\n",
       "      <th>customerid</th>\n",
       "      <th>country</th>\n",
       "    </tr>\n",
       "  </thead>\n",
       "  <tbody>\n",
       "    <tr>\n",
       "      <th>0</th>\n",
       "      <td>536365</td>\n",
       "      <td>85123A</td>\n",
       "      <td>WHITE HANGING HEART T-LIGHT HOLDER</td>\n",
       "      <td>6</td>\n",
       "      <td>2010-12-01 08:26:00</td>\n",
       "      <td>2.55</td>\n",
       "      <td>17850.0</td>\n",
       "      <td>United Kingdom</td>\n",
       "    </tr>\n",
       "    <tr>\n",
       "      <th>1</th>\n",
       "      <td>536365</td>\n",
       "      <td>71053</td>\n",
       "      <td>WHITE METAL LANTERN</td>\n",
       "      <td>6</td>\n",
       "      <td>2010-12-01 08:26:00</td>\n",
       "      <td>3.39</td>\n",
       "      <td>17850.0</td>\n",
       "      <td>United Kingdom</td>\n",
       "    </tr>\n",
       "    <tr>\n",
       "      <th>2</th>\n",
       "      <td>536365</td>\n",
       "      <td>84406B</td>\n",
       "      <td>CREAM CUPID HEARTS COAT HANGER</td>\n",
       "      <td>8</td>\n",
       "      <td>2010-12-01 08:26:00</td>\n",
       "      <td>2.75</td>\n",
       "      <td>17850.0</td>\n",
       "      <td>United Kingdom</td>\n",
       "    </tr>\n",
       "    <tr>\n",
       "      <th>3</th>\n",
       "      <td>536365</td>\n",
       "      <td>84029G</td>\n",
       "      <td>KNITTED UNION FLAG HOT WATER BOTTLE</td>\n",
       "      <td>6</td>\n",
       "      <td>2010-12-01 08:26:00</td>\n",
       "      <td>3.39</td>\n",
       "      <td>17850.0</td>\n",
       "      <td>United Kingdom</td>\n",
       "    </tr>\n",
       "    <tr>\n",
       "      <th>4</th>\n",
       "      <td>536365</td>\n",
       "      <td>84029E</td>\n",
       "      <td>RED WOOLLY HOTTIE WHITE HEART.</td>\n",
       "      <td>6</td>\n",
       "      <td>2010-12-01 08:26:00</td>\n",
       "      <td>3.39</td>\n",
       "      <td>17850.0</td>\n",
       "      <td>United Kingdom</td>\n",
       "    </tr>\n",
       "  </tbody>\n",
       "</table>\n",
       "</div>"
      ],
      "text/plain": [
       "  invoiceno stockcode                          description  quantity  \\\n",
       "0    536365    85123A   WHITE HANGING HEART T-LIGHT HOLDER         6   \n",
       "1    536365     71053                  WHITE METAL LANTERN         6   \n",
       "2    536365    84406B       CREAM CUPID HEARTS COAT HANGER         8   \n",
       "3    536365    84029G  KNITTED UNION FLAG HOT WATER BOTTLE         6   \n",
       "4    536365    84029E       RED WOOLLY HOTTIE WHITE HEART.         6   \n",
       "\n",
       "          invoicedate  unitprice  customerid         country  \n",
       "0 2010-12-01 08:26:00       2.55     17850.0  United Kingdom  \n",
       "1 2010-12-01 08:26:00       3.39     17850.0  United Kingdom  \n",
       "2 2010-12-01 08:26:00       2.75     17850.0  United Kingdom  \n",
       "3 2010-12-01 08:26:00       3.39     17850.0  United Kingdom  \n",
       "4 2010-12-01 08:26:00       3.39     17850.0  United Kingdom  "
      ]
     },
     "execution_count": 43,
     "metadata": {},
     "output_type": "execute_result"
    }
   ],
   "source": [
    "df.head()"
   ]
  },
  {
   "cell_type": "code",
   "execution_count": 44,
   "id": "604b0dcd-ec6b-49b7-a16d-d1b755bfb5ee",
   "metadata": {},
   "outputs": [],
   "source": [
    "#DataFrame with NaNs filled in the 'description' and 'customerid' column\n",
    "df = df.copy()\n",
    "df['description'].fillna('no description', inplace=True)\n",
    "\n",
    "df = df.copy()\n",
    "df['customerid'].fillna(0, inplace=True)"
   ]
  },
  {
   "cell_type": "code",
   "execution_count": 45,
   "id": "ac9ddbd8-2b44-43d0-b6f4-7cb500d76b11",
   "metadata": {},
   "outputs": [
    {
     "name": "stdout",
     "output_type": "stream",
     "text": [
      "<class 'pandas.core.frame.DataFrame'>\n",
      "RangeIndex: 541909 entries, 0 to 541908\n",
      "Data columns (total 8 columns):\n",
      " #   Column       Non-Null Count   Dtype         \n",
      "---  ------       --------------   -----         \n",
      " 0   invoiceno    541909 non-null  object        \n",
      " 1   stockcode    541909 non-null  object        \n",
      " 2   description  541909 non-null  object        \n",
      " 3   quantity     541909 non-null  int64         \n",
      " 4   invoicedate  541909 non-null  datetime64[ns]\n",
      " 5   unitprice    541909 non-null  float64       \n",
      " 6   customerid   541909 non-null  float64       \n",
      " 7   country      541909 non-null  object        \n",
      "dtypes: datetime64[ns](1), float64(2), int64(1), object(4)\n",
      "memory usage: 33.1+ MB\n"
     ]
    }
   ],
   "source": [
    "df.info()"
   ]
  },
  {
   "cell_type": "markdown",
   "id": "82c64eb3-0fef-4b77-a80e-2010cdbc8e44",
   "metadata": {},
   "source": [
    "  "
   ]
  },
  {
   "cell_type": "markdown",
   "id": "30c1112a-f1a3-43bc-a7f5-2f4bd93aaa20",
   "metadata": {},
   "source": [
    "  "
   ]
  },
  {
   "cell_type": "markdown",
   "id": "c43bf2cd-c497-4c79-8739-d8905b2050fa",
   "metadata": {},
   "source": [
    "  "
   ]
  },
  {
   "cell_type": "markdown",
   "id": "fab53901-4990-4959-aef6-f6994474667f",
   "metadata": {},
   "source": [
    "  "
   ]
  },
  {
   "cell_type": "markdown",
   "id": "76bfbab6-3531-49f4-9ca0-0e103fe4b027",
   "metadata": {},
   "source": [
    "## I will now view distributions after filling null values."
   ]
  },
  {
   "cell_type": "code",
   "execution_count": 46,
   "id": "a4afc4cb-7947-4738-b7fe-594c0e807add",
   "metadata": {},
   "outputs": [
    {
     "data": {
      "image/png": "[encoded data removed]",
      "text/plain": [
       "<Figure size 640x480 with 1 Axes>"
      ]
     },
     "metadata": {},
     "output_type": "display_data"
    },
    {
     "data": {
      "image/png": "[encoded data removed]",
      "text/plain": [
       "<Figure size 640x480 with 1 Axes>"
      ]
     },
     "metadata": {},
     "output_type": "display_data"
    },
    {
     "data": {
      "image/png": "[encoded data removed]",
      "text/plain": [
       "<Figure size 640x480 with 1 Axes>"
      ]
     },
     "metadata": {},
     "output_type": "display_data"
    },
    {
     "data": {
      "image/png": "[encoded data removed]",
      "text/plain": [
       "<Figure size 640x480 with 1 Axes>"
      ]
     },
     "metadata": {},
     "output_type": "display_data"
    }
   ],
   "source": [
    "for col in df.columns[df.dtypes == 'object']:\n",
    "    plt.figure()\n",
    "    plt.title(f'Distribution of {col}')\n",
    "    sns.histplot(data=df, x=col)\n",
    "    plt.show()"
   ]
  },
  {
   "cell_type": "markdown",
   "id": "43034e08-b573-4f2d-8428-280d007bd765",
   "metadata": {},
   "source": [
    "  "
   ]
  },
  {
   "cell_type": "markdown",
   "id": "b3681e13-e73a-43fe-8ec7-1def9c22de1a",
   "metadata": {},
   "source": [
    "  "
   ]
  },
  {
   "cell_type": "markdown",
   "id": "433d083d-db7a-415d-8b5b-99384a9b450f",
   "metadata": {},
   "source": [
    "# How should I handle the outliers here?"
   ]
  },
  {
   "cell_type": "code",
   "execution_count": 47,
   "id": "54dd8a2a-3213-43e5-90a4-dc1028e56d78",
   "metadata": {},
   "outputs": [
    {
     "data": {
      "text/plain": [
       "540421    80995\n",
       "61619     74215\n",
       "502122    12540\n",
       "74614      5568\n",
       "421632     4800\n",
       "206121     4300\n",
       "220843     4000\n",
       "97432      3906\n",
       "270885     3186\n",
       "52711      3114\n",
       "Name: quantity, dtype: int64"
      ]
     },
     "execution_count": 47,
     "metadata": {},
     "output_type": "execute_result"
    }
   ],
   "source": [
    "df['quantity'].nlargest(10)"
   ]
  },
  {
   "cell_type": "code",
   "execution_count": 48,
   "id": "df61fb49-4e36-48bd-be18-ac5200366c2a",
   "metadata": {},
   "outputs": [
    {
     "data": {
      "text/plain": [
       "540422   -80995\n",
       "61624    -74215\n",
       "225529    -9600\n",
       "225530    -9600\n",
       "4287      -9360\n",
       "225528    -9058\n",
       "115818    -5368\n",
       "431381    -4830\n",
       "341601    -3667\n",
       "323458    -3167\n",
       "Name: quantity, dtype: int64"
      ]
     },
     "execution_count": 48,
     "metadata": {},
     "output_type": "execute_result"
    }
   ],
   "source": [
    "df['quantity'].nsmallest(10)\n"
   ]
  },
  {
   "cell_type": "markdown",
   "id": "6e10e785-a98f-46e1-9d87-6ef5b0927b7c",
   "metadata": {},
   "source": [
    "  "
   ]
  },
  {
   "cell_type": "markdown",
   "id": "5f555af3-2bff-49c3-81c6-dc7b0f04ad6f",
   "metadata": {},
   "source": [
    "  "
   ]
  },
  {
   "cell_type": "code",
   "execution_count": 49,
   "id": "5cd1cfd2-8be0-4a80-a92a-07d6c63fdd49",
   "metadata": {},
   "outputs": [
    {
     "data": {
      "text/plain": [
       "222681    38970.00\n",
       "524602    17836.46\n",
       "43702     16888.02\n",
       "43703     16453.71\n",
       "15016     13541.33\n",
       "15017     13541.33\n",
       "16356     13541.33\n",
       "16232     13474.79\n",
       "524601    11586.50\n",
       "299982    11062.06\n",
       "Name: unitprice, dtype: float64"
      ]
     },
     "execution_count": 49,
     "metadata": {},
     "output_type": "execute_result"
    }
   ],
   "source": [
    "df['unitprice'].nlargest(10)"
   ]
  },
  {
   "cell_type": "code",
   "execution_count": 50,
   "id": "c9d334b3-55dd-449d-a7ed-44bf947dfc49",
   "metadata": {},
   "outputs": [
    {
     "data": {
      "text/plain": [
       "299983   -11062.06\n",
       "299984   -11062.06\n",
       "622           0.00\n",
       "1970          0.00\n",
       "1971          0.00\n",
       "1972          0.00\n",
       "1987          0.00\n",
       "1988          0.00\n",
       "2024          0.00\n",
       "2025          0.00\n",
       "Name: unitprice, dtype: float64"
      ]
     },
     "execution_count": 50,
     "metadata": {},
     "output_type": "execute_result"
    }
   ],
   "source": [
    "df['unitprice'].nsmallest(10)"
   ]
  },
  {
   "cell_type": "markdown",
   "id": "5c94f284-1119-4671-8b3a-315a0edffdc2",
   "metadata": {},
   "source": [
    "  "
   ]
  },
  {
   "cell_type": "markdown",
   "id": "30a1911c-ec0c-4354-846e-ffafdd3a9857",
   "metadata": {},
   "source": [
    "  "
   ]
  },
  {
   "cell_type": "markdown",
   "id": "7482b894-9c07-4b49-845b-5d3fe6aaf9a9",
   "metadata": {},
   "source": [
    "## Negative values may represent a refund in this dataset, i'm going to use a boolean mask to remove outliers"
   ]
  },
  {
   "cell_type": "markdown",
   "id": "aba3dddb-909d-43ce-8cb5-7850e2a59051",
   "metadata": {},
   "source": [
    "  "
   ]
  },
  {
   "cell_type": "markdown",
   "id": "98c455bd-239c-4d3d-af1e-6f5ef807c677",
   "metadata": {},
   "source": [
    "  "
   ]
  },
  {
   "cell_type": "code",
   "execution_count": 51,
   "id": "2c29bb57-6dcb-4834-b6fb-e3379122de63",
   "metadata": {},
   "outputs": [],
   "source": [
    "# # Create a boolean mask for outliers in 'quantity'\n",
    "# quantity_outlier_mask = (df['quantity'] < -9600) | (df['quantity'] > 6000)\n",
    "\n",
    "# # Apply the mask to filter out outliers\n",
    "# df = df[~quantity_outlier_mask]"
   ]
  },
  {
   "cell_type": "markdown",
   "id": "cd0d44b2-148f-4685-88af-6404b607ab61",
   "metadata": {},
   "source": [
    "  "
   ]
  },
  {
   "cell_type": "code",
   "execution_count": 52,
   "id": "041c7abc-53f2-4023-8773-79b10d941d72",
   "metadata": {},
   "outputs": [],
   "source": [
    "# # Create a boolean mask for outliers in 'unitprice'\n",
    "# unitprice_outlier_mask = (df['unitprice'] < 0) | (df['unitprice'] > 20000)\n",
    "\n",
    "# # Apply the mask to filter out outliers\n",
    "# df = df[~unitprice_outlier_mask]"
   ]
  },
  {
   "cell_type": "markdown",
   "id": "e5161ec7-fcb7-4851-b4f9-a7f9cedef2af",
   "metadata": {},
   "source": [
    "  "
   ]
  },
  {
   "cell_type": "markdown",
   "id": "8eb6cdc4-1b53-41a9-be66-5cd9988d8576",
   "metadata": {},
   "source": [
    "  "
   ]
  },
  {
   "cell_type": "code",
   "execution_count": 53,
   "id": "a1c29aa3-b4cc-464c-8a8e-a43d93942f91",
   "metadata": {},
   "outputs": [],
   "source": [
    "# df['quantity'].nlargest(10)"
   ]
  },
  {
   "cell_type": "code",
   "execution_count": 54,
   "id": "59c9defe-8271-4fb3-83f3-356955195b04",
   "metadata": {},
   "outputs": [],
   "source": [
    "# df['quantity'].nsmallest(10)"
   ]
  },
  {
   "cell_type": "markdown",
   "id": "1485e754-a173-41b3-8b65-327df9f6122d",
   "metadata": {},
   "source": [
    "  "
   ]
  },
  {
   "cell_type": "markdown",
   "id": "785b63b2-59eb-48f6-bb35-65a6b44884f4",
   "metadata": {},
   "source": [
    "  "
   ]
  },
  {
   "cell_type": "code",
   "execution_count": 55,
   "id": "4d8c0740-af25-40aa-990a-517dea6baadb",
   "metadata": {},
   "outputs": [],
   "source": [
    "# df['unitprice'].nlargest(10)"
   ]
  },
  {
   "cell_type": "code",
   "execution_count": 56,
   "id": "1b59744f-72ea-4372-88a3-87562aa44c9f",
   "metadata": {},
   "outputs": [],
   "source": [
    "# df['unitprice'].nsmallest(100)"
   ]
  },
  {
   "cell_type": "markdown",
   "id": "c66a4eef-ece6-4bd8-98d4-76facebda4ff",
   "metadata": {},
   "source": [
    "  "
   ]
  },
  {
   "cell_type": "markdown",
   "id": "c91ab2a8-57c9-4c0d-9dfe-6f20580ba048",
   "metadata": {},
   "source": [
    "  "
   ]
  },
  {
   "cell_type": "markdown",
   "id": "a4e5a65f-4793-4bac-b848-abeebb24a7f2",
   "metadata": {},
   "source": [
    "  "
   ]
  },
  {
   "cell_type": "markdown",
   "id": "2cfd5fd7-9bf8-4469-9126-08442af12a20",
   "metadata": {},
   "source": [
    "# Interquartile Range for numerical data?"
   ]
  },
  {
   "cell_type": "code",
   "execution_count": 57,
   "id": "30cd31a2-e03c-47c6-bcc9-542f18f00ee8",
   "metadata": {},
   "outputs": [
    {
     "name": "stdout",
     "output_type": "stream",
     "text": [
      "<class 'pandas.core.frame.DataFrame'>\n",
      "RangeIndex: 541909 entries, 0 to 541908\n",
      "Data columns (total 8 columns):\n",
      " #   Column       Non-Null Count   Dtype         \n",
      "---  ------       --------------   -----         \n",
      " 0   invoiceno    541909 non-null  object        \n",
      " 1   stockcode    541909 non-null  object        \n",
      " 2   description  541909 non-null  object        \n",
      " 3   quantity     541909 non-null  int64         \n",
      " 4   invoicedate  541909 non-null  datetime64[ns]\n",
      " 5   unitprice    541909 non-null  float64       \n",
      " 6   customerid   541909 non-null  float64       \n",
      " 7   country      541909 non-null  object        \n",
      "dtypes: datetime64[ns](1), float64(2), int64(1), object(4)\n",
      "memory usage: 33.1+ MB\n"
     ]
    }
   ],
   "source": [
    "df.info()"
   ]
  },
  {
   "cell_type": "code",
   "execution_count": 58,
   "id": "421a208b-c1a4-4e37-b79e-baa6d2e34728",
   "metadata": {},
   "outputs": [],
   "source": [
    "def identify_outliers(col, k=1.5):\n",
    "    q1, q3 = col.quantile([0.5, 0.95])\n",
    "\n",
    "    iqr = q3 - q1\n",
    "    \n",
    "    lower_fence = q1 - iqr * k\n",
    "    upper_fence = q3 + iqr * k\n",
    "    \n",
    "    return np.where((col < lower_fence) | (col > upper_fence), 1, 0)"
   ]
  },
  {
   "cell_type": "code",
   "execution_count": 59,
   "id": "4c0759c2-8b6c-48d7-b9f5-cfa2505d43be",
   "metadata": {},
   "outputs": [
    {
     "data": {
      "text/html": [
       "<div>\n",
       "<style scoped>\n",
       "    .dataframe tbody tr th:only-of-type {\n",
       "        vertical-align: middle;\n",
       "    }\n",
       "\n",
       "    .dataframe tbody tr th {\n",
       "        vertical-align: top;\n",
       "    }\n",
       "\n",
       "    .dataframe thead th {\n",
       "        text-align: right;\n",
       "    }\n",
       "</style>\n",
       "<table border=\"1\" class=\"dataframe\">\n",
       "  <thead>\n",
       "    <tr style=\"text-align: right;\">\n",
       "      <th></th>\n",
       "      <th>invoiceno</th>\n",
       "      <th>stockcode</th>\n",
       "      <th>description</th>\n",
       "      <th>quantity</th>\n",
       "      <th>invoicedate</th>\n",
       "      <th>unitprice</th>\n",
       "      <th>customerid</th>\n",
       "      <th>country</th>\n",
       "      <th>quantity_outliers</th>\n",
       "      <th>unitprice_outliers</th>\n",
       "      <th>customerid_outliers</th>\n",
       "    </tr>\n",
       "  </thead>\n",
       "  <tbody>\n",
       "    <tr>\n",
       "      <th>0</th>\n",
       "      <td>536365</td>\n",
       "      <td>85123A</td>\n",
       "      <td>WHITE HANGING HEART T-LIGHT HOLDER</td>\n",
       "      <td>6</td>\n",
       "      <td>2010-12-01 08:26:00</td>\n",
       "      <td>2.55</td>\n",
       "      <td>17850.0</td>\n",
       "      <td>United Kingdom</td>\n",
       "      <td>0</td>\n",
       "      <td>0</td>\n",
       "      <td>0</td>\n",
       "    </tr>\n",
       "    <tr>\n",
       "      <th>1</th>\n",
       "      <td>536365</td>\n",
       "      <td>71053</td>\n",
       "      <td>WHITE METAL LANTERN</td>\n",
       "      <td>6</td>\n",
       "      <td>2010-12-01 08:26:00</td>\n",
       "      <td>3.39</td>\n",
       "      <td>17850.0</td>\n",
       "      <td>United Kingdom</td>\n",
       "      <td>0</td>\n",
       "      <td>0</td>\n",
       "      <td>0</td>\n",
       "    </tr>\n",
       "    <tr>\n",
       "      <th>2</th>\n",
       "      <td>536365</td>\n",
       "      <td>84406B</td>\n",
       "      <td>CREAM CUPID HEARTS COAT HANGER</td>\n",
       "      <td>8</td>\n",
       "      <td>2010-12-01 08:26:00</td>\n",
       "      <td>2.75</td>\n",
       "      <td>17850.0</td>\n",
       "      <td>United Kingdom</td>\n",
       "      <td>0</td>\n",
       "      <td>0</td>\n",
       "      <td>0</td>\n",
       "    </tr>\n",
       "    <tr>\n",
       "      <th>3</th>\n",
       "      <td>536365</td>\n",
       "      <td>84029G</td>\n",
       "      <td>KNITTED UNION FLAG HOT WATER BOTTLE</td>\n",
       "      <td>6</td>\n",
       "      <td>2010-12-01 08:26:00</td>\n",
       "      <td>3.39</td>\n",
       "      <td>17850.0</td>\n",
       "      <td>United Kingdom</td>\n",
       "      <td>0</td>\n",
       "      <td>0</td>\n",
       "      <td>0</td>\n",
       "    </tr>\n",
       "    <tr>\n",
       "      <th>4</th>\n",
       "      <td>536365</td>\n",
       "      <td>84029E</td>\n",
       "      <td>RED WOOLLY HOTTIE WHITE HEART.</td>\n",
       "      <td>6</td>\n",
       "      <td>2010-12-01 08:26:00</td>\n",
       "      <td>3.39</td>\n",
       "      <td>17850.0</td>\n",
       "      <td>United Kingdom</td>\n",
       "      <td>0</td>\n",
       "      <td>0</td>\n",
       "      <td>0</td>\n",
       "    </tr>\n",
       "  </tbody>\n",
       "</table>\n",
       "</div>"
      ],
      "text/plain": [
       "  invoiceno stockcode                          description  quantity  \\\n",
       "0    536365    85123A   WHITE HANGING HEART T-LIGHT HOLDER         6   \n",
       "1    536365     71053                  WHITE METAL LANTERN         6   \n",
       "2    536365    84406B       CREAM CUPID HEARTS COAT HANGER         8   \n",
       "3    536365    84029G  KNITTED UNION FLAG HOT WATER BOTTLE         6   \n",
       "4    536365    84029E       RED WOOLLY HOTTIE WHITE HEART.         6   \n",
       "\n",
       "          invoicedate  unitprice  customerid         country  \\\n",
       "0 2010-12-01 08:26:00       2.55     17850.0  United Kingdom   \n",
       "1 2010-12-01 08:26:00       3.39     17850.0  United Kingdom   \n",
       "2 2010-12-01 08:26:00       2.75     17850.0  United Kingdom   \n",
       "3 2010-12-01 08:26:00       3.39     17850.0  United Kingdom   \n",
       "4 2010-12-01 08:26:00       3.39     17850.0  United Kingdom   \n",
       "\n",
       "   quantity_outliers  unitprice_outliers  customerid_outliers  \n",
       "0                  0                   0                    0  \n",
       "1                  0                   0                    0  \n",
       "2                  0                   0                    0  \n",
       "3                  0                   0                    0  \n",
       "4                  0                   0                    0  "
      ]
     },
     "execution_count": 59,
     "metadata": {},
     "output_type": "execute_result"
    }
   ],
   "source": [
    "for col in df.columns[(df.dtypes == 'float64') | (df.dtypes == 'int64')]:\n",
    "\n",
    "    df[f'{col}_outliers'] = identify_outliers(df[col])\n",
    "\n",
    "df.head()"
   ]
  },
  {
   "cell_type": "code",
   "execution_count": 60,
   "id": "02674ae1-6988-4f9a-9f95-78287cc30871",
   "metadata": {},
   "outputs": [
    {
     "name": "stdout",
     "output_type": "stream",
     "text": [
      "~~~\n",
      "quantity_outliers\n",
      "count    12131.0\n",
      "mean         1.0\n",
      "std          0.0\n",
      "min          1.0\n",
      "25%          1.0\n",
      "50%          1.0\n",
      "75%          1.0\n",
      "max          1.0\n",
      "Name: quantity_outliers, dtype: float64\n",
      "~~~\n",
      "unitprice_outliers\n",
      "count    3537.0\n",
      "mean        1.0\n",
      "std         0.0\n",
      "min         1.0\n",
      "25%         1.0\n",
      "50%         1.0\n",
      "75%         1.0\n",
      "max         1.0\n",
      "Name: unitprice_outliers, dtype: float64\n",
      "~~~\n",
      "customerid_outliers\n",
      "count    135080.0\n",
      "mean          1.0\n",
      "std           0.0\n",
      "min           1.0\n",
      "25%           1.0\n",
      "50%           1.0\n",
      "75%           1.0\n",
      "max           1.0\n",
      "Name: customerid_outliers, dtype: float64\n"
     ]
    }
   ],
   "source": [
    "outlier_cols = [col for col in df if col.endswith('_outliers')]\n",
    "for col in outlier_cols:\n",
    "    print('~~~\\n' + col)\n",
    "    data = df[col][df[col] > 0]\n",
    "    print(data.describe())"
   ]
  },
  {
   "cell_type": "markdown",
   "id": "58e62050-7775-41ca-8778-ff43e1c4de99",
   "metadata": {},
   "source": [
    "  "
   ]
  },
  {
   "cell_type": "markdown",
   "id": "64d9b954-2ded-4a79-8c40-76720bebd045",
   "metadata": {},
   "source": [
    "  "
   ]
  },
  {
   "cell_type": "markdown",
   "id": "6409ae1a-af0c-4fa0-928d-27462d0357d2",
   "metadata": {},
   "source": [
    "  "
   ]
  },
  {
   "cell_type": "markdown",
   "id": "41b30ac1-f7f1-4d33-8b30-f3d6c4819597",
   "metadata": {},
   "source": [
    "<!-- ## Boolean masked out outliers; removed 8 unique values from dataset-->"
   ]
  },
  {
   "cell_type": "code",
   "execution_count": 63,
   "id": "54d0744d-63cb-4e8b-8b2c-9d8a8f184ace",
   "metadata": {},
   "outputs": [
    {
     "name": "stdout",
     "output_type": "stream",
     "text": [
      "Collecting tabulate\n",
      "  Downloading tabulate-0.9.0-py3-none-any.whl (35 kB)\n",
      "Installing collected packages: tabulate\n",
      "Successfully installed tabulate-0.9.0\n",
      "\u001b[33mWARNING: There was an error checking the latest version of pip.\u001b[0m\u001b[33m\n",
      "\u001b[0mNote: you may need to restart the kernel to use updated packages.\n"
     ]
    }
   ],
   "source": [
    "pip install tabulate"
   ]
  },
  {
   "cell_type": "code",
   "execution_count": 64,
   "id": "f4b3759c-6d28-4d96-9d66-fe3b79935794",
   "metadata": {},
   "outputs": [
    {
     "name": "stdout",
     "output_type": "stream",
     "text": [
      "Shape of Data: \n",
      "(541909, 11)\n",
      "======================\n",
      "======================\n",
      "Info: \n",
      "<class 'pandas.core.frame.DataFrame'>\n",
      "RangeIndex: 541909 entries, 0 to 541908\n",
      "Data columns (total 11 columns):\n",
      " #   Column               Non-Null Count   Dtype         \n",
      "---  ------               --------------   -----         \n",
      " 0   invoiceno            541909 non-null  object        \n",
      " 1   stockcode            541909 non-null  object        \n",
      " 2   description          541909 non-null  object        \n",
      " 3   quantity             541909 non-null  int64         \n",
      " 4   invoicedate          541909 non-null  datetime64[ns]\n",
      " 5   unitprice            541909 non-null  float64       \n",
      " 6   customerid           541909 non-null  float64       \n",
      " 7   country              541909 non-null  object        \n",
      " 8   quantity_outliers    541909 non-null  int64         \n",
      " 9   unitprice_outliers   541909 non-null  int64         \n",
      " 10  customerid_outliers  541909 non-null  int64         \n",
      "dtypes: datetime64[ns](1), float64(2), int64(4), object(4)\n",
      "memory usage: 45.5+ MB\n",
      "None\n",
      "======================\n",
      "======================\n",
      "Descriptions:\n",
      "|                     |   count | mean                          | min                 | 25%                 | 50%                 | 75%                 | max                 |          std |\n",
      "|:--------------------|--------:|:------------------------------|:--------------------|:--------------------|:--------------------|:--------------------|:--------------------|-------------:|\n",
      "| quantity            |  541909 | 9.55224954743324              | -80995.0            | 1.0                 | 3.0                 | 10.0                | 80995.0             |  218.081     |\n",
      "| invoicedate         |  541909 | 2011-07-04 13:34:57.156386048 | 2010-12-01 08:26:00 | 2011-03-28 11:34:00 | 2011-07-19 17:17:00 | 2011-10-19 11:27:00 | 2011-12-09 12:50:00 |  nan         |\n",
      "| unitprice           |  541909 | 4.611113626088513             | -11062.06           | 1.25                | 2.08                | 4.13                | 38970.0             |   96.7599    |\n",
      "| customerid          |  541909 | 11476.974671024102            | 0.0                 | 12352.0             | 14382.0             | 16255.0             | 18287.0             | 6777.91      |\n",
      "| quantity_outliers   |  541909 | 0.022385677300063293          | 0.0                 | 0.0                 | 0.0                 | 0.0                 | 1.0                 |    0.147934  |\n",
      "| unitprice_outliers  |  541909 | 0.006526926107519897          | 0.0                 | 0.0                 | 0.0                 | 0.0                 | 1.0                 |    0.0805254 |\n",
      "| customerid_outliers |  541909 | 0.249266943342886             | 0.0                 | 0.0                 | 0.0                 | 0.0                 | 1.0                 |    0.432589  |\n",
      "======================\n",
      "======================\n",
      "|             |   count |   unique | top                                |   freq |\n",
      "|:------------|--------:|---------:|:-----------------------------------|-------:|\n",
      "| invoiceno   |  541909 |    25900 | 573585                             |   1114 |\n",
      "| stockcode   |  541909 |     4070 | 85123A                             |   2313 |\n",
      "| description |  541909 |     4224 | WHITE HANGING HEART T-LIGHT HOLDER |   2369 |\n",
      "| country     |  541909 |       38 | United Kingdom                     | 495478 |\n",
      "======================\n",
      "======================\n",
      "missing values:\n",
      "by column:\n",
      "|                     |   0 |\n",
      "|:--------------------|----:|\n",
      "| invoiceno           |   0 |\n",
      "| stockcode           |   0 |\n",
      "| description         |   0 |\n",
      "| quantity            |   0 |\n",
      "| invoicedate         |   0 |\n",
      "| unitprice           |   0 |\n",
      "| customerid          |   0 |\n",
      "| country             |   0 |\n",
      "| quantity_outliers   |   0 |\n",
      "| unitprice_outliers  |   0 |\n",
      "| customerid_outliers |   0 |\n",
      "by row: \n",
      "|    |   num_cols_missing |   percent_cols_missing |   num_rows |\n",
      "|---:|-------------------:|-----------------------:|-----------:|\n",
      "|  0 |                  0 |                      0 |     541909 |\n",
      "======================\n",
      "======================\n",
      "Outliers: \n",
      "Outliers for Col quantity:\n",
      "lower:  -12.5 upper:  23.5\n",
      "9         32\n",
      "26        24\n",
      "27        24\n",
      "30        24\n",
      "31        48\n",
      "          ..\n",
      "541876    24\n",
      "541882    24\n",
      "541883    25\n",
      "541891    24\n",
      "541892    24\n",
      "Name: quantity, Length: 58619, dtype: int64\n",
      "----------\n",
      "Outliers for Col unitprice:\n",
      "lower:  -3.0700000000000003 upper:  8.45\n",
      "16         9.95\n",
      "45        18.00\n",
      "65        10.95\n",
      "141       27.50\n",
      "151       14.95\n",
      "          ...  \n",
      "541768    18.00\n",
      "541786    11.95\n",
      "541831     8.50\n",
      "541849     9.95\n",
      "541892     8.95\n",
      "Name: unitprice, Length: 39627, dtype: float64\n",
      "----------\n",
      "Outliers for Col customerid:\n",
      "lower:  6497.5 upper:  22109.5\n",
      "622       0.0\n",
      "1443      0.0\n",
      "1444      0.0\n",
      "1445      0.0\n",
      "1446      0.0\n",
      "         ... \n",
      "541536    0.0\n",
      "541537    0.0\n",
      "541538    0.0\n",
      "541539    0.0\n",
      "541540    0.0\n",
      "Name: customerid, Length: 135080, dtype: float64\n",
      "----------\n",
      "None\n",
      "======================\n",
      "======================\n"
     ]
    }
   ],
   "source": [
    "import summarize\n",
    "\n",
    "summarize.summarize(df)"
   ]
  },
  {
   "cell_type": "code",
   "execution_count": 65,
   "id": "fc1a9954-d3f6-4c3b-8eaa-de4098a12bf7",
   "metadata": {},
   "outputs": [
    {
     "name": "stdout",
     "output_type": "stream",
     "text": [
      "<class 'pandas.core.frame.DataFrame'>\n",
      "RangeIndex: 541909 entries, 0 to 541908\n",
      "Data columns (total 11 columns):\n",
      " #   Column               Non-Null Count   Dtype         \n",
      "---  ------               --------------   -----         \n",
      " 0   invoiceno            541909 non-null  object        \n",
      " 1   stockcode            541909 non-null  object        \n",
      " 2   description          541909 non-null  object        \n",
      " 3   quantity             541909 non-null  int64         \n",
      " 4   invoicedate          541909 non-null  datetime64[ns]\n",
      " 5   unitprice            541909 non-null  float64       \n",
      " 6   customerid           541909 non-null  float64       \n",
      " 7   country              541909 non-null  object        \n",
      " 8   quantity_outliers    541909 non-null  int64         \n",
      " 9   unitprice_outliers   541909 non-null  int64         \n",
      " 10  customerid_outliers  541909 non-null  int64         \n",
      "dtypes: datetime64[ns](1), float64(2), int64(4), object(4)\n",
      "memory usage: 45.5+ MB\n"
     ]
    }
   ],
   "source": [
    "df.info()"
   ]
  },
  {
   "cell_type": "markdown",
   "id": "c3cb353f-fffd-4081-8b2d-ee5ac0408288",
   "metadata": {},
   "source": [
    "  "
   ]
  },
  {
   "cell_type": "markdown",
   "id": "c75226d0-a147-49b8-ba6a-0cf7e1536f21",
   "metadata": {},
   "source": [
    " # I noticed that there is alot of customer_ids and unitprice that may correlate "
   ]
  },
  {
   "cell_type": "markdown",
   "id": "1b4fdb1d-cb2e-4733-aa16-237580356d6b",
   "metadata": {},
   "source": [
    "  "
   ]
  },
  {
   "cell_type": "markdown",
   "id": "1833567d-e52c-445e-bbe8-d4a7901089e1",
   "metadata": {},
   "source": [
    "  "
   ]
  },
  {
   "cell_type": "code",
   "execution_count": 66,
   "id": "35ad9f08-8fda-4647-a744-c5c52d57bc01",
   "metadata": {},
   "outputs": [
    {
     "data": {
      "image/png": "[encoded data removed]",
      "text/plain": [
       "<Figure size 640x480 with 1 Axes>"
      ]
     },
     "metadata": {},
     "output_type": "display_data"
    },
    {
     "data": {
      "image/png": "[encoded data removed]",
      "text/plain": [
       "<Figure size 640x480 with 1 Axes>"
      ]
     },
     "metadata": {},
     "output_type": "display_data"
    },
    {
     "data": {
      "image/png": "[encoded data removed]",
      "text/plain": [
       "<Figure size 640x480 with 1 Axes>"
      ]
     },
     "metadata": {},
     "output_type": "display_data"
    }
   ],
   "source": [
    "for col in numeric_cols:\n",
    "    plt.figure()\n",
    "    plt.title(f'Distribution of {col}')\n",
    "    sns.histplot(data=df, x=col, bins=30)  # Adjust the number of bins as needed\n",
    "    plt.show()"
   ]
  },
  {
   "cell_type": "markdown",
   "id": "da184801-afa0-49fd-8693-0aec2bc2d78e",
   "metadata": {},
   "source": [
    "  "
   ]
  },
  {
   "cell_type": "code",
   "execution_count": 67,
   "id": "267d58fa-2cb0-4b9e-83a3-e0b148543990",
   "metadata": {},
   "outputs": [
    {
     "data": {
      "image/png": "[encoded data removed]",
      "text/plain": [
       "<Figure size 500x500 with 1 Axes>"
      ]
     },
     "metadata": {},
     "output_type": "display_data"
    }
   ],
   "source": [
    "# I am going to see if there is a correlation between unitprice and customerid:\n",
    "sns.relplot(data = df, x = 'unitprice', y = 'customerid')\n",
    "plt.xlabel('Unit Prices (Lakh)')\n",
    "plt.ylabel('Customer ID')\n",
    "plt.title(' Customer Unit Price Correlation')\n",
    "plt.show()"
   ]
  },
  {
   "cell_type": "code",
   "execution_count": 68,
   "id": "f8856e9b-6625-4550-9a0e-1337855e66d9",
   "metadata": {},
   "outputs": [],
   "source": [
    "# removing 0.0 prices and associated customer id\n",
    "df = df.copy()\n",
    "df = df[df['unitprice'] != 0]\n",
    "\n",
    "df = df.copy()\n",
    "df = df[df['customerid'] != 0]"
   ]
  },
  {
   "cell_type": "code",
   "execution_count": 69,
   "id": "4b222bc9-3e30-42ef-bc6d-aeaea6392e8d",
   "metadata": {},
   "outputs": [
    {
     "name": "stdout",
     "output_type": "stream",
     "text": [
      "<class 'pandas.core.frame.DataFrame'>\n",
      "Index: 406789 entries, 0 to 541908\n",
      "Data columns (total 11 columns):\n",
      " #   Column               Non-Null Count   Dtype         \n",
      "---  ------               --------------   -----         \n",
      " 0   invoiceno            406789 non-null  object        \n",
      " 1   stockcode            406789 non-null  object        \n",
      " 2   description          406789 non-null  object        \n",
      " 3   quantity             406789 non-null  int64         \n",
      " 4   invoicedate          406789 non-null  datetime64[ns]\n",
      " 5   unitprice            406789 non-null  float64       \n",
      " 6   customerid           406789 non-null  float64       \n",
      " 7   country              406789 non-null  object        \n",
      " 8   quantity_outliers    406789 non-null  int64         \n",
      " 9   unitprice_outliers   406789 non-null  int64         \n",
      " 10  customerid_outliers  406789 non-null  int64         \n",
      "dtypes: datetime64[ns](1), float64(2), int64(4), object(4)\n",
      "memory usage: 37.2+ MB\n"
     ]
    }
   ],
   "source": [
    "df.info()"
   ]
  },
  {
   "cell_type": "markdown",
   "id": "c01cd0b5-85df-421f-b2b7-8d4bc3be9e60",
   "metadata": {},
   "source": [
    "# Now I will see the data with no unitprices and customerids with zeros:"
   ]
  },
  {
   "cell_type": "code",
   "execution_count": 70,
   "id": "2fcdcbd4-479d-4979-9b9b-4b74247c33bd",
   "metadata": {},
   "outputs": [
    {
     "data": {
      "image/png": "[encoded data removed]",
      "text/plain": [
       "<Figure size 640x480 with 1 Axes>"
      ]
     },
     "metadata": {},
     "output_type": "display_data"
    }
   ],
   "source": [
    "# I am going to see if there is a correlation between unitprice and customerid:\n",
    "sns.scatterplot(data = df, x = 'unitprice', y = 'customerid')\n",
    "plt.xlabel('Unit Prices (Lakh)')\n",
    "plt.ylabel('Customer ID')\n",
    "plt.title(' Customer Unit Price Correlation')\n",
    "plt.show()"
   ]
  },
  {
   "cell_type": "markdown",
   "id": "8dab42fd-4722-4024-a637-dc5f2d4a4de9",
   "metadata": {},
   "source": [
    "  "
   ]
  },
  {
   "cell_type": "code",
   "execution_count": 71,
   "id": "b4d7d092-8f11-4ba3-aaa5-d4f5190ebac3",
   "metadata": {},
   "outputs": [
    {
     "data": {
      "text/plain": [
       "unitprice\n",
       "1.25      46555\n",
       "1.65      37503\n",
       "2.95      27211\n",
       "0.85      26396\n",
       "0.42      22032\n",
       "          ...  \n",
       "3.56          1\n",
       "4.37          1\n",
       "6.89          1\n",
       "0.98          1\n",
       "224.69        1\n",
       "Name: count, Length: 619, dtype: int64"
      ]
     },
     "execution_count": 71,
     "metadata": {},
     "output_type": "execute_result"
    }
   ],
   "source": [
    "unitprices = df['unitprice'].value_counts()\n",
    "unitprices"
   ]
  },
  {
   "cell_type": "code",
   "execution_count": 72,
   "id": "c7625e94-5753-4fde-855d-98aab75f45c9",
   "metadata": {},
   "outputs": [
    {
     "data": {
      "image/png": "[encoded data removed]",
      "text/plain": [
       "<Figure size 1000x600 with 1 Axes>"
      ]
     },
     "metadata": {},
     "output_type": "display_data"
    }
   ],
   "source": [
    "plt.figure(figsize=(10, 6))\n",
    "sns.scatterplot(data=df, x='unitprice', y=df['unitprice'].value_counts(), s=45)\n",
    "plt.title('Scatter Plot of Unit Price and Counts')\n",
    "plt.xlabel('Unit Price')\n",
    "plt.ylabel('Count')\n",
    "plt.show()"
   ]
  },
  {
   "cell_type": "markdown",
   "id": "a3d6210c-f518-4116-9f72-5a50528094a7",
   "metadata": {},
   "source": [
    "## Do I need to take care of zeros in quantity?"
   ]
  },
  {
   "cell_type": "code",
   "execution_count": 73,
   "id": "b47f7821-75ad-4440-a1cc-c80b6ff2d45d",
   "metadata": {},
   "outputs": [
    {
     "data": {
      "text/plain": [
       "quantity\n",
       " 1        73301\n",
       " 12       60031\n",
       " 2        57999\n",
       " 6        37688\n",
       " 4        32180\n",
       "          ...  \n",
       " 512          1\n",
       "-37           1\n",
       " 291          1\n",
       " 3186         1\n",
       "-80995        1\n",
       "Name: count, Length: 435, dtype: int64"
      ]
     },
     "execution_count": 73,
     "metadata": {},
     "output_type": "execute_result"
    }
   ],
   "source": [
    "df.quantity.value_counts()"
   ]
  },
  {
   "cell_type": "code",
   "execution_count": 74,
   "id": "05997478-fc56-474c-88bb-2d2cd66a149c",
   "metadata": {},
   "outputs": [],
   "source": [
    "# df = df.copy()\n",
    "# df = df[df['quantity'] != 0]"
   ]
  },
  {
   "cell_type": "code",
   "execution_count": 75,
   "id": "f63f1273-4773-4914-8e3e-a2dc0834baba",
   "metadata": {},
   "outputs": [
    {
     "name": "stdout",
     "output_type": "stream",
     "text": [
      "<class 'pandas.core.frame.DataFrame'>\n",
      "Index: 406789 entries, 0 to 541908\n",
      "Data columns (total 11 columns):\n",
      " #   Column               Non-Null Count   Dtype         \n",
      "---  ------               --------------   -----         \n",
      " 0   invoiceno            406789 non-null  object        \n",
      " 1   stockcode            406789 non-null  object        \n",
      " 2   description          406789 non-null  object        \n",
      " 3   quantity             406789 non-null  int64         \n",
      " 4   invoicedate          406789 non-null  datetime64[ns]\n",
      " 5   unitprice            406789 non-null  float64       \n",
      " 6   customerid           406789 non-null  float64       \n",
      " 7   country              406789 non-null  object        \n",
      " 8   quantity_outliers    406789 non-null  int64         \n",
      " 9   unitprice_outliers   406789 non-null  int64         \n",
      " 10  customerid_outliers  406789 non-null  int64         \n",
      "dtypes: datetime64[ns](1), float64(2), int64(4), object(4)\n",
      "memory usage: 53.4+ MB\n"
     ]
    }
   ],
   "source": [
    "df.info()"
   ]
  },
  {
   "cell_type": "markdown",
   "id": "9b4e5f5d-68da-42a9-b2b2-5b79279c05cf",
   "metadata": {},
   "source": [
    "  "
   ]
  },
  {
   "cell_type": "markdown",
   "id": "93d6a4b6-5c36-4a98-881f-1edaf7dd848f",
   "metadata": {},
   "source": [
    "  "
   ]
  },
  {
   "cell_type": "markdown",
   "id": "c41848e2-65fd-44bb-9327-e5b38a4353a6",
   "metadata": {},
   "source": [
    "## Do I have to make dataset timedate relative, to make sense of what exists here?"
   ]
  },
  {
   "cell_type": "code",
   "execution_count": 76,
   "id": "27c692ba-89cd-43b4-b93b-b0f64bd310aa",
   "metadata": {},
   "outputs": [
    {
     "data": {
      "text/plain": [
       "[<matplotlib.lines.Line2D at 0x281e55360>]"
      ]
     },
     "execution_count": 76,
     "metadata": {},
     "output_type": "execute_result"
    },
    {
     "data": {
      "image/png": "[encoded data removed]",
      "text/plain": [
       "<Figure size 640x480 with 1 Axes>"
      ]
     },
     "metadata": {},
     "output_type": "display_data"
    }
   ],
   "source": [
    "plt.plot(df['quantity'])"
   ]
  },
  {
   "cell_type": "markdown",
   "id": "e2bdc3ed-5d85-4dc5-a735-256af5d24bbf",
   "metadata": {},
   "source": [
    "* we can see mean and where the dsitribution of values are"
   ]
  },
  {
   "cell_type": "code",
   "execution_count": 77,
   "id": "6f860ee2-6182-469a-9f77-92fa43eb6f25",
   "metadata": {},
   "outputs": [
    {
     "data": {
      "image/png": "[encoded data removed]",
      "text/plain": [
       "<Figure size 1000x600 with 1 Axes>"
      ]
     },
     "metadata": {},
     "output_type": "display_data"
    }
   ],
   "source": [
    "plt.figure(figsize=(10, 6))\n",
    "sns.histplot(data=df, x='quantity', y=df['quantity'].value_counts(), bins=50)\n",
    "plt.title('Scatter Plot of Quantity and Counts')\n",
    "plt.xlabel('Quantity')\n",
    "plt.ylabel('Count')\n",
    "# plt.xlim(0, 50)\n",
    "plt.show()"
   ]
  },
  {
   "cell_type": "code",
   "execution_count": 78,
   "id": "5d8a57a6-6316-49f0-a3a6-5ccf9fb911de",
   "metadata": {},
   "outputs": [
    {
     "data": {
      "text/html": [
       "<div>\n",
       "<style scoped>\n",
       "    .dataframe tbody tr th:only-of-type {\n",
       "        vertical-align: middle;\n",
       "    }\n",
       "\n",
       "    .dataframe tbody tr th {\n",
       "        vertical-align: top;\n",
       "    }\n",
       "\n",
       "    .dataframe thead th {\n",
       "        text-align: right;\n",
       "    }\n",
       "</style>\n",
       "<table border=\"1\" class=\"dataframe\">\n",
       "  <thead>\n",
       "    <tr style=\"text-align: right;\">\n",
       "      <th></th>\n",
       "      <th>quantity</th>\n",
       "      <th>invoicedate</th>\n",
       "      <th>unitprice</th>\n",
       "      <th>customerid</th>\n",
       "      <th>quantity_outliers</th>\n",
       "      <th>unitprice_outliers</th>\n",
       "      <th>customerid_outliers</th>\n",
       "    </tr>\n",
       "  </thead>\n",
       "  <tbody>\n",
       "    <tr>\n",
       "      <th>count</th>\n",
       "      <td>406789.000000</td>\n",
       "      <td>406789</td>\n",
       "      <td>406789.000000</td>\n",
       "      <td>406789.000000</td>\n",
       "      <td>406789.000000</td>\n",
       "      <td>406789.000000</td>\n",
       "      <td>406789.0</td>\n",
       "    </tr>\n",
       "    <tr>\n",
       "      <th>mean</th>\n",
       "      <td>12.028359</td>\n",
       "      <td>2011-07-10 16:28:44.845459968</td>\n",
       "      <td>3.460811</td>\n",
       "      <td>15287.795830</td>\n",
       "      <td>0.027083</td>\n",
       "      <td>0.003267</td>\n",
       "      <td>0.0</td>\n",
       "    </tr>\n",
       "    <tr>\n",
       "      <th>min</th>\n",
       "      <td>-80995.000000</td>\n",
       "      <td>2010-12-01 08:26:00</td>\n",
       "      <td>0.001000</td>\n",
       "      <td>12346.000000</td>\n",
       "      <td>0.000000</td>\n",
       "      <td>0.000000</td>\n",
       "      <td>0.0</td>\n",
       "    </tr>\n",
       "    <tr>\n",
       "      <th>25%</th>\n",
       "      <td>2.000000</td>\n",
       "      <td>2011-04-06 15:02:00</td>\n",
       "      <td>1.250000</td>\n",
       "      <td>13954.000000</td>\n",
       "      <td>0.000000</td>\n",
       "      <td>0.000000</td>\n",
       "      <td>0.0</td>\n",
       "    </tr>\n",
       "    <tr>\n",
       "      <th>50%</th>\n",
       "      <td>5.000000</td>\n",
       "      <td>2011-07-31 11:46:00</td>\n",
       "      <td>1.950000</td>\n",
       "      <td>15152.000000</td>\n",
       "      <td>0.000000</td>\n",
       "      <td>0.000000</td>\n",
       "      <td>0.0</td>\n",
       "    </tr>\n",
       "    <tr>\n",
       "      <th>75%</th>\n",
       "      <td>12.000000</td>\n",
       "      <td>2011-10-20 13:06:00</td>\n",
       "      <td>3.750000</td>\n",
       "      <td>16791.000000</td>\n",
       "      <td>0.000000</td>\n",
       "      <td>0.000000</td>\n",
       "      <td>0.0</td>\n",
       "    </tr>\n",
       "    <tr>\n",
       "      <th>max</th>\n",
       "      <td>80995.000000</td>\n",
       "      <td>2011-12-09 12:50:00</td>\n",
       "      <td>38970.000000</td>\n",
       "      <td>18287.000000</td>\n",
       "      <td>1.000000</td>\n",
       "      <td>1.000000</td>\n",
       "      <td>0.0</td>\n",
       "    </tr>\n",
       "    <tr>\n",
       "      <th>std</th>\n",
       "      <td>247.927842</td>\n",
       "      <td>NaN</td>\n",
       "      <td>69.318561</td>\n",
       "      <td>1713.573064</td>\n",
       "      <td>0.162325</td>\n",
       "      <td>0.057065</td>\n",
       "      <td>0.0</td>\n",
       "    </tr>\n",
       "  </tbody>\n",
       "</table>\n",
       "</div>"
      ],
      "text/plain": [
       "            quantity                    invoicedate      unitprice  \\\n",
       "count  406789.000000                         406789  406789.000000   \n",
       "mean       12.028359  2011-07-10 16:28:44.845459968       3.460811   \n",
       "min    -80995.000000            2010-12-01 08:26:00       0.001000   \n",
       "25%         2.000000            2011-04-06 15:02:00       1.250000   \n",
       "50%         5.000000            2011-07-31 11:46:00       1.950000   \n",
       "75%        12.000000            2011-10-20 13:06:00       3.750000   \n",
       "max     80995.000000            2011-12-09 12:50:00   38970.000000   \n",
       "std       247.927842                            NaN      69.318561   \n",
       "\n",
       "          customerid  quantity_outliers  unitprice_outliers  \\\n",
       "count  406789.000000      406789.000000       406789.000000   \n",
       "mean    15287.795830           0.027083            0.003267   \n",
       "min     12346.000000           0.000000            0.000000   \n",
       "25%     13954.000000           0.000000            0.000000   \n",
       "50%     15152.000000           0.000000            0.000000   \n",
       "75%     16791.000000           0.000000            0.000000   \n",
       "max     18287.000000           1.000000            1.000000   \n",
       "std      1713.573064           0.162325            0.057065   \n",
       "\n",
       "       customerid_outliers  \n",
       "count             406789.0  \n",
       "mean                   0.0  \n",
       "min                    0.0  \n",
       "25%                    0.0  \n",
       "50%                    0.0  \n",
       "75%                    0.0  \n",
       "max                    0.0  \n",
       "std                    0.0  "
      ]
     },
     "execution_count": 78,
     "metadata": {},
     "output_type": "execute_result"
    }
   ],
   "source": [
    "df.describe()"
   ]
  },
  {
   "cell_type": "markdown",
   "id": "52d47265-8f53-4cfc-9089-608d73499124",
   "metadata": {},
   "source": [
    "\n",
    "  "
   ]
  },
  {
   "cell_type": "markdown",
   "id": "631c6402-3234-4da3-bce0-31e8d15efcea",
   "metadata": {},
   "source": [
    "\n",
    "  "
   ]
  },
  {
   "cell_type": "markdown",
   "id": "4a71e0c6-88b9-405d-8260-1eb3e0b9a308",
   "metadata": {},
   "source": [
    "\n",
    "  "
   ]
  },
  {
   "cell_type": "markdown",
   "id": "aded4c57-7c3b-475b-91ca-89c37b213328",
   "metadata": {},
   "source": [
    "\n",
    "  "
   ]
  },
  {
   "cell_type": "markdown",
   "id": "dc857b6d-fc17-4892-9b0c-8705d69a986a",
   "metadata": {},
   "source": [
    "## one thing to note here is that the dataset, derived from kaggle, column \"unitprice\" is represented in lakh, i went ahead and converted the unit price so i can better understand the prices listed within this dataset.x"
   ]
  },
  {
   "cell_type": "code",
   "execution_count": 79,
   "id": "00ffbdbb-c035-435d-912d-13fcf0540421",
   "metadata": {},
   "outputs": [],
   "source": [
    "# Define the conversion factor from lakh to dollars\n",
    "conversion_factor = 100000  # 1 lakh = 100,000\n",
    "\n",
    "# Convert the \"unitprice\" column to US dollars and replace the original column\n",
    "df['us_currency'] = (df['unitprice'] * conversion_factor).astype(float).round(2)\n"
   ]
  },
  {
   "cell_type": "code",
   "execution_count": 80,
   "id": "3da60a8a-48e5-4bca-b27b-149bde13749d",
   "metadata": {},
   "outputs": [
    {
     "data": {
      "text/plain": [
       "dtype('float64')"
      ]
     },
     "execution_count": 80,
     "metadata": {},
     "output_type": "execute_result"
    }
   ],
   "source": [
    "df.us_currency.dtype"
   ]
  },
  {
   "cell_type": "code",
   "execution_count": 81,
   "id": "c1306e2b-e2aa-4075-9cff-bd5fd74e3025",
   "metadata": {},
   "outputs": [
    {
     "data": {
      "text/plain": [
       "us_currency\n",
       "125000.0      46555\n",
       "165000.0      37503\n",
       "295000.0      27211\n",
       "85000.0       26396\n",
       "42000.0       22032\n",
       "              ...  \n",
       "356000.0          1\n",
       "437000.0          1\n",
       "689000.0          1\n",
       "98000.0           1\n",
       "22469000.0        1\n",
       "Name: count, Length: 619, dtype: int64"
      ]
     },
     "execution_count": 81,
     "metadata": {},
     "output_type": "execute_result"
    }
   ],
   "source": [
    "df['us_currency'].value_counts()"
   ]
  },
  {
   "cell_type": "code",
   "execution_count": 82,
   "id": "812c6e08-379b-44f0-bfaa-53dac5f03f7a",
   "metadata": {},
   "outputs": [
    {
     "data": {
      "text/plain": [
       "346081.1290374125"
      ]
     },
     "execution_count": 82,
     "metadata": {},
     "output_type": "execute_result"
    }
   ],
   "source": [
    "unitprice_mean_uscurrency = df.us_currency.mean()\n",
    "unitprice_mean_uscurrency"
   ]
  },
  {
   "cell_type": "code",
   "execution_count": 83,
   "id": "2c7d971f-9959-49af-82a4-1721d56fa219",
   "metadata": {},
   "outputs": [
    {
     "data": {
      "text/plain": [
       "[<matplotlib.lines.Line2D at 0x2a33cb1f0>]"
      ]
     },
     "execution_count": 83,
     "metadata": {},
     "output_type": "execute_result"
    },
    {
     "data": {
      "image/png": "[encoded data removed]",
      "text/plain": [
       "<Figure size 640x480 with 1 Axes>"
      ]
     },
     "metadata": {},
     "output_type": "display_data"
    }
   ],
   "source": [
    "plt.plot(df['us_currency'])"
   ]
  },
  {
   "cell_type": "code",
   "execution_count": null,
   "id": "274fb2fe-2f0e-4206-acd1-e4ad855f10c8",
   "metadata": {},
   "outputs": [
    {
     "data": {
      "text/plain": [
       "<seaborn.axisgrid.PairGrid at 0x2a6bc6200>"
      ]
     },
     "execution_count": 84,
     "metadata": {},
     "output_type": "execute_result"
    }
   ],
   "source": [
    "sns.pairplot(data = df, corner=True)"
   ]
  },
  {
   "cell_type": "code",
   "execution_count": null,
   "id": "2b366916-d5f0-433c-a0c4-a45d9166e832",
   "metadata": {},
   "outputs": [],
   "source": [
    "for col in df.columns[df.dtypes == 'object']:\n",
    "    plt.figure()\n",
    "    plt.title(f'Distribution of {col}')\n",
    "    sns.histplot(data=df, x=col, bins=5)\n",
    "    plt.show()"
   ]
  },
  {
   "cell_type": "code",
   "execution_count": null,
   "id": "c68a28d7-2204-42be-87d1-cd9a5103020b",
   "metadata": {},
   "outputs": [],
   "source": [
    "df.info()"
   ]
  },
  {
   "cell_type": "code",
   "execution_count": null,
   "id": "781414c2-c0c6-4677-ad8b-56b3d06dccf8",
   "metadata": {},
   "outputs": [],
   "source": [
    "# set figsze\n",
    "plt.figure(figsize=(15, 10))\n",
    "\n",
    "# Create the bar plot\n",
    "ax = sns.barplot(data=country_cnts, x='count', y='country', palette='bright')\n",
    "\n",
    "# remove spines\n",
    "sns.despine(left=True, bottom=True)\n",
    "\n",
    "# adding values at the end of each bar\n",
    "for p in ax.patches:\n",
    "    \n",
    "    ax.annotate(f'{p.get_width():.0f}', (p.get_width(), p.get_y() + p.get_height() / 2),\n",
    "                ha='left', va='center', fontsize=10, color='black')\n",
    "\n",
    "# Remove x-tick labels, keeping the ticks\n",
    "ax.set_xticklabels([])\n",
    "ax.set_xticks([])\n",
    "\n",
    "# Remove y ticks\n",
    "ax.tick_params(axis='y', which='both', left=False)\n",
    "# ax.tick_params(axis='x', which='both', bottom=False, xlabel=None)\n",
    "\n",
    "        \n",
    "# set labels\n",
    "plt.title('Country Distribution')\n",
    "\n",
    "# capitalize the y-axis labels\n",
    "ax.set_yticklabels([label.get_text().upper() for label in ax.get_yticklabels()])\n",
    "\n",
    "plt.ylabel('Country', rotation=0, labelpad=30)\n",
    "plt.xlabel('')\n",
    "plt.tight_layout()\n",
    "plt.show()"
   ]
  },
  {
   "cell_type": "markdown",
   "id": "0f187e6a-9f38-4dc7-a9c7-d1e7427ed5f9",
   "metadata": {},
   "source": [
    "## How do I need to visit these distributions, is there a better way to display them?; after looking over the work done, it makes most exploring customer segmentation for using an unsupervised clustering algorithm. I may go with a K-Means clustering or DB scan."
   ]
  },
  {
   "cell_type": "markdown",
   "id": "26dba61c-e728-42e4-a956-19858521e153",
   "metadata": {},
   "source": [
    "  "
   ]
  },
  {
   "cell_type": "markdown",
   "id": "1c317d09-f74e-4fed-a353-3f2552f3449f",
   "metadata": {},
   "source": [
    "  "
   ]
  },
  {
   "cell_type": "code",
   "execution_count": null,
   "id": "fcfc3473-cf42-4253-82b9-77e0690a5b24",
   "metadata": {},
   "outputs": [],
   "source": [
    "df.info()"
   ]
  },
  {
   "cell_type": "code",
   "execution_count": null,
   "id": "0295e084-acdf-492f-9e8f-b0a5d58640b8",
   "metadata": {},
   "outputs": [],
   "source": [
    "df.head()"
   ]
  },
  {
   "cell_type": "code",
   "execution_count": null,
   "id": "43b47a0c-b3ef-441f-a93f-ff71293b88b4",
   "metadata": {},
   "outputs": [],
   "source": [
    "numerical_columns = df.select_dtypes(include=['float64', 'int64']).columns\n",
    "correlation_matrix = df[numerical_columns].corr()"
   ]
  },
  {
   "cell_type": "code",
   "execution_count": null,
   "id": "714226c9-0179-4801-9efe-5cea768f03a6",
   "metadata": {},
   "outputs": [],
   "source": [
    "correlation_matrix"
   ]
  }
 ],
 "metadata": {
  "kernelspec": {
   "display_name": "Python 3 (ipykernel)",
   "language": "python",
   "name": "python3"
  },
  "language_info": {
   "codemirror_mode": {
    "name": "ipython",
    "version": 3
   },
   "file_extension": ".py",
   "mimetype": "text/x-python",
   "name": "python",
   "nbconvert_exporter": "python",
   "pygments_lexer": "ipython3",
   "version": "3.10.9"
  }
 },
 "nbformat": 4,
 "nbformat_minor": 5
}
