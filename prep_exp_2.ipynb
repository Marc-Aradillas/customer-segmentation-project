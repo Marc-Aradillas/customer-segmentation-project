{
 "cells": [
  {
   "cell_type": "markdown",
   "id": "39dd2ecb-383e-4b5b-9d0f-642f74b83470",
   "metadata": {},
   "source": [
    "# Preparing and exploring data to apply supervised learning algorithm to highlight customer segmentation."
   ]
  },
  {
   "cell_type": "markdown",
   "id": "d2c4cce5-e765-4b08-bcf2-1ee9738a74eb",
   "metadata": {},
   "source": [
    "  "
   ]
  },
  {
   "cell_type": "markdown",
   "id": "426c2a80-a129-4c9c-b923-b22bd225b015",
   "metadata": {},
   "source": [
    "  "
   ]
  },
  {
   "cell_type": "code",
   "execution_count": 1,
   "id": "9b9efa7f-85d7-44fc-ba08-382c44c43680",
   "metadata": {},
   "outputs": [],
   "source": [
    "# Imported Libraries\n",
    "import os\n",
    "import pandas as pd\n",
    "import numpy as np\n",
    "import matplotlib.pyplot as plt\n",
    "import seaborn as sns\n",
    "from sklearn.model_selection import train_test_split\n",
    "from sklearn.preprocessing import MinMaxScaler, StandardScaler, RobustScaler, PolynomialFeatures\n",
    "\n",
    "# custom imports\n",
    "import summarize"
   ]
  },
  {
   "cell_type": "code",
   "execution_count": 2,
   "id": "54a5b422-bf4c-491e-a032-f9064e7cefcc",
   "metadata": {},
   "outputs": [],
   "source": [
    "import acquire as a\n",
    "\n",
    "df = a.acquire_data()"
   ]
  },
  {
   "cell_type": "markdown",
   "id": "8d8bce58-7474-4279-b2a4-9a61998833a1",
   "metadata": {},
   "source": [
    "  "
   ]
  },
  {
   "cell_type": "markdown",
   "id": "64ebce36-6efa-442b-b8c1-97139ad94b21",
   "metadata": {},
   "source": [
    "  "
   ]
  },
  {
   "cell_type": "markdown",
   "id": "549f6d37-4f85-4708-92a1-3b0f20b8420a",
   "metadata": {},
   "source": [
    "## Looking over raw data information\n",
    "   * The datatypes need to be changed\n",
    "   * The names should be pythonic and in lowercase"
   ]
  },
  {
   "cell_type": "code",
   "execution_count": 3,
   "id": "6a8e42d3-1d47-4834-8a20-b4c15cfac2ed",
   "metadata": {},
   "outputs": [
    {
     "name": "stdout",
     "output_type": "stream",
     "text": [
      "<class 'pandas.core.frame.DataFrame'>\n",
      "RangeIndex: 541909 entries, 0 to 541908\n",
      "Data columns (total 8 columns):\n",
      " #   Column       Non-Null Count   Dtype  \n",
      "---  ------       --------------   -----  \n",
      " 0   InvoiceNo    541909 non-null  object \n",
      " 1   StockCode    541909 non-null  object \n",
      " 2   Description  540455 non-null  object \n",
      " 3   Quantity     541909 non-null  int64  \n",
      " 4   InvoiceDate  541909 non-null  object \n",
      " 5   UnitPrice    541909 non-null  float64\n",
      " 6   CustomerID   406829 non-null  float64\n",
      " 7   Country      541909 non-null  object \n",
      "dtypes: float64(2), int64(1), object(5)\n",
      "memory usage: 33.1+ MB\n"
     ]
    }
   ],
   "source": [
    "df.info()"
   ]
  },
  {
   "cell_type": "markdown",
   "id": "2bb4ab99-cfd7-4f70-b27d-ccd9de8ca935",
   "metadata": {},
   "source": [
    "  "
   ]
  },
  {
   "cell_type": "markdown",
   "id": "828db0fe-5110-47cf-9bb1-50f99f874201",
   "metadata": {},
   "source": [
    "## Quick view of the stats description for data."
   ]
  },
  {
   "cell_type": "code",
   "execution_count": 4,
   "id": "8c574886-f247-410c-ab41-0363c867baa4",
   "metadata": {},
   "outputs": [
    {
     "data": {
      "text/html": [
       "<div>\n",
       "<style scoped>\n",
       "    .dataframe tbody tr th:only-of-type {\n",
       "        vertical-align: middle;\n",
       "    }\n",
       "\n",
       "    .dataframe tbody tr th {\n",
       "        vertical-align: top;\n",
       "    }\n",
       "\n",
       "    .dataframe thead th {\n",
       "        text-align: right;\n",
       "    }\n",
       "</style>\n",
       "<table border=\"1\" class=\"dataframe\">\n",
       "  <thead>\n",
       "    <tr style=\"text-align: right;\">\n",
       "      <th></th>\n",
       "      <th>Quantity</th>\n",
       "      <th>UnitPrice</th>\n",
       "      <th>CustomerID</th>\n",
       "    </tr>\n",
       "  </thead>\n",
       "  <tbody>\n",
       "    <tr>\n",
       "      <th>count</th>\n",
       "      <td>541909.000000</td>\n",
       "      <td>541909.000000</td>\n",
       "      <td>406829.000000</td>\n",
       "    </tr>\n",
       "    <tr>\n",
       "      <th>mean</th>\n",
       "      <td>9.552250</td>\n",
       "      <td>4.611114</td>\n",
       "      <td>15287.690570</td>\n",
       "    </tr>\n",
       "    <tr>\n",
       "      <th>std</th>\n",
       "      <td>218.081158</td>\n",
       "      <td>96.759853</td>\n",
       "      <td>1713.600303</td>\n",
       "    </tr>\n",
       "    <tr>\n",
       "      <th>min</th>\n",
       "      <td>-80995.000000</td>\n",
       "      <td>-11062.060000</td>\n",
       "      <td>12346.000000</td>\n",
       "    </tr>\n",
       "    <tr>\n",
       "      <th>25%</th>\n",
       "      <td>1.000000</td>\n",
       "      <td>1.250000</td>\n",
       "      <td>13953.000000</td>\n",
       "    </tr>\n",
       "    <tr>\n",
       "      <th>50%</th>\n",
       "      <td>3.000000</td>\n",
       "      <td>2.080000</td>\n",
       "      <td>15152.000000</td>\n",
       "    </tr>\n",
       "    <tr>\n",
       "      <th>75%</th>\n",
       "      <td>10.000000</td>\n",
       "      <td>4.130000</td>\n",
       "      <td>16791.000000</td>\n",
       "    </tr>\n",
       "    <tr>\n",
       "      <th>max</th>\n",
       "      <td>80995.000000</td>\n",
       "      <td>38970.000000</td>\n",
       "      <td>18287.000000</td>\n",
       "    </tr>\n",
       "  </tbody>\n",
       "</table>\n",
       "</div>"
      ],
      "text/plain": [
       "            Quantity      UnitPrice     CustomerID\n",
       "count  541909.000000  541909.000000  406829.000000\n",
       "mean        9.552250       4.611114   15287.690570\n",
       "std       218.081158      96.759853    1713.600303\n",
       "min    -80995.000000  -11062.060000   12346.000000\n",
       "25%         1.000000       1.250000   13953.000000\n",
       "50%         3.000000       2.080000   15152.000000\n",
       "75%        10.000000       4.130000   16791.000000\n",
       "max     80995.000000   38970.000000   18287.000000"
      ]
     },
     "execution_count": 4,
     "metadata": {},
     "output_type": "execute_result"
    }
   ],
   "source": [
    "df.describe()"
   ]
  },
  {
   "cell_type": "markdown",
   "id": "cbd32ebf-22ea-45cd-802a-a2f3b8fd33bd",
   "metadata": {},
   "source": [
    "  "
   ]
  },
  {
   "cell_type": "markdown",
   "id": "c023adad-d9a8-45fa-a4a9-eeab98a3d987",
   "metadata": {},
   "source": [
    "  "
   ]
  },
  {
   "cell_type": "markdown",
   "id": "35fabbf1-6da9-4d5f-8343-78fa42b7021a",
   "metadata": {},
   "source": [
    "  "
   ]
  },
  {
   "cell_type": "markdown",
   "id": "374aff22-fea7-44cb-bff8-7833b0f0bb8e",
   "metadata": {},
   "source": [
    "## Building prep function"
   ]
  },
  {
   "cell_type": "code",
   "execution_count": 5,
   "id": "7f9c1694-da80-4203-a218-b9f007150bfc",
   "metadata": {},
   "outputs": [],
   "source": [
    "import prepare as p\n",
    "\n",
    "df = p.prepare_data(df)"
   ]
  },
  {
   "cell_type": "code",
   "execution_count": 6,
   "id": "9d8a6859-1b97-4abb-b68f-74a7303b5ad5",
   "metadata": {},
   "outputs": [
    {
     "data": {
      "text/html": [
       "<div>\n",
       "<style scoped>\n",
       "    .dataframe tbody tr th:only-of-type {\n",
       "        vertical-align: middle;\n",
       "    }\n",
       "\n",
       "    .dataframe tbody tr th {\n",
       "        vertical-align: top;\n",
       "    }\n",
       "\n",
       "    .dataframe thead th {\n",
       "        text-align: right;\n",
       "    }\n",
       "</style>\n",
       "<table border=\"1\" class=\"dataframe\">\n",
       "  <thead>\n",
       "    <tr style=\"text-align: right;\">\n",
       "      <th></th>\n",
       "      <th>invoice_no</th>\n",
       "      <th>stock_code</th>\n",
       "      <th>description</th>\n",
       "      <th>quantity</th>\n",
       "      <th>unit_price</th>\n",
       "      <th>customer_id</th>\n",
       "      <th>country</th>\n",
       "    </tr>\n",
       "    <tr>\n",
       "      <th>invoice_date</th>\n",
       "      <th></th>\n",
       "      <th></th>\n",
       "      <th></th>\n",
       "      <th></th>\n",
       "      <th></th>\n",
       "      <th></th>\n",
       "      <th></th>\n",
       "    </tr>\n",
       "  </thead>\n",
       "  <tbody>\n",
       "    <tr>\n",
       "      <th>2010-12-01 08:26:00</th>\n",
       "      <td>536365</td>\n",
       "      <td>85123A</td>\n",
       "      <td>WHITE HANGING HEART T-LIGHT HOLDER</td>\n",
       "      <td>6</td>\n",
       "      <td>2.55</td>\n",
       "      <td>17850.0</td>\n",
       "      <td>United Kingdom</td>\n",
       "    </tr>\n",
       "    <tr>\n",
       "      <th>2010-12-01 08:26:00</th>\n",
       "      <td>536365</td>\n",
       "      <td>71053</td>\n",
       "      <td>WHITE METAL LANTERN</td>\n",
       "      <td>6</td>\n",
       "      <td>3.39</td>\n",
       "      <td>17850.0</td>\n",
       "      <td>United Kingdom</td>\n",
       "    </tr>\n",
       "    <tr>\n",
       "      <th>2010-12-01 08:26:00</th>\n",
       "      <td>536365</td>\n",
       "      <td>84406B</td>\n",
       "      <td>CREAM CUPID HEARTS COAT HANGER</td>\n",
       "      <td>8</td>\n",
       "      <td>2.75</td>\n",
       "      <td>17850.0</td>\n",
       "      <td>United Kingdom</td>\n",
       "    </tr>\n",
       "  </tbody>\n",
       "</table>\n",
       "</div>"
      ],
      "text/plain": [
       "                    invoice_no stock_code                         description  \\\n",
       "invoice_date                                                                    \n",
       "2010-12-01 08:26:00     536365     85123A  WHITE HANGING HEART T-LIGHT HOLDER   \n",
       "2010-12-01 08:26:00     536365      71053                 WHITE METAL LANTERN   \n",
       "2010-12-01 08:26:00     536365     84406B      CREAM CUPID HEARTS COAT HANGER   \n",
       "\n",
       "                     quantity  unit_price  customer_id         country  \n",
       "invoice_date                                                            \n",
       "2010-12-01 08:26:00         6        2.55      17850.0  United Kingdom  \n",
       "2010-12-01 08:26:00         6        3.39      17850.0  United Kingdom  \n",
       "2010-12-01 08:26:00         8        2.75      17850.0  United Kingdom  "
      ]
     },
     "execution_count": 6,
     "metadata": {},
     "output_type": "execute_result"
    }
   ],
   "source": [
    "df.head(3)"
   ]
  },
  {
   "cell_type": "markdown",
   "id": "efff7355-fde7-4fe1-be61-4629a831e050",
   "metadata": {},
   "source": [
    "  "
   ]
  },
  {
   "cell_type": "markdown",
   "id": "0745375f-784c-4eae-9aab-6fc741e10929",
   "metadata": {},
   "source": [
    "  "
   ]
  },
  {
   "cell_type": "markdown",
   "id": "6860029b-e5e0-441a-a550-01e6dc91a900",
   "metadata": {},
   "source": [
    "## Names are now pythonic, invoice_date is now set as index"
   ]
  },
  {
   "cell_type": "code",
   "execution_count": 7,
   "id": "102facd3-38e7-407f-8aa6-da616f03964e",
   "metadata": {},
   "outputs": [
    {
     "name": "stdout",
     "output_type": "stream",
     "text": [
      "<class 'pandas.core.frame.DataFrame'>\n",
      "DatetimeIndex: 541909 entries, 2010-12-01 08:26:00 to 2011-12-09 12:50:00\n",
      "Data columns (total 7 columns):\n",
      " #   Column       Non-Null Count   Dtype  \n",
      "---  ------       --------------   -----  \n",
      " 0   invoice_no   541909 non-null  object \n",
      " 1   stock_code   541909 non-null  object \n",
      " 2   description  540455 non-null  object \n",
      " 3   quantity     541909 non-null  int64  \n",
      " 4   unit_price   541909 non-null  float64\n",
      " 5   customer_id  406829 non-null  float64\n",
      " 6   country      541909 non-null  object \n",
      "dtypes: float64(2), int64(1), object(4)\n",
      "memory usage: 33.1+ MB\n"
     ]
    }
   ],
   "source": [
    "df.info()"
   ]
  },
  {
   "cell_type": "code",
   "execution_count": 8,
   "id": "5624f573-1c12-4b44-b1a4-4b24a8a68ddf",
   "metadata": {},
   "outputs": [
    {
     "data": {
      "text/html": [
       "<div>\n",
       "<style scoped>\n",
       "    .dataframe tbody tr th:only-of-type {\n",
       "        vertical-align: middle;\n",
       "    }\n",
       "\n",
       "    .dataframe tbody tr th {\n",
       "        vertical-align: top;\n",
       "    }\n",
       "\n",
       "    .dataframe thead th {\n",
       "        text-align: right;\n",
       "    }\n",
       "</style>\n",
       "<table border=\"1\" class=\"dataframe\">\n",
       "  <thead>\n",
       "    <tr style=\"text-align: right;\">\n",
       "      <th></th>\n",
       "      <th>quantity</th>\n",
       "      <th>unit_price</th>\n",
       "      <th>customer_id</th>\n",
       "    </tr>\n",
       "  </thead>\n",
       "  <tbody>\n",
       "    <tr>\n",
       "      <th>count</th>\n",
       "      <td>541909.000000</td>\n",
       "      <td>541909.000000</td>\n",
       "      <td>406829.000000</td>\n",
       "    </tr>\n",
       "    <tr>\n",
       "      <th>mean</th>\n",
       "      <td>9.552250</td>\n",
       "      <td>4.611114</td>\n",
       "      <td>15287.690570</td>\n",
       "    </tr>\n",
       "    <tr>\n",
       "      <th>std</th>\n",
       "      <td>218.081158</td>\n",
       "      <td>96.759853</td>\n",
       "      <td>1713.600303</td>\n",
       "    </tr>\n",
       "    <tr>\n",
       "      <th>min</th>\n",
       "      <td>-80995.000000</td>\n",
       "      <td>-11062.060000</td>\n",
       "      <td>12346.000000</td>\n",
       "    </tr>\n",
       "    <tr>\n",
       "      <th>25%</th>\n",
       "      <td>1.000000</td>\n",
       "      <td>1.250000</td>\n",
       "      <td>13953.000000</td>\n",
       "    </tr>\n",
       "    <tr>\n",
       "      <th>50%</th>\n",
       "      <td>3.000000</td>\n",
       "      <td>2.080000</td>\n",
       "      <td>15152.000000</td>\n",
       "    </tr>\n",
       "    <tr>\n",
       "      <th>75%</th>\n",
       "      <td>10.000000</td>\n",
       "      <td>4.130000</td>\n",
       "      <td>16791.000000</td>\n",
       "    </tr>\n",
       "    <tr>\n",
       "      <th>max</th>\n",
       "      <td>80995.000000</td>\n",
       "      <td>38970.000000</td>\n",
       "      <td>18287.000000</td>\n",
       "    </tr>\n",
       "  </tbody>\n",
       "</table>\n",
       "</div>"
      ],
      "text/plain": [
       "            quantity     unit_price    customer_id\n",
       "count  541909.000000  541909.000000  406829.000000\n",
       "mean        9.552250       4.611114   15287.690570\n",
       "std       218.081158      96.759853    1713.600303\n",
       "min    -80995.000000  -11062.060000   12346.000000\n",
       "25%         1.000000       1.250000   13953.000000\n",
       "50%         3.000000       2.080000   15152.000000\n",
       "75%        10.000000       4.130000   16791.000000\n",
       "max     80995.000000   38970.000000   18287.000000"
      ]
     },
     "execution_count": 8,
     "metadata": {},
     "output_type": "execute_result"
    }
   ],
   "source": [
    "df.describe()"
   ]
  },
  {
   "cell_type": "markdown",
   "id": "0795f3d5-d053-4aa3-8814-09ffc98ac668",
   "metadata": {},
   "source": [
    "  "
   ]
  },
  {
   "cell_type": "markdown",
   "id": "5ea60b5c-0688-4cdd-8971-d73ca9db6494",
   "metadata": {},
   "source": [
    "## Going to reevaluate the missing values in the dataset  "
   ]
  },
  {
   "cell_type": "code",
   "execution_count": 9,
   "id": "870eb776-591b-4343-81dd-22b9597cb832",
   "metadata": {},
   "outputs": [],
   "source": [
    "def missing_values(df):\n",
    "    # calculate number of missing value for each attribute\n",
    "    missing_counts = df.isna().sum()\n",
    "\n",
    "    # calculate the percent of missing vals in each attribute\n",
    "    total_rows = len(df)\n",
    "    missing_percentages = (missing_counts / total_rows) * 100\n",
    "\n",
    "    # create a summary df\n",
    "    summary_df = pd.DataFrame({'Missing Values' : missing_counts, 'Percentage Missing (%)': missing_percentages})\n",
    "\n",
    "    return summary_df"
   ]
  },
  {
   "cell_type": "markdown",
   "id": "e61e27d5-9c6a-42bc-bc98-47c02c13e80a",
   "metadata": {},
   "source": [
    "  "
   ]
  },
  {
   "cell_type": "code",
   "execution_count": 10,
   "id": "d266225d-af3b-4e40-8913-b48c2a60aee7",
   "metadata": {},
   "outputs": [
    {
     "data": {
      "text/html": [
       "<div>\n",
       "<style scoped>\n",
       "    .dataframe tbody tr th:only-of-type {\n",
       "        vertical-align: middle;\n",
       "    }\n",
       "\n",
       "    .dataframe tbody tr th {\n",
       "        vertical-align: top;\n",
       "    }\n",
       "\n",
       "    .dataframe thead th {\n",
       "        text-align: right;\n",
       "    }\n",
       "</style>\n",
       "<table border=\"1\" class=\"dataframe\">\n",
       "  <thead>\n",
       "    <tr style=\"text-align: right;\">\n",
       "      <th></th>\n",
       "      <th>Missing Values</th>\n",
       "      <th>Percentage Missing (%)</th>\n",
       "    </tr>\n",
       "  </thead>\n",
       "  <tbody>\n",
       "    <tr>\n",
       "      <th>invoice_no</th>\n",
       "      <td>0</td>\n",
       "      <td>0.000000</td>\n",
       "    </tr>\n",
       "    <tr>\n",
       "      <th>stock_code</th>\n",
       "      <td>0</td>\n",
       "      <td>0.000000</td>\n",
       "    </tr>\n",
       "    <tr>\n",
       "      <th>description</th>\n",
       "      <td>1454</td>\n",
       "      <td>0.268311</td>\n",
       "    </tr>\n",
       "    <tr>\n",
       "      <th>quantity</th>\n",
       "      <td>0</td>\n",
       "      <td>0.000000</td>\n",
       "    </tr>\n",
       "    <tr>\n",
       "      <th>unit_price</th>\n",
       "      <td>0</td>\n",
       "      <td>0.000000</td>\n",
       "    </tr>\n",
       "    <tr>\n",
       "      <th>customer_id</th>\n",
       "      <td>135080</td>\n",
       "      <td>24.926694</td>\n",
       "    </tr>\n",
       "    <tr>\n",
       "      <th>country</th>\n",
       "      <td>0</td>\n",
       "      <td>0.000000</td>\n",
       "    </tr>\n",
       "  </tbody>\n",
       "</table>\n",
       "</div>"
      ],
      "text/plain": [
       "             Missing Values  Percentage Missing (%)\n",
       "invoice_no                0                0.000000\n",
       "stock_code                0                0.000000\n",
       "description            1454                0.268311\n",
       "quantity                  0                0.000000\n",
       "unit_price                0                0.000000\n",
       "customer_id          135080               24.926694\n",
       "country                   0                0.000000"
      ]
     },
     "execution_count": 10,
     "metadata": {},
     "output_type": "execute_result"
    }
   ],
   "source": [
    "p.missing_values(df)"
   ]
  },
  {
   "cell_type": "markdown",
   "id": "1eaf6141-b090-4309-8f20-ec8344d0e949",
   "metadata": {},
   "source": [
    "* Again, customer_id and description seem to have many missing values\n",
    "    * 0.27% missing data for decriptions.\n",
    "    * 25.% missing data for customer_id. "
   ]
  },
  {
   "cell_type": "markdown",
   "id": "7eade76a-5010-4cd6-905a-bea0bd546a27",
   "metadata": {},
   "source": [
    "  "
   ]
  },
  {
   "cell_type": "markdown",
   "id": "8dc4c314-61f2-49c7-bfcd-071895ce3c25",
   "metadata": {},
   "source": [
    "  "
   ]
  },
  {
   "cell_type": "markdown",
   "id": "9935f137-59a2-47b3-99fd-7f8f5cbb5767",
   "metadata": {},
   "source": [
    "  "
   ]
  },
  {
   "cell_type": "markdown",
   "id": "5e544b11-153c-431f-8e05-8fec0dcec29f",
   "metadata": {},
   "source": [
    "  "
   ]
  },
  {
   "cell_type": "markdown",
   "id": "0881951d-3b58-443f-8233-3a5cb469be4d",
   "metadata": {},
   "source": [
    "## Handling this I will just edit the feature values to identify these missing/unknown information\n",
    "\n",
    "* Decided to drop missing values for description feature used IQR (interquartile range)"
   ]
  },
  {
   "cell_type": "code",
   "execution_count": 11,
   "id": "e72be6a0-4328-4028-b8df-599c2215ede9",
   "metadata": {},
   "outputs": [],
   "source": [
    "df = p.handle_missing_values(df, prop_required_column=.25, prop_required_row=0.95)"
   ]
  },
  {
   "cell_type": "code",
   "execution_count": 12,
   "id": "d731a21e-80ab-4d39-abfd-e1349bce5cf1",
   "metadata": {},
   "outputs": [
    {
     "data": {
      "text/html": [
       "<div>\n",
       "<style scoped>\n",
       "    .dataframe tbody tr th:only-of-type {\n",
       "        vertical-align: middle;\n",
       "    }\n",
       "\n",
       "    .dataframe tbody tr th {\n",
       "        vertical-align: top;\n",
       "    }\n",
       "\n",
       "    .dataframe thead th {\n",
       "        text-align: right;\n",
       "    }\n",
       "</style>\n",
       "<table border=\"1\" class=\"dataframe\">\n",
       "  <thead>\n",
       "    <tr style=\"text-align: right;\">\n",
       "      <th></th>\n",
       "      <th>Missing Values</th>\n",
       "      <th>Percentage Missing (%)</th>\n",
       "    </tr>\n",
       "  </thead>\n",
       "  <tbody>\n",
       "    <tr>\n",
       "      <th>invoice_no</th>\n",
       "      <td>0</td>\n",
       "      <td>0.000000</td>\n",
       "    </tr>\n",
       "    <tr>\n",
       "      <th>stock_code</th>\n",
       "      <td>0</td>\n",
       "      <td>0.000000</td>\n",
       "    </tr>\n",
       "    <tr>\n",
       "      <th>description</th>\n",
       "      <td>0</td>\n",
       "      <td>0.000000</td>\n",
       "    </tr>\n",
       "    <tr>\n",
       "      <th>quantity</th>\n",
       "      <td>0</td>\n",
       "      <td>0.000000</td>\n",
       "    </tr>\n",
       "    <tr>\n",
       "      <th>unit_price</th>\n",
       "      <td>0</td>\n",
       "      <td>0.000000</td>\n",
       "    </tr>\n",
       "    <tr>\n",
       "      <th>customer_id</th>\n",
       "      <td>133626</td>\n",
       "      <td>24.724723</td>\n",
       "    </tr>\n",
       "    <tr>\n",
       "      <th>country</th>\n",
       "      <td>0</td>\n",
       "      <td>0.000000</td>\n",
       "    </tr>\n",
       "  </tbody>\n",
       "</table>\n",
       "</div>"
      ],
      "text/plain": [
       "             Missing Values  Percentage Missing (%)\n",
       "invoice_no                0                0.000000\n",
       "stock_code                0                0.000000\n",
       "description               0                0.000000\n",
       "quantity                  0                0.000000\n",
       "unit_price                0                0.000000\n",
       "customer_id          133626               24.724723\n",
       "country                   0                0.000000"
      ]
     },
     "execution_count": 12,
     "metadata": {},
     "output_type": "execute_result"
    }
   ],
   "source": [
    "p.missing_values(df)"
   ]
  },
  {
   "cell_type": "markdown",
   "id": "4cf5f5c2-6b42-4e04-b3a7-7d7d62fbc52b",
   "metadata": {},
   "source": [
    "* could have used below to fill NaNs for descriptions"
   ]
  },
  {
   "cell_type": "code",
   "execution_count": 13,
   "id": "a5d70a7b-b3c3-4952-b846-d322ad0b31f8",
   "metadata": {},
   "outputs": [],
   "source": [
    "# # DataFrame with NaNs filled in the 'description' and 'customerid' column\n",
    "# df = df.copy()\n",
    "# df['customer_id'].fillna('Missing', inplace=True)"
   ]
  },
  {
   "cell_type": "markdown",
   "id": "d7939ec0-d588-45ff-b0b1-7a375d53d4dd",
   "metadata": {},
   "source": [
    "  "
   ]
  },
  {
   "cell_type": "markdown",
   "id": "02f78e34-de82-4198-b61a-e14f5e38df63",
   "metadata": {},
   "source": [
    "  "
   ]
  },
  {
   "cell_type": "markdown",
   "id": "876e3108-34c9-4464-a0fe-f4fa76f94939",
   "metadata": {},
   "source": [
    "## I am going to fill nans for unknown customers with '0'."
   ]
  },
  {
   "cell_type": "code",
   "execution_count": 14,
   "id": "d7df5b3b-92ff-4b01-9a65-a9c686b0f31f",
   "metadata": {},
   "outputs": [
    {
     "data": {
      "text/plain": [
       "133626"
      ]
     },
     "execution_count": 14,
     "metadata": {},
     "output_type": "execute_result"
    }
   ],
   "source": [
    "df['customer_id'].isna().sum()"
   ]
  },
  {
   "cell_type": "code",
   "execution_count": 15,
   "id": "1025b3f1-711a-4fe3-a2f4-3dd4c4d211d0",
   "metadata": {},
   "outputs": [],
   "source": [
    "df['customer_id'].fillna(0, inplace=True)"
   ]
  },
  {
   "cell_type": "code",
   "execution_count": 16,
   "id": "c27f4271-4fda-43c6-8b84-2af1386d6cc8",
   "metadata": {},
   "outputs": [],
   "source": [
    "## Now that i have edited"
   ]
  },
  {
   "cell_type": "code",
   "execution_count": 17,
   "id": "cbdcdd11-1ea5-4ab5-b777-34cca75a5c2b",
   "metadata": {},
   "outputs": [
    {
     "data": {
      "text/html": [
       "<div>\n",
       "<style scoped>\n",
       "    .dataframe tbody tr th:only-of-type {\n",
       "        vertical-align: middle;\n",
       "    }\n",
       "\n",
       "    .dataframe tbody tr th {\n",
       "        vertical-align: top;\n",
       "    }\n",
       "\n",
       "    .dataframe thead th {\n",
       "        text-align: right;\n",
       "    }\n",
       "</style>\n",
       "<table border=\"1\" class=\"dataframe\">\n",
       "  <thead>\n",
       "    <tr style=\"text-align: right;\">\n",
       "      <th></th>\n",
       "      <th>Missing Values</th>\n",
       "      <th>Percentage Missing (%)</th>\n",
       "    </tr>\n",
       "  </thead>\n",
       "  <tbody>\n",
       "    <tr>\n",
       "      <th>invoice_no</th>\n",
       "      <td>0</td>\n",
       "      <td>0.0</td>\n",
       "    </tr>\n",
       "    <tr>\n",
       "      <th>stock_code</th>\n",
       "      <td>0</td>\n",
       "      <td>0.0</td>\n",
       "    </tr>\n",
       "    <tr>\n",
       "      <th>description</th>\n",
       "      <td>0</td>\n",
       "      <td>0.0</td>\n",
       "    </tr>\n",
       "    <tr>\n",
       "      <th>quantity</th>\n",
       "      <td>0</td>\n",
       "      <td>0.0</td>\n",
       "    </tr>\n",
       "    <tr>\n",
       "      <th>unit_price</th>\n",
       "      <td>0</td>\n",
       "      <td>0.0</td>\n",
       "    </tr>\n",
       "    <tr>\n",
       "      <th>customer_id</th>\n",
       "      <td>0</td>\n",
       "      <td>0.0</td>\n",
       "    </tr>\n",
       "    <tr>\n",
       "      <th>country</th>\n",
       "      <td>0</td>\n",
       "      <td>0.0</td>\n",
       "    </tr>\n",
       "  </tbody>\n",
       "</table>\n",
       "</div>"
      ],
      "text/plain": [
       "             Missing Values  Percentage Missing (%)\n",
       "invoice_no                0                     0.0\n",
       "stock_code                0                     0.0\n",
       "description               0                     0.0\n",
       "quantity                  0                     0.0\n",
       "unit_price                0                     0.0\n",
       "customer_id               0                     0.0\n",
       "country                   0                     0.0"
      ]
     },
     "execution_count": 17,
     "metadata": {},
     "output_type": "execute_result"
    }
   ],
   "source": [
    "p.missing_values(df)"
   ]
  },
  {
   "cell_type": "code",
   "execution_count": 18,
   "id": "89d857c3-3af0-454c-b4c5-20719670e0f3",
   "metadata": {},
   "outputs": [
    {
     "name": "stdout",
     "output_type": "stream",
     "text": [
      "<class 'pandas.core.frame.DataFrame'>\n",
      "DatetimeIndex: 540455 entries, 2010-12-01 08:26:00 to 2011-12-09 12:50:00\n",
      "Data columns (total 7 columns):\n",
      " #   Column       Non-Null Count   Dtype  \n",
      "---  ------       --------------   -----  \n",
      " 0   invoice_no   540455 non-null  object \n",
      " 1   stock_code   540455 non-null  object \n",
      " 2   description  540455 non-null  object \n",
      " 3   quantity     540455 non-null  int64  \n",
      " 4   unit_price   540455 non-null  float64\n",
      " 5   customer_id  540455 non-null  float64\n",
      " 6   country      540455 non-null  object \n",
      "dtypes: float64(2), int64(1), object(4)\n",
      "memory usage: 33.0+ MB\n"
     ]
    }
   ],
   "source": [
    "df.info()"
   ]
  },
  {
   "cell_type": "code",
   "execution_count": 19,
   "id": "a22a7c5d-f604-4653-be72-f5dc64900d35",
   "metadata": {},
   "outputs": [
    {
     "data": {
      "text/plain": [
       "customer_id\n",
       "0.0        133626\n",
       "17841.0      7983\n",
       "14911.0      5903\n",
       "14096.0      5128\n",
       "12748.0      4642\n",
       "            ...  \n",
       "13270.0         1\n",
       "17763.0         1\n",
       "17291.0         1\n",
       "15668.0         1\n",
       "15562.0         1\n",
       "Name: count, Length: 4373, dtype: int64"
      ]
     },
     "execution_count": 19,
     "metadata": {},
     "output_type": "execute_result"
    }
   ],
   "source": [
    "df['customer_id'].value_counts()"
   ]
  },
  {
   "cell_type": "markdown",
   "id": "9951e67a-e475-4427-a395-a3f0f26d40cd",
   "metadata": {},
   "source": [
    "  "
   ]
  },
  {
   "cell_type": "markdown",
   "id": "a4a44d62-f329-4450-afba-2c6481bd40ab",
   "metadata": {},
   "source": [
    "  "
   ]
  },
  {
   "cell_type": "markdown",
   "id": "03e44c02-fa05-4e25-af04-9bac331694d1",
   "metadata": {},
   "source": [
    "  "
   ]
  },
  {
   "cell_type": "markdown",
   "id": "5fcf2698-2b5c-443e-8eac-74dfb952c25e",
   "metadata": {},
   "source": [
    "## Testing my function with code above."
   ]
  },
  {
   "cell_type": "markdown",
   "id": "82366599-7719-47e7-a51d-48cdacce615e",
   "metadata": {},
   "source": [
    "  "
   ]
  },
  {
   "cell_type": "code",
   "execution_count": 2,
   "id": "08efb519-527e-41a4-b1d0-45f4268d7791",
   "metadata": {},
   "outputs": [
    {
     "data": {
      "text/html": [
       "<div>\n",
       "<style scoped>\n",
       "    .dataframe tbody tr th:only-of-type {\n",
       "        vertical-align: middle;\n",
       "    }\n",
       "\n",
       "    .dataframe tbody tr th {\n",
       "        vertical-align: top;\n",
       "    }\n",
       "\n",
       "    .dataframe thead th {\n",
       "        text-align: right;\n",
       "    }\n",
       "</style>\n",
       "<table border=\"1\" class=\"dataframe\">\n",
       "  <thead>\n",
       "    <tr style=\"text-align: right;\">\n",
       "      <th></th>\n",
       "      <th>invoice_no</th>\n",
       "      <th>stock_code</th>\n",
       "      <th>description</th>\n",
       "      <th>quantity</th>\n",
       "      <th>unit_price</th>\n",
       "      <th>customer_id</th>\n",
       "      <th>country</th>\n",
       "    </tr>\n",
       "    <tr>\n",
       "      <th>invoice_date</th>\n",
       "      <th></th>\n",
       "      <th></th>\n",
       "      <th></th>\n",
       "      <th></th>\n",
       "      <th></th>\n",
       "      <th></th>\n",
       "      <th></th>\n",
       "    </tr>\n",
       "  </thead>\n",
       "  <tbody>\n",
       "    <tr>\n",
       "      <th>2010-12-01 08:26:00</th>\n",
       "      <td>536365</td>\n",
       "      <td>85123A</td>\n",
       "      <td>WHITE HANGING HEART T-LIGHT HOLDER</td>\n",
       "      <td>6</td>\n",
       "      <td>2.55</td>\n",
       "      <td>17850.0</td>\n",
       "      <td>United Kingdom</td>\n",
       "    </tr>\n",
       "    <tr>\n",
       "      <th>2010-12-01 08:26:00</th>\n",
       "      <td>536365</td>\n",
       "      <td>71053</td>\n",
       "      <td>WHITE METAL LANTERN</td>\n",
       "      <td>6</td>\n",
       "      <td>3.39</td>\n",
       "      <td>17850.0</td>\n",
       "      <td>United Kingdom</td>\n",
       "    </tr>\n",
       "    <tr>\n",
       "      <th>2010-12-01 08:26:00</th>\n",
       "      <td>536365</td>\n",
       "      <td>84406B</td>\n",
       "      <td>CREAM CUPID HEARTS COAT HANGER</td>\n",
       "      <td>8</td>\n",
       "      <td>2.75</td>\n",
       "      <td>17850.0</td>\n",
       "      <td>United Kingdom</td>\n",
       "    </tr>\n",
       "    <tr>\n",
       "      <th>2010-12-01 08:26:00</th>\n",
       "      <td>536365</td>\n",
       "      <td>84029G</td>\n",
       "      <td>KNITTED UNION FLAG HOT WATER BOTTLE</td>\n",
       "      <td>6</td>\n",
       "      <td>3.39</td>\n",
       "      <td>17850.0</td>\n",
       "      <td>United Kingdom</td>\n",
       "    </tr>\n",
       "    <tr>\n",
       "      <th>2010-12-01 08:26:00</th>\n",
       "      <td>536365</td>\n",
       "      <td>84029E</td>\n",
       "      <td>RED WOOLLY HOTTIE WHITE HEART.</td>\n",
       "      <td>6</td>\n",
       "      <td>3.39</td>\n",
       "      <td>17850.0</td>\n",
       "      <td>United Kingdom</td>\n",
       "    </tr>\n",
       "  </tbody>\n",
       "</table>\n",
       "</div>"
      ],
      "text/plain": [
       "                    invoice_no stock_code  \\\n",
       "invoice_date                                \n",
       "2010-12-01 08:26:00     536365     85123A   \n",
       "2010-12-01 08:26:00     536365      71053   \n",
       "2010-12-01 08:26:00     536365     84406B   \n",
       "2010-12-01 08:26:00     536365     84029G   \n",
       "2010-12-01 08:26:00     536365     84029E   \n",
       "\n",
       "                                             description  quantity  \\\n",
       "invoice_date                                                         \n",
       "2010-12-01 08:26:00   WHITE HANGING HEART T-LIGHT HOLDER         6   \n",
       "2010-12-01 08:26:00                  WHITE METAL LANTERN         6   \n",
       "2010-12-01 08:26:00       CREAM CUPID HEARTS COAT HANGER         8   \n",
       "2010-12-01 08:26:00  KNITTED UNION FLAG HOT WATER BOTTLE         6   \n",
       "2010-12-01 08:26:00       RED WOOLLY HOTTIE WHITE HEART.         6   \n",
       "\n",
       "                     unit_price  customer_id         country  \n",
       "invoice_date                                                  \n",
       "2010-12-01 08:26:00        2.55      17850.0  United Kingdom  \n",
       "2010-12-01 08:26:00        3.39      17850.0  United Kingdom  \n",
       "2010-12-01 08:26:00        2.75      17850.0  United Kingdom  \n",
       "2010-12-01 08:26:00        3.39      17850.0  United Kingdom  \n",
       "2010-12-01 08:26:00        3.39      17850.0  United Kingdom  "
      ]
     },
     "execution_count": 2,
     "metadata": {},
     "output_type": "execute_result"
    }
   ],
   "source": [
    "import acquire as a\n",
    "import prepare as p\n",
    "\n",
    "df = a.acquire_data()\n",
    "\n",
    "df = p.prepare_data(df)\n",
    "\n",
    "df.head()"
   ]
  },
  {
   "cell_type": "markdown",
   "id": "a8b6020c-29d1-4791-9ed9-26271ebd2df8",
   "metadata": {},
   "source": [
    "## Function is working appropriately"
   ]
  },
  {
   "cell_type": "code",
   "execution_count": 3,
   "id": "73f10618-2203-4d92-b12f-66f4a30a2aa7",
   "metadata": {},
   "outputs": [
    {
     "data": {
      "text/html": [
       "<div>\n",
       "<style scoped>\n",
       "    .dataframe tbody tr th:only-of-type {\n",
       "        vertical-align: middle;\n",
       "    }\n",
       "\n",
       "    .dataframe tbody tr th {\n",
       "        vertical-align: top;\n",
       "    }\n",
       "\n",
       "    .dataframe thead th {\n",
       "        text-align: right;\n",
       "    }\n",
       "</style>\n",
       "<table border=\"1\" class=\"dataframe\">\n",
       "  <thead>\n",
       "    <tr style=\"text-align: right;\">\n",
       "      <th></th>\n",
       "      <th>Missing Values</th>\n",
       "      <th>Percentage Missing (%)</th>\n",
       "    </tr>\n",
       "  </thead>\n",
       "  <tbody>\n",
       "    <tr>\n",
       "      <th>invoice_no</th>\n",
       "      <td>0</td>\n",
       "      <td>0.0</td>\n",
       "    </tr>\n",
       "    <tr>\n",
       "      <th>stock_code</th>\n",
       "      <td>0</td>\n",
       "      <td>0.0</td>\n",
       "    </tr>\n",
       "    <tr>\n",
       "      <th>description</th>\n",
       "      <td>0</td>\n",
       "      <td>0.0</td>\n",
       "    </tr>\n",
       "    <tr>\n",
       "      <th>quantity</th>\n",
       "      <td>0</td>\n",
       "      <td>0.0</td>\n",
       "    </tr>\n",
       "    <tr>\n",
       "      <th>unit_price</th>\n",
       "      <td>0</td>\n",
       "      <td>0.0</td>\n",
       "    </tr>\n",
       "    <tr>\n",
       "      <th>customer_id</th>\n",
       "      <td>0</td>\n",
       "      <td>0.0</td>\n",
       "    </tr>\n",
       "    <tr>\n",
       "      <th>country</th>\n",
       "      <td>0</td>\n",
       "      <td>0.0</td>\n",
       "    </tr>\n",
       "  </tbody>\n",
       "</table>\n",
       "</div>"
      ],
      "text/plain": [
       "             Missing Values  Percentage Missing (%)\n",
       "invoice_no                0                     0.0\n",
       "stock_code                0                     0.0\n",
       "description               0                     0.0\n",
       "quantity                  0                     0.0\n",
       "unit_price                0                     0.0\n",
       "customer_id               0                     0.0\n",
       "country                   0                     0.0"
      ]
     },
     "execution_count": 3,
     "metadata": {},
     "output_type": "execute_result"
    }
   ],
   "source": [
    "# yay no missing values! wooo!\n",
    "p.missing_values(df)"
   ]
  },
  {
   "cell_type": "markdown",
   "id": "cd3e0aae-0b34-40d8-a259-330c0307e6a1",
   "metadata": {},
   "source": [
    "  "
   ]
  },
  {
   "cell_type": "markdown",
   "id": "c7962df1-48ff-44ab-8d6f-601d854ec600",
   "metadata": {},
   "source": [
    "  "
   ]
  },
  {
   "cell_type": "markdown",
   "id": "5947de27-58c1-4c7c-9490-6aefa9ab4dda",
   "metadata": {},
   "source": [
    "  "
   ]
  },
  {
   "cell_type": "markdown",
   "id": "2bb9b0ef-9ead-4265-bf83-037a62f6ac06",
   "metadata": {},
   "source": [
    "## Testing wrangle function"
   ]
  },
  {
   "cell_type": "code",
   "execution_count": 4,
   "id": "0897e025-5eaa-489d-8ffd-b53f7568023e",
   "metadata": {},
   "outputs": [],
   "source": [
    "import wrangle as w\n",
    "\n",
    "df = w.wrangle_data()"
   ]
  },
  {
   "cell_type": "markdown",
   "id": "71d54974-b156-46a4-b1ba-37286d3dbdb4",
   "metadata": {},
   "source": [
    "* Wrangle function operational"
   ]
  },
  {
   "cell_type": "code",
   "execution_count": 5,
   "id": "99c59b1a-2f62-48bd-95cc-a011873b3e0e",
   "metadata": {},
   "outputs": [
    {
     "data": {
      "text/html": [
       "<div>\n",
       "<style scoped>\n",
       "    .dataframe tbody tr th:only-of-type {\n",
       "        vertical-align: middle;\n",
       "    }\n",
       "\n",
       "    .dataframe tbody tr th {\n",
       "        vertical-align: top;\n",
       "    }\n",
       "\n",
       "    .dataframe thead th {\n",
       "        text-align: right;\n",
       "    }\n",
       "</style>\n",
       "<table border=\"1\" class=\"dataframe\">\n",
       "  <thead>\n",
       "    <tr style=\"text-align: right;\">\n",
       "      <th></th>\n",
       "      <th>Missing Values</th>\n",
       "      <th>Percentage Missing (%)</th>\n",
       "    </tr>\n",
       "  </thead>\n",
       "  <tbody>\n",
       "    <tr>\n",
       "      <th>invoice_no</th>\n",
       "      <td>0</td>\n",
       "      <td>0.0</td>\n",
       "    </tr>\n",
       "    <tr>\n",
       "      <th>stock_code</th>\n",
       "      <td>0</td>\n",
       "      <td>0.0</td>\n",
       "    </tr>\n",
       "    <tr>\n",
       "      <th>description</th>\n",
       "      <td>0</td>\n",
       "      <td>0.0</td>\n",
       "    </tr>\n",
       "    <tr>\n",
       "      <th>quantity</th>\n",
       "      <td>0</td>\n",
       "      <td>0.0</td>\n",
       "    </tr>\n",
       "    <tr>\n",
       "      <th>unit_price</th>\n",
       "      <td>0</td>\n",
       "      <td>0.0</td>\n",
       "    </tr>\n",
       "    <tr>\n",
       "      <th>customer_id</th>\n",
       "      <td>0</td>\n",
       "      <td>0.0</td>\n",
       "    </tr>\n",
       "    <tr>\n",
       "      <th>country</th>\n",
       "      <td>0</td>\n",
       "      <td>0.0</td>\n",
       "    </tr>\n",
       "  </tbody>\n",
       "</table>\n",
       "</div>"
      ],
      "text/plain": [
       "             Missing Values  Percentage Missing (%)\n",
       "invoice_no                0                     0.0\n",
       "stock_code                0                     0.0\n",
       "description               0                     0.0\n",
       "quantity                  0                     0.0\n",
       "unit_price                0                     0.0\n",
       "customer_id               0                     0.0\n",
       "country                   0                     0.0"
      ]
     },
     "execution_count": 5,
     "metadata": {},
     "output_type": "execute_result"
    }
   ],
   "source": [
    "p.missing_values(df)"
   ]
  },
  {
   "cell_type": "markdown",
   "id": "52f78a77-8e54-4699-aed5-611e6f431eeb",
   "metadata": {},
   "source": [
    "  "
   ]
  },
  {
   "cell_type": "markdown",
   "id": "ed12ab9d-2910-47fb-9e1d-5bc8f4dfcd79",
   "metadata": {},
   "source": [
    "  "
   ]
  },
  {
   "cell_type": "markdown",
   "id": "c8240af9-cb34-4ea5-9d02-73a6e99d2d9c",
   "metadata": {},
   "source": [
    "## Now lets visualize some data"
   ]
  },
  {
   "cell_type": "markdown",
   "id": "d99c0995-94b2-477d-b126-53beb8e4f313",
   "metadata": {},
   "source": [
    "  "
   ]
  }
 ],
 "metadata": {
  "kernelspec": {
   "display_name": "Python 3 (ipykernel)",
   "language": "python",
   "name": "python3"
  },
  "language_info": {
   "codemirror_mode": {
    "name": "ipython",
    "version": 3
   },
   "file_extension": ".py",
   "mimetype": "text/x-python",
   "name": "python",
   "nbconvert_exporter": "python",
   "pygments_lexer": "ipython3",
   "version": "3.10.9"
  }
 },
 "nbformat": 4,
 "nbformat_minor": 5
}
